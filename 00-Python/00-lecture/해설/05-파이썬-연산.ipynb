{
 "cells": [
  {
   "cell_type": "markdown",
   "metadata": {
    "id": "jqa_7SA3jzYX"
   },
   "source": [
    "# 연산"
   ]
  },
  {
   "cell_type": "markdown",
   "metadata": {
    "id": "LltjCE7kj5kA"
   },
   "source": [
    "Excel에서도 **sum이나 +, -** 기호로 셀과 셀 단위, 열과 열단위, 행과 행단위 연산이 가능합니다.\n",
    "\n",
    "python에서도 마찬가지로 사칙 연산외 다양한 통계 연산 기능을 기본으로 제공해 줍니다.\n",
    "(**사용법도 물론 매우 쉽습니다^^**)"
   ]
  },
  {
   "cell_type": "markdown",
   "metadata": {
    "id": "xRX1SSoskTdo"
   },
   "source": [
    "## 사칙연산 (+, -, /, *)"
   ]
  },
  {
   "cell_type": "markdown",
   "metadata": {
    "id": "EFebGxnjkXwr"
   },
   "source": [
    "* 더하기 (+)\n",
    "* 빼기 (-)\n",
    "* 나누기 (/)\n",
    "* 곱하기 (*)"
   ]
  },
  {
   "cell_type": "markdown",
   "metadata": {
    "id": "8DshdUKZkoeX"
   },
   "source": [
    "### + : 덧셈"
   ]
  },
  {
   "cell_type": "code",
   "execution_count": 1,
   "metadata": {
    "colab": {
     "base_uri": "https://localhost:8080/",
     "height": 35
    },
    "id": "GRJdclDnkl0v",
    "outputId": "90572f81-eb44-4366-c1cf-7d66d1be7737"
   },
   "outputs": [
    {
     "data": {
      "text/plain": [
       "13"
      ]
     },
     "execution_count": 1,
     "metadata": {},
     "output_type": "execute_result"
    }
   ],
   "source": [
    "a = 10\n",
    "b = 3\n",
    "\n",
    "a + b"
   ]
  },
  {
   "cell_type": "code",
   "execution_count": 2,
   "metadata": {
    "colab": {
     "base_uri": "https://localhost:8080/",
     "height": 35
    },
    "id": "M3NXutOf2k9O",
    "outputId": "4ea6acd5-d2cf-497e-db4c-319f3b42630c"
   },
   "outputs": [
    {
     "data": {
      "text/plain": [
       "244"
      ]
     },
     "execution_count": 2,
     "metadata": {},
     "output_type": "execute_result"
    }
   ],
   "source": [
    "10 + 234"
   ]
  },
  {
   "cell_type": "markdown",
   "metadata": {
    "id": "slDLupTo39N9"
   },
   "source": [
    "**+=** 기호는 + (덧셈) 한 뒤 자기 자신의 변수에 재 할당합니다.\n",
    "\n",
    "(예시) `a += 3` 은 `a = a + 3`과 같습니다."
   ]
  },
  {
   "cell_type": "code",
   "execution_count": 3,
   "metadata": {
    "colab": {
     "base_uri": "https://localhost:8080/",
     "height": 35
    },
    "id": "W1z5yPZX328d",
    "outputId": "56297cdb-3e91-4b09-b925-42e58b72e447"
   },
   "outputs": [
    {
     "name": "stdout",
     "output_type": "stream",
     "text": [
      "15\n"
     ]
    }
   ],
   "source": [
    "s = 10\n",
    "s += 5\n",
    "print(s)"
   ]
  },
  {
   "cell_type": "markdown",
   "metadata": {
    "id": "iZVY_FHJknXf"
   },
   "source": [
    "### - : 뺄셈"
   ]
  },
  {
   "cell_type": "code",
   "execution_count": 4,
   "metadata": {
    "colab": {
     "base_uri": "https://localhost:8080/",
     "height": 35
    },
    "id": "fZtYiLERkrr0",
    "outputId": "257df3ee-3677-4d5c-fc63-9386cf533d48"
   },
   "outputs": [
    {
     "data": {
      "text/plain": [
       "7"
      ]
     },
     "execution_count": 4,
     "metadata": {},
     "output_type": "execute_result"
    }
   ],
   "source": [
    "a = 10\n",
    "b = 3\n",
    "\n",
    "a - b"
   ]
  },
  {
   "cell_type": "code",
   "execution_count": 5,
   "metadata": {
    "colab": {
     "base_uri": "https://localhost:8080/",
     "height": 35
    },
    "id": "7fX0CkXK3Sto",
    "outputId": "0533145d-a724-48ac-e410-9bfc546ce9dc"
   },
   "outputs": [
    {
     "data": {
      "text/plain": [
       "1"
      ]
     },
     "execution_count": 5,
     "metadata": {},
     "output_type": "execute_result"
    }
   ],
   "source": [
    "10 - 9"
   ]
  },
  {
   "cell_type": "code",
   "execution_count": 6,
   "metadata": {
    "colab": {
     "base_uri": "https://localhost:8080/",
     "height": 35
    },
    "id": "PsHv93O_4C7L",
    "outputId": "3a461c45-39b4-4f5e-dcbe-cd533bb092f1"
   },
   "outputs": [
    {
     "name": "stdout",
     "output_type": "stream",
     "text": [
      "7\n"
     ]
    }
   ],
   "source": [
    "s = 10\n",
    "s -= 3\n",
    "print(s)"
   ]
  },
  {
   "cell_type": "markdown",
   "metadata": {
    "id": "Ofd8aJrXk0c5"
   },
   "source": [
    "### / : 나눗셈"
   ]
  },
  {
   "cell_type": "code",
   "execution_count": 7,
   "metadata": {
    "colab": {
     "base_uri": "https://localhost:8080/",
     "height": 35
    },
    "id": "2a24yJmtk2Ha",
    "outputId": "8b2c4584-5e5b-4650-9413-7bf6b262f5ce"
   },
   "outputs": [
    {
     "data": {
      "text/plain": [
       "3.3333333333333335"
      ]
     },
     "execution_count": 7,
     "metadata": {},
     "output_type": "execute_result"
    }
   ],
   "source": [
    "a = 10\n",
    "b = 3\n",
    "\n",
    "a / b"
   ]
  },
  {
   "cell_type": "code",
   "execution_count": 8,
   "metadata": {
    "colab": {
     "base_uri": "https://localhost:8080/",
     "height": 35
    },
    "id": "bwVUkNmK3VWh",
    "outputId": "f1740c8c-0175-4ce6-8f85-b01821b9023b"
   },
   "outputs": [
    {
     "data": {
      "text/plain": [
       "1.5285714285714285"
      ]
     },
     "execution_count": 8,
     "metadata": {},
     "output_type": "execute_result"
    }
   ],
   "source": [
    "10.7 / 7"
   ]
  },
  {
   "cell_type": "code",
   "execution_count": 9,
   "metadata": {
    "colab": {
     "base_uri": "https://localhost:8080/",
     "height": 35
    },
    "id": "11xPTy8B4Ouk",
    "outputId": "1b9bba6d-f9f3-413d-c15d-523a708456c2"
   },
   "outputs": [
    {
     "name": "stdout",
     "output_type": "stream",
     "text": [
      "5.0\n"
     ]
    }
   ],
   "source": [
    "s = 10\n",
    "s /= 2\n",
    "print(s)"
   ]
  },
  {
   "cell_type": "markdown",
   "metadata": {
    "id": "EZP9onY-k2vf"
   },
   "source": [
    "### * : 곱셈"
   ]
  },
  {
   "cell_type": "code",
   "execution_count": 10,
   "metadata": {
    "colab": {
     "base_uri": "https://localhost:8080/",
     "height": 35
    },
    "id": "MhOHnVNVk4iu",
    "outputId": "bed1efed-d265-4bc0-a600-a316534438fc"
   },
   "outputs": [
    {
     "data": {
      "text/plain": [
       "30"
      ]
     },
     "execution_count": 10,
     "metadata": {},
     "output_type": "execute_result"
    }
   ],
   "source": [
    "a = 10\n",
    "b = 3\n",
    "\n",
    "a * b"
   ]
  },
  {
   "cell_type": "code",
   "execution_count": 11,
   "metadata": {
    "colab": {
     "base_uri": "https://localhost:8080/",
     "height": 35
    },
    "id": "Z1-z1y533YEe",
    "outputId": "4f35a727-aa24-4e7d-e0ce-e9d0650949ed"
   },
   "outputs": [
    {
     "data": {
      "text/plain": [
       "100"
      ]
     },
     "execution_count": 11,
     "metadata": {},
     "output_type": "execute_result"
    }
   ],
   "source": [
    "a * 10"
   ]
  },
  {
   "cell_type": "code",
   "execution_count": 12,
   "metadata": {
    "colab": {
     "base_uri": "https://localhost:8080/",
     "height": 35
    },
    "id": "bsv0u-m24Wk9",
    "outputId": "ba8844b8-de2c-40a1-dfff-b9b8796573e1"
   },
   "outputs": [
    {
     "name": "stdout",
     "output_type": "stream",
     "text": [
      "60\n"
     ]
    }
   ],
   "source": [
    "s = 20\n",
    "s *= 3\n",
    "print(s)"
   ]
  },
  {
   "cell_type": "markdown",
   "metadata": {
    "id": "6lkBwXXRk8Rn"
   },
   "source": [
    "## 조금 생소할 수 있는 연산자 (//, %, **)"
   ]
  },
  {
   "cell_type": "markdown",
   "metadata": {
    "id": "cAmmwPb0lPD8"
   },
   "source": [
    "- `//`: **floor division** 연산자입니다. 나눗셈에 대한 **몫**을 정수형으로 구함\n",
    "- `%`: **modulus** 연산자입니다. 몫을 나눈 **나머지**를 구함\n",
    "- `**`: 제곱 연산"
   ]
  },
  {
   "cell_type": "markdown",
   "metadata": {},
   "source": [
    "### // : Floor Division \n",
    "\n",
    "- 나눗셈에 대한 **몫**을 정수형으로 구함"
   ]
  },
  {
   "cell_type": "code",
   "execution_count": 13,
   "metadata": {},
   "outputs": [],
   "source": [
    "a = 10\n",
    "b = 3"
   ]
  },
  {
   "cell_type": "markdown",
   "metadata": {},
   "source": [
    "일반 나눗셈 연산 결과"
   ]
  },
  {
   "cell_type": "code",
   "execution_count": 14,
   "metadata": {},
   "outputs": [
    {
     "data": {
      "text/plain": [
       "3.3333333333333335"
      ]
     },
     "execution_count": 14,
     "metadata": {},
     "output_type": "execute_result"
    }
   ],
   "source": [
    "a / b"
   ]
  },
  {
   "cell_type": "markdown",
   "metadata": {},
   "source": [
    "// 연산 결과"
   ]
  },
  {
   "cell_type": "code",
   "execution_count": 15,
   "metadata": {},
   "outputs": [
    {
     "data": {
      "text/plain": [
       "3"
      ]
     },
     "execution_count": 15,
     "metadata": {},
     "output_type": "execute_result"
    }
   ],
   "source": [
    "a // b"
   ]
  },
  {
   "cell_type": "markdown",
   "metadata": {
    "id": "0XTyKP1Vl50Q"
   },
   "source": [
    "### % : modulus\n",
    "\n",
    "- 몫을 나눈 **나머지**를 구합니다."
   ]
  },
  {
   "cell_type": "code",
   "execution_count": 16,
   "metadata": {},
   "outputs": [],
   "source": [
    "a = 10\n",
    "b = 3"
   ]
  },
  {
   "cell_type": "code",
   "execution_count": 17,
   "metadata": {
    "colab": {
     "base_uri": "https://localhost:8080/",
     "height": 35
    },
    "id": "woV-i1v5lrcP",
    "outputId": "1efba990-b65b-47fa-ddc6-e0f509a077f8"
   },
   "outputs": [
    {
     "data": {
      "text/plain": [
       "1"
      ]
     },
     "execution_count": 17,
     "metadata": {},
     "output_type": "execute_result"
    }
   ],
   "source": [
    "a % b"
   ]
  },
  {
   "cell_type": "markdown",
   "metadata": {
    "id": "kgsdhcm6mCe2"
   },
   "source": [
    "### ** : 제곱 연산\n",
    "\n",
    "- 제곱 연산을 수행합니다."
   ]
  },
  {
   "cell_type": "code",
   "execution_count": 18,
   "metadata": {},
   "outputs": [],
   "source": [
    "a = 10\n",
    "b = 3"
   ]
  },
  {
   "cell_type": "code",
   "execution_count": 19,
   "metadata": {
    "colab": {
     "base_uri": "https://localhost:8080/",
     "height": 35
    },
    "id": "PI2Cb9V_mFvG",
    "outputId": "c6cd71c3-dcc2-43c2-ede6-ccb1c47ed320"
   },
   "outputs": [
    {
     "data": {
      "text/plain": [
       "1000"
      ]
     },
     "execution_count": 19,
     "metadata": {},
     "output_type": "execute_result"
    }
   ],
   "source": [
    "a ** b"
   ]
  },
  {
   "cell_type": "code",
   "execution_count": 20,
   "metadata": {
    "colab": {
     "base_uri": "https://localhost:8080/",
     "height": 35
    },
    "id": "AkltfELfmGwJ",
    "outputId": "f5af6bb7-5061-4547-c282-7200a5ee4991"
   },
   "outputs": [
    {
     "data": {
      "text/plain": [
       "1024"
      ]
     },
     "execution_count": 20,
     "metadata": {},
     "output_type": "execute_result"
    }
   ],
   "source": [
    "2 ** 10"
   ]
  },
  {
   "cell_type": "markdown",
   "metadata": {
    "id": "vxr0cihmmIgB"
   },
   "source": [
    "### 괄호 ()의 활용\n",
    "\n",
    "- 수학 연산할 때와 마찬가지로, *, /을 먼저 계산하며, **괄호 ()를 활용**하여 먼저 연산할 부분을 지정할 수 있습니다."
   ]
  },
  {
   "cell_type": "code",
   "execution_count": 21,
   "metadata": {
    "colab": {
     "base_uri": "https://localhost:8080/",
     "height": 34
    },
    "id": "uHDJHp7Vmflc",
    "outputId": "246457a9-db99-4273-a4fd-009d34cea5c2"
   },
   "outputs": [
    {
     "data": {
      "text/plain": [
       "20"
      ]
     },
     "execution_count": 21,
     "metadata": {},
     "output_type": "execute_result"
    }
   ],
   "source": [
    "10 + 2 * 5"
   ]
  },
  {
   "cell_type": "code",
   "execution_count": 22,
   "metadata": {
    "colab": {
     "base_uri": "https://localhost:8080/",
     "height": 34
    },
    "id": "XkFs622Ymqwq",
    "outputId": "d52bbb69-79a8-4df7-eae9-44a153fe3388"
   },
   "outputs": [
    {
     "data": {
      "text/plain": [
       "60"
      ]
     },
     "execution_count": 22,
     "metadata": {},
     "output_type": "execute_result"
    }
   ],
   "source": [
    "(10 + 2) * 5"
   ]
  },
  {
   "cell_type": "markdown",
   "metadata": {
    "id": "FEUujjHMOHaF"
   },
   "source": [
    "다음과 같은 경우는 어떻게 될까요?"
   ]
  },
  {
   "cell_type": "code",
   "execution_count": 23,
   "metadata": {
    "id": "4RjDCe4KONdI"
   },
   "outputs": [],
   "source": [
    "a = '10'\n",
    "b = '20'"
   ]
  },
  {
   "cell_type": "code",
   "execution_count": 24,
   "metadata": {
    "colab": {
     "base_uri": "https://localhost:8080/",
     "height": 34
    },
    "id": "uTBZ7-FlORDW",
    "outputId": "c148c96a-c993-4727-bd0c-f4f5b02744c2"
   },
   "outputs": [
    {
     "data": {
      "text/plain": [
       "'1020'"
      ]
     },
     "execution_count": 24,
     "metadata": {},
     "output_type": "execute_result"
    }
   ],
   "source": [
    "a + b"
   ]
  },
  {
   "cell_type": "markdown",
   "metadata": {},
   "source": [
    "연산시 타입(type)이 다르면 Error가 발생합니다."
   ]
  },
  {
   "cell_type": "code",
   "execution_count": 25,
   "metadata": {},
   "outputs": [],
   "source": [
    "a = '10'\n",
    "b = 20"
   ]
  },
  {
   "cell_type": "code",
   "execution_count": 26,
   "metadata": {},
   "outputs": [
    {
     "ename": "TypeError",
     "evalue": "can only concatenate str (not \"int\") to str",
     "output_type": "error",
     "traceback": [
      "\u001b[0;31m---------------------------------------------------------------------------\u001b[0m",
      "\u001b[0;31mTypeError\u001b[0m                                 Traceback (most recent call last)",
      "\u001b[0;32m/tmp/ipykernel_665881/1216668022.py\u001b[0m in \u001b[0;36m<module>\u001b[0;34m\u001b[0m\n\u001b[0;32m----> 1\u001b[0;31m \u001b[0ma\u001b[0m \u001b[0;34m+\u001b[0m \u001b[0mb\u001b[0m\u001b[0;34m\u001b[0m\u001b[0;34m\u001b[0m\u001b[0m\n\u001b[0m",
      "\u001b[0;31mTypeError\u001b[0m: can only concatenate str (not \"int\") to str"
     ]
    }
   ],
   "source": [
    "a + b"
   ]
  }
 ],
 "metadata": {
  "colab": {
   "collapsed_sections": [],
   "name": "03 - 파이썬 - 연산 (해설)",
   "provenance": []
  },
  "kernelspec": {
   "display_name": "Python 3 (ipykernel)",
   "language": "python",
   "name": "python3"
  },
  "language_info": {
   "codemirror_mode": {
    "name": "ipython",
    "version": 3
   },
   "file_extension": ".py",
   "mimetype": "text/x-python",
   "name": "python",
   "nbconvert_exporter": "python",
   "pygments_lexer": "ipython3",
   "version": "3.8.13"
  }
 },
 "nbformat": 4,
 "nbformat_minor": 1
}
