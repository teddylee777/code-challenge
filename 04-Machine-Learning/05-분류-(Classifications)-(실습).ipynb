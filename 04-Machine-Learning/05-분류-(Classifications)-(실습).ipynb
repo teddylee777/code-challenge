{
 "cells": [
  {
   "cell_type": "code",
   "execution_count": null,
   "metadata": {
    "id": "1cWkghx3RFGh"
   },
   "outputs": [],
   "source": [
    "from IPython.display import Image\n",
    "import numpy as np\n",
    "import pandas as pd\n",
    "import matplotlib.pyplot as plt\n",
    "import seaborn as sns\n",
    "import warnings\n",
    "\n",
    "# 경고 메시지 출력 표기 생략\n",
    "warnings.filterwarnings('ignore')\n",
    "\n",
    "# unicode 에러\n",
    "plt.rcParams['axes.unicode_minus'] = False"
   ]
  },
  {
   "cell_type": "markdown",
   "metadata": {
    "id": "T-QQ0XVTQ91J"
   },
   "source": [
    "# 분류 (Classification)"
   ]
  },
  {
   "cell_type": "markdown",
   "metadata": {
    "id": "cEMQoty0RCVc"
   },
   "source": [
    "## K Nearest Neighbors (k-최근접 이웃 분류 알고리즘)"
   ]
  },
  {
   "cell_type": "markdown",
   "metadata": {
    "id": "FhAahW-Pk0eI"
   },
   "source": [
    "가장 중요한 hyperparameter인 **K**값은 근처에 참고(reference)할 **이웃의 숫자**"
   ]
  },
  {
   "cell_type": "markdown",
   "metadata": {
    "id": "_HV_AON2k0eJ"
   },
   "source": [
    "- k-최근접 이웃 분류 알고리즘\n",
    "- 가장 고전적이고 직관적인 머신러닝 분류 알고리즘\n",
    "- 기하학적 거리 분류기\n",
    "- 가장 **가깝게 위치하는 멤버로 분류**하는 방식"
   ]
  },
  {
   "cell_type": "code",
   "execution_count": null,
   "metadata": {
    "id": "H3rT6Nkfk0eJ",
    "outputId": "3b0ce365-4344-4010-a299-5dec0831e6b8"
   },
   "outputs": [],
   "source": [
    "Image(url='https://miro.medium.com/max/405/0*QyWp7J6eSz0tayc0.png', width=500)"
   ]
  },
  {
   "cell_type": "markdown",
   "metadata": {
    "id": "3rc_3G2uRVqw"
   },
   "source": [
    "## mnist (손글씨) 데이터셋을 활용한 분류"
   ]
  },
  {
   "cell_type": "markdown",
   "metadata": {
    "id": "ZuEa43dDk0eQ"
   },
   "source": [
    "mnist (손글씨) 데이터셋을 활용하여 0~9까지 분류하는 분류기를 만듭니다.\n",
    "\n",
    "`sklearn.datasets` 보다 고해상도 이미지이기 때문에 `tensorflow.keras.datasets`을 활용합니다."
   ]
  },
  {
   "cell_type": "code",
   "execution_count": null,
   "metadata": {
    "id": "sCSjEMovSoCR"
   },
   "outputs": [],
   "source": [
    "import numpy as np\n",
    "import urllib.request\n",
    "\n",
    "url = 'https://storage.googleapis.com/tensorflow/tf-keras-datasets/mnist.npz'\n",
    "urllib.request.urlretrieve(url, 'mnist.npz')\n",
    "data = np.load('mnist.npz')\n",
    "x_digit, y_digit = data['x_train'], data['y_train']\n",
    "x_digit, y_digit = x_digit[:5000], y_digit[:5000]\n",
    "x_digit = x_digit.reshape(-1, 28*28)\n",
    "x_digit.shape"
   ]
  },
  {
   "cell_type": "markdown",
   "metadata": {
    "id": "SZJfMBLMk0eV"
   },
   "source": [
    "### mnist (손글씨) 데이터 시각화"
   ]
  },
  {
   "cell_type": "code",
   "execution_count": null,
   "metadata": {
    "colab": {
     "base_uri": "https://localhost:8080/",
     "height": 414
    },
    "id": "wxPRGWYFVaDs",
    "outputId": "603feb34-bdfa-474a-835b-adec8f7127d8"
   },
   "outputs": [],
   "source": [
    "w, h = 2, 5\n",
    "fig, axes = plt.subplots(w, h)\n",
    "fig.set_size_inches(12, 6)\n",
    "for i in range(w*h):\n",
    "    axes[i//h, i%h].imshow(x_digit[i].reshape(-1, 28), cmap='gray')\n",
    "    axes[i//h, i%h].set_title(y_digit[i], fontsize=20)\n",
    "    axes[i//h, i%h].axis('off')\n",
    "plt.tight_layout()\n",
    "plt.show()"
   ]
  },
  {
   "cell_type": "markdown",
   "metadata": {
    "id": "nCBsm5YEVlH9"
   },
   "source": [
    "## 데이터 셋 분할"
   ]
  },
  {
   "cell_type": "markdown",
   "metadata": {
    "id": "fgShO0jTk0eX"
   },
   "source": [
    "학습용(train) 데이터셋과 검증 (혹은 테스트)용 데이터 셋을 분할 합니다."
   ]
  },
  {
   "cell_type": "code",
   "execution_count": null,
   "metadata": {
    "id": "994h8nWyZT3n"
   },
   "outputs": [],
   "source": [
    "from sklearn.model_selection import train_test_split\n",
    "\n",
    "SEED = 123"
   ]
  },
  {
   "cell_type": "markdown",
   "metadata": {},
   "source": [
    "- `random_state`에 SEED(123) 적용\n",
    "- `test_size`는 0.1 로 설정\n",
    "- `stratify` 옵션 지정"
   ]
  },
  {
   "cell_type": "code",
   "execution_count": null,
   "metadata": {
    "id": "QAKP-grlZYhD"
   },
   "outputs": [],
   "source": [
    "# 코드를 입력해 주세요\n",
    "x_train, x_test, y_train, y_test = "
   ]
  },
  {
   "cell_type": "code",
   "execution_count": null,
   "metadata": {
    "colab": {
     "base_uri": "https://localhost:8080/",
     "height": 35
    },
    "id": "m9gbpWSOZpCc",
    "outputId": "248f7d77-3bf5-4bf6-a05b-8092e92c73ce"
   },
   "outputs": [],
   "source": [
    "# 코드를 입력해 주세요\n",
    "x_train.shape, x_test.shape"
   ]
  },
  {
   "cell_type": "markdown",
   "metadata": {},
   "source": [
    "<p><strong>[출력 결과]</strong></p><pre>((4500, 784), (500, 784))</pre>"
   ]
  },
  {
   "cell_type": "markdown",
   "metadata": {
    "id": "yZuWLIp-Zuqs"
   },
   "source": [
    "### 모델 정의"
   ]
  },
  {
   "cell_type": "markdown",
   "metadata": {
    "id": "eKxX35bkk0ed"
   },
   "source": [
    "`KNeighborsClassifier`를 정의 하고 핵심 hyperparameter 인 `n_neighbors`를 지정합니다.\n",
    "\n",
    "임의로 5개의 이웃을 보도록 `n_neighbors=5`로 지정하겠습니다."
   ]
  },
  {
   "cell_type": "code",
   "execution_count": null,
   "metadata": {
    "id": "fs6khtgGZsI8"
   },
   "outputs": [],
   "source": [
    "# 코드를 입력해 주세요\n",
    "knn = "
   ]
  },
  {
   "cell_type": "markdown",
   "metadata": {
    "id": "7TmM9j3-ZySH"
   },
   "source": [
    "### 학습 (fit)"
   ]
  },
  {
   "cell_type": "code",
   "execution_count": null,
   "metadata": {
    "colab": {
     "base_uri": "https://localhost:8080/",
     "height": 69
    },
    "id": "9GGFrR-cZzps",
    "outputId": "1a7928d2-f936-4e2c-b3e3-2aeed9ec5733"
   },
   "outputs": [],
   "source": [
    "# 코드를 입력해 주세요\n"
   ]
  },
  {
   "cell_type": "markdown",
   "metadata": {},
   "source": [
    "<p><strong>[출력 결과]</strong></p><pre>KNeighborsClassifier()</pre>"
   ]
  },
  {
   "cell_type": "markdown",
   "metadata": {
    "id": "nwx2j2HxaNfV"
   },
   "source": [
    "### 예측 (predict)"
   ]
  },
  {
   "cell_type": "code",
   "execution_count": null,
   "metadata": {
    "id": "IWPKTrb2Z10L"
   },
   "outputs": [],
   "source": [
    "# 코드를 입력해 주세요\n",
    "prediction = "
   ]
  },
  {
   "cell_type": "markdown",
   "metadata": {
    "id": "RmzBxLlgaQq1"
   },
   "source": [
    "### 검증 (evaluation)"
   ]
  },
  {
   "cell_type": "markdown",
   "metadata": {
    "id": "sERcDxh-k0ek"
   },
   "source": [
    "정확도 (Accuracy) 산출"
   ]
  },
  {
   "cell_type": "code",
   "execution_count": null,
   "metadata": {
    "colab": {
     "base_uri": "https://localhost:8080/",
     "height": 35
    },
    "id": "3FnUvsNtaTN7",
    "outputId": "4fb83f33-d5a7-4112-d798-5130b07f86b2"
   },
   "outputs": [],
   "source": [
    "# 코드를 입력해 주세요\n"
   ]
  },
  {
   "cell_type": "markdown",
   "metadata": {},
   "source": [
    "<p><strong>[출력 결과]</strong></p><pre>0.938</pre>"
   ]
  },
  {
   "cell_type": "markdown",
   "metadata": {
    "id": "oPDmQE0JaWEr"
   },
   "source": [
    "### 최적의 n_neighbors 찾기"
   ]
  },
  {
   "cell_type": "markdown",
   "metadata": {},
   "source": [
    "- `k=1` ~ `k=10`까지의 정확도를 출력"
   ]
  },
  {
   "cell_type": "code",
   "execution_count": null,
   "metadata": {
    "colab": {
     "base_uri": "https://localhost:8080/",
     "height": 190
    },
    "id": "T7wBOqwjbmVq",
    "outputId": "2d428ea4-ed56-4135-ff33-b09d3f4ac6de"
   },
   "outputs": [
    {
     "name": "stdout",
     "output_type": "stream",
     "text": []
    }
   ],
   "source": [
    "# 코드를 입력해 주세요\n",
    "\n",
    "\n",
    "\n"
   ]
  },
  {
   "cell_type": "markdown",
   "metadata": {},
   "source": [
    "<p><strong>[출력 결과]</strong></p><pre>k: 1, accuracy: 94.40\n",
    "k: 2, accuracy: 93.20\n",
    "k: 3, accuracy: 94.20\n",
    "k: 4, accuracy: 93.80\n",
    "k: 5, accuracy: 93.80\n",
    "k: 6, accuracy: 93.40\n",
    "k: 7, accuracy: 93.80\n",
    "k: 8, accuracy: 93.60\n",
    "k: 9, accuracy: 94.00\n",
    "k: 10, accuracy: 92.80\n",
    "</pre>"
   ]
  },
  {
   "cell_type": "markdown",
   "metadata": {
    "id": "8y2R04Ocb-hK"
   },
   "source": [
    "## Iris 붓꽃 데이터셋을 활용한 실습"
   ]
  },
  {
   "cell_type": "markdown",
   "metadata": {
    "id": "4Z82385Ic3rx"
   },
   "source": [
    "### 필요한 데이터셋 불러오기 (load_iris)"
   ]
  },
  {
   "cell_type": "code",
   "execution_count": null,
   "metadata": {
    "id": "5RFEaXq1c8X2"
   },
   "outputs": [],
   "source": [
    "from sklearn.datasets import load_iris"
   ]
  },
  {
   "cell_type": "code",
   "execution_count": null,
   "metadata": {
    "id": "RRv4zgw-c_SC"
   },
   "outputs": [],
   "source": [
    "# 코드를 입력해 주세요\n",
    "iris = "
   ]
  },
  {
   "cell_type": "markdown",
   "metadata": {
    "id": "8IPVL172k0ev"
   },
   "source": [
    "### 데이터프레임 (DataFrame) 만들기"
   ]
  },
  {
   "cell_type": "markdown",
   "metadata": {},
   "source": [
    "`df` 변수에 데이터 프레임 생성합니다."
   ]
  },
  {
   "cell_type": "code",
   "execution_count": null,
   "metadata": {
    "colab": {
     "base_uri": "https://localhost:8080/",
     "height": 198
    },
    "id": "52qpFNoUdArv",
    "outputId": "3c343d14-124d-4bdf-e812-9db59c24da88"
   },
   "outputs": [],
   "source": [
    "# 코드를 입력해 주세요\n",
    "df =\n",
    "\n",
    "df.head()"
   ]
  },
  {
   "cell_type": "markdown",
   "metadata": {},
   "source": [
    "<p><strong>[출력 결과]</strong></p><div>\n",
    "<style scoped>\n",
    "    .dataframe tbody tr th:only-of-type {\n",
    "        vertical-align: middle;\n",
    "    }\n",
    "\n",
    "    .dataframe tbody tr th {\n",
    "        vertical-align: top;\n",
    "    }\n",
    "\n",
    "    .dataframe thead th {\n",
    "        text-align: right;\n",
    "    }\n",
    "</style>\n",
    "<table border=\"1\" class=\"dataframe\">\n",
    "  <thead>\n",
    "    <tr style=\"text-align: right;\">\n",
    "      <th></th>\n",
    "      <th>sepal length (cm)</th>\n",
    "      <th>sepal width (cm)</th>\n",
    "      <th>petal length (cm)</th>\n",
    "      <th>petal width (cm)</th>\n",
    "      <th>target</th>\n",
    "    </tr>\n",
    "  </thead>\n",
    "  <tbody>\n",
    "    <tr>\n",
    "      <th>0</th>\n",
    "      <td>5.1</td>\n",
    "      <td>3.5</td>\n",
    "      <td>1.4</td>\n",
    "      <td>0.2</td>\n",
    "      <td>0</td>\n",
    "    </tr>\n",
    "    <tr>\n",
    "      <th>1</th>\n",
    "      <td>4.9</td>\n",
    "      <td>3.0</td>\n",
    "      <td>1.4</td>\n",
    "      <td>0.2</td>\n",
    "      <td>0</td>\n",
    "    </tr>\n",
    "    <tr>\n",
    "      <th>2</th>\n",
    "      <td>4.7</td>\n",
    "      <td>3.2</td>\n",
    "      <td>1.3</td>\n",
    "      <td>0.2</td>\n",
    "      <td>0</td>\n",
    "    </tr>\n",
    "    <tr>\n",
    "      <th>3</th>\n",
    "      <td>4.6</td>\n",
    "      <td>3.1</td>\n",
    "      <td>1.5</td>\n",
    "      <td>0.2</td>\n",
    "      <td>0</td>\n",
    "    </tr>\n",
    "    <tr>\n",
    "      <th>4</th>\n",
    "      <td>5.0</td>\n",
    "      <td>3.6</td>\n",
    "      <td>1.4</td>\n",
    "      <td>0.2</td>\n",
    "      <td>0</td>\n",
    "    </tr>\n",
    "  </tbody>\n",
    "</table>\n",
    "</div>"
   ]
  },
  {
   "cell_type": "markdown",
   "metadata": {
    "id": "A9mj1JNik0ex"
   },
   "source": [
    "## 데이터 셋 분할"
   ]
  },
  {
   "cell_type": "markdown",
   "metadata": {
    "id": "bArriDBQk0ex"
   },
   "source": [
    "학습용(train) 데이터셋과 검증 (혹은 테스트)용 데이터 셋을 분할 합니다."
   ]
  },
  {
   "cell_type": "code",
   "execution_count": null,
   "metadata": {},
   "outputs": [],
   "source": [
    "SEED = 123"
   ]
  },
  {
   "cell_type": "markdown",
   "metadata": {},
   "source": [
    "- test_size=0.2\n",
    "- random_state=SEED(123) 로 설정합니다.\n",
    "- stratify 옵션을 지정합니다."
   ]
  },
  {
   "cell_type": "code",
   "execution_count": null,
   "metadata": {
    "id": "WnIjXWWjdQAB"
   },
   "outputs": [],
   "source": [
    "# 코드를 입력해 주세요\n",
    "x_train, x_test, y_train, y_test = "
   ]
  },
  {
   "cell_type": "markdown",
   "metadata": {
    "id": "T6AmJybik0ez"
   },
   "source": [
    "잘 로드가 되었는지 **shape를 확인**하도록 합니다.\n",
    "\n",
    "`x_train`, `y_train` shape 출력"
   ]
  },
  {
   "cell_type": "code",
   "execution_count": null,
   "metadata": {
    "colab": {
     "base_uri": "https://localhost:8080/",
     "height": 35
    },
    "id": "9_L7oiG4dcWR",
    "outputId": "31572357-358e-4659-f6c4-427bc91fc68b"
   },
   "outputs": [],
   "source": [
    "# 코드를 입력해 주세요\n"
   ]
  },
  {
   "cell_type": "markdown",
   "metadata": {},
   "source": [
    "<p><strong>[출력 결과]</strong></p><pre>((120, 4), (120,))</pre>"
   ]
  },
  {
   "cell_type": "markdown",
   "metadata": {},
   "source": [
    "`x_test`, `y_test` shape 확인"
   ]
  },
  {
   "cell_type": "code",
   "execution_count": null,
   "metadata": {
    "id": "Gwm62b__k0e1",
    "outputId": "8571b122-3ade-4f72-82c5-44471660d790"
   },
   "outputs": [],
   "source": [
    "# 코드를 입력해 주세요\n"
   ]
  },
  {
   "cell_type": "markdown",
   "metadata": {},
   "source": [
    "<p><strong>[출력 결과]</strong></p><pre>((30, 4), (30,))</pre>"
   ]
  },
  {
   "cell_type": "markdown",
   "metadata": {
    "id": "b4-Lf8Jfdet6"
   },
   "source": [
    "### 모델 정의"
   ]
  },
  {
   "cell_type": "code",
   "execution_count": null,
   "metadata": {
    "id": "apXts12pdioy"
   },
   "outputs": [],
   "source": [
    "# 코드를 입력해 주세요\n"
   ]
  },
  {
   "cell_type": "markdown",
   "metadata": {
    "id": "bKZ7mEj5dkEQ"
   },
   "source": [
    "### 학습 (fit)"
   ]
  },
  {
   "cell_type": "code",
   "execution_count": null,
   "metadata": {
    "colab": {
     "base_uri": "https://localhost:8080/",
     "height": 69
    },
    "id": "K-ZeTnoKdl0C",
    "outputId": "d775d3ed-4f0c-479b-d677-eb1296f48e7d"
   },
   "outputs": [],
   "source": [
    "# 코드를 입력해 주세요\n"
   ]
  },
  {
   "cell_type": "markdown",
   "metadata": {},
   "source": [
    "<p><strong>[출력 결과]</strong></p><pre>KNeighborsClassifier()</pre>"
   ]
  },
  {
   "cell_type": "markdown",
   "metadata": {
    "id": "as_5-1srdnoS"
   },
   "source": [
    "### 예측(predict)"
   ]
  },
  {
   "cell_type": "markdown",
   "metadata": {},
   "source": [
    "예측한 결과를 `prediction` 변수에 대입합니다."
   ]
  },
  {
   "cell_type": "code",
   "execution_count": null,
   "metadata": {
    "id": "N6aTbxz1d9PF"
   },
   "outputs": [],
   "source": [
    "# 코드를 입력해 주세요\n",
    "prediction = "
   ]
  },
  {
   "cell_type": "markdown",
   "metadata": {},
   "source": [
    "### 검증 (evaluation)"
   ]
  },
  {
   "cell_type": "markdown",
   "metadata": {},
   "source": [
    "예측한 결과에 대한 **정확도**를 출력합니다."
   ]
  },
  {
   "cell_type": "code",
   "execution_count": null,
   "metadata": {
    "colab": {
     "base_uri": "https://localhost:8080/",
     "height": 35
    },
    "id": "JsfE_sRneARB",
    "outputId": "405164ff-a597-46f5-9813-f88e4cce0c28"
   },
   "outputs": [],
   "source": [
    "# 코드를 입력해 주세요\n"
   ]
  },
  {
   "cell_type": "markdown",
   "metadata": {},
   "source": [
    "<p><strong>[출력 결과]</strong></p><pre>0.9333333333333333</pre>"
   ]
  },
  {
   "cell_type": "markdown",
   "metadata": {
    "id": "1YU-AEERdtDF"
   },
   "source": [
    "### 최적의 k 값 찾기"
   ]
  },
  {
   "cell_type": "markdown",
   "metadata": {},
   "source": [
    "k=1 ~ 10까지 중 최적의 k 값 찾기"
   ]
  },
  {
   "cell_type": "code",
   "execution_count": null,
   "metadata": {
    "colab": {
     "base_uri": "https://localhost:8080/",
     "height": 190
    },
    "id": "aHKxR-MxdvnA",
    "outputId": "90e70634-622c-419b-9af2-5b1b4e1ea54d"
   },
   "outputs": [
    {
     "name": "stdout",
     "output_type": "stream",
     "text": []
    }
   ],
   "source": [
    "# 코드를 입력해 주세요\n",
    "\n",
    "\n",
    "\n"
   ]
  },
  {
   "cell_type": "markdown",
   "metadata": {},
   "source": [
    "<p><strong>[출력 결과]</strong></p><pre>k: 1, accuracy: 93.33\n",
    "k: 2, accuracy: 93.33\n",
    "k: 3, accuracy: 93.33\n",
    "k: 4, accuracy: 93.33\n",
    "k: 5, accuracy: 93.33\n",
    "k: 6, accuracy: 90.00\n",
    "k: 7, accuracy: 90.00\n",
    "k: 8, accuracy: 93.33\n",
    "k: 9, accuracy: 93.33\n",
    "k: 10, accuracy: 93.33\n",
    "</pre>"
   ]
  }
 ],
 "metadata": {
  "colab": {
   "collapsed_sections": [],
   "name": "05-분류-(Classifications)-(실습)",
   "provenance": []
  },
  "kernelspec": {
   "display_name": "Python 3 (ipykernel)",
   "language": "python",
   "name": "python3"
  },
  "language_info": {
   "codemirror_mode": {
    "name": "ipython",
    "version": 3
   },
   "file_extension": ".py",
   "mimetype": "text/x-python",
   "name": "python",
   "nbconvert_exporter": "python",
   "pygments_lexer": "ipython3",
   "version": "3.7.13"
  }
 },
 "nbformat": 4,
 "nbformat_minor": 1
}
