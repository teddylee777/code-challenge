{
 "cells": [
  {
   "cell_type": "markdown",
   "metadata": {
    "id": "KgAFjs7iUREl"
   },
   "source": [
    "# 시퀀스, 집합형 자료구조"
   ]
  },
  {
   "cell_type": "markdown",
   "metadata": {},
   "source": [
    "| 분류             | 타입                 | 특징                                   | 예시                     |\n",
    "| ---------------- | -------------------- | -------------------------------------- | ------------------------ |\n",
    "| 시퀀스(sequence) | 리스트(list)         | 순서가 있고, 가변(mutable)             | [1, 2, 3]                |\n",
    "| 시퀀스(sequence) | 튜플(tuple)          | 순서가 있고, 불변(immutable)           | (1, 2, 3)                |\n",
    "| 세트(set)        | 세트(set)            | 순서가 없고, 중복을 허용하지 않음      | {1, 2, 3}                |\n",
    "| 맵(map)          | 딕셔너리(dictionary) | 순서가 없고, key/value 쌍으로 이루어짐 | {'a': 1, 'b': 2, 'c': 3} |"
   ]
  },
  {
   "cell_type": "markdown",
   "metadata": {
    "id": "d610lQinUwSN"
   },
   "source": [
    "## 리스트(list)\n",
    "\n",
    "- 리스트는 데이터의 요소를 순차적으로 파악하는데 용이한 자료형 입니다.\n",
    "- 리스트는 다양한 메서드(method) 혹은 함수를 지원하며 메서드를 활용하여 요소를 추가, 삭제 및 변경할 수 있습니다.\n",
    "\n",
    "**메서드(method)**: 객체(object)가 포함하는 함수 혹은 기능입니다. 함수에 대한 내용은 추후에 다룹니다."
   ]
  },
  {
   "cell_type": "markdown",
   "metadata": {
    "id": "Twq31zuC0xJJ"
   },
   "source": [
    "### 생성"
   ]
  },
  {
   "cell_type": "markdown",
   "metadata": {
    "id": "g-HX7XnQU5zN"
   },
   "source": [
    "[] 형태로 표현합니다."
   ]
  },
  {
   "cell_type": "markdown",
   "metadata": {},
   "source": [
    "빈 리스트를 생성합니다."
   ]
  },
  {
   "cell_type": "code",
   "execution_count": 2,
   "metadata": {
    "colab": {
     "base_uri": "https://localhost:8080/",
     "height": 35
    },
    "id": "xSAez-0xU_sg",
    "outputId": "e0713598-6f57-4c12-b2d8-c6f5115ab5d2"
   },
   "outputs": [
    {
     "data": {
      "text/plain": [
       "[]"
      ]
     },
     "execution_count": 2,
     "metadata": {},
     "output_type": "execute_result"
    }
   ],
   "source": [
    "mylist = []\n",
    "mylist"
   ]
  },
  {
   "cell_type": "code",
   "execution_count": 3,
   "metadata": {},
   "outputs": [
    {
     "data": {
      "text/plain": [
       "[]"
      ]
     },
     "execution_count": 3,
     "metadata": {},
     "output_type": "execute_result"
    }
   ],
   "source": [
    "mylist = list()\n",
    "mylist"
   ]
  },
  {
   "cell_type": "markdown",
   "metadata": {},
   "source": [
    "리스트를 생성하면서 값을 포함합니다."
   ]
  },
  {
   "cell_type": "code",
   "execution_count": 4,
   "metadata": {
    "colab": {
     "base_uri": "https://localhost:8080/",
     "height": 35
    },
    "id": "IVS7djx4U0KS",
    "outputId": "e21172d5-e6e6-4a4b-c59e-cefd0dccdd90"
   },
   "outputs": [
    {
     "data": {
      "text/plain": [
       "[1, 3, 2, 4, 5]"
      ]
     },
     "execution_count": 4,
     "metadata": {},
     "output_type": "execute_result"
    }
   ],
   "source": [
    "mylist = [1, 3, 2, 4, 5]\n",
    "mylist"
   ]
  },
  {
   "cell_type": "markdown",
   "metadata": {
    "id": "SxrF2tkJz26f"
   },
   "source": [
    "### list 규칙"
   ]
  },
  {
   "cell_type": "markdown",
   "metadata": {
    "id": "C1SLDi69z5ag"
   },
   "source": [
    "* list는 다양한 type의 데이터를 집합으로 가집니다.\n",
    "* list안에 list도 허용합니다.\n",
    "* list는 순서(order)의 개념이 존재합니다."
   ]
  },
  {
   "cell_type": "code",
   "execution_count": 5,
   "metadata": {
    "id": "TZimFWErz6KT"
   },
   "outputs": [],
   "source": [
    "a = []"
   ]
  },
  {
   "cell_type": "code",
   "execution_count": 6,
   "metadata": {
    "colab": {
     "base_uri": "https://localhost:8080/",
     "height": 35
    },
    "id": "rhAQ23ymz8W6",
    "outputId": "0f102d8e-d3c3-40a5-dbcd-e39303a4210f"
   },
   "outputs": [
    {
     "data": {
      "text/plain": [
       "[1, 2, 3]"
      ]
     },
     "execution_count": 6,
     "metadata": {},
     "output_type": "execute_result"
    }
   ],
   "source": [
    "a = [1, 2, 3]\n",
    "a"
   ]
  },
  {
   "cell_type": "code",
   "execution_count": 7,
   "metadata": {
    "colab": {
     "base_uri": "https://localhost:8080/",
     "height": 35
    },
    "id": "RRoIj9ISz92M",
    "outputId": "ff93331c-023a-4bde-b768-8d83010ded4b"
   },
   "outputs": [
    {
     "data": {
      "text/plain": [
       "[1, 'hello', 3, 3.14, True]"
      ]
     },
     "execution_count": 7,
     "metadata": {},
     "output_type": "execute_result"
    }
   ],
   "source": [
    "a = [1, 'hello', 3, 3.14, True]\n",
    "a"
   ]
  },
  {
   "cell_type": "markdown",
   "metadata": {},
   "source": [
    "리스트 안에 리스트로 포함할 수 있습니다."
   ]
  },
  {
   "cell_type": "code",
   "execution_count": 8,
   "metadata": {
    "colab": {
     "base_uri": "https://localhost:8080/",
     "height": 35
    },
    "id": "2fdiq1bc0B3G",
    "outputId": "59112a1d-f1a1-4692-8c96-8df1935790ce"
   },
   "outputs": [
    {
     "data": {
      "text/plain": [
       "[1, 'hello', 3, 3.14, [6, 7, '8']]"
      ]
     },
     "execution_count": 8,
     "metadata": {},
     "output_type": "execute_result"
    }
   ],
   "source": [
    "a = [1, 'hello', 3, 3.14, [6, 7, '8']]\n",
    "a"
   ]
  },
  {
   "cell_type": "markdown",
   "metadata": {
    "id": "JSh4BXzRWUY_"
   },
   "source": [
    "### 관련 함수\n",
    "\n",
    "- . 점 연산자로 함수를 실행할 수 있습니다.\n",
    "- 함수는 어떤 작업을 수행하는 코드를 모아 이름을 붙인 것입니다.\n",
    "- 자세한 내용은 추후 함수 단원에서 배웁니다."
   ]
  },
  {
   "cell_type": "markdown",
   "metadata": {
    "id": "ilJWB7H8qjNa"
   },
   "source": [
    "### append() : 값 추가"
   ]
  },
  {
   "cell_type": "markdown",
   "metadata": {
    "id": "gLBi5RsP2Cjb"
   },
   "source": [
    "빈 리스트를 생성합니다."
   ]
  },
  {
   "cell_type": "code",
   "execution_count": 9,
   "metadata": {
    "colab": {
     "base_uri": "https://localhost:8080/",
     "height": 35
    },
    "id": "JWnjMkgr1oQb",
    "outputId": "d088aef0-fc56-4fe0-be17-475804819e52"
   },
   "outputs": [
    {
     "data": {
      "text/plain": [
       "[]"
      ]
     },
     "execution_count": 9,
     "metadata": {},
     "output_type": "execute_result"
    }
   ],
   "source": [
    "mylist = []\n",
    "mylist"
   ]
  },
  {
   "cell_type": "markdown",
   "metadata": {},
   "source": [
    "append() 는 값을 맨 뒤에 추가 합니다."
   ]
  },
  {
   "cell_type": "code",
   "execution_count": 10,
   "metadata": {
    "colab": {
     "base_uri": "https://localhost:8080/",
     "height": 35
    },
    "id": "AYHFOiG2VJEQ",
    "outputId": "7e49fd29-204d-4318-84fb-570d82fdbe15"
   },
   "outputs": [
    {
     "data": {
      "text/plain": [
       "[1]"
      ]
     },
     "execution_count": 10,
     "metadata": {},
     "output_type": "execute_result"
    }
   ],
   "source": [
    "mylist.append(1)\n",
    "mylist"
   ]
  },
  {
   "cell_type": "markdown",
   "metadata": {},
   "source": [
    "중복된 값을 추가할 수 있으며, 순서가 **유지**됩니다."
   ]
  },
  {
   "cell_type": "code",
   "execution_count": 11,
   "metadata": {
    "colab": {
     "base_uri": "https://localhost:8080/",
     "height": 35
    },
    "id": "LBBwfWxRVK6E",
    "outputId": "eb9b7184-865a-49a7-f7db-2a84253093fb"
   },
   "outputs": [
    {
     "data": {
      "text/plain": [
       "[1, 7, 7, 7, 3, 5, 2]"
      ]
     },
     "execution_count": 11,
     "metadata": {},
     "output_type": "execute_result"
    }
   ],
   "source": [
    "mylist.append(7)\n",
    "mylist.append(7)\n",
    "mylist.append(7)\n",
    "mylist.append(3)\n",
    "mylist.append(5)\n",
    "mylist.append(2)\n",
    "mylist"
   ]
  },
  {
   "cell_type": "markdown",
   "metadata": {
    "id": "mwaKcYsRWatD"
   },
   "source": [
    "### sort() : 정렬"
   ]
  },
  {
   "cell_type": "markdown",
   "metadata": {
    "id": "TkuM5mqM1-r-"
   },
   "source": [
    "- 요소를 순서대로 정렬합니다 (오름차순)\n",
    "- sort()는 내부적으로 정렬 합니다."
   ]
  },
  {
   "cell_type": "code",
   "execution_count": 12,
   "metadata": {
    "id": "ZjRQXZAHWccX"
   },
   "outputs": [],
   "source": [
    "mylist = [1, 6, 3, 2, 7, 5, 4]\n",
    "mylist.sort()"
   ]
  },
  {
   "cell_type": "code",
   "execution_count": 13,
   "metadata": {
    "colab": {
     "base_uri": "https://localhost:8080/",
     "height": 35
    },
    "id": "amuUCcPl17Hq",
    "outputId": "8535df7b-a380-4193-d329-7c215816f461"
   },
   "outputs": [
    {
     "data": {
      "text/plain": [
       "[1, 2, 3, 4, 5, 6, 7]"
      ]
     },
     "execution_count": 13,
     "metadata": {},
     "output_type": "execute_result"
    }
   ],
   "source": [
    "mylist"
   ]
  },
  {
   "cell_type": "markdown",
   "metadata": {},
   "source": [
    "역정렬(reverse order)도 가능합니다. (`reverse=True`를 지정합니다.)"
   ]
  },
  {
   "cell_type": "code",
   "execution_count": 14,
   "metadata": {},
   "outputs": [],
   "source": [
    "mylist = [1, 6, 3, 2, 7, 5, 4]\n",
    "mylist.sort(reverse=True)"
   ]
  },
  {
   "cell_type": "code",
   "execution_count": 15,
   "metadata": {},
   "outputs": [
    {
     "data": {
      "text/plain": [
       "[7, 6, 5, 4, 3, 2, 1]"
      ]
     },
     "execution_count": 15,
     "metadata": {},
     "output_type": "execute_result"
    }
   ],
   "source": [
    "mylist"
   ]
  },
  {
   "cell_type": "markdown",
   "metadata": {},
   "source": [
    "### len() : 전체 항목의 개수 세기"
   ]
  },
  {
   "cell_type": "code",
   "execution_count": 16,
   "metadata": {},
   "outputs": [
    {
     "data": {
      "text/plain": [
       "7"
      ]
     },
     "execution_count": 16,
     "metadata": {},
     "output_type": "execute_result"
    }
   ],
   "source": [
    "mylist = [1, 6, 3, 2, 7, 5, 4]\n",
    "len(mylist)"
   ]
  },
  {
   "cell_type": "markdown",
   "metadata": {
    "id": "0U0bsd5W2TPk"
   },
   "source": [
    "### insert() : 값 추가"
   ]
  },
  {
   "cell_type": "markdown",
   "metadata": {
    "id": "k_rbdp2q2VoN"
   },
   "source": [
    "지정한 index에 값 추가"
   ]
  },
  {
   "cell_type": "code",
   "execution_count": 17,
   "metadata": {
    "id": "ftFR8PsbVOx0"
   },
   "outputs": [],
   "source": [
    "mylist.insert(1, 100)"
   ]
  },
  {
   "cell_type": "code",
   "execution_count": 18,
   "metadata": {
    "colab": {
     "base_uri": "https://localhost:8080/",
     "height": 35
    },
    "id": "ezdTLXnmVQ-E",
    "outputId": "2f7ec5af-5813-416f-99ea-2823db12e316"
   },
   "outputs": [
    {
     "data": {
      "text/plain": [
       "[1, 100, 6, 3, 2, 7, 5, 4]"
      ]
     },
     "execution_count": 18,
     "metadata": {},
     "output_type": "execute_result"
    }
   ],
   "source": [
    "mylist"
   ]
  },
  {
   "cell_type": "markdown",
   "metadata": {
    "id": "twBqWxkQ2j27"
   },
   "source": [
    "### remove() : 값 제거"
   ]
  },
  {
   "cell_type": "markdown",
   "metadata": {
    "id": "GFSPMzGn2ngJ"
   },
   "source": [
    "리스트에서 첫 번째 나오는 해당 값 삭제"
   ]
  },
  {
   "cell_type": "code",
   "execution_count": 19,
   "metadata": {
    "id": "TsBOX9IHVRgU"
   },
   "outputs": [],
   "source": [
    "mylist.remove(7)"
   ]
  },
  {
   "cell_type": "code",
   "execution_count": 20,
   "metadata": {
    "colab": {
     "base_uri": "https://localhost:8080/",
     "height": 35
    },
    "id": "2IqkZq9r2xr2",
    "outputId": "6efc3059-5c67-4e5a-979d-de839081d55f"
   },
   "outputs": [
    {
     "data": {
      "text/plain": [
       "[1, 100, 6, 3, 2, 5, 4]"
      ]
     },
     "execution_count": 20,
     "metadata": {},
     "output_type": "execute_result"
    }
   ],
   "source": [
    "mylist"
   ]
  },
  {
   "cell_type": "markdown",
   "metadata": {
    "id": "fDheQenM2yX3"
   },
   "source": [
    "### pop() : 요소 꺼내기"
   ]
  },
  {
   "cell_type": "markdown",
   "metadata": {
    "id": "Alg4teMF2_ym"
   },
   "source": [
    "x번째 요소를 돌려주고 해당 요소는 삭제"
   ]
  },
  {
   "cell_type": "code",
   "execution_count": 21,
   "metadata": {
    "colab": {
     "base_uri": "https://localhost:8080/",
     "height": 35
    },
    "id": "SAnoxn-l2431",
    "outputId": "6d2b246e-847b-40ab-c49a-6ffd9d2e18c0"
   },
   "outputs": [
    {
     "data": {
      "text/plain": [
       "100"
      ]
     },
     "execution_count": 21,
     "metadata": {},
     "output_type": "execute_result"
    }
   ],
   "source": [
    "mylist.pop(1)"
   ]
  },
  {
   "cell_type": "markdown",
   "metadata": {
    "id": "t2s6BnF_3W04"
   },
   "source": [
    "### extend() : 리스트 확장"
   ]
  },
  {
   "cell_type": "code",
   "execution_count": 22,
   "metadata": {
    "id": "h9U2co-U3Ww1"
   },
   "outputs": [],
   "source": [
    "a = [1, 2, 3]"
   ]
  },
  {
   "cell_type": "code",
   "execution_count": 23,
   "metadata": {
    "id": "89lby2th3cn0"
   },
   "outputs": [],
   "source": [
    "a.extend([4, 5])"
   ]
  },
  {
   "cell_type": "code",
   "execution_count": 24,
   "metadata": {
    "colab": {
     "base_uri": "https://localhost:8080/",
     "height": 35
    },
    "id": "l72yuhjZ3Wri",
    "outputId": "a13b96ca-e86b-4756-b860-e4790a9b20f1"
   },
   "outputs": [
    {
     "data": {
      "text/plain": [
       "[1, 2, 3, 4, 5]"
      ]
     },
     "execution_count": 24,
     "metadata": {},
     "output_type": "execute_result"
    }
   ],
   "source": [
    "a"
   ]
  },
  {
   "cell_type": "markdown",
   "metadata": {
    "id": "k0w9nYxPWSNO"
   },
   "source": [
    "### 인덱싱(indexing): 색인"
   ]
  },
  {
   "cell_type": "markdown",
   "metadata": {},
   "source": [
    "<div class=\"jp-RenderedHTMLCommon jp-RenderedMarkdown jp-MarkdownOutput \" data-mime-type=\"text/markdown\">\n",
    "<table>\n",
    "<thead><tr>\n",
    "<th>'P'</th>\n",
    "<th>'Y'</th>\n",
    "<th>'T'</th>\n",
    "<th>'H'</th>\n",
    "<th>'O'</th>\n",
    "<th>'N'</th>\n",
    "</tr>\n",
    "</thead>\n",
    "<tbody>\n",
    "<tr>\n",
    "<td>0</td>\n",
    "<td>1</td>\n",
    "<td>2</td>\n",
    "<td>3</td>\n",
    "<td>4</td>\n",
    "<td>5</td>\n",
    "</tr>\n",
    "<tr>\n",
    "<td>-6</td>\n",
    "<td>-5</td>\n",
    "<td>-4</td>\n",
    "<td>-3</td>\n",
    "<td>-2</td>\n",
    "<td>-1</td>\n",
    "</tr>\n",
    "</tbody>\n",
    "</table>\n",
    "\n",
    "</div>"
   ]
  },
  {
   "cell_type": "code",
   "execution_count": 45,
   "metadata": {
    "id": "qY6rAQpWW5Pr"
   },
   "outputs": [],
   "source": [
    "mylist = ['P', 'Y', 'T', 'H', 'O', 'N']"
   ]
  },
  {
   "cell_type": "markdown",
   "metadata": {
    "id": "l9ad4C1XW9KE"
   },
   "source": [
    "인덱스는 **0번 부터 시작** 합니다."
   ]
  },
  {
   "cell_type": "code",
   "execution_count": 46,
   "metadata": {
    "colab": {
     "base_uri": "https://localhost:8080/",
     "height": 34
    },
    "id": "nxGtMBuUWSXd",
    "outputId": "d321e71e-1968-430e-f90e-304b01368e52"
   },
   "outputs": [
    {
     "data": {
      "text/plain": [
       "'P'"
      ]
     },
     "execution_count": 46,
     "metadata": {},
     "output_type": "execute_result"
    }
   ],
   "source": [
    "mylist[0]"
   ]
  },
  {
   "cell_type": "code",
   "execution_count": 47,
   "metadata": {
    "colab": {
     "base_uri": "https://localhost:8080/",
     "height": 34
    },
    "id": "bQQaTXemXDk-",
    "outputId": "1ebe5cf5-558c-4085-d963-aa62964fdfd1"
   },
   "outputs": [
    {
     "data": {
      "text/plain": [
       "'H'"
      ]
     },
     "execution_count": 47,
     "metadata": {},
     "output_type": "execute_result"
    }
   ],
   "source": [
    "mylist[3]"
   ]
  },
  {
   "cell_type": "code",
   "execution_count": 48,
   "metadata": {
    "colab": {
     "base_uri": "https://localhost:8080/",
     "height": 169
    },
    "id": "GtO0YS9HXDe7",
    "outputId": "57075983-eb28-4ed0-a87c-2c9fcaddaa87"
   },
   "outputs": [
    {
     "ename": "IndexError",
     "evalue": "list index out of range",
     "output_type": "error",
     "traceback": [
      "\u001b[0;31m---------------------------------------------------------------------------\u001b[0m",
      "\u001b[0;31mIndexError\u001b[0m                                Traceback (most recent call last)",
      "Cell \u001b[0;32mIn [48], line 1\u001b[0m\n\u001b[0;32m----> 1\u001b[0m \u001b[43mmylist\u001b[49m\u001b[43m[\u001b[49m\u001b[38;5;241;43m6\u001b[39;49m\u001b[43m]\u001b[49m\n",
      "\u001b[0;31mIndexError\u001b[0m: list index out of range"
     ]
    }
   ],
   "source": [
    "mylist[6]"
   ]
  },
  {
   "cell_type": "markdown",
   "metadata": {
    "id": "gx3q3lpGBfI2"
   },
   "source": [
    "### 역순 인덱싱\n",
    "\n",
    "파이썬은 음수 인덱싱을 지원합니다."
   ]
  },
  {
   "cell_type": "markdown",
   "metadata": {},
   "source": [
    "<div class=\"jp-RenderedHTMLCommon jp-RenderedMarkdown jp-MarkdownOutput \" data-mime-type=\"text/markdown\">\n",
    "<table>\n",
    "<thead><tr>\n",
    "<th>'P'</th>\n",
    "<th>'Y'</th>\n",
    "<th>'T'</th>\n",
    "<th>'H'</th>\n",
    "<th>'O'</th>\n",
    "<th>'N'</th>\n",
    "</tr>\n",
    "</thead>\n",
    "<tbody>\n",
    "<tr>\n",
    "<td>0</td>\n",
    "<td>1</td>\n",
    "<td>2</td>\n",
    "<td>3</td>\n",
    "<td>4</td>\n",
    "<td>5</td>\n",
    "</tr>\n",
    "<tr>\n",
    "<td>-6</td>\n",
    "<td>-5</td>\n",
    "<td>-4</td>\n",
    "<td>-3</td>\n",
    "<td>-2</td>\n",
    "<td>-1</td>\n",
    "</tr>\n",
    "</tbody>\n",
    "</table>\n",
    "\n",
    "</div>"
   ]
  },
  {
   "cell_type": "code",
   "execution_count": 49,
   "metadata": {
    "colab": {
     "base_uri": "https://localhost:8080/",
     "height": 35
    },
    "id": "OPtminJaBZCg",
    "outputId": "b27b0ef4-e39a-46b0-8b07-063ec378cec8"
   },
   "outputs": [
    {
     "data": {
      "text/plain": [
       "'N'"
      ]
     },
     "execution_count": 49,
     "metadata": {},
     "output_type": "execute_result"
    }
   ],
   "source": [
    "mylist[-1]"
   ]
  },
  {
   "cell_type": "code",
   "execution_count": 50,
   "metadata": {
    "colab": {
     "base_uri": "https://localhost:8080/",
     "height": 35
    },
    "id": "PuCoYHPEBbve",
    "outputId": "0957919c-1a4b-4d74-f255-6565fa5c1d94"
   },
   "outputs": [
    {
     "data": {
      "text/plain": [
       "'H'"
      ]
     },
     "execution_count": 50,
     "metadata": {},
     "output_type": "execute_result"
    }
   ],
   "source": [
    "mylist[-3]"
   ]
  },
  {
   "cell_type": "code",
   "execution_count": 51,
   "metadata": {
    "colab": {
     "base_uri": "https://localhost:8080/",
     "height": 35
    },
    "id": "dvsC2y9hXDYq",
    "outputId": "0172543b-e54a-46c6-dd87-91188af0804d"
   },
   "outputs": [
    {
     "ename": "IndexError",
     "evalue": "list index out of range",
     "output_type": "error",
     "traceback": [
      "\u001b[0;31m---------------------------------------------------------------------------\u001b[0m",
      "\u001b[0;31mIndexError\u001b[0m                                Traceback (most recent call last)",
      "Cell \u001b[0;32mIn [51], line 1\u001b[0m\n\u001b[0;32m----> 1\u001b[0m \u001b[43mmylist\u001b[49m\u001b[43m[\u001b[49m\u001b[38;5;241;43m-\u001b[39;49m\u001b[38;5;241;43m7\u001b[39;49m\u001b[43m]\u001b[49m\n",
      "\u001b[0;31mIndexError\u001b[0m: list index out of range"
     ]
    }
   ],
   "source": [
    "mylist[-7]"
   ]
  },
  {
   "cell_type": "markdown",
   "metadata": {
    "id": "TZEqteGEXtJZ"
   },
   "source": [
    "### 인덱스로 접근하여 값 바꾸기"
   ]
  },
  {
   "cell_type": "code",
   "execution_count": 52,
   "metadata": {
    "colab": {
     "base_uri": "https://localhost:8080/",
     "height": 34
    },
    "id": "WndBOK7DXwqk",
    "outputId": "ff61d6de-fb3d-4f37-8420-33445c3707b6"
   },
   "outputs": [
    {
     "data": {
      "text/plain": [
       "[10, 20, 30, 40, 50]"
      ]
     },
     "execution_count": 52,
     "metadata": {},
     "output_type": "execute_result"
    }
   ],
   "source": [
    "mylist = [10, 20, 30, 40, 50]\n",
    "mylist"
   ]
  },
  {
   "cell_type": "code",
   "execution_count": 53,
   "metadata": {
    "colab": {
     "base_uri": "https://localhost:8080/",
     "height": 34
    },
    "id": "qVZF6qydXyQa",
    "outputId": "cf196f55-6acd-44ee-be3e-b5d03fe255d1"
   },
   "outputs": [
    {
     "data": {
      "text/plain": [
       "10"
      ]
     },
     "execution_count": 53,
     "metadata": {},
     "output_type": "execute_result"
    }
   ],
   "source": [
    "mylist[0]"
   ]
  },
  {
   "cell_type": "code",
   "execution_count": 54,
   "metadata": {
    "id": "0CUByTZgX1yF"
   },
   "outputs": [],
   "source": [
    "mylist[0] = 999"
   ]
  },
  {
   "cell_type": "code",
   "execution_count": 55,
   "metadata": {
    "colab": {
     "base_uri": "https://localhost:8080/",
     "height": 34
    },
    "id": "p841RzROX4C4",
    "outputId": "b05921f4-c377-408a-b7f7-6a3b06030171"
   },
   "outputs": [
    {
     "data": {
      "text/plain": [
       "[999, 20, 30, 40, 50]"
      ]
     },
     "execution_count": 55,
     "metadata": {},
     "output_type": "execute_result"
    }
   ],
   "source": [
    "mylist"
   ]
  },
  {
   "cell_type": "code",
   "execution_count": 56,
   "metadata": {
    "id": "O_VdrWZCBxiT"
   },
   "outputs": [],
   "source": [
    "mylist[-1] = 300"
   ]
  },
  {
   "cell_type": "code",
   "execution_count": 57,
   "metadata": {
    "colab": {
     "base_uri": "https://localhost:8080/",
     "height": 35
    },
    "id": "kLL0oa0GB0D9",
    "outputId": "c529e95d-3cf8-4d7f-bea2-7ccf0d2458aa"
   },
   "outputs": [
    {
     "data": {
      "text/plain": [
       "[999, 20, 30, 40, 300]"
      ]
     },
     "execution_count": 57,
     "metadata": {},
     "output_type": "execute_result"
    }
   ],
   "source": [
    "mylist"
   ]
  },
  {
   "cell_type": "markdown",
   "metadata": {
    "id": "oMoED0ZjCiuJ"
   },
   "source": [
    "### 중첩된 리스트 인덱싱\n",
    "\n",
    "중첩된 리스트에 대한 리스트는 중첩 인덱싱으로 접근합니다. 값을 변경하는 것도 가능합니다."
   ]
  },
  {
   "cell_type": "code",
   "execution_count": 58,
   "metadata": {
    "id": "7zq8_J2VCk1K"
   },
   "outputs": [],
   "source": [
    "mylist = [['가', '나', '다'], [4, 5, 6], 7, 8, 9]"
   ]
  },
  {
   "cell_type": "code",
   "execution_count": 59,
   "metadata": {
    "colab": {
     "base_uri": "https://localhost:8080/",
     "height": 35
    },
    "id": "atfiWonnCps3",
    "outputId": "88731fe8-75b7-40d4-bab1-1eacd4cf1cfe"
   },
   "outputs": [
    {
     "data": {
      "text/plain": [
       "[['가', '나', '다'], [4, 5, 6], 7, 8, 9]"
      ]
     },
     "execution_count": 59,
     "metadata": {},
     "output_type": "execute_result"
    }
   ],
   "source": [
    "mylist"
   ]
  },
  {
   "cell_type": "markdown",
   "metadata": {},
   "source": [
    "1 번째 리스트 요소를 가져옵니다."
   ]
  },
  {
   "cell_type": "code",
   "execution_count": 60,
   "metadata": {
    "colab": {
     "base_uri": "https://localhost:8080/",
     "height": 35
    },
    "id": "yaa8MwGFCydQ",
    "outputId": "a4a7fc3a-9d8b-4a3c-e424-68d1056bbba6"
   },
   "outputs": [
    {
     "data": {
      "text/plain": [
       "[4, 5, 6]"
      ]
     },
     "execution_count": 60,
     "metadata": {},
     "output_type": "execute_result"
    }
   ],
   "source": [
    "mylist[1]"
   ]
  },
  {
   "cell_type": "markdown",
   "metadata": {},
   "source": [
    "1번째 리스트의 요소 중 1번째 요소를 가져오기 위해서는 중첩 인덱싱으로 접근합니다."
   ]
  },
  {
   "cell_type": "code",
   "execution_count": 61,
   "metadata": {
    "colab": {
     "base_uri": "https://localhost:8080/",
     "height": 35
    },
    "id": "MeunbeUJCqwG",
    "outputId": "e72fe2cf-c5e1-419c-9c0c-39d95975f61e"
   },
   "outputs": [
    {
     "data": {
      "text/plain": [
       "5"
      ]
     },
     "execution_count": 61,
     "metadata": {},
     "output_type": "execute_result"
    }
   ],
   "source": [
    "mylist[1][1]"
   ]
  },
  {
   "cell_type": "code",
   "execution_count": 62,
   "metadata": {},
   "outputs": [],
   "source": [
    "mylist[1][1] = 99"
   ]
  },
  {
   "cell_type": "code",
   "execution_count": 63,
   "metadata": {},
   "outputs": [
    {
     "data": {
      "text/plain": [
       "[['가', '나', '다'], [4, 99, 6], 7, 8, 9]"
      ]
     },
     "execution_count": 63,
     "metadata": {},
     "output_type": "execute_result"
    }
   ],
   "source": [
    "mylist"
   ]
  },
  {
   "cell_type": "markdown",
   "metadata": {
    "id": "Lk3yqujcB17e"
   },
   "source": [
    "### 슬라이싱(Slicing): 범위 추출\n",
    "\n",
    "- 슬라이싱의 활용: [start:stop:step] 을 명시하여 부분을 추출할 수 있습니다."
   ]
  },
  {
   "cell_type": "code",
   "execution_count": 64,
   "metadata": {
    "id": "Lt-oJ8cyB8cg"
   },
   "outputs": [],
   "source": [
    "mylist = [100, 200, 300, 400, 500]"
   ]
  },
  {
   "cell_type": "markdown",
   "metadata": {},
   "source": [
    "[:]을 활용하여 전체를 추출할 수 있습니다."
   ]
  },
  {
   "cell_type": "code",
   "execution_count": 65,
   "metadata": {},
   "outputs": [
    {
     "data": {
      "text/plain": [
       "[100, 200, 300, 400, 500]"
      ]
     },
     "execution_count": 65,
     "metadata": {},
     "output_type": "execute_result"
    }
   ],
   "source": [
    "mylist[:]"
   ]
  },
  {
   "cell_type": "markdown",
   "metadata": {},
   "source": [
    "[start:]는 시작 index 부터 끝까지 추출합니다."
   ]
  },
  {
   "cell_type": "code",
   "execution_count": 66,
   "metadata": {},
   "outputs": [
    {
     "data": {
      "text/plain": [
       "[300, 400, 500]"
      ]
     },
     "execution_count": 66,
     "metadata": {},
     "output_type": "execute_result"
    }
   ],
   "source": [
    "mylist[2:]"
   ]
  },
  {
   "cell_type": "markdown",
   "metadata": {},
   "source": [
    "[:end]는 처음부터 end 전까지 추출합니다."
   ]
  },
  {
   "cell_type": "code",
   "execution_count": 67,
   "metadata": {},
   "outputs": [
    {
     "data": {
      "text/plain": [
       "[100, 200, 300]"
      ]
     },
     "execution_count": 67,
     "metadata": {},
     "output_type": "execute_result"
    }
   ],
   "source": [
    "mylist[:3]"
   ]
  },
  {
   "cell_type": "markdown",
   "metadata": {},
   "source": [
    "[start:end]는 start부터 end 전까지 추출합니다."
   ]
  },
  {
   "cell_type": "code",
   "execution_count": 68,
   "metadata": {
    "colab": {
     "base_uri": "https://localhost:8080/",
     "height": 35
    },
    "id": "rav_w8CYB5Pn",
    "outputId": "a48acb50-0be0-44c8-dfd6-ca4a71ccea1a"
   },
   "outputs": [
    {
     "data": {
      "text/plain": [
       "[200, 300]"
      ]
     },
     "execution_count": 68,
     "metadata": {},
     "output_type": "execute_result"
    }
   ],
   "source": [
    "mylist[1:3]"
   ]
  },
  {
   "cell_type": "markdown",
   "metadata": {},
   "source": [
    "## indexing 에 step 활용하기\n",
    "\n",
    "list[start:stop:step]\n",
    "\n",
    "- step은 몇 칸씩 건너 뛰는지 지정합니다."
   ]
  },
  {
   "cell_type": "code",
   "execution_count": null,
   "metadata": {},
   "outputs": [],
   "source": [
    "mylist = [100, 200, 300, 400, 500]"
   ]
  },
  {
   "cell_type": "markdown",
   "metadata": {},
   "source": [
    "**2칸**씩 건너뛰기"
   ]
  },
  {
   "cell_type": "code",
   "execution_count": null,
   "metadata": {},
   "outputs": [],
   "source": [
    "mylist[::2]"
   ]
  },
  {
   "cell_type": "markdown",
   "metadata": {},
   "source": [
    "**역순** 출력"
   ]
  },
  {
   "cell_type": "code",
   "execution_count": null,
   "metadata": {},
   "outputs": [],
   "source": [
    "mylist[::-1]"
   ]
  },
  {
   "cell_type": "markdown",
   "metadata": {},
   "source": [
    "역순 그리고 **2칸씩** 건너뛰기"
   ]
  },
  {
   "cell_type": "code",
   "execution_count": null,
   "metadata": {},
   "outputs": [],
   "source": [
    "mylist[::-2]"
   ]
  },
  {
   "cell_type": "markdown",
   "metadata": {
    "id": "6f1LiPaaWA6a"
   },
   "source": [
    "## 튜플(tuple)\n",
    "\n",
    "- 리스트(list)는 가변(mutable)하는 객체(object)이지만, **튜플(tuple)은 불변(immutable)한 객체**입니다.\n",
    "- 가변 객체는 요소에 대한 수정, 삭제, 변경 등이 가능하지만, 불편 객체는 **요소에 대한 수정, 삭제, 변경이 불가**합니다."
   ]
  },
  {
   "cell_type": "markdown",
   "metadata": {
    "id": "NKvYG65EDCQg"
   },
   "source": [
    "### 생성\n",
    "\n",
    "- tuple(), () 로 생성합니다.\n",
    "- 혹은 , 로 생성할 수 있습니다."
   ]
  },
  {
   "cell_type": "markdown",
   "metadata": {},
   "source": [
    "**()로 튜플을 생성**할 수 있습니다."
   ]
  },
  {
   "cell_type": "code",
   "execution_count": null,
   "metadata": {
    "id": "Lj0AaIGkWMng"
   },
   "outputs": [],
   "source": [
    "mytuple = (1, 2, 3)\n",
    "mytuple"
   ]
  },
  {
   "cell_type": "markdown",
   "metadata": {},
   "source": [
    "**, 로 생성**할 수 있습니다."
   ]
  },
  {
   "cell_type": "code",
   "execution_count": null,
   "metadata": {
    "id": "iicUD1x0DHu6"
   },
   "outputs": [],
   "source": [
    "mytuple = 1, 2, 3\n",
    "mytuple"
   ]
  },
  {
   "cell_type": "markdown",
   "metadata": {},
   "source": [
    "### 언패킹(unpacking)\n",
    "- 리스트, 튜플과 같은 집합형 자료구조는 **여러 변수에 값을 한 번에 할당**할 수 있습니다."
   ]
  },
  {
   "cell_type": "code",
   "execution_count": null,
   "metadata": {},
   "outputs": [],
   "source": [
    "a, b, c = (1, 2, 3)\n",
    "\n",
    "print(a)\n",
    "print(b)\n",
    "print(c)"
   ]
  },
  {
   "cell_type": "markdown",
   "metadata": {
    "id": "fbWL3rXvDZou"
   },
   "source": [
    "### 튜플 자료형은 요소의 추가, 삭제, 변경등을 허용하지 않습니다."
   ]
  },
  {
   "cell_type": "code",
   "execution_count": null,
   "metadata": {},
   "outputs": [],
   "source": [
    "mytuple = (1, 2, 3)\n",
    "mytuple"
   ]
  },
  {
   "cell_type": "markdown",
   "metadata": {},
   "source": [
    "요소를 **조회하는 것은 가능**합니다."
   ]
  },
  {
   "cell_type": "code",
   "execution_count": null,
   "metadata": {},
   "outputs": [],
   "source": [
    "mytuple[1]"
   ]
  },
  {
   "cell_type": "markdown",
   "metadata": {},
   "source": [
    "요소를 **변경**하려는 경우"
   ]
  },
  {
   "cell_type": "code",
   "execution_count": null,
   "metadata": {},
   "outputs": [],
   "source": [
    "mytuple[1] = 100"
   ]
  },
  {
   "cell_type": "markdown",
   "metadata": {},
   "source": [
    "요소를 **삭제**하려는 경우"
   ]
  },
  {
   "cell_type": "code",
   "execution_count": null,
   "metadata": {
    "colab": {
     "base_uri": "https://localhost:8080/",
     "height": 172
    },
    "id": "I2JlBRg8DyLx",
    "outputId": "745d83bf-d693-4f9a-b657-29a163d83eba"
   },
   "outputs": [],
   "source": [
    "del mytuple[1]"
   ]
  },
  {
   "cell_type": "markdown",
   "metadata": {
    "id": "BJ_ejBsNJH6N"
   },
   "source": [
    "### list를 tuple로 변환"
   ]
  },
  {
   "cell_type": "code",
   "execution_count": null,
   "metadata": {
    "id": "d4syeAlRJU2F"
   },
   "outputs": [],
   "source": [
    "a = [1, 2, 3, 4]"
   ]
  },
  {
   "cell_type": "code",
   "execution_count": null,
   "metadata": {
    "colab": {
     "base_uri": "https://localhost:8080/",
     "height": 35
    },
    "id": "aAiFPz4EJWUg",
    "outputId": "840d71e6-1265-44f1-bc44-8b3b526382f0"
   },
   "outputs": [],
   "source": [
    "a"
   ]
  },
  {
   "cell_type": "code",
   "execution_count": null,
   "metadata": {
    "colab": {
     "base_uri": "https://localhost:8080/",
     "height": 35
    },
    "id": "k2yM_D3nJWsJ",
    "outputId": "b6f581ad-eb64-4b36-81cc-12374ee57223"
   },
   "outputs": [],
   "source": [
    "type(a)"
   ]
  },
  {
   "cell_type": "code",
   "execution_count": null,
   "metadata": {
    "id": "C1XzVIOkJXH_"
   },
   "outputs": [],
   "source": [
    "b = tuple(a)"
   ]
  },
  {
   "cell_type": "code",
   "execution_count": null,
   "metadata": {
    "colab": {
     "base_uri": "https://localhost:8080/",
     "height": 35
    },
    "id": "nNNg1n1xJYvq",
    "outputId": "51b7435b-54fb-4257-e6d2-76971e404203"
   },
   "outputs": [],
   "source": [
    "b"
   ]
  },
  {
   "cell_type": "code",
   "execution_count": null,
   "metadata": {
    "colab": {
     "base_uri": "https://localhost:8080/",
     "height": 35
    },
    "id": "-FGh_AhJJZAk",
    "outputId": "1d729ac6-454c-42c2-814f-c4a3427218dc"
   },
   "outputs": [],
   "source": [
    "type(b)"
   ]
  },
  {
   "cell_type": "markdown",
   "metadata": {
    "id": "5T0yhUiiJZuK"
   },
   "source": [
    "### tuple을 list로 변환"
   ]
  },
  {
   "cell_type": "code",
   "execution_count": null,
   "metadata": {
    "id": "0OZ27hGpJdGi"
   },
   "outputs": [],
   "source": [
    "a = (1, 2, 3, 4)"
   ]
  },
  {
   "cell_type": "code",
   "execution_count": null,
   "metadata": {
    "colab": {
     "base_uri": "https://localhost:8080/",
     "height": 35
    },
    "id": "47vB7lQLJeSI",
    "outputId": "c146931e-b2db-43ad-f0f8-3fafbe93d6e9"
   },
   "outputs": [],
   "source": [
    "a"
   ]
  },
  {
   "cell_type": "code",
   "execution_count": null,
   "metadata": {
    "colab": {
     "base_uri": "https://localhost:8080/",
     "height": 35
    },
    "id": "fJpB20awJesL",
    "outputId": "1e8144db-076e-4e98-94a9-8416b20de777"
   },
   "outputs": [],
   "source": [
    "type(a)"
   ]
  },
  {
   "cell_type": "code",
   "execution_count": null,
   "metadata": {
    "id": "oYserJFQJf51"
   },
   "outputs": [],
   "source": [
    "b = list(a)"
   ]
  },
  {
   "cell_type": "code",
   "execution_count": null,
   "metadata": {
    "colab": {
     "base_uri": "https://localhost:8080/",
     "height": 35
    },
    "id": "P_zDoI-GJidd",
    "outputId": "23d48472-aeb1-4a4e-ae29-3938e872d06b"
   },
   "outputs": [],
   "source": [
    "b"
   ]
  },
  {
   "cell_type": "code",
   "execution_count": null,
   "metadata": {
    "colab": {
     "base_uri": "https://localhost:8080/",
     "height": 35
    },
    "id": "jtPRpCOHJjDI",
    "outputId": "426f2c84-24c8-426c-f6c2-c166fa6dbbd2"
   },
   "outputs": [],
   "source": [
    "type(b)"
   ]
  },
  {
   "cell_type": "markdown",
   "metadata": {},
   "source": [
    "리스트로 type을 변경하였기 때문에 **요소의 추가 및 삭제가 가능**합니다."
   ]
  },
  {
   "cell_type": "code",
   "execution_count": null,
   "metadata": {
    "id": "e6STgfp_Jjl9"
   },
   "outputs": [],
   "source": [
    "b.append(5)\n",
    "b"
   ]
  },
  {
   "cell_type": "code",
   "execution_count": null,
   "metadata": {},
   "outputs": [],
   "source": [
    "b.remove(2)\n",
    "b"
   ]
  },
  {
   "cell_type": "markdown",
   "metadata": {},
   "source": [
    "요소를 추가 및 삭제한 후 **다시 tuple로 변경**할 수 있습니다."
   ]
  },
  {
   "cell_type": "code",
   "execution_count": null,
   "metadata": {
    "id": "T7k1LgovJl5y"
   },
   "outputs": [],
   "source": [
    "c = tuple(b)"
   ]
  },
  {
   "cell_type": "code",
   "execution_count": null,
   "metadata": {
    "colab": {
     "base_uri": "https://localhost:8080/",
     "height": 35
    },
    "id": "brUnfV5fJm_u",
    "outputId": "83a20723-e8fb-45be-fc45-3d80a9704f8a"
   },
   "outputs": [],
   "source": [
    "c"
   ]
  },
  {
   "cell_type": "code",
   "execution_count": null,
   "metadata": {
    "colab": {
     "base_uri": "https://localhost:8080/",
     "height": 35
    },
    "id": "GfEFncbkJoRw",
    "outputId": "d94895fb-264f-4c25-af69-361cbcfc3f67"
   },
   "outputs": [],
   "source": [
    "type(c)"
   ]
  }
 ],
 "metadata": {
  "colab": {
   "collapsed_sections": [],
   "name": "01 - 파이썬 - 자료구조 (해설)",
   "provenance": []
  },
  "kernelspec": {
   "display_name": "Python 3 (ipykernel)",
   "language": "python",
   "name": "python3"
  },
  "language_info": {
   "codemirror_mode": {
    "name": "ipython",
    "version": 3
   },
   "file_extension": ".py",
   "mimetype": "text/x-python",
   "name": "python",
   "nbconvert_exporter": "python",
   "pygments_lexer": "ipython3",
   "version": "3.8.13"
  }
 },
 "nbformat": 4,
 "nbformat_minor": 1
}
