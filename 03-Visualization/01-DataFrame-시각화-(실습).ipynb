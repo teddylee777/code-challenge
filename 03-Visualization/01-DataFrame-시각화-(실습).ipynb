{
 "cells": [
  {
   "cell_type": "markdown",
   "metadata": {
    "id": "Uvfqtn2gkdHq"
   },
   "source": [
    "## 실습에 필요한 데이터 파일 다운로드"
   ]
  },
  {
   "cell_type": "code",
   "execution_count": null,
   "metadata": {},
   "outputs": [],
   "source": [
    "from teddynote import dataset\n",
    "\n",
    "dataset.download('민간아파트분양')"
   ]
  },
  {
   "cell_type": "markdown",
   "metadata": {
    "id": "FexIsKHlkdHv"
   },
   "source": [
    "## 기본 import"
   ]
  },
  {
   "cell_type": "code",
   "execution_count": null,
   "metadata": {
    "id": "EhBeOJ9o1Stx"
   },
   "outputs": [],
   "source": [
    "from IPython.display import Image\n",
    "import numpy as np\n",
    "import pandas as pd\n",
    "import matplotlib.pyplot as plt\n",
    "import warnings\n",
    "\n",
    "warnings.filterwarnings('ignore')\n",
    "\n",
    "# Unicode warning 제거 (폰트 관련 경고메시지)\n",
    "plt.rcParams['axes.unicode_minus']=False\n",
    "\n",
    "# 한글 폰트 설정\n",
    "plt.rcParams['font.family'] = \"NanumGothic\"\n",
    "\n",
    "# 그래프 출력 사이즈 설정\n",
    "plt.rcParams[\"figure.figsize\"] = (12, 8)"
   ]
  },
  {
   "cell_type": "markdown",
   "metadata": {},
   "source": [
    "## 데이터셋 로드"
   ]
  },
  {
   "cell_type": "markdown",
   "metadata": {},
   "source": [
    "- 주택도시보증공사_전국 신규 민간 아파트 분양가격 동향\n",
    "- 출처: 공공데이터 포털(https://www.data.go.kr/)"
   ]
  },
  {
   "cell_type": "code",
   "execution_count": null,
   "metadata": {
    "id": "PsK55vWPkdH0"
   },
   "outputs": [],
   "source": [
    "df = pd.read_csv('data/house_price.csv')\n",
    "df.head()"
   ]
  },
  {
   "cell_type": "markdown",
   "metadata": {
    "id": "voQeWKsAYsjp"
   },
   "source": [
    "## DataFrame을 활용한 시각화"
   ]
  },
  {
   "cell_type": "markdown",
   "metadata": {
    "id": "74ZWVRYuYv54"
   },
   "source": [
    "kind 옵션:\n",
    "* line: 선그래프\n",
    "* bar: 바 그래프\n",
    "* barh: 수평 바 그래프\n",
    "* hist: 히스토그램\n",
    "* kde: 커널 밀도 그래프\n",
    "* hexbin: 고밀도 산점도 그래프\n",
    "* box: 박스 플롯\n",
    "* area: 면적 그래프\n",
    "* pie: 파이 그래프\n",
    "* scatter: 산점도 그래프\n"
   ]
  },
  {
   "cell_type": "markdown",
   "metadata": {
    "id": "1Ai1VMJYZU8q"
   },
   "source": [
    "### line 그래프"
   ]
  },
  {
   "cell_type": "markdown",
   "metadata": {
    "id": "g1jdc0g-ZbVl"
   },
   "source": [
    "* line 그래프는 데이터가 연속적인 경우 사용하기 적절합니다. (예를 들면, 주가 데이터)"
   ]
  },
  {
   "cell_type": "code",
   "execution_count": null,
   "metadata": {
    "colab": {
     "base_uri": "https://localhost:8080/",
     "height": 447
    },
    "id": "5UMbEVHrY9nE",
    "outputId": "4cdbbbf1-bfaa-4b7e-ca5f-342b29e05d8b"
   },
   "outputs": [],
   "source": [
    "df['분양가'].plot(kind='line')"
   ]
  },
  {
   "cell_type": "markdown",
   "metadata": {},
   "source": [
    "서울 지역으로 필터링"
   ]
  },
  {
   "cell_type": "code",
   "execution_count": null,
   "metadata": {
    "id": "_vwK75gyY9he"
   },
   "outputs": [],
   "source": [
    "df_seoul = df.loc[df['지역'] == '서울']\n",
    "df_seoul"
   ]
  },
  {
   "cell_type": "markdown",
   "metadata": {},
   "source": [
    "연도별 분양가의 평균 값을 출력"
   ]
  },
  {
   "cell_type": "code",
   "execution_count": null,
   "metadata": {
    "id": "3r97f3fBZLuz"
   },
   "outputs": [],
   "source": [
    "df_seoul_year = df_seoul.groupby('연도')[['분양가']].mean()\n",
    "df_seoul_year"
   ]
  },
  {
   "cell_type": "code",
   "execution_count": null,
   "metadata": {
    "colab": {
     "base_uri": "https://localhost:8080/",
     "height": 611
    },
    "id": "GYNfydOOY9Tf",
    "outputId": "8a36de33-0015-41d8-8359-fdd51c4cd67b"
   },
   "outputs": [],
   "source": [
    "df_seoul_year['분양가'].plot(kind='line')"
   ]
  },
  {
   "cell_type": "markdown",
   "metadata": {
    "id": "VbGNHcTuZOnN"
   },
   "source": [
    "## bar 그래프"
   ]
  },
  {
   "cell_type": "markdown",
   "metadata": {
    "id": "4ZfK31ENZfKs"
   },
   "source": [
    "bar 그래프는 그룹별로 비교할 때 유용합니다."
   ]
  },
  {
   "cell_type": "code",
   "execution_count": null,
   "metadata": {
    "colab": {
     "base_uri": "https://localhost:8080/",
     "height": 372
    },
    "id": "bR_oHnCwZOqs",
    "outputId": "08d04093-6b8d-42a6-b284-f3fbeb60032c"
   },
   "outputs": [],
   "source": [
    "df.groupby('지역')['분양가'].mean()"
   ]
  },
  {
   "cell_type": "code",
   "execution_count": null,
   "metadata": {
    "colab": {
     "base_uri": "https://localhost:8080/",
     "height": 1000
    },
    "id": "EJP5ZRMAZOtw",
    "outputId": "4f8fddcb-8e47-40e5-d3d4-94a36ea90890"
   },
   "outputs": [],
   "source": [
    "df.groupby('지역')['분양가'].mean().plot(kind='bar')"
   ]
  },
  {
   "cell_type": "code",
   "execution_count": null,
   "metadata": {
    "colab": {
     "base_uri": "https://localhost:8080/",
     "height": 1000
    },
    "id": "3z3MdeqSZOw7",
    "outputId": "35922f7d-2895-480c-92b7-5b9fbcd9bcb2"
   },
   "outputs": [],
   "source": [
    "df.groupby('지역')['분양가'].mean().plot(kind='barh')"
   ]
  },
  {
   "cell_type": "markdown",
   "metadata": {
    "id": "oQwtDhhXZOyI"
   },
   "source": [
    "### 히스토그램 (hist)"
   ]
  },
  {
   "cell_type": "markdown",
   "metadata": {
    "id": "VX0j9nlgZO1X"
   },
   "source": [
    "히스토그램은 **분포-빈도 를 시각화**하여 보여줍니다\n",
    "\n",
    "가로축에는 분포를, 세로축에는 빈도가 시각화되어 보여집니다."
   ]
  },
  {
   "cell_type": "code",
   "execution_count": null,
   "metadata": {
    "colab": {
     "base_uri": "https://localhost:8080/",
     "height": 447
    },
    "id": "9AcmLgnUZqUz",
    "outputId": "61a12d78-3b75-4ea8-aa99-2b065b1426ed"
   },
   "outputs": [],
   "source": [
    "df['분양가'].plot(kind='hist')"
   ]
  },
  {
   "cell_type": "markdown",
   "metadata": {
    "id": "K45AdW2JZqRH"
   },
   "source": [
    "### 커널 밀도 그래프"
   ]
  },
  {
   "cell_type": "markdown",
   "metadata": {
    "id": "_i5y3U1OZqNf"
   },
   "source": [
    "* 히스토그램과 유사하게 밀도를 보여주는 그래프입니다.\n",
    "* 히스토그램과 유사한 모양새를 갖추고 있습니다. \n",
    "* 부드러운 라인을 가지고 있습니다."
   ]
  },
  {
   "cell_type": "code",
   "execution_count": null,
   "metadata": {
    "colab": {
     "base_uri": "https://localhost:8080/",
     "height": 450
    },
    "id": "CC1WzmRPZqKH",
    "outputId": "33201d5e-215f-40c5-e9d3-2f49ab514034"
   },
   "outputs": [],
   "source": [
    "df['분양가'].plot(kind='kde')"
   ]
  },
  {
   "cell_type": "markdown",
   "metadata": {
    "id": "o7kog7FdZy_H"
   },
   "source": [
    "### Hexbin"
   ]
  },
  {
   "cell_type": "markdown",
   "metadata": {
    "id": "WfWGI0cWZy5O"
   },
   "source": [
    "* hexbin은 고밀도 산점도 그래프입니다.\n",
    "* x와 y 키 값을 넣어 주어야 합니다.\n",
    "* x, y 값 모두 numeric 한 값을 넣어 주어야합니다.\n",
    "* 데이터의 밀도를 추정합니다."
   ]
  },
  {
   "cell_type": "code",
   "execution_count": null,
   "metadata": {
    "colab": {
     "base_uri": "https://localhost:8080/",
     "height": 587
    },
    "id": "Da2Mxu45Zy0v",
    "outputId": "69e08d6d-60fb-4111-86c1-092d7581a252"
   },
   "outputs": [],
   "source": [
    "df.plot(kind='hexbin', x='분양가', y='연도', gridsize=20)"
   ]
  },
  {
   "cell_type": "markdown",
   "metadata": {
    "id": "1hyq8zfYZ3hM"
   },
   "source": [
    "### 박스 플롯(box)"
   ]
  },
  {
   "cell_type": "code",
   "execution_count": null,
   "metadata": {
    "id": "t9ccLmrFZ3ck"
   },
   "outputs": [],
   "source": [
    "df_seoul = df.loc[df['지역'] == '서울']"
   ]
  },
  {
   "cell_type": "code",
   "execution_count": null,
   "metadata": {
    "colab": {
     "base_uri": "https://localhost:8080/",
     "height": 672
    },
    "id": "3azbD7U8Z3Xj",
    "outputId": "f799c566-6726-447d-be73-9442ebdc0389"
   },
   "outputs": [],
   "source": [
    "df_seoul['분양가'].plot(kind='box')"
   ]
  },
  {
   "cell_type": "code",
   "execution_count": null,
   "metadata": {
    "colab": {
     "base_uri": "https://localhost:8080/",
     "height": 316
    },
    "id": "3qm5ezfIZyvo",
    "outputId": "eca0d4da-ae69-4c41-bc67-ad63d8668953"
   },
   "outputs": [],
   "source": [
    "from IPython.display import Image\n",
    "\n",
    "# image source : https://justinsighting.com/how-to-interpret-box-plots/\n",
    "Image(url='https://justinsighting.com/wp-content/uploads/2016/12/boxplot-description.png')"
   ]
  },
  {
   "cell_type": "markdown",
   "metadata": {
    "id": "Gm2efnKFZ-Dj"
   },
   "source": [
    "IQR은 Inter Quantile Range의 약어로써, (3Q - 1Q) * 1.5 값입니다."
   ]
  },
  {
   "cell_type": "markdown",
   "metadata": {
    "id": "5S0OiJOaaIka"
   },
   "source": [
    "### Pie 그래프"
   ]
  },
  {
   "cell_type": "code",
   "execution_count": null,
   "metadata": {
    "colab": {
     "base_uri": "https://localhost:8080/",
     "height": 655
    },
    "id": "Btnl0KBuZ9-K",
    "outputId": "6509042e-37e8-4096-8721-d293062da9b9"
   },
   "outputs": [],
   "source": [
    "df.groupby('연도')['분양가'].count().plot(kind='pie')"
   ]
  },
  {
   "cell_type": "markdown",
   "metadata": {
    "id": "4-qKkUW-aO1B"
   },
   "source": [
    "### scatter plot (산점도 그래프)"
   ]
  },
  {
   "cell_type": "markdown",
   "metadata": {
    "id": "uMMXnIJzZqFi"
   },
   "source": [
    "* 점으로 데이터를 표기해 줍니다\n",
    "* x, y 값을 넣어주어야합니다 (hexbin과 유사)\n",
    "* x축과 y축을 지정해주면 그에 맞는 데이터 분포도를 볼 수 있습니다.\n",
    "* 역시 numeric 한 column 만 지정할 수 있습니다"
   ]
  },
  {
   "cell_type": "code",
   "execution_count": null,
   "metadata": {},
   "outputs": [],
   "source": [
    "df.head()"
   ]
  },
  {
   "cell_type": "code",
   "execution_count": null,
   "metadata": {
    "colab": {
     "base_uri": "https://localhost:8080/",
     "height": 761
    },
    "id": "dpAzJs0waSa2",
    "outputId": "a3d42ce0-5bf4-42e5-f713-6f49ee4698c4"
   },
   "outputs": [],
   "source": [
    "df.plot(x='월', y='분양가', kind='scatter')"
   ]
  }
 ],
 "metadata": {
  "colab": {
   "collapsed_sections": [],
   "name": "01-DataFrame-시각화-(실습)",
   "provenance": []
  },
  "kernelspec": {
   "display_name": "Python 3 (ipykernel)",
   "language": "python",
   "name": "python3"
  },
  "language_info": {
   "codemirror_mode": {
    "name": "ipython",
    "version": 3
   },
   "file_extension": ".py",
   "mimetype": "text/x-python",
   "name": "python",
   "nbconvert_exporter": "python",
   "pygments_lexer": "ipython3",
   "version": "3.8.13"
  }
 },
 "nbformat": 4,
 "nbformat_minor": 1
}
