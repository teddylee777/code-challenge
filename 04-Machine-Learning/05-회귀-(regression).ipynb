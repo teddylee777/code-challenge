{
 "cells": [
  {
   "cell_type": "code",
   "execution_count": null,
   "metadata": {
    "id": "DxUygMozkNXP"
   },
   "outputs": [],
   "source": [
    "# 튜토리얼 진행을 위한 모듈 import\n",
    "import pandas as pd\n",
    "import numpy as np\n",
    "import matplotlib.pyplot as plt\n",
    "import seaborn as sns\n",
    "from IPython.display import Image\n",
    "import warnings\n",
    "\n",
    "np.set_printoptions(suppress=True, precision=3)\n",
    "\n",
    "# 경고 메시지 출력 표기 생략\n",
    "warnings.filterwarnings('ignore')"
   ]
  },
  {
   "cell_type": "markdown",
   "metadata": {
    "id": "4w25biB_5-G4"
   },
   "source": [
    "# 회귀 (regression)"
   ]
  },
  {
   "cell_type": "markdown",
   "metadata": {
    "id": "MNQRgZZKkNXT"
   },
   "source": [
    "회귀 분석(regression analysis)은 관찰된 연속형 변수들에 대해 두 변수 사이의 모형을 구한뒤 적합도를 측정해 내는 분석 방법입니다.\n",
    "\n",
    "하나의 종속변수와 하나의 독립변수 사이의 관계를 분석할 경우를 **단순회귀분석(simple regression analysis)**, 하나의 종속변수와 여러 독립변수 사이의 관계를 규명하고자 할 경우를 **다중회귀분석(multiple regression analysis)** 이라고 합니다."
   ]
  },
  {
   "cell_type": "markdown",
   "metadata": {
    "id": "5Y_f-BWX6CCA"
   },
   "source": [
    "**예시**\n",
    "- 주택 가격 예측\n",
    "- 매출액 예측\n",
    "- 주가 예측\n",
    "- 온도 예측"
   ]
  },
  {
   "cell_type": "markdown",
   "metadata": {
    "id": "ExYrS9GzkNXU"
   },
   "source": [
    "대표적인 회귀 모델로는\n",
    "\n",
    "- 최소제곱법(Ordinary Least Squares)을 활용한 **LinearRegression**\n",
    "- 경사하강법(Gradient Descent)을 활용한 **SGDRegressor**\n",
    "- 선형 회귀 모델에 L1, L2 규제를 더한 **Lasso, Ridge, ElasticNet**\n",
    "\n",
    "등이 있습니다."
   ]
  },
  {
   "cell_type": "markdown",
   "metadata": {
    "id": "xlUKcoPiJid2"
   },
   "source": [
    "[도큐먼트](https://scikit-learn.org/stable/supervised_learning.html#supervised-learning)"
   ]
  },
  {
   "cell_type": "markdown",
   "metadata": {
    "id": "IXUBcFNLv-hN"
   },
   "source": [
    "## 회귀 모델을 위한 평가 지표"
   ]
  },
  {
   "cell_type": "code",
   "execution_count": null,
   "metadata": {
    "id": "sAfJTTk4kNXV"
   },
   "outputs": [],
   "source": [
    "def make_linear(w=0.5, b=0.8, size=50, noise=1.0):\n",
    "    np.random.seed(123)\n",
    "    x = np.arange(size)\n",
    "    y = w * x + b\n",
    "    noise = np.random.uniform(-abs(noise), abs(noise), size=y.shape)\n",
    "    yy = y + noise\n",
    "    plt.figure(figsize=(10, 7))\n",
    "    plt.plot(x, y, color='r', label=f'y = {w}*x + {b}')\n",
    "    plt.scatter(x, yy, label='data')\n",
    "    plt.legend(fontsize=20)\n",
    "    plt.show()\n",
    "    print(f'w: {w}, b: {b}')\n",
    "    return x, y, yy"
   ]
  },
  {
   "cell_type": "code",
   "execution_count": null,
   "metadata": {
    "id": "oGteMRsfkNXX",
    "outputId": "b110c4ff-ed07-4052-c37b-fe9be028521b"
   },
   "outputs": [],
   "source": [
    "x, y_true, y_pred = make_linear(size=50, w=1.5, b=0.8, noise=5.5)"
   ]
  },
  {
   "cell_type": "markdown",
   "metadata": {
    "id": "EoG4CEm4v-aJ"
   },
   "source": [
    "### MSE (Mean Squared Error)"
   ]
  },
  {
   "cell_type": "markdown",
   "metadata": {
    "id": "P0TUHffBzCly"
   },
   "source": [
    "- 예측 값과 실제 값의 차이에 대한 **제곱**에 대하여 평균을 낸 값\n",
    "- MSE 오차가 작으면 작을수록 좋지만, 과대적합이 될 수 있음에 주의합니다.\n",
    "- 예측 값과 실제 값보다 크게 예측이 되는지 작게 예측되는지 알 수 없습니다."
   ]
  },
  {
   "cell_type": "markdown",
   "metadata": {},
   "source": [
    "$\\Large MSE = \\frac{1}{n}\\sum_{i=1}^{n}{(y_i - \\hat{y_i})^2}$"
   ]
  },
  {
   "cell_type": "markdown",
   "metadata": {
    "id": "Hd31hgftkNXi"
   },
   "source": [
    "Python 코드로 위의 수식을 그대로 구현합니다."
   ]
  },
  {
   "cell_type": "markdown",
   "metadata": {},
   "source": [
    "`mse` 변수에 결과를 대입합니다."
   ]
  },
  {
   "cell_type": "markdown",
   "metadata": {
    "id": "3d15QwUukNXk"
   },
   "source": [
    "`sklearn.metrics` 패키지에 `mean_squared_error`를 활용합니다."
   ]
  },
  {
   "cell_type": "code",
   "execution_count": null,
   "metadata": {
    "id": "P0HoZioLkNXk"
   },
   "outputs": [],
   "source": [
    "from sklearn.metrics import mean_squared_error"
   ]
  },
  {
   "cell_type": "markdown",
   "metadata": {},
   "source": [
    "`mse_` 변수에 결과를 대입합니다."
   ]
  },
  {
   "cell_type": "code",
   "execution_count": null,
   "metadata": {
    "id": "Lv47jMb8kNXm",
    "outputId": "413d52af-55c0-490e-c761-4ae009689277"
   },
   "outputs": [],
   "source": [
    "# 코드를 입력해 주세요\n",
    "mse_ = "
   ]
  },
  {
   "cell_type": "code",
   "execution_count": null,
   "metadata": {
    "id": "Lv47jMb8kNXm",
    "outputId": "413d52af-55c0-490e-c761-4ae009689277"
   },
   "outputs": [
    {
     "name": "stdout",
     "output_type": "stream",
     "text": []
    }
   ],
   "source": [
    "# 코드검증\n",
    "print('mse = {:.3f}'.format(mse_))"
   ]
  },
  {
   "cell_type": "markdown",
   "metadata": {},
   "source": [
    "<p><strong>[출력 결과]</strong></p><pre>mse = 6.540\n",
    "</pre>"
   ]
  },
  {
   "cell_type": "markdown",
   "metadata": {
    "id": "yvGjUcuxwFFi"
   },
   "source": [
    "### MAE (Mean Absolute Error)"
   ]
  },
  {
   "cell_type": "markdown",
   "metadata": {
    "id": "6GLVRFIIkNXo"
   },
   "source": [
    "- 예측값과 실제값의 차이에 대한 **절대값**에 대하여 평균을 낸 값\n",
    "- 실제 값과 예측 값 차이를 절대 값으로 변환해 평균을 계산합니다. 작을수록 좋지만, 과대적합이 될 수 있음에 주의합니다.\n",
    "- **스케일에 의존적**입니다.\n",
    "\n",
    "예를 들어, 아파트 집값은 10억, 20억으로 구성되어 있고, 과일 가격은 5000원, 10000원으로 구성되어 있을때,\n",
    "\n",
    "예측하는 각각 모델의 MSE 가 똑같이 100 이 나왔다고 가정한다며,동일한 오차율이 아님에도 불구하고 동일하게 평가되어 지는 현상이 발생합니다.\n",
    "이는 MSE 오차에서도 마찬가지 입니다."
   ]
  },
  {
   "cell_type": "markdown",
   "metadata": {},
   "source": [
    "$\\Large MAE = \\frac{1}{n}\\sum_{i=1}^{n}{|(y_i - \\hat{y_i})|}$"
   ]
  },
  {
   "cell_type": "markdown",
   "metadata": {
    "id": "DLrUCYeGkNXq"
   },
   "source": [
    "Python 코드로 위의 수식을 그대로 구현합니다.\n",
    "\n",
    "`mae` 변수에 결과를 대입합니다."
   ]
  },
  {
   "cell_type": "code",
   "execution_count": null,
   "metadata": {},
   "outputs": [],
   "source": [
    "# 코드를 입력해 주세요\n",
    "mae = "
   ]
  },
  {
   "cell_type": "code",
   "execution_count": null,
   "metadata": {},
   "outputs": [
    {
     "name": "stdout",
     "output_type": "stream",
     "text": []
    }
   ],
   "source": [
    "# 코드검증\n",
    "print('mae = {:.3f}'.format(mae))"
   ]
  },
  {
   "cell_type": "markdown",
   "metadata": {},
   "source": [
    "<p><strong>[출력 결과]</strong></p><pre>mae = 2.084\n",
    "</pre>"
   ]
  },
  {
   "cell_type": "markdown",
   "metadata": {
    "id": "5WL-hXLSkNXr"
   },
   "source": [
    "`sklearn.metrics` 패키지에 `mean_absolute_error`를 활용합니다."
   ]
  },
  {
   "cell_type": "code",
   "execution_count": null,
   "metadata": {
    "id": "TLSkoRzVkNXr"
   },
   "outputs": [],
   "source": [
    "from sklearn.metrics import mean_absolute_error"
   ]
  },
  {
   "cell_type": "markdown",
   "metadata": {},
   "source": [
    "`mae_` 변수에 결과를 대입합니다."
   ]
  },
  {
   "cell_type": "code",
   "execution_count": null,
   "metadata": {
    "id": "bD7F-vOhkNXt",
    "outputId": "3cd6e593-220f-41b6-f5b5-519a33e2480c"
   },
   "outputs": [],
   "source": [
    "# 코드를 입력해 주세요\n",
    "mae_ = "
   ]
  },
  {
   "cell_type": "code",
   "execution_count": null,
   "metadata": {
    "id": "bD7F-vOhkNXt",
    "outputId": "3cd6e593-220f-41b6-f5b5-519a33e2480c"
   },
   "outputs": [
    {
     "name": "stdout",
     "output_type": "stream",
     "text": []
    }
   ],
   "source": [
    "# 코드검증\n",
    "print('mae = {:.3f}'.format(mae_))"
   ]
  },
  {
   "cell_type": "markdown",
   "metadata": {},
   "source": [
    "<p><strong>[출력 결과]</strong></p><pre>mae = 2.084\n",
    "</pre>"
   ]
  },
  {
   "cell_type": "markdown",
   "metadata": {
    "id": "AtV5LD9wkNXz"
   },
   "source": [
    "## 회귀 모델 (Regression Models)"
   ]
  },
  {
   "cell_type": "markdown",
   "metadata": {
    "id": "Yt9pqvyOGW0N"
   },
   "source": [
    "### 모델별 성능 확인을 위한 함수"
   ]
  },
  {
   "cell_type": "code",
   "execution_count": null,
   "metadata": {},
   "outputs": [],
   "source": [
    "# 모듈 설치\n",
    "!pip install teddynote -q"
   ]
  },
  {
   "cell_type": "code",
   "execution_count": null,
   "metadata": {},
   "outputs": [],
   "source": [
    "from teddynote import utils\n",
    "\n",
    "# 그래프 사이즈 설정\n",
    "utils.set_plot_options(figsize=(12, 10))\n",
    "\n",
    "# MSE 에러 설정\n",
    "utils.set_plot_error('mse')"
   ]
  },
  {
   "cell_type": "markdown",
   "metadata": {
    "id": "OA_smO1FkNX2"
   },
   "source": [
    "### 보스턴 집 값 데이터"
   ]
  },
  {
   "cell_type": "markdown",
   "metadata": {
    "id": "sIqBLdbnu-7_"
   },
   "source": [
    "**데이터 로드 (load_boston)**"
   ]
  },
  {
   "cell_type": "code",
   "execution_count": null,
   "metadata": {
    "id": "DHjz2_orwMHe"
   },
   "outputs": [],
   "source": [
    "from sklearn.datasets import load_boston"
   ]
  },
  {
   "cell_type": "code",
   "execution_count": null,
   "metadata": {
    "id": "DHjz2_orwMHe"
   },
   "outputs": [],
   "source": [
    "# 코드를 입력해 주세요\n",
    "data = "
   ]
  },
  {
   "cell_type": "markdown",
   "metadata": {
    "id": "NPGcQQ8KvBcd"
   },
   "source": [
    "data['data']에는 X 데이터, data['feature_names']에는 컬럼 명입니다."
   ]
  },
  {
   "cell_type": "code",
   "execution_count": null,
   "metadata": {
    "id": "pIhh3ThhwRed"
   },
   "outputs": [],
   "source": [
    "# 코드를 입력해 주세요\n",
    "df = \n"
   ]
  },
  {
   "cell_type": "markdown",
   "metadata": {
    "id": "5YFfSlDAvJXc"
   },
   "source": [
    "target 데이터도 Column 에 추가 합니다."
   ]
  },
  {
   "cell_type": "code",
   "execution_count": null,
   "metadata": {
    "colab": {
     "base_uri": "https://localhost:8080/",
     "height": 198
    },
    "id": "qEcK8Erlwi7a",
    "outputId": "6accb454-c321-46b9-d67a-94234d975488"
   },
   "outputs": [],
   "source": [
    "# 코드검증\n",
    "df.head()"
   ]
  },
  {
   "cell_type": "markdown",
   "metadata": {},
   "source": [
    "<p><strong>[출력 결과]</strong></p><div>\n",
    "<style scoped>\n",
    "    .dataframe tbody tr th:only-of-type {\n",
    "        vertical-align: middle;\n",
    "    }\n",
    "\n",
    "    .dataframe tbody tr th {\n",
    "        vertical-align: top;\n",
    "    }\n",
    "\n",
    "    .dataframe thead th {\n",
    "        text-align: right;\n",
    "    }\n",
    "</style>\n",
    "<table border=\"1\" class=\"dataframe\">\n",
    "  <thead>\n",
    "    <tr style=\"text-align: right;\">\n",
    "      <th></th>\n",
    "      <th>CRIM</th>\n",
    "      <th>ZN</th>\n",
    "      <th>INDUS</th>\n",
    "      <th>CHAS</th>\n",
    "      <th>NOX</th>\n",
    "      <th>RM</th>\n",
    "      <th>AGE</th>\n",
    "      <th>DIS</th>\n",
    "      <th>RAD</th>\n",
    "      <th>TAX</th>\n",
    "      <th>PTRATIO</th>\n",
    "      <th>B</th>\n",
    "      <th>LSTAT</th>\n",
    "      <th>target</th>\n",
    "    </tr>\n",
    "  </thead>\n",
    "  <tbody>\n",
    "    <tr>\n",
    "      <th>0</th>\n",
    "      <td>0.00632</td>\n",
    "      <td>18.0</td>\n",
    "      <td>2.31</td>\n",
    "      <td>0.0</td>\n",
    "      <td>0.538</td>\n",
    "      <td>6.575</td>\n",
    "      <td>65.2</td>\n",
    "      <td>4.0900</td>\n",
    "      <td>1.0</td>\n",
    "      <td>296.0</td>\n",
    "      <td>15.3</td>\n",
    "      <td>396.90</td>\n",
    "      <td>4.98</td>\n",
    "      <td>24.0</td>\n",
    "    </tr>\n",
    "    <tr>\n",
    "      <th>1</th>\n",
    "      <td>0.02731</td>\n",
    "      <td>0.0</td>\n",
    "      <td>7.07</td>\n",
    "      <td>0.0</td>\n",
    "      <td>0.469</td>\n",
    "      <td>6.421</td>\n",
    "      <td>78.9</td>\n",
    "      <td>4.9671</td>\n",
    "      <td>2.0</td>\n",
    "      <td>242.0</td>\n",
    "      <td>17.8</td>\n",
    "      <td>396.90</td>\n",
    "      <td>9.14</td>\n",
    "      <td>21.6</td>\n",
    "    </tr>\n",
    "    <tr>\n",
    "      <th>2</th>\n",
    "      <td>0.02729</td>\n",
    "      <td>0.0</td>\n",
    "      <td>7.07</td>\n",
    "      <td>0.0</td>\n",
    "      <td>0.469</td>\n",
    "      <td>7.185</td>\n",
    "      <td>61.1</td>\n",
    "      <td>4.9671</td>\n",
    "      <td>2.0</td>\n",
    "      <td>242.0</td>\n",
    "      <td>17.8</td>\n",
    "      <td>392.83</td>\n",
    "      <td>4.03</td>\n",
    "      <td>34.7</td>\n",
    "    </tr>\n",
    "    <tr>\n",
    "      <th>3</th>\n",
    "      <td>0.03237</td>\n",
    "      <td>0.0</td>\n",
    "      <td>2.18</td>\n",
    "      <td>0.0</td>\n",
    "      <td>0.458</td>\n",
    "      <td>6.998</td>\n",
    "      <td>45.8</td>\n",
    "      <td>6.0622</td>\n",
    "      <td>3.0</td>\n",
    "      <td>222.0</td>\n",
    "      <td>18.7</td>\n",
    "      <td>394.63</td>\n",
    "      <td>2.94</td>\n",
    "      <td>33.4</td>\n",
    "    </tr>\n",
    "    <tr>\n",
    "      <th>4</th>\n",
    "      <td>0.06905</td>\n",
    "      <td>0.0</td>\n",
    "      <td>2.18</td>\n",
    "      <td>0.0</td>\n",
    "      <td>0.458</td>\n",
    "      <td>7.147</td>\n",
    "      <td>54.2</td>\n",
    "      <td>6.0622</td>\n",
    "      <td>3.0</td>\n",
    "      <td>222.0</td>\n",
    "      <td>18.7</td>\n",
    "      <td>396.90</td>\n",
    "      <td>5.33</td>\n",
    "      <td>36.2</td>\n",
    "    </tr>\n",
    "  </tbody>\n",
    "</table>\n",
    "</div>"
   ]
  },
  {
   "cell_type": "markdown",
   "metadata": {
    "id": "2OJKxGHGQyra"
   },
   "source": [
    "**컬럼 소개**\n",
    "\n",
    "속성 수 : 13\n",
    "\n",
    "* **CRIM**: 자치시 별 범죄율\n",
    "* **ZN**: 25,000 평방 피트를 초과하는 주거용 토지의 비율\n",
    "* **INDUS**: 비소매(non-retail) 비즈니스 토지 비율\n",
    "* **CHAS**: 찰스 강과 인접한 경우에 대한 더비 변수 (1= 인접, 0= 인접하지 않음)\n",
    "* **NOX**: 산화 질소 농도 (10ppm)\n",
    "* **RM**:주택당 평균 객실 수\n",
    "* **AGE**: 1940 년 이전에 건축된 자가소유 점유 비율\n",
    "* **DIS**: 5 개의 보스턴 고용 센터까지의 가중 거리     \n",
    "* **RAD**: 고속도로 접근성 지수\n",
    "* **TAX**: 10,000 달러 당 전체 가치 재산 세율\n",
    "* **PTRATIO**  도시별 학생-교사 비율\n",
    "* **B**: 인구당 흑인의 비율. 1000(Bk - 0.63)^2, (Bk는 흑인의 비율을 뜻함)\n",
    "* **LSTAT**: 하위 계층의 비율\n",
    "* **target**: 자가 주택의 중앙값 (1,000 달러 단위)"
   ]
  },
  {
   "cell_type": "markdown",
   "metadata": {
    "id": "2sMNMyyjEGD2"
   },
   "source": [
    "**학습(train) / 테스트(test)** 용 데이터를 분할 합니다."
   ]
  },
  {
   "cell_type": "code",
   "execution_count": null,
   "metadata": {
    "id": "Jt8fMUFYELEQ"
   },
   "outputs": [],
   "source": [
    "from sklearn.model_selection import train_test_split\n",
    "\n",
    "# 시드 설정\n",
    "SEED=30"
   ]
  },
  {
   "cell_type": "code",
   "execution_count": null,
   "metadata": {
    "id": "CiT58Hq3EK-l"
   },
   "outputs": [],
   "source": [
    "# 코드를 입력해 주세요\n",
    "x_train, x_test, y_train, y_test = "
   ]
  },
  {
   "cell_type": "markdown",
   "metadata": {},
   "source": [
    "`x_train`, `x_test`의 shape를 출력합니다."
   ]
  },
  {
   "cell_type": "code",
   "execution_count": null,
   "metadata": {
    "colab": {
     "base_uri": "https://localhost:8080/",
     "height": 35
    },
    "id": "vCfOM_LDviy6",
    "outputId": "7c629d09-b6ce-4e01-bc47-e8ce0c7d8ff6"
   },
   "outputs": [],
   "source": [
    "# 코드를 입력해 주세요\n"
   ]
  },
  {
   "cell_type": "markdown",
   "metadata": {},
   "source": [
    "<p><strong>[출력 결과]</strong></p><pre>((379, 13), (127, 13))</pre>"
   ]
  },
  {
   "cell_type": "code",
   "execution_count": null,
   "metadata": {
    "colab": {
     "base_uri": "https://localhost:8080/",
     "height": 198
    },
    "id": "FKXrkYuSvqWk",
    "outputId": "6a74b5c7-1110-438e-e58e-9ab9e8f9bdb5"
   },
   "outputs": [],
   "source": [
    "# 검증코드\n",
    "x_train.head()"
   ]
  },
  {
   "cell_type": "markdown",
   "metadata": {},
   "source": [
    "<p><strong>[출력 결과]</strong></p><div>\n",
    "<style scoped>\n",
    "    .dataframe tbody tr th:only-of-type {\n",
    "        vertical-align: middle;\n",
    "    }\n",
    "\n",
    "    .dataframe tbody tr th {\n",
    "        vertical-align: top;\n",
    "    }\n",
    "\n",
    "    .dataframe thead th {\n",
    "        text-align: right;\n",
    "    }\n",
    "</style>\n",
    "<table border=\"1\" class=\"dataframe\">\n",
    "  <thead>\n",
    "    <tr style=\"text-align: right;\">\n",
    "      <th></th>\n",
    "      <th>CRIM</th>\n",
    "      <th>ZN</th>\n",
    "      <th>INDUS</th>\n",
    "      <th>CHAS</th>\n",
    "      <th>NOX</th>\n",
    "      <th>RM</th>\n",
    "      <th>AGE</th>\n",
    "      <th>DIS</th>\n",
    "      <th>RAD</th>\n",
    "      <th>TAX</th>\n",
    "      <th>PTRATIO</th>\n",
    "      <th>B</th>\n",
    "      <th>LSTAT</th>\n",
    "    </tr>\n",
    "  </thead>\n",
    "  <tbody>\n",
    "    <tr>\n",
    "      <th>142</th>\n",
    "      <td>3.32105</td>\n",
    "      <td>0.0</td>\n",
    "      <td>19.58</td>\n",
    "      <td>1.0</td>\n",
    "      <td>0.871</td>\n",
    "      <td>5.403</td>\n",
    "      <td>100.0</td>\n",
    "      <td>1.3216</td>\n",
    "      <td>5.0</td>\n",
    "      <td>403.0</td>\n",
    "      <td>14.7</td>\n",
    "      <td>396.90</td>\n",
    "      <td>26.82</td>\n",
    "    </tr>\n",
    "    <tr>\n",
    "      <th>10</th>\n",
    "      <td>0.22489</td>\n",
    "      <td>12.5</td>\n",
    "      <td>7.87</td>\n",
    "      <td>0.0</td>\n",
    "      <td>0.524</td>\n",
    "      <td>6.377</td>\n",
    "      <td>94.3</td>\n",
    "      <td>6.3467</td>\n",
    "      <td>5.0</td>\n",
    "      <td>311.0</td>\n",
    "      <td>15.2</td>\n",
    "      <td>392.52</td>\n",
    "      <td>20.45</td>\n",
    "    </tr>\n",
    "    <tr>\n",
    "      <th>393</th>\n",
    "      <td>8.64476</td>\n",
    "      <td>0.0</td>\n",
    "      <td>18.10</td>\n",
    "      <td>0.0</td>\n",
    "      <td>0.693</td>\n",
    "      <td>6.193</td>\n",
    "      <td>92.6</td>\n",
    "      <td>1.7912</td>\n",
    "      <td>24.0</td>\n",
    "      <td>666.0</td>\n",
    "      <td>20.2</td>\n",
    "      <td>396.90</td>\n",
    "      <td>15.17</td>\n",
    "    </tr>\n",
    "    <tr>\n",
    "      <th>162</th>\n",
    "      <td>1.83377</td>\n",
    "      <td>0.0</td>\n",
    "      <td>19.58</td>\n",
    "      <td>1.0</td>\n",
    "      <td>0.605</td>\n",
    "      <td>7.802</td>\n",
    "      <td>98.2</td>\n",
    "      <td>2.0407</td>\n",
    "      <td>5.0</td>\n",
    "      <td>403.0</td>\n",
    "      <td>14.7</td>\n",
    "      <td>389.61</td>\n",
    "      <td>1.92</td>\n",
    "    </tr>\n",
    "    <tr>\n",
    "      <th>363</th>\n",
    "      <td>4.22239</td>\n",
    "      <td>0.0</td>\n",
    "      <td>18.10</td>\n",
    "      <td>1.0</td>\n",
    "      <td>0.770</td>\n",
    "      <td>5.803</td>\n",
    "      <td>89.0</td>\n",
    "      <td>1.9047</td>\n",
    "      <td>24.0</td>\n",
    "      <td>666.0</td>\n",
    "      <td>20.2</td>\n",
    "      <td>353.04</td>\n",
    "      <td>14.64</td>\n",
    "    </tr>\n",
    "  </tbody>\n",
    "</table>\n",
    "</div>"
   ]
  },
  {
   "cell_type": "markdown",
   "metadata": {
    "id": "qJmSsQ2yv0oV"
   },
   "source": [
    "## LinearRegression"
   ]
  },
  {
   "cell_type": "markdown",
   "metadata": {
    "id": "7DWapNujJn6P"
   },
   "source": [
    "[도큐먼트](https://scikit-learn.org/stable/modules/generated/sklearn.linear_model.LinearRegression.html)"
   ]
  },
  {
   "cell_type": "code",
   "execution_count": null,
   "metadata": {
    "id": "y2cYsPENv_q0"
   },
   "outputs": [],
   "source": [
    "from sklearn.linear_model import LinearRegression"
   ]
  },
  {
   "cell_type": "code",
   "execution_count": null,
   "metadata": {
    "id": "1nBUN6VWwFB7"
   },
   "outputs": [],
   "source": [
    "# 코드를 입력해 주세요\n",
    "model = "
   ]
  },
  {
   "cell_type": "code",
   "execution_count": null,
   "metadata": {
    "colab": {
     "base_uri": "https://localhost:8080/",
     "height": 35
    },
    "id": "B0ttPK9wEfOI",
    "outputId": "d83e3823-8cfd-4e73-8fa1-220e7e40ae57"
   },
   "outputs": [],
   "source": [
    "# 코드를 입력해 주세요\n",
    "model."
   ]
  },
  {
   "cell_type": "markdown",
   "metadata": {},
   "source": [
    "<p><strong>[출력 결과]</strong></p><pre>LinearRegression()</pre>"
   ]
  },
  {
   "cell_type": "markdown",
   "metadata": {},
   "source": [
    "`pred` 변수에 예측 결과를 대입합니다."
   ]
  },
  {
   "cell_type": "code",
   "execution_count": null,
   "metadata": {
    "id": "v6LUCRSQwGwl"
   },
   "outputs": [],
   "source": [
    "# 코드를 입력해 주세요\n",
    "pred = "
   ]
  },
  {
   "cell_type": "code",
   "execution_count": null,
   "metadata": {
    "scrolled": false
   },
   "outputs": [],
   "source": [
    "utils.plot_error('LinearRegression', y_test, pred)"
   ]
  },
  {
   "cell_type": "markdown",
   "metadata": {
    "id": "2f9ZKMb0yDF7"
   },
   "source": [
    "## 규제 (Regularization)"
   ]
  },
  {
   "cell_type": "markdown",
   "metadata": {},
   "source": [
    "![](https://mblogthumb-phinf.pstatic.net/MjAyMDAzMTlfMTIx/MDAxNTg0NTQ0MTgzNjgz.ZZ8IiR37B3ELXZv2ENLOcrG-SPqB4b6ZYdRVehN2N5wg.pVUpfYQpQZZa3_ZE6NwQh0IIBu4rUQHJDuXyftemmncg.JPEG.jevida/031820_1509_Overfitti1.jpg?type=w800)"
   ]
  },
  {
   "cell_type": "markdown",
   "metadata": {
    "id": "7Jk-33W9yKU7"
   },
   "source": [
    "학습이 과대적합 되는 것을 방지하고자 일종의 **penalty**를 부여하는 것"
   ]
  },
  {
   "cell_type": "markdown",
   "metadata": {
    "id": "dyYZmpMiygqu"
   },
   "source": [
    "**L2 규제 (L2 Regularization)**\n",
    "\n",
    "* 각 가중치 제곱의 합에 규제 강도(Regularization Strength) α를 곱한다. \n",
    "* α를 크게 하면 가중치가 더 많이 감소되고(규제를 중요시함), α를 작게 하면 가중치가 증가한다(규제를 중요시하지 않음).\n",
    "\n",
    "**L1 규제 (L1 Regularization)**\n",
    "\n",
    "* 가중치의 제곱의 합이 아닌 **가중치의 합**을 더한 값에 규제 강도(Regularization Strength) α를 곱하여 오차에 더한다. \n",
    "* 어떤 가중치(w)는 실제로 0이 된다. 즉, 모델에서 완전히 제외되는 특성이 생기는 것이다. \n",
    "\n",
    "\n",
    "**L2 규제가 L1 규제에 비해 더 안정적이라 일반적으로는 L2규제가 더 많이 사용된다**"
   ]
  },
  {
   "cell_type": "markdown",
   "metadata": {
    "id": "Jzxz9aa6kNYO"
   },
   "source": [
    "### Ridge (L2 Regularization)"
   ]
  },
  {
   "cell_type": "markdown",
   "metadata": {
    "id": "dFXahp0tkNYO"
   },
   "source": [
    "- L2 규제 계수를 적용합니다. \n",
    "- 선형회귀에 가중치 (weight)들의 제곱합에 대한 최소화를 추가합니다.\n",
    "\n",
    "**주요 hyperparameter**\n",
    "- `alpha`: 규제 계수\n",
    "\n",
    "**수식**\n",
    "\n",
    "`α`는 규제 계수(강도)를 의미합니다.\n",
    "\n",
    "$\\Large Error=MSE+α\\sum_{i=1}^{n}{w_i^2}$ "
   ]
  },
  {
   "cell_type": "code",
   "execution_count": null,
   "metadata": {
    "id": "c0kYJuLDFWra"
   },
   "outputs": [],
   "source": [
    "from sklearn.linear_model import Ridge"
   ]
  },
  {
   "cell_type": "markdown",
   "metadata": {
    "id": "Ebc1YuwQkNYQ"
   },
   "source": [
    "**규제 계수(alpha)** 를 정의합니다."
   ]
  },
  {
   "cell_type": "code",
   "execution_count": null,
   "metadata": {
    "id": "nP23iV4k2LvN"
   },
   "outputs": [],
   "source": [
    "# 값이 커질 수록 큰 규제입니다.\n",
    "alphas = [100, 10, 1, 0.1, 0.01, 0.001, 0.0001]"
   ]
  },
  {
   "cell_type": "code",
   "execution_count": null,
   "metadata": {
    "colab": {
     "base_uri": "https://localhost:8080/",
     "height": 1000
    },
    "id": "gyNqasVUPpoV",
    "outputId": "381dd1b0-46cf-43d5-dc7d-168e0dfac5b3"
   },
   "outputs": [],
   "source": [
    "for alpha in alphas:\n",
    "    # 코드를 입력해 주세요\n",
    "    ridge = \n",
    "    ridge.\n",
    "    pred = \n",
    "    utils.add_error('Ridge(alpha={})'.format(alpha), y_test, pred)\n",
    "utils.plot_all()"
   ]
  },
  {
   "cell_type": "markdown",
   "metadata": {},
   "source": [
    "<p><strong>[출력 결과]</strong></p><div>\n",
    "<style scoped>\n",
    "    .dataframe tbody tr th:only-of-type {\n",
    "        vertical-align: middle;\n",
    "    }\n",
    "\n",
    "    .dataframe tbody tr th {\n",
    "        vertical-align: top;\n",
    "    }\n",
    "\n",
    "    .dataframe thead th {\n",
    "        text-align: right;\n",
    "    }\n",
    "</style>\n",
    "<table border=\"1\" class=\"dataframe\">\n",
    "  <thead>\n",
    "    <tr style=\"text-align: right;\">\n",
    "      <th></th>\n",
    "      <th>model</th>\n",
    "      <th>error</th>\n",
    "    </tr>\n",
    "  </thead>\n",
    "  <tbody>\n",
    "    <tr>\n",
    "      <th>0</th>\n",
    "      <td>Ridge(alpha=100)</td>\n",
    "      <td>18.018382</td>\n",
    "    </tr>\n",
    "    <tr>\n",
    "      <th>1</th>\n",
    "      <td>Ridge(alpha=10)</td>\n",
    "      <td>17.068408</td>\n",
    "    </tr>\n",
    "    <tr>\n",
    "      <th>2</th>\n",
    "      <td>Ridge(alpha=1)</td>\n",
    "      <td>16.652412</td>\n",
    "    </tr>\n",
    "    <tr>\n",
    "      <th>3</th>\n",
    "      <td>LinearRegression</td>\n",
    "      <td>16.485165</td>\n",
    "    </tr>\n",
    "    <tr>\n",
    "      <th>4</th>\n",
    "      <td>Ridge(alpha=0.0001)</td>\n",
    "      <td>16.485151</td>\n",
    "    </tr>\n",
    "    <tr>\n",
    "      <th>5</th>\n",
    "      <td>Ridge(alpha=0.001)</td>\n",
    "      <td>16.485020</td>\n",
    "    </tr>\n",
    "    <tr>\n",
    "      <th>6</th>\n",
    "      <td>Ridge(alpha=0.01)</td>\n",
    "      <td>16.483801</td>\n",
    "    </tr>\n",
    "    <tr>\n",
    "      <th>7</th>\n",
    "      <td>Ridge(alpha=0.1)</td>\n",
    "      <td>16.479483</td>\n",
    "    </tr>\n",
    "  </tbody>\n",
    "</table>\n",
    "</div>"
   ]
  },
  {
   "cell_type": "markdown",
   "metadata": {},
   "source": [
    "<img src=\"data:image/png;base64,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\"/>"
   ]
  },
  {
   "cell_type": "markdown",
   "metadata": {
    "id": "WU0i4_hgkNYT"
   },
   "source": [
    "coef_는 **feature의 가중치**를 보여줍니다.\n",
    "\n",
    "가중치(weight)를 토대로 회귀 예측시 어떤 feature가 주요하게 영향을 미쳤는지 보여 줍니다."
   ]
  },
  {
   "cell_type": "markdown",
   "metadata": {},
   "source": [
    "<p><strong>[출력 결과]</strong></p><pre><Figure size 720x288 with 1 Axes></pre>"
   ]
  },
  {
   "cell_type": "code",
   "execution_count": null,
   "metadata": {
    "colab": {
     "base_uri": "https://localhost:8080/",
     "height": 69
    },
    "id": "3L-aBBrXVbw8",
    "outputId": "bbe599cd-755b-4818-a0df-f164844e7df3"
   },
   "outputs": [],
   "source": [
    "x_train.columns"
   ]
  },
  {
   "cell_type": "code",
   "execution_count": null,
   "metadata": {
    "colab": {
     "base_uri": "https://localhost:8080/",
     "height": 86
    },
    "id": "QrwNwaZNVXzA",
    "outputId": "fda12bed-1fed-4bc9-ef31-dc0b96edcaa1"
   },
   "outputs": [],
   "source": [
    "ridge.coef_"
   ]
  },
  {
   "cell_type": "markdown",
   "metadata": {
    "id": "Ek9-q42OkNYX"
   },
   "source": [
    "**DataFrame**으로 feature별 가중치를 시각화 합니다."
   ]
  },
  {
   "cell_type": "code",
   "execution_count": null,
   "metadata": {
    "id": "Nl8E5KhMkNYX",
    "outputId": "70baa19c-42b4-48c0-aec0-6ee1bb849928"
   },
   "outputs": [],
   "source": [
    "# 코드를 입력해 주세요\n"
   ]
  },
  {
   "cell_type": "markdown",
   "metadata": {},
   "source": [
    "<p><strong>[출력 결과]</strong></p><div>\n",
    "<style scoped>\n",
    "    .dataframe tbody tr th:only-of-type {\n",
    "        vertical-align: middle;\n",
    "    }\n",
    "\n",
    "    .dataframe tbody tr th {\n",
    "        vertical-align: top;\n",
    "    }\n",
    "\n",
    "    .dataframe thead th {\n",
    "        text-align: right;\n",
    "    }\n",
    "</style>\n",
    "<table border=\"1\" class=\"dataframe\">\n",
    "  <thead>\n",
    "    <tr style=\"text-align: right;\">\n",
    "      <th></th>\n",
    "      <th>features</th>\n",
    "      <th>importances</th>\n",
    "    </tr>\n",
    "  </thead>\n",
    "  <tbody>\n",
    "    <tr>\n",
    "      <th>4</th>\n",
    "      <td>NOX</td>\n",
    "      <td>-18.012494</td>\n",
    "    </tr>\n",
    "    <tr>\n",
    "      <th>7</th>\n",
    "      <td>DIS</td>\n",
    "      <td>-1.529399</td>\n",
    "    </tr>\n",
    "    <tr>\n",
    "      <th>10</th>\n",
    "      <td>PTRATIO</td>\n",
    "      <td>-0.957246</td>\n",
    "    </tr>\n",
    "    <tr>\n",
    "      <th>12</th>\n",
    "      <td>LSTAT</td>\n",
    "      <td>-0.557350</td>\n",
    "    </tr>\n",
    "    <tr>\n",
    "      <th>0</th>\n",
    "      <td>CRIM</td>\n",
    "      <td>-0.114736</td>\n",
    "    </tr>\n",
    "    <tr>\n",
    "      <th>9</th>\n",
    "      <td>TAX</td>\n",
    "      <td>-0.013134</td>\n",
    "    </tr>\n",
    "    <tr>\n",
    "      <th>2</th>\n",
    "      <td>INDUS</td>\n",
    "      <td>-0.002879</td>\n",
    "    </tr>\n",
    "    <tr>\n",
    "      <th>6</th>\n",
    "      <td>AGE</td>\n",
    "      <td>0.004546</td>\n",
    "    </tr>\n",
    "    <tr>\n",
    "      <th>11</th>\n",
    "      <td>B</td>\n",
    "      <td>0.006369</td>\n",
    "    </tr>\n",
    "    <tr>\n",
    "      <th>1</th>\n",
    "      <td>ZN</td>\n",
    "      <td>0.040452</td>\n",
    "    </tr>\n",
    "    <tr>\n",
    "      <th>8</th>\n",
    "      <td>RAD</td>\n",
    "      <td>0.324793</td>\n",
    "    </tr>\n",
    "    <tr>\n",
    "      <th>3</th>\n",
    "      <td>CHAS</td>\n",
    "      <td>3.486692</td>\n",
    "    </tr>\n",
    "    <tr>\n",
    "      <th>5</th>\n",
    "      <td>RM</td>\n",
    "      <td>3.728917</td>\n",
    "    </tr>\n",
    "  </tbody>\n",
    "</table>\n",
    "</div>"
   ]
  },
  {
   "cell_type": "code",
   "execution_count": null,
   "metadata": {
    "id": "_oCb4WP2BFHH"
   },
   "outputs": [],
   "source": [
    "def plot_coef(columns, coef):\n",
    "    coef_df = pd.DataFrame(list(zip(columns, coef)))\n",
    "    coef_df.columns=['feature', 'coef']\n",
    "    coef_df = coef_df.sort_values('coef', ascending=False).reset_index(drop=True)\n",
    "    \n",
    "    fig, ax = plt.subplots(figsize=(9, 7))\n",
    "    ax.barh(np.arange(len(coef_df)), coef_df['coef'])\n",
    "    idx = np.arange(len(coef_df))\n",
    "    ax.set_yticks(idx)\n",
    "    ax.set_yticklabels(coef_df['feature'])\n",
    "    fig.tight_layout()\n",
    "    plt.show()"
   ]
  },
  {
   "cell_type": "code",
   "execution_count": null,
   "metadata": {
    "colab": {
     "base_uri": "https://localhost:8080/",
     "height": 513
    },
    "id": "AUu91h5XVkOZ",
    "outputId": "83431861-008b-45e8-f8d8-da67e6d355b4"
   },
   "outputs": [],
   "source": [
    "plot_coef(x_train.columns, ridge.coef_)"
   ]
  },
  {
   "cell_type": "markdown",
   "metadata": {
    "id": "O97OMy0xkNYk"
   },
   "source": [
    "### Lasso (L1 Regularization)"
   ]
  },
  {
   "cell_type": "markdown",
   "metadata": {
    "id": "JAkWKkUWkNYk"
   },
   "source": [
    "Lasso(Least Absolute Shrinkage and Selection Operator)\n",
    "\n",
    "- 선형 회귀에 L1 규제 계수를 적용합니다.\n",
    "- 가중치(weight)의 절대 값의 합을 최소화 하는 계수를 추가 합니다.\n",
    "- 불필요한 회귀 계수를 급격히 감소, 0으로 만들어 제거합니다.\n",
    "- 특성(Feature) 선택에 유리합니다.\n",
    "\n",
    "**주요 hyperparameter**\n",
    "- `alpha`: L1 규제 계수\n",
    "\n",
    "**수식**  \n",
    "\n",
    "`α`는 규제 계수(강도)를 의미합니다.\n",
    "\n",
    "$\\Large Error=MSE+α\\sum_{i=1}^{n}{|w_i|}$"
   ]
  },
  {
   "cell_type": "code",
   "execution_count": null,
   "metadata": {
    "id": "O4qZl2fgPwL-"
   },
   "outputs": [],
   "source": [
    "from sklearn.linear_model import Lasso"
   ]
  },
  {
   "cell_type": "code",
   "execution_count": null,
   "metadata": {
    "id": "h91GFyKjQC26"
   },
   "outputs": [],
   "source": [
    "# 값이 커질 수록 큰 규제입니다.\n",
    "alphas = [100, 10, 1, 0.1, 0.01, 0.001, 0.0001]"
   ]
  },
  {
   "cell_type": "code",
   "execution_count": null,
   "metadata": {
    "colab": {
     "base_uri": "https://localhost:8080/",
     "height": 1000
    },
    "id": "a6YRIuAM6Njw",
    "outputId": "2e35259c-6820-43b0-8cd1-799e7bfadf10"
   },
   "outputs": [],
   "source": [
    "for alpha in alphas:\n",
    "    # 코드를 입력해 주세요\n",
    "    lasso = \n",
    "    lasso.\n",
    "    pred = \n",
    "    utils.add_error('Lasso(alpha={})'.format(alpha), y_test, pred)\n",
    "utils.plot_all()"
   ]
  },
  {
   "cell_type": "markdown",
   "metadata": {},
   "source": [
    "<p><strong>[출력 결과]</strong></p><div>\n",
    "<style scoped>\n",
    "    .dataframe tbody tr th:only-of-type {\n",
    "        vertical-align: middle;\n",
    "    }\n",
    "\n",
    "    .dataframe tbody tr th {\n",
    "        vertical-align: top;\n",
    "    }\n",
    "\n",
    "    .dataframe thead th {\n",
    "        text-align: right;\n",
    "    }\n",
    "</style>\n",
    "<table border=\"1\" class=\"dataframe\">\n",
    "  <thead>\n",
    "    <tr style=\"text-align: right;\">\n",
    "      <th></th>\n",
    "      <th>model</th>\n",
    "      <th>error</th>\n",
    "    </tr>\n",
    "  </thead>\n",
    "  <tbody>\n",
    "    <tr>\n",
    "      <th>0</th>\n",
    "      <td>Lasso(alpha=100)</td>\n",
    "      <td>48.725206</td>\n",
    "    </tr>\n",
    "    <tr>\n",
    "      <th>1</th>\n",
    "      <td>Lasso(alpha=10)</td>\n",
    "      <td>27.146245</td>\n",
    "    </tr>\n",
    "    <tr>\n",
    "      <th>2</th>\n",
    "      <td>Lasso(alpha=1)</td>\n",
    "      <td>19.882302</td>\n",
    "    </tr>\n",
    "    <tr>\n",
    "      <th>3</th>\n",
    "      <td>Ridge(alpha=100)</td>\n",
    "      <td>18.018382</td>\n",
    "    </tr>\n",
    "    <tr>\n",
    "      <th>4</th>\n",
    "      <td>Lasso(alpha=0.1)</td>\n",
    "      <td>17.083615</td>\n",
    "    </tr>\n",
    "    <tr>\n",
    "      <th>5</th>\n",
    "      <td>Ridge(alpha=10)</td>\n",
    "      <td>17.068408</td>\n",
    "    </tr>\n",
    "    <tr>\n",
    "      <th>6</th>\n",
    "      <td>Ridge(alpha=1)</td>\n",
    "      <td>16.652412</td>\n",
    "    </tr>\n",
    "    <tr>\n",
    "      <th>7</th>\n",
    "      <td>LinearRegression</td>\n",
    "      <td>16.485165</td>\n",
    "    </tr>\n",
    "    <tr>\n",
    "      <th>8</th>\n",
    "      <td>Ridge(alpha=0.0001)</td>\n",
    "      <td>16.485151</td>\n",
    "    </tr>\n",
    "    <tr>\n",
    "      <th>9</th>\n",
    "      <td>Ridge(alpha=0.001)</td>\n",
    "      <td>16.485020</td>\n",
    "    </tr>\n",
    "    <tr>\n",
    "      <th>10</th>\n",
    "      <td>Lasso(alpha=0.0001)</td>\n",
    "      <td>16.484261</td>\n",
    "    </tr>\n",
    "    <tr>\n",
    "      <th>11</th>\n",
    "      <td>Ridge(alpha=0.01)</td>\n",
    "      <td>16.483801</td>\n",
    "    </tr>\n",
    "    <tr>\n",
    "      <th>12</th>\n",
    "      <td>Ridge(alpha=0.1)</td>\n",
    "      <td>16.479483</td>\n",
    "    </tr>\n",
    "    <tr>\n",
    "      <th>13</th>\n",
    "      <td>Lasso(alpha=0.001)</td>\n",
    "      <td>16.476551</td>\n",
    "    </tr>\n",
    "    <tr>\n",
    "      <th>14</th>\n",
    "      <td>Lasso(alpha=0.01)</td>\n",
    "      <td>16.441822</td>\n",
    "    </tr>\n",
    "  </tbody>\n",
    "</table>\n",
    "</div>"
   ]
  },
  {
   "cell_type": "markdown",
   "metadata": {},
   "source": [
    "<img src=\"data:image/png;base64,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\"/>"
   ]
  },
  {
   "cell_type": "markdown",
   "metadata": {
    "id": "Wn8VQi7aXhm0"
   },
   "source": [
    "### ElasticNet"
   ]
  },
  {
   "cell_type": "markdown",
   "metadata": {
    "id": "2rkmgm5EkNYy"
   },
   "source": [
    "Elastic Net 회귀모형은 **가중치의 절대값의 합(L1)과 제곱합(L2)을 동시에** 제약 조건으로 가지는 모형입니다."
   ]
  },
  {
   "cell_type": "code",
   "execution_count": null,
   "metadata": {
    "id": "Oq-oKelfkNYy",
    "outputId": "6bbd1b90-3435-428b-c741-8a74723e775e"
   },
   "outputs": [],
   "source": [
    "Image(url='https://miro.medium.com/max/1312/1*j_DDK7LbVrejTq0tfmavAA.png', width=500)"
   ]
  },
  {
   "cell_type": "markdown",
   "metadata": {
    "id": "6nSlkggjP3B3"
   },
   "source": [
    "**주요 hyperparameter**\n",
    "\n",
    "`alpha`: 규제 계수\n",
    "\n",
    "`l1_ratio (default=0.5)`\n",
    "\n",
    "- l1_ratio = 0 (L2 규제만 사용). \n",
    "- l1_ratio = 1 (L1 규제만 사용). \n",
    "- 0 < l1_ratio < 1 (L1 and L2 규제의 혼합사용)"
   ]
  },
  {
   "cell_type": "code",
   "execution_count": null,
   "metadata": {
    "id": "Aj7V6TUX9Njl"
   },
   "outputs": [],
   "source": [
    "from sklearn.linear_model import ElasticNet"
   ]
  },
  {
   "cell_type": "code",
   "execution_count": null,
   "metadata": {
    "id": "VuxqAPAL9QOK"
   },
   "outputs": [],
   "source": [
    "alpha=0.01\n",
    "ratios = [0.2, 0.5, 0.8]"
   ]
  },
  {
   "cell_type": "code",
   "execution_count": null,
   "metadata": {
    "colab": {
     "base_uri": "https://localhost:8080/",
     "height": 1000
    },
    "id": "RCALSJR28aA8",
    "outputId": "62748381-3993-4421-86c5-d6b952c94666"
   },
   "outputs": [],
   "source": [
    "for ratio in ratios:\n",
    "    # 코드를 입력해 주세요\n",
    "    elasticnet = \n",
    "    elasticnet.\n",
    "    pred = \n",
    "    utils.add_error('ElasticNet(l1_ratio={})'.format(ratio), y_test, pred)\n",
    "utils.plot_all()"
   ]
  },
  {
   "cell_type": "markdown",
   "metadata": {},
   "source": [
    "<p><strong>[출력 결과]</strong></p><div>\n",
    "<style scoped>\n",
    "    .dataframe tbody tr th:only-of-type {\n",
    "        vertical-align: middle;\n",
    "    }\n",
    "\n",
    "    .dataframe tbody tr th {\n",
    "        vertical-align: top;\n",
    "    }\n",
    "\n",
    "    .dataframe thead th {\n",
    "        text-align: right;\n",
    "    }\n",
    "</style>\n",
    "<table border=\"1\" class=\"dataframe\">\n",
    "  <thead>\n",
    "    <tr style=\"text-align: right;\">\n",
    "      <th></th>\n",
    "      <th>model</th>\n",
    "      <th>error</th>\n",
    "    </tr>\n",
    "  </thead>\n",
    "  <tbody>\n",
    "    <tr>\n",
    "      <th>0</th>\n",
    "      <td>Lasso(alpha=100)</td>\n",
    "      <td>48.725206</td>\n",
    "    </tr>\n",
    "    <tr>\n",
    "      <th>1</th>\n",
    "      <td>Lasso(alpha=10)</td>\n",
    "      <td>27.146245</td>\n",
    "    </tr>\n",
    "    <tr>\n",
    "      <th>2</th>\n",
    "      <td>Lasso(alpha=1)</td>\n",
    "      <td>19.882302</td>\n",
    "    </tr>\n",
    "    <tr>\n",
    "      <th>3</th>\n",
    "      <td>Ridge(alpha=100)</td>\n",
    "      <td>18.018382</td>\n",
    "    </tr>\n",
    "    <tr>\n",
    "      <th>4</th>\n",
    "      <td>Lasso(alpha=0.1)</td>\n",
    "      <td>17.083615</td>\n",
    "    </tr>\n",
    "    <tr>\n",
    "      <th>5</th>\n",
    "      <td>Ridge(alpha=10)</td>\n",
    "      <td>17.068408</td>\n",
    "    </tr>\n",
    "    <tr>\n",
    "      <th>6</th>\n",
    "      <td>ElasticNet(l1_ratio=0.2)</td>\n",
    "      <td>16.914638</td>\n",
    "    </tr>\n",
    "    <tr>\n",
    "      <th>7</th>\n",
    "      <td>ElasticNet(l1_ratio=0.5)</td>\n",
    "      <td>16.822431</td>\n",
    "    </tr>\n",
    "    <tr>\n",
    "      <th>8</th>\n",
    "      <td>Ridge(alpha=1)</td>\n",
    "      <td>16.652412</td>\n",
    "    </tr>\n",
    "    <tr>\n",
    "      <th>9</th>\n",
    "      <td>ElasticNet(l1_ratio=0.8)</td>\n",
    "      <td>16.638817</td>\n",
    "    </tr>\n",
    "    <tr>\n",
    "      <th>10</th>\n",
    "      <td>LinearRegression</td>\n",
    "      <td>16.485165</td>\n",
    "    </tr>\n",
    "    <tr>\n",
    "      <th>11</th>\n",
    "      <td>Ridge(alpha=0.0001)</td>\n",
    "      <td>16.485151</td>\n",
    "    </tr>\n",
    "    <tr>\n",
    "      <th>12</th>\n",
    "      <td>Ridge(alpha=0.001)</td>\n",
    "      <td>16.485020</td>\n",
    "    </tr>\n",
    "    <tr>\n",
    "      <th>13</th>\n",
    "      <td>Lasso(alpha=0.0001)</td>\n",
    "      <td>16.484261</td>\n",
    "    </tr>\n",
    "    <tr>\n",
    "      <th>14</th>\n",
    "      <td>Ridge(alpha=0.01)</td>\n",
    "      <td>16.483801</td>\n",
    "    </tr>\n",
    "    <tr>\n",
    "      <th>15</th>\n",
    "      <td>Ridge(alpha=0.1)</td>\n",
    "      <td>16.479483</td>\n",
    "    </tr>\n",
    "    <tr>\n",
    "      <th>16</th>\n",
    "      <td>Lasso(alpha=0.001)</td>\n",
    "      <td>16.476551</td>\n",
    "    </tr>\n",
    "    <tr>\n",
    "      <th>17</th>\n",
    "      <td>Lasso(alpha=0.01)</td>\n",
    "      <td>16.441822</td>\n",
    "    </tr>\n",
    "  </tbody>\n",
    "</table>\n",
    "</div>"
   ]
  },
  {
   "cell_type": "markdown",
   "metadata": {},
   "source": [
    "<img src=\"data:image/png;base64,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\"/>"
   ]
  },
  {
   "cell_type": "code",
   "execution_count": null,
   "metadata": {
    "id": "RSg2_5bnA8hP"
   },
   "outputs": [],
   "source": [
    "elsticnet_20 = ElasticNet(alpha=5, l1_ratio=0.2)\n",
    "elsticnet_20.fit(x_train, y_train)\n",
    "elasticnet_pred_20 = elsticnet_20.predict(x_test)\n",
    "\n",
    "elsticnet_80 = ElasticNet(alpha=5, l1_ratio=0.8)\n",
    "elsticnet_80.fit(x_train, y_train)\n",
    "elasticnet_pred_80 = elsticnet_80.predict(x_test)"
   ]
  },
  {
   "cell_type": "markdown",
   "metadata": {},
   "source": [
    "<p><strong>[출력 결과]</strong></p><pre><Figure size 720x648 with 1 Axes></pre>"
   ]
  },
  {
   "cell_type": "code",
   "execution_count": null,
   "metadata": {
    "colab": {
     "base_uri": "https://localhost:8080/",
     "height": 513
    },
    "id": "ALiDJWFo-OgN",
    "outputId": "9713bdc9-6985-4192-ffe3-db438099aa10"
   },
   "outputs": [],
   "source": [
    "plot_coef(x_train.columns, elsticnet_20.coef_)"
   ]
  },
  {
   "cell_type": "code",
   "execution_count": null,
   "metadata": {
    "colab": {
     "base_uri": "https://localhost:8080/",
     "height": 513
    },
    "id": "I8v-1r6cCpMM",
    "outputId": "c0be9519-60fb-49a6-a277-4ca30dfe14c9"
   },
   "outputs": [],
   "source": [
    "plot_coef(x_train.columns, elsticnet_80.coef_)"
   ]
  },
  {
   "cell_type": "markdown",
   "metadata": {
    "id": "S4f-BEo9JEfv"
   },
   "source": [
    "## 파이프라인 (pipeline) - 전처리(스케일링) + 모델"
   ]
  },
  {
   "cell_type": "markdown",
   "metadata": {
    "id": "CnSNlLtvkNZK"
   },
   "source": [
    "scikit-learn의 **전처리(pre-processing)용 모듈과 모델의 학습 기능을 파이프라인으로 합칠 수** 있습니다.\n",
    "\n",
    "- 파이프라인으로 결합된 모형은 원래의 모형이 가지는 `fit`, `predict` 함수를 가집니다.\n",
    "- 파이프라인에 정의된 순서에 따라 전처리 모듈이 먼저 호출되어 전처리 과정을 거친 후 모델이 학습하게 됩니다."
   ]
  },
  {
   "cell_type": "markdown",
   "metadata": {
    "id": "qEIWlhaKkNZK"
   },
   "source": [
    "[Pipeline 공식 도큐먼트](https://scikit-learn.org/stable/modules/generated/sklearn.pipeline.Pipeline.html)"
   ]
  },
  {
   "cell_type": "code",
   "execution_count": null,
   "metadata": {},
   "outputs": [],
   "source": [
    "from sklearn.pipeline import make_pipeline\n",
    "from sklearn.preprocessing import StandardScaler"
   ]
  },
  {
   "cell_type": "markdown",
   "metadata": {},
   "source": [
    "- `StandardScaler`를 적용\n",
    "- ElasticNet, `alpha=0.1`, `l1_ratio=0.2` 적용"
   ]
  },
  {
   "cell_type": "code",
   "execution_count": null,
   "metadata": {
    "id": "3WdFqaM2D0d4"
   },
   "outputs": [],
   "source": [
    "# 코드를 입력해 주세요\n",
    "pipeline = make_pipeline(\n",
    "    \n",
    "    \n",
    ")"
   ]
  },
  {
   "cell_type": "code",
   "execution_count": null,
   "metadata": {
    "id": "dMoUFzIXEPYc"
   },
   "outputs": [],
   "source": [
    "# 코드를 입력해 주세요\n",
    "pipeline.\n",
    "pipeline_pred = "
   ]
  },
  {
   "cell_type": "code",
   "execution_count": null,
   "metadata": {
    "colab": {
     "base_uri": "https://localhost:8080/",
     "height": 1000
    },
    "id": "AcVL3xq8I-ED",
    "outputId": "cd35a54c-fec8-46ab-96e2-bb9edace5d9c"
   },
   "outputs": [],
   "source": [
    "utils.plot_error('Standard ElasticNet', y_test, pipeline_pred)"
   ]
  }
 ],
 "metadata": {
  "colab": {
   "collapsed_sections": [],
   "name": "05-회귀-(regression)",
   "provenance": []
  },
  "kernelspec": {
   "display_name": "Python 3 (ipykernel)",
   "language": "python",
   "name": "python3"
  },
  "language_info": {
   "codemirror_mode": {
    "name": "ipython",
    "version": 3
   },
   "file_extension": ".py",
   "mimetype": "text/x-python",
   "name": "python",
   "nbconvert_exporter": "python",
   "pygments_lexer": "ipython3",
   "version": "3.8.13"
  }
 },
 "nbformat": 4,
 "nbformat_minor": 1
}
