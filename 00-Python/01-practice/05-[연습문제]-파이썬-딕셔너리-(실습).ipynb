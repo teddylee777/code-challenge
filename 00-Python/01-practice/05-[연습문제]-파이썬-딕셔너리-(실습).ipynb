{
 "cells": [
  {
   "cell_type": "code",
   "execution_count": null,
   "metadata": {},
   "outputs": [],
   "source": [
    "!pip install -U pycodegrade -q\n",
    "from pycodegrade import grader as gd\n",
    "\n",
    "uid = 'PY05'\n",
    "group_id = None\n",
    "gd.init('Python', uid, group_id)"
   ]
  },
  {
   "cell_type": "markdown",
   "metadata": {
    "id": "pPl7y7cWsMYB"
   },
   "source": [
    "## Part1. 딕셔너리(dictionary)의 활용"
   ]
  },
  {
   "cell_type": "markdown",
   "metadata": {},
   "source": [
    "### 1"
   ]
  },
  {
   "cell_type": "markdown",
   "metadata": {
    "id": "1ZsgKVeV3PXp"
   },
   "source": [
    "> 학생들의 이름과 점수를 key와 value로 가지는 `score` 변수를 생성하세요.\n",
    "> - 하준 90점, 서윤 86점, 지아 80점"
   ]
  },
  {
   "cell_type": "code",
   "execution_count": null,
   "metadata": {
    "colab": {
     "base_uri": "https://localhost:8080/",
     "height": 35
    },
    "id": "UWLF-tRb3PXq",
    "outputId": "37b889ab-c54d-4c35-f197-a7da5411b07e"
   },
   "outputs": [],
   "source": [
    "# 코드를 입력해 주세요\n"
   ]
  },
  {
   "cell_type": "markdown",
   "metadata": {},
   "source": [
    "<p><strong>[출력 결과]</strong></p><pre>{'하준': 90, '서윤': 86, '지아': 80}</pre>"
   ]
  },
  {
   "cell_type": "code",
   "execution_count": null,
   "metadata": {},
   "outputs": [],
   "source": [
    "# 코드검증\n",
    "# 검증코드는 수정하지 않고 실행하여 결과를 확인합니다 (Pass/Fail)\n",
    "gd.check_answer(score, 1)"
   ]
  },
  {
   "cell_type": "markdown",
   "metadata": {},
   "source": [
    "### 2"
   ]
  },
  {
   "cell_type": "markdown",
   "metadata": {
    "id": "jM32b3t2qbax"
   },
   "source": [
    "> 이전의 `score` 변수에 `'수지': 95` 점을 추가하세요."
   ]
  },
  {
   "cell_type": "code",
   "execution_count": null,
   "metadata": {
    "colab": {
     "base_uri": "https://localhost:8080/",
     "height": 35
    },
    "id": "KsOqR1HtCtex",
    "outputId": "e03d2ebb-39b8-4e31-9e62-94ea78f30e38"
   },
   "outputs": [],
   "source": [
    "# 코드를 입력해 주세요\n"
   ]
  },
  {
   "cell_type": "markdown",
   "metadata": {},
   "source": [
    "<p><strong>[출력 결과]</strong></p><pre>{'하준': 90, '서윤': 86, '지아': 80, '수지': 95}</pre>"
   ]
  },
  {
   "cell_type": "code",
   "execution_count": null,
   "metadata": {},
   "outputs": [],
   "source": [
    "# 코드검증\n",
    "# 검증코드는 수정하지 않고 실행하여 결과를 확인합니다 (Pass/Fail)\n",
    "gd.check_answer(score, 2)"
   ]
  },
  {
   "cell_type": "markdown",
   "metadata": {},
   "source": [
    "### 3"
   ]
  },
  {
   "cell_type": "markdown",
   "metadata": {
    "id": "UcmPMPS8qeBX"
   },
   "source": [
    "> 이전의 `score` 변수에서 key값이 `지아`를 삭제하세요."
   ]
  },
  {
   "cell_type": "code",
   "execution_count": null,
   "metadata": {
    "id": "r1Xec5mX3PXs"
   },
   "outputs": [],
   "source": [
    "# 코드를 입력해 주세요\n"
   ]
  },
  {
   "cell_type": "markdown",
   "metadata": {},
   "source": [
    "<p><strong>[출력 결과]</strong></p><pre>{'하준': 90, '서윤': 86, '수지': 95}</pre>"
   ]
  },
  {
   "cell_type": "code",
   "execution_count": null,
   "metadata": {},
   "outputs": [],
   "source": [
    "# 코드검증\n",
    "# 검증코드는 수정하지 않고 실행하여 결과를 확인합니다 (Pass/Fail)\n",
    "gd.check_answer(score, 3)"
   ]
  },
  {
   "cell_type": "markdown",
   "metadata": {},
   "source": [
    "### 4"
   ]
  },
  {
   "cell_type": "markdown",
   "metadata": {
    "id": "apYvbt9kqhFo"
   },
   "source": [
    "이전의 `score` 변수에 기창 98점, 남철 60점, 기성 75점을 **한번에** 추가하세요.\n",
    "- `dict`의 `update()` 기능을 사용하세요"
   ]
  },
  {
   "cell_type": "code",
   "execution_count": null,
   "metadata": {
    "id": "y2_7I4ZWrF5-"
   },
   "outputs": [],
   "source": [
    "# 코드를 입력해 주세요\n"
   ]
  },
  {
   "cell_type": "markdown",
   "metadata": {},
   "source": [
    "<p><strong>[출력 결과]</strong></p><pre>{'하준': 90, '서윤': 86, '수지': 95, '기창': 98, '남철': 60, '기성': 75}</pre>"
   ]
  },
  {
   "cell_type": "code",
   "execution_count": null,
   "metadata": {},
   "outputs": [],
   "source": [
    "# 코드검증\n",
    "# 검증코드는 수정하지 않고 실행하여 결과를 확인합니다 (Pass/Fail)\n",
    "gd.check_answer(score, 4)"
   ]
  }
 ],
 "metadata": {
  "colab": {
   "collapsed_sections": [],
   "name": "05-[연습문제]-파이썬-딕셔너리-(해설)-변환",
   "provenance": []
  },
  "kernelspec": {
   "display_name": "Python 3 (ipykernel)",
   "language": "python",
   "name": "python3"
  },
  "language_info": {
   "codemirror_mode": {
    "name": "ipython",
    "version": 3
   },
   "file_extension": ".py",
   "mimetype": "text/x-python",
   "name": "python",
   "nbconvert_exporter": "python",
   "pygments_lexer": "ipython3",
   "version": "3.8.13"
  }
 },
 "nbformat": 4,
 "nbformat_minor": 1
}
