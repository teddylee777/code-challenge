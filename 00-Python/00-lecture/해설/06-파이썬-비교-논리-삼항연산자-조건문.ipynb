{
 "cells": [
  {
   "cell_type": "markdown",
   "metadata": {
    "id": "mkSnBW98EIs-"
   },
   "source": [
    "# 비교연산자\n",
    "\n",
    "비교 연산자는 주로 대소비교를 할 때 사용합니다."
   ]
  },
  {
   "cell_type": "markdown",
   "metadata": {
    "id": "HEG6iuONEswX"
   },
   "source": [
    "## 대소비교 \n",
    "\n",
    "- `>`: 크다\n",
    "- `>=`: 크거나 같다\n",
    "- `<`: 작다 \n",
    "- `<=`: 작거나 같다"
   ]
  },
  {
   "cell_type": "code",
   "execution_count": 1,
   "metadata": {
    "colab": {
     "base_uri": "https://localhost:8080/"
    },
    "id": "wiLgE47fEs1S",
    "outputId": "585b7cab-7d4a-465c-b2c5-fc3a455c6f64"
   },
   "outputs": [
    {
     "data": {
      "text/plain": [
       "False"
      ]
     },
     "execution_count": 1,
     "metadata": {},
     "output_type": "execute_result"
    }
   ],
   "source": [
    "1 > 2"
   ]
  },
  {
   "cell_type": "code",
   "execution_count": 2,
   "metadata": {
    "colab": {
     "base_uri": "https://localhost:8080/"
    },
    "id": "0b6l023CEs5o",
    "outputId": "2f8f6963-6dd2-41b7-b9ff-5a10590f29a7"
   },
   "outputs": [
    {
     "data": {
      "text/plain": [
       "True"
      ]
     },
     "execution_count": 2,
     "metadata": {},
     "output_type": "execute_result"
    }
   ],
   "source": [
    "10 >= 10"
   ]
  },
  {
   "cell_type": "code",
   "execution_count": 3,
   "metadata": {
    "colab": {
     "base_uri": "https://localhost:8080/"
    },
    "id": "3TTqQvmJEs91",
    "outputId": "89ad1ed4-dbe9-46ac-d4e7-071d8445708f"
   },
   "outputs": [
    {
     "data": {
      "text/plain": [
       "True"
      ]
     },
     "execution_count": 3,
     "metadata": {},
     "output_type": "execute_result"
    }
   ],
   "source": [
    "9 < 10"
   ]
  },
  {
   "cell_type": "code",
   "execution_count": 4,
   "metadata": {
    "colab": {
     "base_uri": "https://localhost:8080/"
    },
    "id": "llirdNcSEtE5",
    "outputId": "35043948-34c4-438d-8ade-b1bc62492ff8"
   },
   "outputs": [
    {
     "data": {
      "text/plain": [
       "False"
      ]
     },
     "execution_count": 4,
     "metadata": {},
     "output_type": "execute_result"
    }
   ],
   "source": [
    "8 <= 7"
   ]
  },
  {
   "cell_type": "markdown",
   "metadata": {
    "id": "YnFEo5W4FBQV"
   },
   "source": [
    "## 같다와 같지 않다"
   ]
  },
  {
   "cell_type": "markdown",
   "metadata": {},
   "source": [
    "### == : 같음을 비교"
   ]
  },
  {
   "cell_type": "markdown",
   "metadata": {
    "id": "c9JH4zBNFBGf"
   },
   "source": [
    "- `=`는 대입 연산자 입니다. \n",
    "- 코딩에서는 `=` 이 대입 연산자로 사용되기 때문에 `==`을 사용하고 있습니다."
   ]
  },
  {
   "cell_type": "code",
   "execution_count": 5,
   "metadata": {
    "colab": {
     "base_uri": "https://localhost:8080/",
     "height": 136
    },
    "id": "g0FqYbH0FPsZ",
    "outputId": "a75489ef-6017-40f0-840e-f3ee83de69d9"
   },
   "outputs": [
    {
     "ename": "SyntaxError",
     "evalue": "can't assign to literal (130740625.py, line 1)",
     "output_type": "error",
     "traceback": [
      "\u001b[0;36m  File \u001b[0;32m\"/tmp/ipykernel_665897/130740625.py\"\u001b[0;36m, line \u001b[0;32m1\u001b[0m\n\u001b[0;31m    2 = 2\u001b[0m\n\u001b[0m         ^\u001b[0m\n\u001b[0;31mSyntaxError\u001b[0m\u001b[0;31m:\u001b[0m can't assign to literal\n"
     ]
    }
   ],
   "source": [
    "2 = 2"
   ]
  },
  {
   "cell_type": "code",
   "execution_count": 6,
   "metadata": {
    "id": "lCnEQx-KFA_R"
   },
   "outputs": [
    {
     "data": {
      "text/plain": [
       "True"
      ]
     },
     "execution_count": 6,
     "metadata": {},
     "output_type": "execute_result"
    }
   ],
   "source": [
    "2 == 2"
   ]
  },
  {
   "cell_type": "code",
   "execution_count": 7,
   "metadata": {
    "id": "uu38fqhwOv_t"
   },
   "outputs": [
    {
     "data": {
      "text/plain": [
       "False"
      ]
     },
     "execution_count": 7,
     "metadata": {},
     "output_type": "execute_result"
    }
   ],
   "source": [
    "2 == 3"
   ]
  },
  {
   "cell_type": "markdown",
   "metadata": {
    "id": "J8S0jzfGFKLz"
   },
   "source": [
    "### != 같지 않음을 비교"
   ]
  },
  {
   "cell_type": "code",
   "execution_count": 8,
   "metadata": {
    "id": "FN2gAfWMFKRy"
   },
   "outputs": [
    {
     "data": {
      "text/plain": [
       "False"
      ]
     },
     "execution_count": 8,
     "metadata": {},
     "output_type": "execute_result"
    }
   ],
   "source": [
    "2 != 2"
   ]
  },
  {
   "cell_type": "code",
   "execution_count": 9,
   "metadata": {
    "id": "FVrNPEq7FKZk"
   },
   "outputs": [
    {
     "data": {
      "text/plain": [
       "True"
      ]
     },
     "execution_count": 9,
     "metadata": {},
     "output_type": "execute_result"
    }
   ],
   "source": [
    "1 != 2"
   ]
  },
  {
   "cell_type": "code",
   "execution_count": 10,
   "metadata": {
    "id": "cjB7v1JiFc78"
   },
   "outputs": [
    {
     "data": {
      "text/plain": [
       "True"
      ]
     },
     "execution_count": 10,
     "metadata": {},
     "output_type": "execute_result"
    }
   ],
   "source": [
    "'나' != '너'"
   ]
  },
  {
   "cell_type": "code",
   "execution_count": 11,
   "metadata": {
    "id": "7b47rVKRFcuZ"
   },
   "outputs": [
    {
     "data": {
      "text/plain": [
       "False"
      ]
     },
     "execution_count": 11,
     "metadata": {},
     "output_type": "execute_result"
    }
   ],
   "source": [
    "'나' != '나'"
   ]
  },
  {
   "cell_type": "markdown",
   "metadata": {
    "id": "nVJ1deTbACiP"
   },
   "source": [
    "## 조건문"
   ]
  },
  {
   "cell_type": "markdown",
   "metadata": {
    "id": "DUrQsRomElox"
   },
   "source": [
    "조건문이란 무엇일까요?\n",
    "\n",
    "주어진 조건이 **참**인 경우 그 다음 내가 정한 규칙(로직)을 실행하는 개념입니다."
   ]
  },
  {
   "cell_type": "markdown",
   "metadata": {
    "id": "eyntgHbrAJW2"
   },
   "source": [
    "### if"
   ]
  },
  {
   "cell_type": "markdown",
   "metadata": {
    "id": "Nq6CmuoYALrr"
   },
   "source": [
    "- if는 어떤 조건이 성립한다면~ 이라는 뜻입니다.\n",
    "- if 구문 끝에는 반드시 콜론(:)을 잊지 말아 주세요"
   ]
  },
  {
   "cell_type": "code",
   "execution_count": 12,
   "metadata": {
    "id": "tNkI-ROGAPPz"
   },
   "outputs": [
    {
     "name": "stdout",
     "output_type": "stream",
     "text": [
      "참\n"
     ]
    }
   ],
   "source": [
    "if 5 > 3:\n",
    "    print('참')"
   ]
  },
  {
   "cell_type": "code",
   "execution_count": 13,
   "metadata": {
    "id": "udUZJO19Ngk3"
   },
   "outputs": [
    {
     "name": "stdout",
     "output_type": "stream",
     "text": [
      "끝\n"
     ]
    }
   ],
   "source": [
    "if 5 < 3:\n",
    "    print('참')\n",
    "    print('참')\n",
    "    print('참')\n",
    "    print('참')\n",
    "\n",
    "print('끝')"
   ]
  },
  {
   "cell_type": "code",
   "execution_count": 14,
   "metadata": {
    "id": "BIBsVKLRAUus"
   },
   "outputs": [],
   "source": [
    "if 5 < 3:\n",
    "    print('참')"
   ]
  },
  {
   "cell_type": "markdown",
   "metadata": {
    "id": "vTqQGfv5Ac4a"
   },
   "source": [
    "### else"
   ]
  },
  {
   "cell_type": "markdown",
   "metadata": {
    "id": "EzJHdesGAjTQ"
   },
   "source": [
    "else는 if 조건 후에 따라오며, if 가 아닌 경우에 실행 됩니다."
   ]
  },
  {
   "cell_type": "code",
   "execution_count": 15,
   "metadata": {
    "id": "DsGowvtQAq6B"
   },
   "outputs": [
    {
     "name": "stdout",
     "output_type": "stream",
     "text": [
      "else 구문 실행\n"
     ]
    }
   ],
   "source": [
    "if 5 < 3:\n",
    "    print('if 구문 실행')\n",
    "else:\n",
    "    print('else 구문 실행')"
   ]
  },
  {
   "cell_type": "markdown",
   "metadata": {
    "id": "RIHTuYU7DJm2"
   },
   "source": [
    "하지만, else 만 단독으로 실행한다면?"
   ]
  },
  {
   "cell_type": "code",
   "execution_count": 16,
   "metadata": {
    "id": "9I834w_8DOBx"
   },
   "outputs": [
    {
     "ename": "SyntaxError",
     "evalue": "invalid syntax (1091335790.py, line 1)",
     "output_type": "error",
     "traceback": [
      "\u001b[0;36m  File \u001b[0;32m\"/tmp/ipykernel_665897/1091335790.py\"\u001b[0;36m, line \u001b[0;32m1\u001b[0m\n\u001b[0;31m    else:\u001b[0m\n\u001b[0m       ^\u001b[0m\n\u001b[0;31mSyntaxError\u001b[0m\u001b[0;31m:\u001b[0m invalid syntax\n"
     ]
    }
   ],
   "source": [
    "else:\n",
    "    print('else 구문 실행')"
   ]
  },
  {
   "cell_type": "markdown",
   "metadata": {
    "id": "YRckrfc3DSsM"
   },
   "source": [
    "### elif"
   ]
  },
  {
   "cell_type": "markdown",
   "metadata": {
    "id": "LS8DofkNDWUS"
   },
   "source": [
    "elif 구문은 3가지 이상 분기 (조건)의 동작을 수행할 때 사용합니다.\n"
   ]
  },
  {
   "cell_type": "code",
   "execution_count": 17,
   "metadata": {
    "id": "j6-32b6TDeNM"
   },
   "outputs": [
    {
     "name": "stdout",
     "output_type": "stream",
     "text": [
      "elif 구문\n"
     ]
    }
   ],
   "source": [
    "if 3 > 5:\n",
    "    print('if 구문')\n",
    "elif 3 < 4:\n",
    "    print('elif 구문')\n",
    "else:\n",
    "    print('이것도 저것도 아니다')"
   ]
  },
  {
   "cell_type": "markdown",
   "metadata": {
    "id": "kj9j--pEDzum"
   },
   "source": [
    "그럼, **elif 구문이 참인 여러 구문**을 나열 했을 때는 어떻게 될까요?\n",
    "\n",
    "한 번 고민해보고 실행하세요"
   ]
  },
  {
   "cell_type": "code",
   "execution_count": 18,
   "metadata": {
    "id": "CoA1nNx4DttN"
   },
   "outputs": [
    {
     "name": "stdout",
     "output_type": "stream",
     "text": [
      "if 구문\n"
     ]
    }
   ],
   "source": [
    "if 3 < 5:\n",
    "    print('if 구문')\n",
    "elif 3 < 4:\n",
    "    print('elif 1 구문')\n",
    "elif 3 > 5:\n",
    "    print('elif 2 구문')\n",
    "elif 3 < 6:\n",
    "    print('elif 3 구문')\n",
    "else:\n",
    "    print('이것도 저것도 아니다')"
   ]
  },
  {
   "cell_type": "markdown",
   "metadata": {
    "id": "IH3OU9JEGL2C"
   },
   "source": [
    "### 1 이나 0은 참 이나 거짓을 표현하기도 합니다."
   ]
  },
  {
   "cell_type": "code",
   "execution_count": 19,
   "metadata": {
    "id": "QvLPbzLSGLqz"
   },
   "outputs": [
    {
     "name": "stdout",
     "output_type": "stream",
     "text": [
      "참\n"
     ]
    }
   ],
   "source": [
    "if 1:\n",
    "    print('참')\n",
    "else:\n",
    "    print('거짓')"
   ]
  },
  {
   "cell_type": "code",
   "execution_count": 20,
   "metadata": {
    "id": "nZaec2FMGV36"
   },
   "outputs": [
    {
     "name": "stdout",
     "output_type": "stream",
     "text": [
      "거짓\n"
     ]
    }
   ],
   "source": [
    "if 0:\n",
    "    print('참')\n",
    "else:\n",
    "    print('거짓')"
   ]
  },
  {
   "cell_type": "markdown",
   "metadata": {},
   "source": [
    "## 삼항연산자\n",
    "\n",
    "(문법) **(참인 값) if 조건 else (거짓인경우 값)**\n",
    "\n",
    "삼항연산자는 파이썬 문법에서 흔히 볼 수 있는 연산자 이며, 조건에 대한 참인 경우의 값 그렇지 않은 경우의 값을 뒤에 지정합니다."
   ]
  },
  {
   "cell_type": "code",
   "execution_count": 21,
   "metadata": {},
   "outputs": [
    {
     "data": {
      "text/plain": [
       "'30세 이상입니다.'"
      ]
     },
     "execution_count": 21,
     "metadata": {},
     "output_type": "execute_result"
    }
   ],
   "source": [
    "age = 35\n",
    "\n",
    "\"30세 이상입니다.\" if age >= 30 else \"30세 이하입니다.\""
   ]
  },
  {
   "cell_type": "code",
   "execution_count": 22,
   "metadata": {},
   "outputs": [
    {
     "data": {
      "text/plain": [
       "'30세 이하입니다.'"
      ]
     },
     "execution_count": 22,
     "metadata": {},
     "output_type": "execute_result"
    }
   ],
   "source": [
    "age = 20\n",
    "\n",
    "\"30세 이상입니다.\" if age >= 30 else \"30세 이하입니다.\""
   ]
  },
  {
   "cell_type": "markdown",
   "metadata": {
    "id": "UkBFrQ99EIlN"
   },
   "source": [
    "## 논리 연산자 (and, or, not)"
   ]
  },
  {
   "cell_type": "markdown",
   "metadata": {
    "id": "JArIvFX7F4xv"
   },
   "source": [
    "**and**나 **or** 조건은 두 가지 이상 조건을 다룰 때 활용합니다."
   ]
  },
  {
   "cell_type": "markdown",
   "metadata": {
    "id": "1r39VMGsF_e4"
   },
   "source": [
    "### and \n",
    "\n",
    "- and 조건은 **모두 만족**할 때 참으로 인식합니다."
   ]
  },
  {
   "cell_type": "code",
   "execution_count": 25,
   "metadata": {
    "id": "BMup-Y9VGGts"
   },
   "outputs": [
    {
     "data": {
      "text/plain": [
       "True"
      ]
     },
     "execution_count": 25,
     "metadata": {},
     "output_type": "execute_result"
    }
   ],
   "source": [
    "True and True and True"
   ]
  },
  {
   "cell_type": "code",
   "execution_count": 26,
   "metadata": {
    "id": "SVDUfdmLGIXm"
   },
   "outputs": [
    {
     "data": {
      "text/plain": [
       "False"
      ]
     },
     "execution_count": 26,
     "metadata": {},
     "output_type": "execute_result"
    }
   ],
   "source": [
    "True and False and True"
   ]
  },
  {
   "cell_type": "code",
   "execution_count": 32,
   "metadata": {
    "id": "1ZjfDRh3GJwz"
   },
   "outputs": [
    {
     "name": "stdout",
     "output_type": "stream",
     "text": [
      "A도 참, B도 참: 모두 참\n"
     ]
    }
   ],
   "source": [
    "if (0 < 1) and (0 < 2):\n",
    "    print('A도 참, B도 참: 모두 참')\n",
    "else:\n",
    "    print('거짓')"
   ]
  },
  {
   "cell_type": "code",
   "execution_count": 39,
   "metadata": {
    "id": "cuHoVgi5GvVy"
   },
   "outputs": [
    {
     "name": "stdout",
     "output_type": "stream",
     "text": [
      "거짓\n"
     ]
    }
   ],
   "source": [
    "if (0 < 1) and (0 > 2):\n",
    "    print('A도 참, B도 참: 모두 참')\n",
    "else:\n",
    "    print('거짓')"
   ]
  },
  {
   "cell_type": "markdown",
   "metadata": {
    "id": "LpFTEajiGxRN"
   },
   "source": [
    "### or\n",
    "\n",
    "- or 조건은 조건 중 **하나라도 만족**할 때 참으로 인식합니다."
   ]
  },
  {
   "cell_type": "code",
   "execution_count": 40,
   "metadata": {
    "id": "kQnJHHiHG7MI"
   },
   "outputs": [
    {
     "data": {
      "text/plain": [
       "True"
      ]
     },
     "execution_count": 40,
     "metadata": {},
     "output_type": "execute_result"
    }
   ],
   "source": [
    "True or False or False"
   ]
  },
  {
   "cell_type": "code",
   "execution_count": 41,
   "metadata": {
    "id": "jEH3pQIDG9ls"
   },
   "outputs": [
    {
     "data": {
      "text/plain": [
       "False"
      ]
     },
     "execution_count": 41,
     "metadata": {},
     "output_type": "execute_result"
    }
   ],
   "source": [
    "False or False or False"
   ]
  },
  {
   "cell_type": "code",
   "execution_count": 42,
   "metadata": {
    "id": "pCiPRf0FHBhx"
   },
   "outputs": [
    {
     "name": "stdout",
     "output_type": "stream",
     "text": [
      "A 혹은 B중 하나라도 참\n"
     ]
    }
   ],
   "source": [
    "if (0 < 1) or ( 1 < 0):\n",
    "    print('A 혹은 B중 하나라도 참')\n",
    "else:\n",
    "    print('거짓')"
   ]
  },
  {
   "cell_type": "code",
   "execution_count": 43,
   "metadata": {
    "id": "IXQSEQYjHKRz"
   },
   "outputs": [
    {
     "name": "stdout",
     "output_type": "stream",
     "text": [
      "거짓\n"
     ]
    }
   ],
   "source": [
    "if (10 < 1) or ( 1 < 0):\n",
    "    print('A 혹은 B중 하나라도 참')\n",
    "else:\n",
    "    print('거짓')"
   ]
  },
  {
   "cell_type": "markdown",
   "metadata": {},
   "source": [
    "### not\n",
    "\n",
    "- bool 값을 반전시킵니다."
   ]
  },
  {
   "cell_type": "code",
   "execution_count": 44,
   "metadata": {},
   "outputs": [
    {
     "data": {
      "text/plain": [
       "False"
      ]
     },
     "execution_count": 44,
     "metadata": {},
     "output_type": "execute_result"
    }
   ],
   "source": [
    "not True"
   ]
  },
  {
   "cell_type": "code",
   "execution_count": 45,
   "metadata": {},
   "outputs": [
    {
     "data": {
      "text/plain": [
       "True"
      ]
     },
     "execution_count": 45,
     "metadata": {},
     "output_type": "execute_result"
    }
   ],
   "source": [
    "not False"
   ]
  },
  {
   "cell_type": "code",
   "execution_count": 46,
   "metadata": {},
   "outputs": [],
   "source": [
    "if not True:\n",
    "    print('not True')"
   ]
  },
  {
   "cell_type": "code",
   "execution_count": 47,
   "metadata": {},
   "outputs": [
    {
     "name": "stdout",
     "output_type": "stream",
     "text": [
      "not False\n"
     ]
    }
   ],
   "source": [
    "if not False:\n",
    "    print('not False')"
   ]
  }
 ],
 "metadata": {
  "colab": {
   "collapsed_sections": [],
   "name": "04 - 파이썬 - 논리연산자, 조건문 (해설)",
   "provenance": []
  },
  "kernelspec": {
   "display_name": "Python 3 (ipykernel)",
   "language": "python",
   "name": "python3"
  },
  "language_info": {
   "codemirror_mode": {
    "name": "ipython",
    "version": 3
   },
   "file_extension": ".py",
   "mimetype": "text/x-python",
   "name": "python",
   "nbconvert_exporter": "python",
   "pygments_lexer": "ipython3",
   "version": "3.8.13"
  }
 },
 "nbformat": 4,
 "nbformat_minor": 1
}
