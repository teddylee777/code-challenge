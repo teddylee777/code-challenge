{
 "cells": [
  {
   "cell_type": "markdown",
   "metadata": {
    "id": "GGwhVABx8Ucj"
   },
   "source": [
    "# 반복문"
   ]
  },
  {
   "cell_type": "markdown",
   "metadata": {
    "id": "MPve6nk48nWY"
   },
   "source": [
    "- 1회 이상 반복해서 수행하는 일을 반복문으로 통해 쉽게 해결할 수 있습니다.\n",
    "- 반드시 list, tuple, dict, set 등 집합에 대한 순회를 돌며 일을 처리할 때 많이 쓰입니다.\n",
    "- list, tuple, dict, set, 문자열까지 모두 **순회가능한(iterable) 객체** 입니다.\n",
    "- 순회가능한(iterable) 객체는 반복문을 통해 순회할 수 있습니다."
   ]
  },
  {
   "cell_type": "code",
   "execution_count": 1,
   "metadata": {
    "id": "r9jXJ8L49VLE"
   },
   "outputs": [],
   "source": [
    "mylist = [1, 2, 3, 4, 5, 6, 7, 8, 9, 10]"
   ]
  },
  {
   "cell_type": "markdown",
   "metadata": {
    "id": "1tqhcEyv9asJ"
   },
   "source": [
    "mylist에 들어 있는 모든 값들을 출력하려고 한다면?"
   ]
  },
  {
   "cell_type": "code",
   "execution_count": 2,
   "metadata": {
    "colab": {
     "base_uri": "https://localhost:8080/",
     "height": 121
    },
    "id": "JWqvzMQ-9gq_",
    "outputId": "81cf4ed5-e736-4747-f868-55ecfe6841db"
   },
   "outputs": [
    {
     "name": "stdout",
     "output_type": "stream",
     "text": [
      "1\n",
      "2\n",
      "3\n",
      "...\n",
      "9\n",
      "10\n"
     ]
    }
   ],
   "source": [
    "print(mylist[0])\n",
    "print(mylist[1])\n",
    "print(mylist[2])\n",
    "print('...')\n",
    "print(mylist[8])\n",
    "print(mylist[9])"
   ]
  },
  {
   "cell_type": "markdown",
   "metadata": {
    "id": "D1NL7BS-9m0l"
   },
   "source": [
    "노가다를 획기적으로 줄여주는 방법!!!"
   ]
  },
  {
   "cell_type": "markdown",
   "metadata": {
    "id": "2eRNROEc9vaB"
   },
   "source": [
    "## for 와 in 구문 (반복문)"
   ]
  },
  {
   "cell_type": "markdown",
   "metadata": {
    "id": "EmihJIWJ9zSI"
   },
   "source": [
    "**[기본 문법]**<br>\n",
    "for 하나씩 꺼내올 때 변수 in [꺼내올 집합]:<br/>\n",
    "(indent)\n",
    "* list, tuple, set, dictionary, 문자열 형태 모두 가능\n",
    "* range와 결합하여 사용 가능"
   ]
  },
  {
   "cell_type": "markdown",
   "metadata": {
    "id": "_87dv7Z6Hwu6"
   },
   "source": [
    "### 리스트(list)"
   ]
  },
  {
   "cell_type": "code",
   "execution_count": 3,
   "metadata": {},
   "outputs": [],
   "source": [
    "mylist = [1, 2, 3, 4, 5]"
   ]
  },
  {
   "cell_type": "code",
   "execution_count": 4,
   "metadata": {
    "colab": {
     "base_uri": "https://localhost:8080/",
     "height": 190
    },
    "id": "qk2ljaev93th",
    "outputId": "c7e1c12c-a783-4804-de1b-142d7465bb36"
   },
   "outputs": [
    {
     "name": "stdout",
     "output_type": "stream",
     "text": [
      "1\n",
      "2\n",
      "3\n",
      "4\n",
      "5\n"
     ]
    }
   ],
   "source": [
    "# 코드를 입력해 주세요\n",
    "for i in mylist:\n",
    "    print(i)"
   ]
  },
  {
   "cell_type": "markdown",
   "metadata": {
    "id": "Cg8hcduuHx6l"
   },
   "source": [
    "### 튜플(tuple)"
   ]
  },
  {
   "cell_type": "code",
   "execution_count": 5,
   "metadata": {
    "colab": {
     "base_uri": "https://localhost:8080/",
     "height": 104
    },
    "id": "fA1ziFWjCt-t",
    "outputId": "7d99cfd5-47da-4747-970b-d92e0acff1ae"
   },
   "outputs": [
    {
     "name": "stdout",
     "output_type": "stream",
     "text": [
      "1\n",
      "2\n",
      "3\n",
      "4\n",
      "5\n"
     ]
    }
   ],
   "source": [
    "for i in (1, 2, 3, 4, 5):\n",
    "    print(i)"
   ]
  },
  {
   "cell_type": "markdown",
   "metadata": {},
   "source": [
    "### tuple + list"
   ]
  },
  {
   "cell_type": "markdown",
   "metadata": {},
   "source": [
    "tuple을 전체로 받아주는 경우"
   ]
  },
  {
   "cell_type": "code",
   "execution_count": 9,
   "metadata": {},
   "outputs": [
    {
     "name": "stdout",
     "output_type": "stream",
     "text": [
      "('제이콥스', 10)\n",
      "제이콥스\n",
      "10\n"
     ]
    }
   ],
   "source": [
    "person = ('제이콥스', 10)\n",
    "print(person)\n",
    "print(person[0])\n",
    "print(person[1])"
   ]
  },
  {
   "cell_type": "markdown",
   "metadata": {},
   "source": [
    "tuple의 요소를 개별로 받아주는 경우"
   ]
  },
  {
   "cell_type": "code",
   "execution_count": 10,
   "metadata": {},
   "outputs": [
    {
     "name": "stdout",
     "output_type": "stream",
     "text": [
      "제이콥스\n",
      "10\n"
     ]
    }
   ],
   "source": [
    "name, age = ('제이콥스', 10)\n",
    "print(name)\n",
    "print(age)"
   ]
  },
  {
   "cell_type": "markdown",
   "metadata": {},
   "source": [
    "반복문에서의 응용"
   ]
  },
  {
   "cell_type": "code",
   "execution_count": 11,
   "metadata": {},
   "outputs": [
    {
     "name": "stdout",
     "output_type": "stream",
     "text": [
      "제이콥스 10\n",
      "피터 20\n",
      "타이거 30\n"
     ]
    }
   ],
   "source": [
    "mytuplelist = [('제이콥스', 10), ('피터', 20), ('타이거', 30)]\n",
    "\n",
    "for mytuple in mytuplelist:\n",
    "    print(mytuple[0], mytuple[1])"
   ]
  },
  {
   "cell_type": "code",
   "execution_count": 12,
   "metadata": {},
   "outputs": [
    {
     "name": "stdout",
     "output_type": "stream",
     "text": [
      "제이콥스 10\n",
      "피터 20\n",
      "타이거 30\n"
     ]
    }
   ],
   "source": [
    "mytuplelist = [('제이콥스', 10), ('피터', 20), ('타이거', 30)]\n",
    "\n",
    "for name, age in mytuplelist:\n",
    "    print(name, age)"
   ]
  },
  {
   "cell_type": "markdown",
   "metadata": {
    "id": "vHORAjD5HucU"
   },
   "source": [
    "### 딕셔너리(dictionary)"
   ]
  },
  {
   "cell_type": "code",
   "execution_count": 13,
   "metadata": {
    "id": "7c1eHVKyC6K7"
   },
   "outputs": [],
   "source": [
    "mydict = {'헐크': 50, '아이언맨': 60, '펭수': 70}"
   ]
  },
  {
   "cell_type": "code",
   "execution_count": 14,
   "metadata": {
    "colab": {
     "base_uri": "https://localhost:8080/",
     "height": 69
    },
    "id": "Dx5Hg4GQDK9X",
    "outputId": "4be2aace-b8ae-448e-bff6-5c0e8fd5423b"
   },
   "outputs": [
    {
     "name": "stdout",
     "output_type": "stream",
     "text": [
      "헐크\n",
      "아이언맨\n",
      "펭수\n"
     ]
    }
   ],
   "source": [
    "for key in mydict.keys():\n",
    "    print(key)"
   ]
  },
  {
   "cell_type": "code",
   "execution_count": 15,
   "metadata": {
    "colab": {
     "base_uri": "https://localhost:8080/",
     "height": 69
    },
    "id": "SUR6W29bDN5O",
    "outputId": "9027d9ad-6f58-44b7-bf9a-d843b7d7b2ec"
   },
   "outputs": [
    {
     "name": "stdout",
     "output_type": "stream",
     "text": [
      "50\n",
      "60\n",
      "70\n"
     ]
    }
   ],
   "source": [
    "for value in mydict.values():\n",
    "    print(value)"
   ]
  },
  {
   "cell_type": "code",
   "execution_count": 16,
   "metadata": {
    "colab": {
     "base_uri": "https://localhost:8080/",
     "height": 69
    },
    "id": "3TmHoAYSCzAC",
    "outputId": "d97447a1-1210-4c08-af15-ba0b691778b8"
   },
   "outputs": [
    {
     "name": "stdout",
     "output_type": "stream",
     "text": [
      "헐크 50\n",
      "아이언맨 60\n",
      "펭수 70\n"
     ]
    }
   ],
   "source": [
    "for name, age in mydict.items():\n",
    "    print(name, age)"
   ]
  },
  {
   "cell_type": "markdown",
   "metadata": {},
   "source": [
    "### 문자열(str)"
   ]
  },
  {
   "cell_type": "code",
   "execution_count": 17,
   "metadata": {},
   "outputs": [
    {
     "name": "stdout",
     "output_type": "stream",
     "text": [
      "H\n",
      "e\n",
      "l\n",
      "l\n",
      "o\n"
     ]
    }
   ],
   "source": [
    "for c in \"Hello\":\n",
    "    print(c)"
   ]
  },
  {
   "cell_type": "markdown",
   "metadata": {
    "id": "JAR6lzjgH2G1"
   },
   "source": [
    "### range()\n",
    "\n",
    "- `range()` 함수는 별도의 list, tuple 생성 없이 range() 에서 정의한 범위를 반복하는데 활용할 수 있습니다.\n",
    "- `range(start, stop, step)` 형식을 사용합니다."
   ]
  },
  {
   "cell_type": "markdown",
   "metadata": {},
   "source": [
    "`stop`: 단일 값을 지정하는 경우"
   ]
  },
  {
   "cell_type": "code",
   "execution_count": 20,
   "metadata": {
    "colab": {
     "base_uri": "https://localhost:8080/",
     "height": 190
    },
    "id": "trkoUuL9DJ2I",
    "outputId": "c446f785-4b1b-47b6-f1f3-32a1d4f6a112"
   },
   "outputs": [
    {
     "name": "stdout",
     "output_type": "stream",
     "text": [
      "0\n",
      "1\n",
      "2\n",
      "3\n",
      "4\n",
      "5\n",
      "6\n",
      "7\n",
      "8\n",
      "9\n"
     ]
    }
   ],
   "source": [
    "for i in range(10):\n",
    "    print(i)"
   ]
  },
  {
   "cell_type": "markdown",
   "metadata": {},
   "source": [
    "`start`, `stop`: 두 개의 값을 지정한 경우"
   ]
  },
  {
   "cell_type": "code",
   "execution_count": 21,
   "metadata": {
    "colab": {
     "base_uri": "https://localhost:8080/",
     "height": 138
    },
    "id": "XVgjb0KWEjkk",
    "outputId": "97503593-347c-4408-82fe-4d4c589ea489"
   },
   "outputs": [
    {
     "name": "stdout",
     "output_type": "stream",
     "text": [
      "2\n",
      "3\n",
      "4\n",
      "5\n",
      "6\n",
      "7\n",
      "8\n"
     ]
    }
   ],
   "source": [
    "for i in range(2, 9):\n",
    "    print(i)"
   ]
  },
  {
   "cell_type": "markdown",
   "metadata": {},
   "source": [
    "`start`, `stop`, `step`: 세 개의 값을 지정한 경우"
   ]
  },
  {
   "cell_type": "code",
   "execution_count": 22,
   "metadata": {
    "colab": {
     "base_uri": "https://localhost:8080/",
     "height": 104
    },
    "id": "tSbyd-qCEpiH",
    "outputId": "0b61f950-7d42-4779-9fad-784e71ab2180"
   },
   "outputs": [
    {
     "name": "stdout",
     "output_type": "stream",
     "text": [
      "1\n",
      "3\n",
      "5\n",
      "7\n",
      "9\n"
     ]
    }
   ],
   "source": [
    "for i in range(1, 10, 2):\n",
    "    print(i)"
   ]
  },
  {
   "cell_type": "markdown",
   "metadata": {
    "id": "cs_RHDmcFnm1"
   },
   "source": [
    "## 반복문의 중첩"
   ]
  },
  {
   "cell_type": "code",
   "execution_count": 23,
   "metadata": {
    "colab": {
     "base_uri": "https://localhost:8080/",
     "height": 225
    },
    "id": "KguHXyJzFrDH",
    "outputId": "43fb8cfa-a4c2-4fbf-e038-d7bb95068f65"
   },
   "outputs": [
    {
     "name": "stdout",
     "output_type": "stream",
     "text": [
      "(i=1) * (j=1) = 1\n",
      "(i=1) * (j=2) = 2\n",
      "(i=1) * (j=3) = 3\n",
      "===\n",
      "(i=2) * (j=1) = 2\n",
      "(i=2) * (j=2) = 4\n",
      "(i=2) * (j=3) = 6\n",
      "===\n",
      "(i=3) * (j=1) = 3\n",
      "(i=3) * (j=2) = 6\n",
      "(i=3) * (j=3) = 9\n",
      "===\n"
     ]
    }
   ],
   "source": [
    "for i in range(1, 4):\n",
    "    for j in range(1, 4):\n",
    "        print(f'(i={i}) * (j={j}) = {i * j}')\n",
    "    print('===')"
   ]
  },
  {
   "cell_type": "markdown",
   "metadata": {
    "id": "-dT8rGyO-MP4"
   },
   "source": [
    "## 제어문"
   ]
  },
  {
   "cell_type": "markdown",
   "metadata": {},
   "source": [
    "### continue\n",
    "\n",
    "- 반복문 내부에서 `continue` 구문은 해당 루프(loop)를 건너뛰게 합니다.\n",
    "- `continue` 라는 구문을 만나면, 반복문에서 `continue` 아래 작성된 코드는 **실행되지 않고 건너뜁니다.**"
   ]
  },
  {
   "cell_type": "code",
   "execution_count": 25,
   "metadata": {
    "id": "AltNBV5C-Pqt"
   },
   "outputs": [],
   "source": [
    "mylist = [1, 2, 3, 4, 5, 6, 7, 8, 9, 10]"
   ]
  },
  {
   "cell_type": "markdown",
   "metadata": {
    "id": "zk-dZvfaD6H7"
   },
   "source": [
    "**반복문**과 **조건문** 그리고 `continue`를 활용하여 **짝수만 출력**해 주세요"
   ]
  },
  {
   "cell_type": "code",
   "execution_count": 26,
   "metadata": {
    "colab": {
     "base_uri": "https://localhost:8080/",
     "height": 104
    },
    "id": "RWgPVawJ-jRT",
    "outputId": "ee26df08-140a-46c8-fea7-fb2e2f784a27"
   },
   "outputs": [
    {
     "name": "stdout",
     "output_type": "stream",
     "text": [
      "2\n",
      "4\n",
      "6\n",
      "8\n",
      "10\n"
     ]
    }
   ],
   "source": [
    "# 코드를 입력해 주세요\n",
    "for i in mylist:\n",
    "    \n",
    "    if i % 2 == 1:\n",
    "        continue\n",
    "    ########################\n",
    "    print(i)"
   ]
  },
  {
   "cell_type": "markdown",
   "metadata": {
    "id": "xaDtUK2y-yRo"
   },
   "source": [
    "### break\n",
    "\n",
    "- **break** 구문을 만나면, **반복 루프(loop)는 즉시 종료**됩니다."
   ]
  },
  {
   "cell_type": "code",
   "execution_count": 27,
   "metadata": {
    "id": "g8rLTYZg-2R7"
   },
   "outputs": [],
   "source": [
    "mylist = [1, 2, 3, 4, 5, 6, 7, 8, 9, 10]"
   ]
  },
  {
   "cell_type": "markdown",
   "metadata": {
    "id": "tGdZ0d1S-59J"
   },
   "source": [
    "`break`를 사용하여 i가 6 이상이면 STOP"
   ]
  },
  {
   "cell_type": "code",
   "execution_count": 28,
   "metadata": {
    "colab": {
     "base_uri": "https://localhost:8080/",
     "height": 122
    },
    "id": "LyTOiLaC-4hd",
    "outputId": "eaddc0e2-097c-40f2-ffe7-182ba29ef095"
   },
   "outputs": [
    {
     "name": "stdout",
     "output_type": "stream",
     "text": [
      "1\n",
      "2\n",
      "3\n",
      "4\n",
      "5\n"
     ]
    }
   ],
   "source": [
    "for i in mylist:\n",
    "    # 코드를 입력해 주세요 # \n",
    "    if i >= 6:\n",
    "        break\n",
    "    ########################\n",
    "    print(i)"
   ]
  },
  {
   "cell_type": "markdown",
   "metadata": {
    "id": "_S11HBwkTwCz"
   },
   "source": [
    "### break, continue 차이"
   ]
  },
  {
   "cell_type": "code",
   "execution_count": 29,
   "metadata": {
    "colab": {
     "base_uri": "https://localhost:8080/",
     "height": 104
    },
    "id": "iCeDy3tYTwC0",
    "outputId": "4d679712-3018-4a3e-cda6-5da131763f81"
   },
   "outputs": [
    {
     "name": "stdout",
     "output_type": "stream",
     "text": [
      "0\n",
      "1\n",
      "2\n",
      "3\n",
      "4\n"
     ]
    }
   ],
   "source": [
    "for i in range(10):\n",
    "    if i == 5:\n",
    "        break\n",
    "    print(i)"
   ]
  },
  {
   "cell_type": "code",
   "execution_count": 30,
   "metadata": {
    "colab": {
     "base_uri": "https://localhost:8080/",
     "height": 173
    },
    "id": "2hryWurmTwC2",
    "outputId": "c404cba6-aeff-4945-9433-3c0081f902ab"
   },
   "outputs": [
    {
     "name": "stdout",
     "output_type": "stream",
     "text": [
      "0\n",
      "1\n",
      "2\n",
      "3\n",
      "4\n",
      "6\n",
      "7\n",
      "8\n",
      "9\n"
     ]
    }
   ],
   "source": [
    "for i in range(10):\n",
    "    if i == 5:\n",
    "        continue\n",
    "    print(i)"
   ]
  }
 ],
 "metadata": {
  "colab": {
   "collapsed_sections": [],
   "name": "05 - 파이썬 - 반복문 for, while (해설)",
   "provenance": []
  },
  "kernelspec": {
   "display_name": "Python 3 (ipykernel)",
   "language": "python",
   "name": "python3"
  },
  "language_info": {
   "codemirror_mode": {
    "name": "ipython",
    "version": 3
   },
   "file_extension": ".py",
   "mimetype": "text/x-python",
   "name": "python",
   "nbconvert_exporter": "python",
   "pygments_lexer": "ipython3",
   "version": "3.8.13"
  }
 },
 "nbformat": 4,
 "nbformat_minor": 1
}
