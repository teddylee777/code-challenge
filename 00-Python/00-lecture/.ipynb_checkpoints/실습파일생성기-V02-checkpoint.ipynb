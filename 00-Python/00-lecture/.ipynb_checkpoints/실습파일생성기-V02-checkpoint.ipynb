{
 "cells": [
  {
   "cell_type": "code",
   "execution_count": 4,
   "id": "dramatic-emperor",
   "metadata": {},
   "outputs": [],
   "source": [
    "# import utils\n",
    "from pycodegrade import utils\n",
    "import os\n",
    "import shutil\n",
    "from shutil import copyfile\n",
    "import zipfile"
   ]
  },
  {
   "cell_type": "code",
   "execution_count": 5,
   "id": "d0d939c4",
   "metadata": {},
   "outputs": [
    {
     "data": {
      "text/plain": [
       "['00-Jupyter-Notebook-튜토리얼-(해설).ipynb',\n",
       " '01-파이썬-자료구조-(해설).ipynb',\n",
       " '02-파이썬-리스트-튜플-(해설).ipynb',\n",
       " '03-파이썬-세트-딕셔너리-(해설).ipynb',\n",
       " '04-파이썬-문자열-(해설).ipynb',\n",
       " '05-파이썬-연산-(해설).ipynb',\n",
       " '06-파이썬-비교-논리-삼항연산자-조건문-(해설).ipynb',\n",
       " '07-파이썬-반복문-(해설).ipynb',\n",
       " '08-파이썬-함수-(해설).ipynb',\n",
       " '09-파이썬-패키지-모듈-(해설).ipynb',\n",
       " '실습파일생성기-V02.ipynb']"
      ]
     },
     "execution_count": 5,
     "metadata": {},
     "output_type": "execute_result"
    }
   ],
   "source": [
    "sorted([f for f in os.listdir() if f.endswith('ipynb')])"
   ]
  },
  {
   "cell_type": "code",
   "execution_count": 18,
   "id": "05afac00",
   "metadata": {
    "scrolled": false
   },
   "outputs": [
    {
     "name": "stdout",
     "output_type": "stream",
     "text": [
      "09-[연습문제]-파이썬-반복문-(해설)-변환\n",
      "생성완료\n",
      "파일명: 09-[연습문제]-파이썬-반복문-(해설)-변환.ipynb\n"
     ]
    }
   ],
   "source": [
    "utils.convert_ipynb('09-[연습문제]-파이썬-반복문-(해설).ipynb')"
   ]
  },
  {
   "cell_type": "markdown",
   "id": "complex-relation",
   "metadata": {},
   "source": [
    "## 폴더 통째로 생성"
   ]
  },
  {
   "cell_type": "code",
   "execution_count": 6,
   "id": "proprietary-knife",
   "metadata": {},
   "outputs": [],
   "source": [
    "# zip 파일로 생성할 이름\n",
    "# title = 'python-실습'\n",
    "# title = 'Pandas-실습'\n",
    "title = 'Python-실습'\n",
    "# title = 'MachineLearning-실습'\n",
    "# title = 'MachineLearning-실습-Part2'\n",
    "# title = '워크샵'\n",
    "\n",
    "# title = 'python'\n",
    "\n",
    "# 변환할 폴더\n",
    "# target_folder = '01-Python'\n",
    "# target_folder = '03-Pandas'\n",
    "target_folder = '.'\n",
    "# target_folder = '05-Machine-Learning'\n",
    "# target_folder = '06-Workshop'\n",
    "\n",
    "# 실습파일로 생성할 폴더 이름\n",
    "output_folder = '실습'"
   ]
  },
  {
   "cell_type": "markdown",
   "id": "a652c05e",
   "metadata": {},
   "source": [
    "### Python, Pandas 전용"
   ]
  },
  {
   "cell_type": "code",
   "execution_count": 7,
   "id": "1568374f",
   "metadata": {},
   "outputs": [
    {
     "name": "stdout",
     "output_type": "stream",
     "text": [
      "TEXT OTHER:  ['1\\n', '2\\n', '3\\n', '4\\n', '5\\n']\n",
      "TEXT OTHER:  ['2\\n', '4\\n', '6\\n', '8\\n', '10\\n']\n",
      "TEXT OTHER:  ['1\\n', '2\\n', '3\\n', '4\\n', '5\\n']\n",
      "change:  ./07-파이썬-반복문-(해설).ipynb\n",
      "\n",
      "생성완료\n",
      "파일명: ./실습/07-파이썬-반복문-(해설).ipynb\n",
      "change:  ./01-파이썬-자료구조-(해설).ipynb\n",
      "\n",
      "생성완료\n",
      "파일명: ./실습/01-파이썬-자료구조-(해설).ipynb\n",
      "change:  ./04-파이썬-문자열-(해설).ipynb\n",
      "\n",
      "생성완료\n",
      "파일명: ./실습/04-파이썬-문자열-(해설).ipynb\n",
      "change:  ./08-파이썬-함수-(해설).ipynb\n",
      "\n",
      "생성완료\n",
      "파일명: ./실습/08-파이썬-함수-(해설).ipynb\n",
      "change:  ./09-파이썬-패키지-모듈-(해설).ipynb\n",
      "\n",
      "생성완료\n",
      "파일명: ./실습/09-파이썬-패키지-모듈-(해설).ipynb\n",
      "change:  ./02-파이썬-리스트-튜플-(해설).ipynb\n",
      "\n",
      "생성완료\n",
      "파일명: ./실습/02-파이썬-리스트-튜플-(해설).ipynb\n",
      "change:  ./실습파일생성기-V02.ipynb\n",
      "\n",
      "생성완료\n",
      "파일명: ./실습/실습파일생성기-V02.ipynb\n",
      "change:  ./03-파이썬-세트-딕셔너리-(해설).ipynb\n",
      "\n",
      "생성완료\n",
      "파일명: ./실습/03-파이썬-세트-딕셔너리-(해설).ipynb\n",
      "change:  ./05-파이썬-연산-(해설).ipynb\n",
      "\n",
      "생성완료\n",
      "파일명: ./실습/05-파이썬-연산-(해설).ipynb\n",
      "change:  ./06-파이썬-비교-논리-삼항연산자-조건문-(해설).ipynb\n",
      "\n",
      "생성완료\n",
      "파일명: ./실습/06-파이썬-비교-논리-삼항연산자-조건문-(해설).ipynb\n",
      "change:  ./00-Jupyter-Notebook-튜토리얼-(해설).ipynb\n",
      "\n",
      "생성완료\n",
      "파일명: ./실습/00-Jupyter-Notebook-튜토리얼-(해설).ipynb\n"
     ]
    }
   ],
   "source": [
    "utils.convert_ipynb_folder(target_folder, output_folder, '.ipynb')"
   ]
  },
  {
   "cell_type": "markdown",
   "id": "7f5e5768",
   "metadata": {},
   "source": [
    "### Machine Learning 전용"
   ]
  },
  {
   "cell_type": "code",
   "execution_count": null,
   "id": "local-shakespeare",
   "metadata": {},
   "outputs": [],
   "source": [
    "# utils.convert_ipynb_folder(target_folder, output_folder, '.ipynb')\n",
    "# MachineLearning 전용 생성기(remain_code=True 지정)\n",
    "utils.convert_ipynb_folder(target_folder, output_folder, '.ipynb', remain_code=True)"
   ]
  },
  {
   "cell_type": "markdown",
   "id": "sporting-ecology",
   "metadata": {},
   "source": [
    "## zip 파일 생성"
   ]
  },
  {
   "cell_type": "code",
   "execution_count": null,
   "id": "straight-quebec",
   "metadata": {},
   "outputs": [],
   "source": [
    "# 복사할 대상\n",
    "# src = './06-Workshop/실습'\n",
    "# src = './03-Pandas/실습'\n",
    "# src = './03-Pandas'\n",
    "src = './02-Numpy'\n",
    "# src = './01-Python/실습'\n",
    "# src = './01-Python'\n",
    "# src = './05-Machine-Learning/실습'\n",
    "# src = './05-Machine-Learning'\n",
    "# src = './04-Visualization/실습'\n",
    "\n",
    "# src = os.path.join(target_folder, output_folder)\n",
    "# src = os.path.join(target_folder)\n",
    "# src = target_folder\n",
    "\n",
    "# 생성할 폴더 이름\n",
    "# dest = 'Python-실습'\n",
    "# dest = 'Python'\n",
    "dest = 'Numpy'\n",
    "# dest = 'Python-해설'\n",
    "# dest = 'Pandas-실습'\n",
    "# dest = 'Pandas-해설'\n",
    "# dest = 'Visualization-실습'\n",
    "# dest = 'MachineLearning-실습'\n",
    "# dest = 'MachineLearning-해설'\n",
    "# dest = title\n",
    "# dest = 'ML-해설'\n",
    "print(f'압축대상 폴더: {src}\\n생성폴더: {dest}')"
   ]
  },
  {
   "cell_type": "markdown",
   "id": "001da955",
   "metadata": {},
   "source": [
    "## 단일 폴더 복사"
   ]
  },
  {
   "cell_type": "code",
   "execution_count": null,
   "id": "downtown-crack",
   "metadata": {},
   "outputs": [],
   "source": [
    "if not os.path.exists(dest):\n",
    "    os.mkdir(dest)\n",
    "\n",
    "# src_files = os.listdir(src)\n",
    "src_files = [f for f in os.listdir(src) if f.endswith('.ipynb')]\n",
    "\n",
    "# file 복사\n",
    "for file_name in src_files:\n",
    "    full_file_name = os.path.join(src, file_name)\n",
    "    if os.path.isfile(full_file_name):\n",
    "        shutil.copy(full_file_name, dest)\n",
    "\n",
    "zip_output = os.path.join(dest, f'{dest}.zip')\n",
    "\n",
    "# 파일 리스트\n",
    "file_list = [f for f in os.listdir(dest) if f.endswith('.ipynb')]\n",
    "\n",
    "# zipfile 생성\n",
    "with zipfile.ZipFile(zip_output, 'w') as zip_file:\n",
    "    for file in file_list:\n",
    "        zip_file.write(os.path.join(dest, file), file)\n",
    "    zip_file.close()\n",
    "\n",
    "# zip 파일 복사\n",
    "copyfile(zip_output, f'{dest}.zip')\n",
    "print(f'출력 결과물: {dest}.zip')\n",
    "\n",
    "# 폴더 삭제\n",
    "for file_name in os.listdir(dest):\n",
    "    os.remove(os.path.join(dest, file_name))\n",
    "    \n",
    "os.rmdir(dest)"
   ]
  },
  {
   "cell_type": "code",
   "execution_count": null,
   "id": "74dcc641",
   "metadata": {},
   "outputs": [],
   "source": []
  }
 ],
 "metadata": {
  "kernelspec": {
   "display_name": "Python 3 (ipykernel)",
   "language": "python",
   "name": "python3"
  },
  "language_info": {
   "codemirror_mode": {
    "name": "ipython",
    "version": 3
   },
   "file_extension": ".py",
   "mimetype": "text/x-python",
   "name": "python",
   "nbconvert_exporter": "python",
   "pygments_lexer": "ipython3",
   "version": "3.8.13"
  }
 },
 "nbformat": 4,
 "nbformat_minor": 5
}
