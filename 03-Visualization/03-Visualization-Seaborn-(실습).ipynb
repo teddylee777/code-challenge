{
 "cells": [
  {
   "cell_type": "markdown",
   "metadata": {},
   "source": [
    "## 모듈 Import"
   ]
  },
  {
   "cell_type": "code",
   "execution_count": null,
   "metadata": {
    "id": "qHwFikQskdIM"
   },
   "outputs": [],
   "source": [
    "from IPython.display import Image\n",
    "import numpy as np\n",
    "import pandas as pd\n",
    "import matplotlib.pyplot as plt\n",
    "import seaborn as sns\n",
    "import warnings\n",
    "\n",
    "warnings.filterwarnings('ignore')\n",
    "\n",
    "# Unicode warning 제거 (폰트 관련 경고메시지)\n",
    "plt.rcParams['axes.unicode_minus']=False\n",
    "\n",
    "# 한글 폰트 설정\n",
    "plt.rcParams['font.family'] = \"NanumGothic\"\n",
    "\n",
    "# 그래프 출력 사이즈 설정\n",
    "plt.rcParams[\"figure.figsize\"] = (12, 8)"
   ]
  },
  {
   "cell_type": "markdown",
   "metadata": {
    "id": "XWEtAzHHsQg-"
   },
   "source": [
    "# Seaborn\n",
    "\n",
    "seaborn은 matplotlib을 더 사용하기 쉽게 해주는 라이브러리입니다."
   ]
  },
  {
   "cell_type": "markdown",
   "metadata": {
    "id": "hj9I4xSZsQg_"
   },
   "source": [
    "* [seaborn 공식 도큐먼트 살펴보기](https://seaborn.pydata.org/)"
   ]
  },
  {
   "cell_type": "markdown",
   "metadata": {},
   "source": [
    "### 샘플 데이터셋 로드"
   ]
  },
  {
   "cell_type": "code",
   "execution_count": null,
   "metadata": {},
   "outputs": [],
   "source": [
    "tips = sns.load_dataset(\"tips\")"
   ]
  },
  {
   "cell_type": "markdown",
   "metadata": {
    "id": "kRvbLjPmsQhH"
   },
   "source": [
    "### 왜 Seaborn 인가요?"
   ]
  },
  {
   "cell_type": "markdown",
   "metadata": {
    "id": "3rZYHhw2sQhI"
   },
   "source": [
    "matplotlib으로 대부분의 시각화는 가능합니다. 하지만, 다음과 같은 이유로 `seaborn`을 많은 사람들이 선호합니다.\n",
    "\n",
    "- 쉬운 사용성 (1줄 완성 그래프)\n",
    "- seaborn 에서만 제공되는 **통계 기반 plot**\n",
    "- 아름다운 스타일링\n",
    "- Pandas의 데이터프레임과 높은 호환성"
   ]
  },
  {
   "cell_type": "markdown",
   "metadata": {
    "id": "9qJh_SyxsQha"
   },
   "source": [
    "### 아름다운 스타일링"
   ]
  },
  {
   "cell_type": "markdown",
   "metadata": {
    "id": "ygJ3UH82sQhb"
   },
   "source": [
    "seaborn의 최대 장점 중 하나인, 아름다운 컬러팔레트입니다.\n",
    "\n",
    "제가 최대 장점으로 꼽은 이유는, \n",
    "\n",
    "`matplotlib`의 기본 컬러 색상보다 `seaborn`은 스타일링에 크게 신경을 쓰지 않아도 **default 컬러가 예쁘게 조합**해 줍니다."
   ]
  },
  {
   "cell_type": "code",
   "execution_count": null,
   "metadata": {
    "colab": {
     "base_uri": "https://localhost:8080/",
     "height": 482
    },
    "id": "VsXLM52RsQhb",
    "outputId": "ae521f7a-6c9c-4a28-8d5e-dfdc5e2ed946"
   },
   "outputs": [],
   "source": [
    "fig, axes = plt.subplots(1, 2)\n",
    "fig.set_size_inches(12, 6)\n",
    "\n",
    "axes[0].bar(tips['day'], tips['total_bill'])\n",
    "axes[0].set_title('matplotlib')\n",
    "sns.barplot(x=\"day\", y=\"total_bill\", data=tips, palette='Set1', ax=axes[1])\n",
    "axes[1].set_title('seaborn')\n",
    "plt.show()"
   ]
  },
  {
   "cell_type": "markdown",
   "metadata": {
    "id": "QAP-SqV3sQhh"
   },
   "source": [
    "### 컬러 팔레트"
   ]
  },
  {
   "cell_type": "markdown",
   "metadata": {
    "id": "ksW-kzAusQhi"
   },
   "source": [
    "자세한 컬러팔레트는 **공식 도큐먼트**를 참고하세요"
   ]
  },
  {
   "cell_type": "markdown",
   "metadata": {
    "id": "GQQogB7ZsQhj"
   },
   "source": [
    "- [Seaborn의 컬러팔레트](https://chrisalbon.com/python/data_visualization/seaborn_color_palettes/)\n",
    "- [컬러팔레트 종류](https://teddylee777.github.io/visualization/matplotlib-colorcode)"
   ]
  },
  {
   "cell_type": "code",
   "execution_count": null,
   "metadata": {},
   "outputs": [],
   "source": [
    "sns.color_palette()"
   ]
  },
  {
   "cell_type": "markdown",
   "metadata": {},
   "source": [
    "#### Light"
   ]
  },
  {
   "cell_type": "code",
   "execution_count": null,
   "metadata": {},
   "outputs": [],
   "source": [
    "sns.light_palette(\"seagreen\", n_colors=10)"
   ]
  },
  {
   "cell_type": "markdown",
   "metadata": {},
   "source": [
    "#### Dark"
   ]
  },
  {
   "cell_type": "code",
   "execution_count": null,
   "metadata": {},
   "outputs": [],
   "source": [
    "sns.dark_palette(\"#69d\", n_colors=10)"
   ]
  },
  {
   "cell_type": "markdown",
   "metadata": {},
   "source": [
    "#### Diverging"
   ]
  },
  {
   "cell_type": "code",
   "execution_count": null,
   "metadata": {},
   "outputs": [],
   "source": [
    "sns.color_palette('vlag', n_colors=10)"
   ]
  },
  {
   "cell_type": "code",
   "execution_count": null,
   "metadata": {},
   "outputs": [],
   "source": [
    "sns.diverging_palette(220, 20, n=10)"
   ]
  },
  {
   "cell_type": "markdown",
   "metadata": {},
   "source": [
    "#### Custom"
   ]
  },
  {
   "cell_type": "code",
   "execution_count": null,
   "metadata": {},
   "outputs": [],
   "source": [
    "sns.cubehelix_palette(10, start=9.9)"
   ]
  },
  {
   "cell_type": "markdown",
   "metadata": {},
   "source": [
    "#### 다양한 예시"
   ]
  },
  {
   "cell_type": "code",
   "execution_count": null,
   "metadata": {
    "colab": {
     "base_uri": "https://localhost:8080/",
     "height": 449
    },
    "id": "1-ZGU6cqsQhj",
    "outputId": "44cca902-fa8f-4d9d-cae6-59c01a618793"
   },
   "outputs": [],
   "source": [
    "sns.palplot(sns.light_palette((210, 90, 60), input=\"husl\"))\n",
    "sns.palplot(sns.dark_palette(\"muted purple\", input=\"xkcd\"))\n",
    "sns.palplot(sns.color_palette(\"BrBG\", 10))\n",
    "sns.palplot(sns.color_palette(\"BrBG_r\", 10))\n",
    "sns.palplot(sns.color_palette(\"coolwarm\", 10))\n",
    "sns.palplot(sns.diverging_palette(255, 133, l=60, n=10, center=\"dark\"))"
   ]
  },
  {
   "cell_type": "code",
   "execution_count": null,
   "metadata": {
    "colab": {
     "base_uri": "https://localhost:8080/",
     "height": 498
    },
    "id": "9XPjQ9B_sQhn",
    "outputId": "ddf69480-d390-4984-b91c-d09356d5b000"
   },
   "outputs": [],
   "source": [
    "sns.barplot(x=\"tip\", y=\"total_bill\", data=tips, palette='coolwarm')"
   ]
  },
  {
   "cell_type": "code",
   "execution_count": null,
   "metadata": {
    "colab": {
     "base_uri": "https://localhost:8080/",
     "height": 498
    },
    "id": "TlSB9rr2sQhq",
    "outputId": "73565f6c-895b-46a9-eb6c-fab03022a923"
   },
   "outputs": [],
   "source": [
    "sns.barplot(x=\"tip\", y=\"total_bill\", data=tips, palette='Reds')"
   ]
  },
  {
   "cell_type": "markdown",
   "metadata": {},
   "source": [
    "# Seaborn 그래프"
   ]
  },
  {
   "cell_type": "markdown",
   "metadata": {},
   "source": [
    "## Scatterplot"
   ]
  },
  {
   "cell_type": "markdown",
   "metadata": {
    "id": "hJkFTJwMsQiB"
   },
   "source": [
    "### x, y, colors, area 설정"
   ]
  },
  {
   "cell_type": "markdown",
   "metadata": {
    "id": "ioxTZ5pqsQiC"
   },
   "source": [
    "* colors 는 임의 값을 color 값으로 변환합니다.\n",
    "* area는 점의 넓이를 나타냅니다. 값이 커지면 당연히 넓이도 커집니다."
   ]
  },
  {
   "cell_type": "code",
   "execution_count": null,
   "metadata": {
    "id": "6Ji9LU3XkdKj"
   },
   "outputs": [],
   "source": [
    "# 샘플데이터 생성\n",
    "x = np.random.rand(50)\n",
    "y = np.random.rand(50)\n",
    "colors = np.arange(50)\n",
    "area = x * y * 250"
   ]
  },
  {
   "cell_type": "markdown",
   "metadata": {
    "id": "jUpDzPRSsQiI"
   },
   "source": [
    "* seaborn 에서는 `size`와 `sizes`를 동시에 지정해줍니다.\n",
    "* `sizes` 옵션에서는 사이즈의 min, max를 명시해 줍니다.\n",
    "* `hue`는 컬러 옵션입니다.\n",
    "* `palette`를 통해 seaborn이 제공하는 아름다운 palette 를 이용하시면 됩니다."
   ]
  },
  {
   "cell_type": "code",
   "execution_count": null,
   "metadata": {
    "colab": {
     "base_uri": "https://localhost:8080/",
     "height": 595
    },
    "id": "68iETahQsQiI",
    "outputId": "5ac7deaa-5a30-4ad4-b6dc-7e055aa24804"
   },
   "outputs": [],
   "source": [
    "sns.scatterplot(x=x, y=y, size=area, sizes=(area.min(), area.max()), hue=area, palette='icefire')"
   ]
  },
  {
   "cell_type": "markdown",
   "metadata": {
    "id": "lYc17UddsQiL"
   },
   "source": [
    "### cmap과 alpha 설정"
   ]
  },
  {
   "cell_type": "markdown",
   "metadata": {
    "id": "7wI_6ceXsQiM"
   },
   "source": [
    "* cmap에 컬러를 지정하면, 컬러 값을 모두 같게 가져갈 수도 있습니다.\n",
    "* alpha값은 투명도를 나타내며 0 ~ 1 사이의 값을 지정해 줄 수 있으며, 0에 가까울 수록 투명한 값을 가집니다."
   ]
  },
  {
   "cell_type": "code",
   "execution_count": null,
   "metadata": {},
   "outputs": [],
   "source": [
    "sns.scatterplot(x=x, y=y, size=area, sizes=(area.min(), area.max()), hue=area, alpha=0.3, palette='icefire')"
   ]
  },
  {
   "cell_type": "markdown",
   "metadata": {
    "id": "nwm1qpgfsQiU"
   },
   "source": [
    "## Barplot, Barhplot"
   ]
  },
  {
   "cell_type": "markdown",
   "metadata": {
    "id": "0ELFDj-HkdKs"
   },
   "source": [
    "1개의 canvas 안에 다중 그래프 그리기"
   ]
  },
  {
   "cell_type": "markdown",
   "metadata": {
    "id": "SQN6VimQsQiV"
   },
   "source": [
    "### 기본 Barplot 그리기"
   ]
  },
  {
   "cell_type": "markdown",
   "metadata": {},
   "source": [
    "샘플데이터를 생성합니다."
   ]
  },
  {
   "cell_type": "code",
   "execution_count": null,
   "metadata": {},
   "outputs": [],
   "source": [
    "score = pd.DataFrame({\n",
    "    'subject': ['Math', 'Programming', 'Data Science', 'Art', 'English', 'Physics'], \n",
    "    'score': [66, 80, 60, 50, 80, 10]\n",
    "})\n",
    "score"
   ]
  },
  {
   "cell_type": "markdown",
   "metadata": {},
   "source": [
    "bar그래프 생성"
   ]
  },
  {
   "cell_type": "code",
   "execution_count": null,
   "metadata": {
    "colab": {
     "base_uri": "https://localhost:8080/",
     "height": 611
    },
    "id": "3yyDj92SsQiX",
    "outputId": "a2d1b3dd-e070-452b-ad43-193fae488935"
   },
   "outputs": [],
   "source": [
    "sns.barplot(x='subject', y='score', data=score, alpha=0.8, palette='YlGnBu')"
   ]
  },
  {
   "cell_type": "markdown",
   "metadata": {
    "id": "wCH4fg7usQia"
   },
   "source": [
    "### 기본 Barhplot 그리기"
   ]
  },
  {
   "cell_type": "markdown",
   "metadata": {
    "id": "tJ8CCXILsQib"
   },
   "source": [
    "barh 함수에서는 **xticks로 설정**했던 부분을 **yticks로 변경**합니다."
   ]
  },
  {
   "cell_type": "code",
   "execution_count": null,
   "metadata": {},
   "outputs": [],
   "source": [
    "sns.barplot(y='subject', x='score', data=score, alpha=0.8, palette='YlGnBu')"
   ]
  },
  {
   "cell_type": "markdown",
   "metadata": {
    "id": "r3ibFCodsQif"
   },
   "source": [
    "### Barplot에서 비교 그래프 그리기"
   ]
  },
  {
   "cell_type": "markdown",
   "metadata": {
    "id": "ihU8tNBlsQik"
   },
   "source": [
    "seaborn 에서는 `hue` 옵션으로 매우 쉽게 비교 **barplot**을 그릴 수 있습니다."
   ]
  },
  {
   "cell_type": "code",
   "execution_count": null,
   "metadata": {
    "colab": {
     "base_uri": "https://localhost:8080/",
     "height": 202
    },
    "id": "9aBIpI4usQil",
    "outputId": "ceeb8ed8-229c-4367-c102-01e4458bd3b9"
   },
   "outputs": [],
   "source": [
    "# 샘플 데이터셋 로드\n",
    "titanic = sns.load_dataset('titanic')\n",
    "titanic.head(2)"
   ]
  },
  {
   "cell_type": "markdown",
   "metadata": {},
   "source": [
    "`hue` 옵션에 분할 조건이 되는 컬럼명을 지정합니다."
   ]
  },
  {
   "cell_type": "code",
   "execution_count": null,
   "metadata": {
    "colab": {
     "base_uri": "https://localhost:8080/",
     "height": 551
    },
    "id": "w7aIclWZsQin",
    "outputId": "a1c389ea-95ef-4f58-baa9-982088a91f88"
   },
   "outputs": [],
   "source": [
    "sns.barplot(x='sex', y='survived', hue='pclass', data=titanic, palette=\"muted\")"
   ]
  },
  {
   "cell_type": "markdown",
   "metadata": {
    "id": "PGIzGUqnsQip"
   },
   "source": [
    "## Line Plot"
   ]
  },
  {
   "cell_type": "code",
   "execution_count": null,
   "metadata": {
    "colab": {
     "base_uri": "https://localhost:8080/",
     "height": 576
    },
    "id": "cB6nIr0KsQix",
    "outputId": "56bb34ae-710f-4459-b55c-08362ce16486"
   },
   "outputs": [],
   "source": [
    "# 샘플 데이터셋 생성\n",
    "x = np.arange(0, 10, 0.1)\n",
    "y_1 = 1 + np.sin(x)\n",
    "y_2 = 1 + np.cos(x)"
   ]
  },
  {
   "cell_type": "markdown",
   "metadata": {},
   "source": [
    "* color: 컬러 옵션\n",
    "* alpha: 투명도 옵션"
   ]
  },
  {
   "cell_type": "code",
   "execution_count": null,
   "metadata": {
    "colab": {
     "base_uri": "https://localhost:8080/",
     "height": 576
    },
    "id": "cB6nIr0KsQix",
    "outputId": "56bb34ae-710f-4459-b55c-08362ce16486"
   },
   "outputs": [],
   "source": [
    "# lineplot 생성\n",
    "sns.lineplot(x=x, y=y_1, label='1+sin', color='navy', alpha=0.3)\n",
    "sns.lineplot(x=x, y=y_2, label='1+cos', color='red', alpha=0.7)"
   ]
  },
  {
   "cell_type": "markdown",
   "metadata": {
    "id": "UzXTvND2sQiz"
   },
   "source": [
    "### 마커 스타일링"
   ]
  },
  {
   "cell_type": "markdown",
   "metadata": {
    "id": "lytWX44LsQiz"
   },
   "source": [
    "* marker: 마커 옵션"
   ]
  },
  {
   "cell_type": "code",
   "execution_count": null,
   "metadata": {},
   "outputs": [],
   "source": [
    "# lineplot 생성\n",
    "sns.lineplot(x=x, y=y_1, label='1+sin', color='navy', alpha=0.3, marker='o')\n",
    "sns.lineplot(x=x, y=y_2, label='1+cos', color='red', alpha=0.7, marker='+')"
   ]
  },
  {
   "cell_type": "markdown",
   "metadata": {
    "id": "lBWzJLxesQi2"
   },
   "source": [
    "### 라인 스타일 변경하기"
   ]
  },
  {
   "cell_type": "markdown",
   "metadata": {
    "id": "PToxEOymsQi2"
   },
   "source": [
    "* linestyle: 라인 스타일 변경 옵션"
   ]
  },
  {
   "cell_type": "code",
   "execution_count": null,
   "metadata": {},
   "outputs": [],
   "source": [
    "sns.lineplot(x=x, y=y_1, label='1+sin', color='blue', linestyle=':')\n",
    "sns.lineplot(x=x, y=y_2, label='1+cos', color='red', linestyle='-.')"
   ]
  },
  {
   "cell_type": "markdown",
   "metadata": {
    "id": "XQHvnHMYsQjL"
   },
   "source": [
    "## Histogram"
   ]
  },
  {
   "cell_type": "code",
   "execution_count": null,
   "metadata": {
    "colab": {
     "base_uri": "https://localhost:8080/",
     "height": 541
    },
    "id": "ME_J56blsQjM",
    "outputId": "12d8a34b-b406-4150-cfdf-e08c4058f402"
   },
   "outputs": [],
   "source": [
    "# 샘플데이터 생성\n",
    "N = 100000\n",
    "bins = 30\n",
    "\n",
    "x = np.random.randn(N)"
   ]
  },
  {
   "cell_type": "code",
   "execution_count": null,
   "metadata": {
    "colab": {
     "base_uri": "https://localhost:8080/",
     "height": 541
    },
    "id": "ME_J56blsQjM",
    "outputId": "12d8a34b-b406-4150-cfdf-e08c4058f402"
   },
   "outputs": [],
   "source": [
    "sns.histplot(x, bins=bins, kde=False, color='g')\n",
    "# 구 버전\n",
    "# sns.distplot(x, bins=bins, kde=False, color='g')"
   ]
  },
  {
   "cell_type": "markdown",
   "metadata": {
    "id": "uJZ88FSpsQjR"
   },
   "source": [
    "`kde`을 **True**로 설정해주면, **Density**가 Y축에 표기 됩니다."
   ]
  },
  {
   "cell_type": "code",
   "execution_count": null,
   "metadata": {
    "colab": {
     "base_uri": "https://localhost:8080/",
     "height": 613
    },
    "id": "jp-hZs25sQjR",
    "outputId": "3b54fb66-5ad5-4ee8-ae49-4516dcb73f50"
   },
   "outputs": [],
   "source": [
    "sns.histplot(x, bins=bins, kde=True, color='g')\n",
    "# 구 버전\n",
    "# sns.distplot(x, bins=bins, kde=True, color='g')"
   ]
  },
  {
   "cell_type": "markdown",
   "metadata": {
    "id": "WBqOs_3zsQjb"
   },
   "source": [
    "### 분포표, 누적분포표"
   ]
  },
  {
   "cell_type": "code",
   "execution_count": null,
   "metadata": {},
   "outputs": [],
   "source": [
    "# 샘플 데이터셋 생성\n",
    "x = np.random.randn(100)"
   ]
  },
  {
   "cell_type": "code",
   "execution_count": null,
   "metadata": {},
   "outputs": [],
   "source": [
    "fig, axes = plt.subplots(1, 2, tight_layout=True)\n",
    "fig.set_size_inches(12, 4)\n",
    "\n",
    "# 히스토그램 생성\n",
    "sns.histplot(x=x, bins=bins, ax=axes[0])\n",
    "sns.histplot(x=x, bins=bins, cumulative=True, ax=axes[1])\n",
    "\n",
    "# 구버전\n",
    "# sns.displot(x=x, bins=bins)\n",
    "# sns.displot(x=x, bins=bins, cumulative=True)"
   ]
  },
  {
   "cell_type": "markdown",
   "metadata": {
    "id": "tGIW9weKsQjk"
   },
   "source": [
    "## Box Plot"
   ]
  },
  {
   "cell_type": "markdown",
   "metadata": {
    "id": "0v-S95OLsQjk"
   },
   "source": [
    "샘플 데이터를 생성합니다."
   ]
  },
  {
   "cell_type": "code",
   "execution_count": null,
   "metadata": {},
   "outputs": [],
   "source": [
    "titanic = sns.load_dataset('titanic')"
   ]
  },
  {
   "cell_type": "markdown",
   "metadata": {
    "id": "ALeSnTwnsQjy"
   },
   "source": [
    "seaborn에서 boxplot을 그릴 때는DataFrame을 가지고 그릴 때 주로 활용합니다. \n",
    "\n",
    "seaborn 에서는 `hue` 옵션으로 매우 쉽게 비교 **boxplot**을 그릴 수 있습니다."
   ]
  },
  {
   "cell_type": "code",
   "execution_count": null,
   "metadata": {
    "colab": {
     "base_uri": "https://localhost:8080/",
     "height": 551
    },
    "id": "064rres8sQj0",
    "outputId": "c83ab2dd-9f2c-4038-d4c5-bcb1be536024"
   },
   "outputs": [],
   "source": [
    "sns.boxplot(x='pclass', y='age', hue='survived', data=titanic)"
   ]
  }
 ],
 "metadata": {
  "colab": {
   "collapsed_sections": [],
   "name": "03-Visualization-Seaborn-(실습)",
   "provenance": []
  },
  "kernelspec": {
   "display_name": "Python 3 (ipykernel)",
   "language": "python",
   "name": "python3"
  },
  "language_info": {
   "codemirror_mode": {
    "name": "ipython",
    "version": 3
   },
   "file_extension": ".py",
   "mimetype": "text/x-python",
   "name": "python",
   "nbconvert_exporter": "python",
   "pygments_lexer": "ipython3",
   "version": "3.8.13"
  }
 },
 "nbformat": 4,
 "nbformat_minor": 1
}
