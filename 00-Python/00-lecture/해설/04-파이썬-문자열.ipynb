{
 "cells": [
  {
   "cell_type": "markdown",
   "metadata": {
    "id": "yhrjrcX50_xk"
   },
   "source": [
    "# 문자열"
   ]
  },
  {
   "cell_type": "markdown",
   "metadata": {
    "id": "af-WjtP-6EHN"
   },
   "source": [
    "데이터 분석에 있어서 문자열(텍스트) 데이터의 중요성\n",
    "\n",
    "- 자연어처리 데이터는 대부분이 텍스트 데이터로 이루어져 있습니다.\n",
    "- 우리가 흔히 접하는 Excel 혹은 Table 데이터안에도 수많은 텍스트 데이터가 존재합니다.\n",
    "- 게다가 우리나라는 영어와 더불어 **한글**까지 추가로 처리 할 수 있어야 합니다!!"
   ]
  },
  {
   "cell_type": "markdown",
   "metadata": {},
   "source": [
    "### 특성\n",
    "\n",
    "- 문자열 역시 리스트(list), 튜플(tuple)과 마찬가지로 sequence 형 자료구조를 가집니다.\n",
    "- 문자열은 불변(immutable) 객체입니다."
   ]
  },
  {
   "cell_type": "markdown",
   "metadata": {
    "id": "NuK-a3yR8d9b"
   },
   "source": [
    "### 문자열의 생성\n",
    "\n",
    "파이썬의 문자열은 작은 따옴표(**'**) 나 큰 따옴표(**\"**) 모두 구분없이 사용하여 문자열을 생성할 수 있습니다."
   ]
  },
  {
   "cell_type": "markdown",
   "metadata": {
    "id": "58vOhBsu6WLW"
   },
   "source": [
    "작은 따옴표(**'**) 사용"
   ]
  },
  {
   "cell_type": "code",
   "execution_count": 1,
   "metadata": {
    "colab": {
     "base_uri": "https://localhost:8080/",
     "height": 35
    },
    "id": "JXzjndKx6Tqq",
    "outputId": "110c7f13-b9ef-4206-ebf9-69fe1f52c54a"
   },
   "outputs": [
    {
     "data": {
      "text/plain": [
       "'안녕하세요? 반갑습니다.'"
      ]
     },
     "execution_count": 1,
     "metadata": {},
     "output_type": "execute_result"
    }
   ],
   "source": [
    "'안녕하세요? 반갑습니다.'"
   ]
  },
  {
   "cell_type": "markdown",
   "metadata": {
    "id": "5HX4SerY6X9F"
   },
   "source": [
    "큰 따옴표(**\"**) 사용"
   ]
  },
  {
   "cell_type": "code",
   "execution_count": 2,
   "metadata": {
    "colab": {
     "base_uri": "https://localhost:8080/",
     "height": 35
    },
    "id": "-PBmn72k6YFJ",
    "outputId": "3a31150a-7ce4-4ae4-fd75-87ad21d11d32"
   },
   "outputs": [
    {
     "data": {
      "text/plain": [
       "'안녕하세요? 반갑습니다.'"
      ]
     },
     "execution_count": 2,
     "metadata": {},
     "output_type": "execute_result"
    }
   ],
   "source": [
    "\"안녕하세요? 반갑습니다.\""
   ]
  },
  {
   "cell_type": "markdown",
   "metadata": {
    "id": "Wl5BW9ZY6b6N"
   },
   "source": [
    "작은 따옴표 3개 혹은 큰 따옴표 3개를 써서 **여러 줄의 문자열을 생성**할 수 있습니다."
   ]
  },
  {
   "cell_type": "code",
   "execution_count": 3,
   "metadata": {
    "colab": {
     "base_uri": "https://localhost:8080/",
     "height": 35
    },
    "id": "YX2-gHvH6YRE",
    "outputId": "14764494-1181-4886-b2d8-938fafafa4b8"
   },
   "outputs": [
    {
     "name": "stdout",
     "output_type": "stream",
     "text": [
      "안녕하세요? \n",
      "반가워요\n",
      "내이름은 \n",
      "파이썬 입니다.\n"
     ]
    }
   ],
   "source": [
    "sample = '''안녕하세요? \n",
    "반가워요\n",
    "내이름은 \n",
    "파이썬 입니다.'''\n",
    "\n",
    "print(sample)"
   ]
  },
  {
   "cell_type": "markdown",
   "metadata": {
    "id": "CYr2ZjlH8g77"
   },
   "source": [
    "## 문자열 출력 (포맷팅)"
   ]
  },
  {
   "cell_type": "markdown",
   "metadata": {
    "id": "G6S7kF158rD9"
   },
   "source": [
    "### print() : 출력"
   ]
  },
  {
   "cell_type": "code",
   "execution_count": 4,
   "metadata": {
    "colab": {
     "base_uri": "https://localhost:8080/",
     "height": 35
    },
    "id": "xw3G7lRN80nO",
    "outputId": "c263ee57-510e-4db1-dcbe-28e82bf5f0fd"
   },
   "outputs": [
    {
     "name": "stdout",
     "output_type": "stream",
     "text": [
      "헬로우 파이썬\n"
     ]
    }
   ],
   "source": [
    "print('헬로우 파이썬')"
   ]
  },
  {
   "cell_type": "code",
   "execution_count": 5,
   "metadata": {
    "colab": {
     "base_uri": "https://localhost:8080/",
     "height": 35
    },
    "id": "yVHPxpah84Ng",
    "outputId": "1e3fa3c4-e70c-403b-d606-be331aec4d6c"
   },
   "outputs": [
    {
     "name": "stdout",
     "output_type": "stream",
     "text": [
      "문자열 첫째 그리고, 둘째\n"
     ]
    }
   ],
   "source": [
    "print('문자열 첫째', '그리고, 둘째')"
   ]
  },
  {
   "cell_type": "markdown",
   "metadata": {
    "id": "EKla2fH0_rRt"
   },
   "source": [
    "### f 문자열 포맷팅 (python 3.6 이상만 지원)"
   ]
  },
  {
   "cell_type": "code",
   "execution_count": 16,
   "metadata": {
    "colab": {
     "base_uri": "https://localhost:8080/",
     "height": 35
    },
    "id": "8fAI91HW_w1O",
    "outputId": "46f089cd-c5c6-4756-886e-d55425bd6542"
   },
   "outputs": [
    {
     "name": "stdout",
     "output_type": "stream",
     "text": [
      "나의 이름은 펭수입니다. 나이는 10 살입니다.\n"
     ]
    }
   ],
   "source": [
    "name = '펭수'\n",
    "age = 10\n",
    "print(f'나의 이름은 {name}입니다. 나이는 {age} 살입니다.')"
   ]
  },
  {
   "cell_type": "code",
   "execution_count": 17,
   "metadata": {
    "colab": {
     "base_uri": "https://localhost:8080/",
     "height": 35
    },
    "id": "1zx2auV4_3fu",
    "outputId": "68abf497-46a2-4d0e-e88e-da2eb65e00c3"
   },
   "outputs": [
    {
     "name": "stdout",
     "output_type": "stream",
     "text": [
      "내년에 저는 11 살입니다.\n"
     ]
    }
   ],
   "source": [
    "print(f'내년에 저는 {age+1} 살입니다.')"
   ]
  },
  {
   "cell_type": "code",
   "execution_count": 18,
   "metadata": {
    "id": "90vy6SCUADEu"
   },
   "outputs": [],
   "source": [
    "d = {'name':'펭수', 'age':10}"
   ]
  },
  {
   "cell_type": "code",
   "execution_count": 19,
   "metadata": {
    "colab": {
     "base_uri": "https://localhost:8080/",
     "height": 35
    },
    "id": "sk6wcosPAGX9",
    "outputId": "9588acb6-0b60-47c1-d5ff-9f18d3a98886"
   },
   "outputs": [
    {
     "name": "stdout",
     "output_type": "stream",
     "text": [
      "반가워요. 저는 펭수입니다. 저의 나이는 10 살입니다.\n"
     ]
    }
   ],
   "source": [
    "print(f\"반가워요. 저는 {d['name']}입니다. 저의 나이는 {d['age']} 살입니다.\")"
   ]
  },
  {
   "cell_type": "markdown",
   "metadata": {
    "id": "fYYXjPApww5F"
   },
   "source": [
    "## 인덱싱 (indexing)\n",
    "\n",
    "- 문자열에서 한 개의 글자(char)를 조회하기 위해서는 **[]를 활용한 인덱싱으로 조회**할 수 있습니다."
   ]
  },
  {
   "cell_type": "code",
   "execution_count": 28,
   "metadata": {},
   "outputs": [
    {
     "data": {
      "text/plain": [
       "'Python is my life'"
      ]
     },
     "execution_count": 28,
     "metadata": {},
     "output_type": "execute_result"
    }
   ],
   "source": [
    "a = 'Python is my life'\n",
    "a"
   ]
  },
  {
   "cell_type": "markdown",
   "metadata": {},
   "source": [
    "<div class=\"jp-RenderedHTMLCommon jp-RenderedMarkdown jp-MarkdownOutput \" data-mime-type=\"text/markdown\">\n",
    "<table>\n",
    "<thead><tr>\n",
    "<th>P</th>\n",
    "<th>y</th>\n",
    "<th>t</th>\n",
    "<th>h</th>\n",
    "<th>o</th>\n",
    "<th>n</th>\n",
    "<th></th>\n",
    "<th>i</th>\n",
    "<th>s</th>\n",
    "<th></th>\n",
    "<th>m</th>\n",
    "<th>y</th>\n",
    "<th></th>\n",
    "<th>l</th>\n",
    "<th>i</th>\n",
    "<th>f</th>\n",
    "<th>e</th>\n",
    "</tr>\n",
    "</thead>\n",
    "<tbody>\n",
    "<tr>\n",
    "<td>0</td>\n",
    "<td>1</td>\n",
    "<td>2</td>\n",
    "<td>3</td>\n",
    "<td>4</td>\n",
    "<td>5</td>\n",
    "<td>6</td>\n",
    "<td>7</td>\n",
    "<td>8</td>\n",
    "<td>9</td>\n",
    "<td>10</td>\n",
    "<td>11</td>\n",
    "<td>12</td>\n",
    "<td>13</td>\n",
    "<td>14</td>\n",
    "<td>15</td>\n",
    "<td>16</td>\n",
    "</tr>\n",
    "<tr>\n",
    "<td>-17</td>\n",
    "<td>-16</td>\n",
    "<td>-15</td>\n",
    "<td>-14</td>\n",
    "<td>-13</td>\n",
    "<td>-12</td>\n",
    "<td>-11</td>\n",
    "<td>-10</td>\n",
    "<td>-9</td>\n",
    "<td>-8</td>\n",
    "<td>-7</td>\n",
    "<td>-6</td>\n",
    "<td>-5</td>\n",
    "<td>-4</td>\n",
    "<td>-3</td>\n",
    "<td>-2</td>\n",
    "<td>-1</td>\n",
    "</tr>\n",
    "</tbody>\n",
    "</table>\n",
    "\n",
    "</div>"
   ]
  },
  {
   "cell_type": "code",
   "execution_count": 29,
   "metadata": {
    "colab": {
     "base_uri": "https://localhost:8080/",
     "height": 35
    },
    "id": "_Ee3pk7axjxw",
    "outputId": "49b525ca-6800-4d5e-dee7-11782c65882d"
   },
   "outputs": [
    {
     "data": {
      "text/plain": [
       "'P'"
      ]
     },
     "execution_count": 29,
     "metadata": {},
     "output_type": "execute_result"
    }
   ],
   "source": [
    "a[0]"
   ]
  },
  {
   "cell_type": "code",
   "execution_count": 30,
   "metadata": {
    "colab": {
     "base_uri": "https://localhost:8080/",
     "height": 35
    },
    "id": "wrjfuPlrxm8E",
    "outputId": "f38104d4-012e-4808-a0d5-ffef2e8fe16d"
   },
   "outputs": [
    {
     "data": {
      "text/plain": [
       "'f'"
      ]
     },
     "execution_count": 30,
     "metadata": {},
     "output_type": "execute_result"
    }
   ],
   "source": [
    "a[-2]"
   ]
  },
  {
   "cell_type": "markdown",
   "metadata": {
    "id": "uQtvUw-txhmT"
   },
   "source": [
    "## 슬라이싱 (Slicing)\n",
    "\n",
    "- 슬라이싱의 활용: [start:stop:step] 을 명시하여 부분을 추출할 수 있습니다."
   ]
  },
  {
   "cell_type": "code",
   "execution_count": 33,
   "metadata": {},
   "outputs": [
    {
     "data": {
      "text/plain": [
       "'Python is my life'"
      ]
     },
     "execution_count": 33,
     "metadata": {},
     "output_type": "execute_result"
    }
   ],
   "source": [
    "a = 'Python is my life'\n",
    "a"
   ]
  },
  {
   "cell_type": "markdown",
   "metadata": {},
   "source": [
    "<div class=\"jp-RenderedHTMLCommon jp-RenderedMarkdown jp-MarkdownOutput \" data-mime-type=\"text/markdown\">\n",
    "<table>\n",
    "<thead><tr>\n",
    "<th>P</th>\n",
    "<th>y</th>\n",
    "<th>t</th>\n",
    "<th>h</th>\n",
    "<th>o</th>\n",
    "<th>n</th>\n",
    "<th></th>\n",
    "<th>i</th>\n",
    "<th>s</th>\n",
    "<th></th>\n",
    "<th>m</th>\n",
    "<th>y</th>\n",
    "<th></th>\n",
    "<th>l</th>\n",
    "<th>i</th>\n",
    "<th>f</th>\n",
    "<th>e</th>\n",
    "</tr>\n",
    "</thead>\n",
    "<tbody>\n",
    "<tr>\n",
    "<td>0</td>\n",
    "<td>1</td>\n",
    "<td>2</td>\n",
    "<td>3</td>\n",
    "<td>4</td>\n",
    "<td>5</td>\n",
    "<td>6</td>\n",
    "<td>7</td>\n",
    "<td>8</td>\n",
    "<td>9</td>\n",
    "<td>10</td>\n",
    "<td>11</td>\n",
    "<td>12</td>\n",
    "<td>13</td>\n",
    "<td>14</td>\n",
    "<td>15</td>\n",
    "<td>16</td>\n",
    "</tr>\n",
    "<tr>\n",
    "<td>-17</td>\n",
    "<td>-16</td>\n",
    "<td>-15</td>\n",
    "<td>-14</td>\n",
    "<td>-13</td>\n",
    "<td>-12</td>\n",
    "<td>-11</td>\n",
    "<td>-10</td>\n",
    "<td>-9</td>\n",
    "<td>-8</td>\n",
    "<td>-7</td>\n",
    "<td>-6</td>\n",
    "<td>-5</td>\n",
    "<td>-4</td>\n",
    "<td>-3</td>\n",
    "<td>-2</td>\n",
    "<td>-1</td>\n",
    "</tr>\n",
    "</tbody>\n",
    "</table>\n",
    "\n",
    "</div>"
   ]
  },
  {
   "cell_type": "markdown",
   "metadata": {},
   "source": [
    "[:]을 활용하여 전체를 추출할 수 있습니다."
   ]
  },
  {
   "cell_type": "code",
   "execution_count": 34,
   "metadata": {},
   "outputs": [
    {
     "data": {
      "text/plain": [
       "'Python is my life'"
      ]
     },
     "execution_count": 34,
     "metadata": {},
     "output_type": "execute_result"
    }
   ],
   "source": [
    "a[:]"
   ]
  },
  {
   "cell_type": "markdown",
   "metadata": {},
   "source": [
    "<div class=\"jp-RenderedHTMLCommon jp-RenderedMarkdown jp-MarkdownOutput \" data-mime-type=\"text/markdown\">\n",
    "<table>\n",
    "<thead><tr>\n",
    "<th>P</th>\n",
    "<th>y</th>\n",
    "<th>t</th>\n",
    "<th>h</th>\n",
    "<th>o</th>\n",
    "<th>n</th>\n",
    "<th></th>\n",
    "<th>i</th>\n",
    "<th>s</th>\n",
    "<th></th>\n",
    "<th>m</th>\n",
    "<th>y</th>\n",
    "<th></th>\n",
    "<th>l</th>\n",
    "<th>i</th>\n",
    "<th>f</th>\n",
    "<th>e</th>\n",
    "</tr>\n",
    "</thead>\n",
    "<tbody>\n",
    "<tr>\n",
    "<td>0</td>\n",
    "<td>1</td>\n",
    "<td>2</td>\n",
    "<td>3</td>\n",
    "<td>4</td>\n",
    "<td>5</td>\n",
    "<td>6</td>\n",
    "<td>7</td>\n",
    "<td>8</td>\n",
    "<td>9</td>\n",
    "<td>10</td>\n",
    "<td>11</td>\n",
    "<td>12</td>\n",
    "<td>13</td>\n",
    "<td>14</td>\n",
    "<td>15</td>\n",
    "<td>16</td>\n",
    "</tr>\n",
    "<tr>\n",
    "<td>-17</td>\n",
    "<td>-16</td>\n",
    "<td>-15</td>\n",
    "<td>-14</td>\n",
    "<td>-13</td>\n",
    "<td>-12</td>\n",
    "<td>-11</td>\n",
    "<td>-10</td>\n",
    "<td>-9</td>\n",
    "<td>-8</td>\n",
    "<td>-7</td>\n",
    "<td>-6</td>\n",
    "<td>-5</td>\n",
    "<td>-4</td>\n",
    "<td>-3</td>\n",
    "<td>-2</td>\n",
    "<td>-1</td>\n",
    "</tr>\n",
    "</tbody>\n",
    "</table>\n",
    "\n",
    "</div>"
   ]
  },
  {
   "cell_type": "markdown",
   "metadata": {},
   "source": [
    "[start:]는 시작 index 부터 끝까지 추출합니다."
   ]
  },
  {
   "cell_type": "code",
   "execution_count": 35,
   "metadata": {},
   "outputs": [
    {
     "data": {
      "text/plain": [
       "'hon is my life'"
      ]
     },
     "execution_count": 35,
     "metadata": {},
     "output_type": "execute_result"
    }
   ],
   "source": [
    "a[3:]"
   ]
  },
  {
   "cell_type": "code",
   "execution_count": 36,
   "metadata": {},
   "outputs": [
    {
     "data": {
      "text/plain": [
       "'life'"
      ]
     },
     "execution_count": 36,
     "metadata": {},
     "output_type": "execute_result"
    }
   ],
   "source": [
    "a[-4:]"
   ]
  },
  {
   "cell_type": "markdown",
   "metadata": {},
   "source": [
    "<div class=\"jp-RenderedHTMLCommon jp-RenderedMarkdown jp-MarkdownOutput \" data-mime-type=\"text/markdown\">\n",
    "<table>\n",
    "<thead><tr>\n",
    "<th>P</th>\n",
    "<th>y</th>\n",
    "<th>t</th>\n",
    "<th>h</th>\n",
    "<th>o</th>\n",
    "<th>n</th>\n",
    "<th></th>\n",
    "<th>i</th>\n",
    "<th>s</th>\n",
    "<th></th>\n",
    "<th>m</th>\n",
    "<th>y</th>\n",
    "<th></th>\n",
    "<th>l</th>\n",
    "<th>i</th>\n",
    "<th>f</th>\n",
    "<th>e</th>\n",
    "</tr>\n",
    "</thead>\n",
    "<tbody>\n",
    "<tr>\n",
    "<td>0</td>\n",
    "<td>1</td>\n",
    "<td>2</td>\n",
    "<td>3</td>\n",
    "<td>4</td>\n",
    "<td>5</td>\n",
    "<td>6</td>\n",
    "<td>7</td>\n",
    "<td>8</td>\n",
    "<td>9</td>\n",
    "<td>10</td>\n",
    "<td>11</td>\n",
    "<td>12</td>\n",
    "<td>13</td>\n",
    "<td>14</td>\n",
    "<td>15</td>\n",
    "<td>16</td>\n",
    "</tr>\n",
    "<tr>\n",
    "<td>-17</td>\n",
    "<td>-16</td>\n",
    "<td>-15</td>\n",
    "<td>-14</td>\n",
    "<td>-13</td>\n",
    "<td>-12</td>\n",
    "<td>-11</td>\n",
    "<td>-10</td>\n",
    "<td>-9</td>\n",
    "<td>-8</td>\n",
    "<td>-7</td>\n",
    "<td>-6</td>\n",
    "<td>-5</td>\n",
    "<td>-4</td>\n",
    "<td>-3</td>\n",
    "<td>-2</td>\n",
    "<td>-1</td>\n",
    "</tr>\n",
    "</tbody>\n",
    "</table>\n",
    "\n",
    "</div>"
   ]
  },
  {
   "cell_type": "markdown",
   "metadata": {},
   "source": [
    "[:end]는 처음부터 end 전까지 추출합니다."
   ]
  },
  {
   "cell_type": "code",
   "execution_count": 37,
   "metadata": {
    "colab": {
     "base_uri": "https://localhost:8080/",
     "height": 35
    },
    "id": "GuwSW6AfxHlO",
    "outputId": "65f38fa1-662b-4784-85e3-6417da4a5871"
   },
   "outputs": [
    {
     "data": {
      "text/plain": [
       "'Python'"
      ]
     },
     "execution_count": 37,
     "metadata": {},
     "output_type": "execute_result"
    }
   ],
   "source": [
    "a[:6]"
   ]
  },
  {
   "cell_type": "code",
   "execution_count": 38,
   "metadata": {
    "colab": {
     "base_uri": "https://localhost:8080/",
     "height": 35
    },
    "id": "PJU7lxPfxK-K",
    "outputId": "16be18e6-6b16-4a30-9767-9649e8032288"
   },
   "outputs": [
    {
     "data": {
      "text/plain": [
       "'Python is my l'"
      ]
     },
     "execution_count": 38,
     "metadata": {},
     "output_type": "execute_result"
    }
   ],
   "source": [
    "a[:-3]"
   ]
  },
  {
   "cell_type": "markdown",
   "metadata": {},
   "source": [
    "<div class=\"jp-RenderedHTMLCommon jp-RenderedMarkdown jp-MarkdownOutput \" data-mime-type=\"text/markdown\">\n",
    "<table>\n",
    "<thead><tr>\n",
    "<th>P</th>\n",
    "<th>y</th>\n",
    "<th>t</th>\n",
    "<th>h</th>\n",
    "<th>o</th>\n",
    "<th>n</th>\n",
    "<th></th>\n",
    "<th>i</th>\n",
    "<th>s</th>\n",
    "<th></th>\n",
    "<th>m</th>\n",
    "<th>y</th>\n",
    "<th></th>\n",
    "<th>l</th>\n",
    "<th>i</th>\n",
    "<th>f</th>\n",
    "<th>e</th>\n",
    "</tr>\n",
    "</thead>\n",
    "<tbody>\n",
    "<tr>\n",
    "<td>0</td>\n",
    "<td>1</td>\n",
    "<td>2</td>\n",
    "<td>3</td>\n",
    "<td>4</td>\n",
    "<td>5</td>\n",
    "<td>6</td>\n",
    "<td>7</td>\n",
    "<td>8</td>\n",
    "<td>9</td>\n",
    "<td>10</td>\n",
    "<td>11</td>\n",
    "<td>12</td>\n",
    "<td>13</td>\n",
    "<td>14</td>\n",
    "<td>15</td>\n",
    "<td>16</td>\n",
    "</tr>\n",
    "<tr>\n",
    "<td>-17</td>\n",
    "<td>-16</td>\n",
    "<td>-15</td>\n",
    "<td>-14</td>\n",
    "<td>-13</td>\n",
    "<td>-12</td>\n",
    "<td>-11</td>\n",
    "<td>-10</td>\n",
    "<td>-9</td>\n",
    "<td>-8</td>\n",
    "<td>-7</td>\n",
    "<td>-6</td>\n",
    "<td>-5</td>\n",
    "<td>-4</td>\n",
    "<td>-3</td>\n",
    "<td>-2</td>\n",
    "<td>-1</td>\n",
    "</tr>\n",
    "</tbody>\n",
    "</table>\n",
    "\n",
    "</div>"
   ]
  },
  {
   "cell_type": "markdown",
   "metadata": {},
   "source": [
    "[start:end]는 start부터 end 전까지 추출합니다."
   ]
  },
  {
   "cell_type": "code",
   "execution_count": 39,
   "metadata": {
    "colab": {
     "base_uri": "https://localhost:8080/",
     "height": 35
    },
    "id": "D0nLAaU9xV3E",
    "outputId": "d51d202e-f3a6-4b93-f356-c84c0479a7bf"
   },
   "outputs": [
    {
     "data": {
      "text/plain": [
       "'hon'"
      ]
     },
     "execution_count": 39,
     "metadata": {},
     "output_type": "execute_result"
    }
   ],
   "source": [
    "a[3:6]"
   ]
  },
  {
   "cell_type": "markdown",
   "metadata": {},
   "source": [
    "[start:stop:step]에서 step 지정시 step만큼 건너 뛰면서 추출합니다."
   ]
  },
  {
   "cell_type": "code",
   "execution_count": 40,
   "metadata": {
    "colab": {
     "base_uri": "https://localhost:8080/",
     "height": 35
    },
    "id": "lVNSxsf7xZdK",
    "outputId": "e4723212-9cbd-4215-cb06-d3efb3c4e213"
   },
   "outputs": [
    {
     "data": {
      "text/plain": [
       "'Pto sm ie'"
      ]
     },
     "execution_count": 40,
     "metadata": {},
     "output_type": "execute_result"
    }
   ],
   "source": [
    "a[::2]"
   ]
  },
  {
   "cell_type": "markdown",
   "metadata": {},
   "source": [
    "역순으로 출력하기 위해서는 step을 -1로 지정합니다."
   ]
  },
  {
   "cell_type": "code",
   "execution_count": 41,
   "metadata": {},
   "outputs": [
    {
     "data": {
      "text/plain": [
       "'efil ym si nohtyP'"
      ]
     },
     "execution_count": 41,
     "metadata": {},
     "output_type": "execute_result"
    }
   ],
   "source": [
    "a[::-1]"
   ]
  },
  {
   "cell_type": "markdown",
   "metadata": {},
   "source": [
    "### 불변(immutable)\n",
    "\n",
    "- 문자열은 index를 통해 값을 수정 및 변경이 불가합니다.\n",
    "- 하지만 메서드(method)로 변경할 수 있습니다."
   ]
  },
  {
   "cell_type": "code",
   "execution_count": 44,
   "metadata": {
    "id": "dX6xkFv8ycbC"
   },
   "outputs": [],
   "source": [
    "a = 'Python is my life'"
   ]
  },
  {
   "cell_type": "markdown",
   "metadata": {},
   "source": [
    "index에 값을 할당하여 변경하려는 경우"
   ]
  },
  {
   "cell_type": "code",
   "execution_count": 45,
   "metadata": {
    "colab": {
     "base_uri": "https://localhost:8080/",
     "height": 172
    },
    "id": "d0OIpUlQyd98",
    "outputId": "90b091d3-4847-44ee-9f56-8cc2de111e8d"
   },
   "outputs": [
    {
     "ename": "TypeError",
     "evalue": "'str' object does not support item assignment",
     "output_type": "error",
     "traceback": [
      "\u001b[0;31m---------------------------------------------------------------------------\u001b[0m",
      "\u001b[0;31mTypeError\u001b[0m                                 Traceback (most recent call last)",
      "\u001b[0;32m/tmp/ipykernel_665849/1288146504.py\u001b[0m in \u001b[0;36m<module>\u001b[0;34m\u001b[0m\n\u001b[0;32m----> 1\u001b[0;31m \u001b[0ma\u001b[0m\u001b[0;34m[\u001b[0m\u001b[0;36m2\u001b[0m\u001b[0;34m]\u001b[0m \u001b[0;34m=\u001b[0m \u001b[0;34m'Y'\u001b[0m\u001b[0;34m\u001b[0m\u001b[0;34m\u001b[0m\u001b[0m\n\u001b[0m",
      "\u001b[0;31mTypeError\u001b[0m: 'str' object does not support item assignment"
     ]
    }
   ],
   "source": [
    "a[2] = 'Y'"
   ]
  },
  {
   "cell_type": "markdown",
   "metadata": {
    "id": "2VJuUbNy_ZUr"
   },
   "source": [
    "## 문자열의 list, set"
   ]
  },
  {
   "cell_type": "markdown",
   "metadata": {
    "id": "cST_Dqdov5gS"
   },
   "source": [
    "### 리스트(list)\n",
    "\n",
    "- 문자열을 리스트(list)로 타입 변환이 가능합니다.\n",
    "- 타입 변환시 한 글자를 요소로 갖는 리스트가 생성됩니다."
   ]
  },
  {
   "cell_type": "code",
   "execution_count": 50,
   "metadata": {
    "colab": {
     "base_uri": "https://localhost:8080/",
     "height": 35
    },
    "id": "SLWiM44c_cng",
    "outputId": "d1f8b8de-a238-42d2-e54c-d1b5d07cd944"
   },
   "outputs": [
    {
     "data": {
      "text/plain": [
       "['A', 'B', 'C', 'D', 'E']"
      ]
     },
     "execution_count": 50,
     "metadata": {},
     "output_type": "execute_result"
    }
   ],
   "source": [
    "list('ABCDE')"
   ]
  },
  {
   "cell_type": "markdown",
   "metadata": {
    "id": "Fb2mqFztv7uK"
   },
   "source": [
    "### 세트(set)\n",
    "\n",
    "- 한 글자를 요소로 갖는 세트가 생성됩니다.\n",
    "- 세트의 특성상 요소를 생성한 후 중복된 글자는 제거됩니다."
   ]
  },
  {
   "cell_type": "code",
   "execution_count": 51,
   "metadata": {
    "colab": {
     "base_uri": "https://localhost:8080/",
     "height": 35
    },
    "id": "XTEdxUag_evd",
    "outputId": "35ff62f3-7c61-4fe1-f243-2816f5ac2e23"
   },
   "outputs": [
    {
     "data": {
      "text/plain": [
       "{'A', 'B', 'C'}"
      ]
     },
     "execution_count": 51,
     "metadata": {},
     "output_type": "execute_result"
    }
   ],
   "source": [
    "set('AAABBBCCC')"
   ]
  },
  {
   "cell_type": "markdown",
   "metadata": {},
   "source": [
    "중복이 제거된 리스트로 생성하기 위해서는 list로 다시 타입 변환합니다."
   ]
  },
  {
   "cell_type": "code",
   "execution_count": 52,
   "metadata": {
    "colab": {
     "base_uri": "https://localhost:8080/",
     "height": 35
    },
    "id": "8ujXOXJp_eNh",
    "outputId": "2f286b1e-0145-4c3d-95b4-cb263ff65e95"
   },
   "outputs": [
    {
     "data": {
      "text/plain": [
       "['B', 'A', 'C']"
      ]
     },
     "execution_count": 52,
     "metadata": {},
     "output_type": "execute_result"
    }
   ],
   "source": [
    "list(set('AAABBBCCC'))"
   ]
  },
  {
   "cell_type": "markdown",
   "metadata": {
    "id": "X3drW8_W6_cP"
   },
   "source": [
    "## 문자열(텍스트)을 다루는 다양한 기능, 메서드(method)\n",
    "\n",
    "문자열만 가지고 있는 **고유의 편한 기능**들이 있습니다. \n",
    "\n",
    "우리는 이들 중 몇 가지를 배워 앞으로 유용하게 활용할 예정입니다."
   ]
  },
  {
   "cell_type": "markdown",
   "metadata": {
    "id": "b3crAbCA7Oy-"
   },
   "source": [
    "### split() : 분리"
   ]
  },
  {
   "cell_type": "markdown",
   "metadata": {
    "id": "OsAWWrld7UiV"
   },
   "source": [
    "- split은 문장을 특정 규칙에 의해 쪼개 주는 기능을 합니다.\n",
    "- 분리한 결과는 list 형식으로 값을 return 받습니다."
   ]
  },
  {
   "cell_type": "code",
   "execution_count": 55,
   "metadata": {
    "id": "FC4GEYLM7WmE"
   },
   "outputs": [],
   "source": [
    "a = 'This is a pen'"
   ]
  },
  {
   "cell_type": "markdown",
   "metadata": {},
   "source": [
    "기본 값으로 **공백**이 지정되어 있습니다. 즉, 공백을 기준으로 분리하여 리스트로 반환합니다."
   ]
  },
  {
   "cell_type": "code",
   "execution_count": 56,
   "metadata": {},
   "outputs": [
    {
     "data": {
      "text/plain": [
       "['This', 'is', 'a', 'pen']"
      ]
     },
     "execution_count": 56,
     "metadata": {},
     "output_type": "execute_result"
    }
   ],
   "source": [
    "a.split()"
   ]
  },
  {
   "cell_type": "markdown",
   "metadata": {
    "id": "JWUQvHVc7vql"
   },
   "source": [
    "기본 값인 **공백**에서 **특정 문자**로 지정할 수 있습니다."
   ]
  },
  {
   "cell_type": "code",
   "execution_count": 57,
   "metadata": {
    "id": "-CCwHeQk7hru"
   },
   "outputs": [],
   "source": [
    "a = 'This-is-a-pen'"
   ]
  },
  {
   "cell_type": "code",
   "execution_count": 58,
   "metadata": {
    "colab": {
     "base_uri": "https://localhost:8080/",
     "height": 35
    },
    "id": "fr07vyKD7lJd",
    "outputId": "7e557fd1-fe38-4c81-fff1-004c8169ade5"
   },
   "outputs": [
    {
     "data": {
      "text/plain": [
       "['This', 'is', 'a', 'pen']"
      ]
     },
     "execution_count": 58,
     "metadata": {},
     "output_type": "execute_result"
    }
   ],
   "source": [
    "a.split('-')"
   ]
  },
  {
   "cell_type": "markdown",
   "metadata": {},
   "source": [
    "**한글**도 동일하게 적용됩니다."
   ]
  },
  {
   "cell_type": "code",
   "execution_count": 59,
   "metadata": {
    "id": "8cV3DoUT8X5P"
   },
   "outputs": [],
   "source": [
    "a = '한글은 어떻게 될까요?'"
   ]
  },
  {
   "cell_type": "code",
   "execution_count": 60,
   "metadata": {
    "colab": {
     "base_uri": "https://localhost:8080/",
     "height": 35
    },
    "id": "Hjb4bU-a8Ebd",
    "outputId": "a3d178c5-1839-489c-c5f3-0e8a4cef4925"
   },
   "outputs": [
    {
     "data": {
      "text/plain": [
       "['한글은', '어떻게', '될까요?']"
      ]
     },
     "execution_count": 60,
     "metadata": {},
     "output_type": "execute_result"
    }
   ],
   "source": [
    "a.split()"
   ]
  },
  {
   "cell_type": "markdown",
   "metadata": {
    "id": "YiAIxxl3-JZk"
   },
   "source": [
    "### join() : 합치기\n",
    "\n",
    "- 결합하고자 하는 문자에 .join() 안에 리스트를 지정하여 결합할 수 있습니다."
   ]
  },
  {
   "cell_type": "code",
   "execution_count": 64,
   "metadata": {
    "colab": {
     "base_uri": "https://localhost:8080/",
     "height": 35
    },
    "id": "ovA1xnOEwSZ6",
    "outputId": "4efb4985-b9ea-4ca0-8ce8-b1d91b5d2613"
   },
   "outputs": [
    {
     "data": {
      "text/plain": [
       "'010-1234-5678'"
      ]
     },
     "execution_count": 64,
     "metadata": {},
     "output_type": "execute_result"
    }
   ],
   "source": [
    "'-'.join(['010',  '1234', '5678'])"
   ]
  },
  {
   "cell_type": "code",
   "execution_count": 65,
   "metadata": {
    "colab": {
     "base_uri": "https://localhost:8080/",
     "height": 35
    },
    "id": "qlufBtYj-Un_",
    "outputId": "3973d6fa-2ed0-46fe-f1c3-b94f378cecc9"
   },
   "outputs": [
    {
     "data": {
      "text/plain": [
       "'A-B-C-D-E'"
      ]
     },
     "execution_count": 65,
     "metadata": {},
     "output_type": "execute_result"
    }
   ],
   "source": [
    "'-'.join('ABCDE')"
   ]
  },
  {
   "cell_type": "markdown",
   "metadata": {
    "id": "dBxYW5wZ8GP-"
   },
   "source": [
    "### lower(), upper() : 소문자 / 대문자로 만들기"
   ]
  },
  {
   "cell_type": "code",
   "execution_count": 68,
   "metadata": {
    "id": "_jM72wdq8I5l"
   },
   "outputs": [],
   "source": [
    "a = 'My name is Teddy'"
   ]
  },
  {
   "cell_type": "markdown",
   "metadata": {},
   "source": [
    "소문자로 변경"
   ]
  },
  {
   "cell_type": "code",
   "execution_count": 69,
   "metadata": {
    "colab": {
     "base_uri": "https://localhost:8080/",
     "height": 35
    },
    "id": "nzwSAYnY8PMt",
    "outputId": "530e8821-810f-4732-ad41-ea313e3fe180"
   },
   "outputs": [
    {
     "data": {
      "text/plain": [
       "'my name is teddy'"
      ]
     },
     "execution_count": 69,
     "metadata": {},
     "output_type": "execute_result"
    }
   ],
   "source": [
    "a.lower()"
   ]
  },
  {
   "cell_type": "markdown",
   "metadata": {},
   "source": [
    "대문자로 변경"
   ]
  },
  {
   "cell_type": "code",
   "execution_count": 70,
   "metadata": {
    "colab": {
     "base_uri": "https://localhost:8080/",
     "height": 35
    },
    "id": "-WzdUBjE8Q45",
    "outputId": "816f449c-b253-49a1-8413-9cf25d006f8c"
   },
   "outputs": [
    {
     "data": {
      "text/plain": [
       "'MY NAME IS TEDDY'"
      ]
     },
     "execution_count": 70,
     "metadata": {},
     "output_type": "execute_result"
    }
   ],
   "source": [
    "a.upper()"
   ]
  },
  {
   "cell_type": "markdown",
   "metadata": {},
   "source": [
    "한글에는 대소문자 구분이 없습니다."
   ]
  },
  {
   "cell_type": "code",
   "execution_count": 71,
   "metadata": {
    "id": "LCvVGpAs8V_e"
   },
   "outputs": [],
   "source": [
    "a = '한글엔 대소문자가 없어요ㅠ'"
   ]
  },
  {
   "cell_type": "code",
   "execution_count": 72,
   "metadata": {
    "colab": {
     "base_uri": "https://localhost:8080/",
     "height": 35
    },
    "id": "Als5HOz28hM5",
    "outputId": "8cb20266-d096-4917-e9e5-73f7c9c5ddcd"
   },
   "outputs": [
    {
     "data": {
      "text/plain": [
       "'한글엔 대소문자가 없어요ㅠ'"
      ]
     },
     "execution_count": 72,
     "metadata": {},
     "output_type": "execute_result"
    }
   ],
   "source": [
    "a.lower()"
   ]
  },
  {
   "cell_type": "code",
   "execution_count": 73,
   "metadata": {
    "colab": {
     "base_uri": "https://localhost:8080/",
     "height": 35
    },
    "id": "rjPBxrK08iFt",
    "outputId": "84927478-b332-43de-e3f2-84e00d38196d"
   },
   "outputs": [
    {
     "data": {
      "text/plain": [
       "'한글엔 대소문자가 없어요ㅠ'"
      ]
     },
     "execution_count": 73,
     "metadata": {},
     "output_type": "execute_result"
    }
   ],
   "source": [
    "a.upper()"
   ]
  },
  {
   "cell_type": "markdown",
   "metadata": {
    "id": "BlmsgCrK9VVk"
   },
   "source": [
    "## replace() : 문자열 바꾸기\n",
    "\n",
    "- 문자열에 **replace(바꿀 대상, 바꾸려는 문자열)** 지정하여 문자열을 변경합니다.\n",
    "- 결과는 복사본이 만들어져 반환됩니다."
   ]
  },
  {
   "cell_type": "code",
   "execution_count": 79,
   "metadata": {
    "id": "ANj2HqcK9Vb8"
   },
   "outputs": [],
   "source": [
    "a = '01-sample.png'"
   ]
  },
  {
   "cell_type": "code",
   "execution_count": 80,
   "metadata": {
    "colab": {
     "base_uri": "https://localhost:8080/",
     "height": 35
    },
    "id": "EEjlaLiV9end",
    "outputId": "787c736d-1dca-4fbb-cce8-85e97b3f59be"
   },
   "outputs": [
    {
     "data": {
      "text/plain": [
       "'01-sample.jpg'"
      ]
     },
     "execution_count": 80,
     "metadata": {},
     "output_type": "execute_result"
    }
   ],
   "source": [
    "a.replace('.png', '.jpg')"
   ]
  }
 ],
 "metadata": {
  "colab": {
   "collapsed_sections": [],
   "name": "02 - 파이썬 - 문자열 (해설)",
   "provenance": []
  },
  "kernelspec": {
   "display_name": "Python 3 (ipykernel)",
   "language": "python",
   "name": "python3"
  },
  "language_info": {
   "codemirror_mode": {
    "name": "ipython",
    "version": 3
   },
   "file_extension": ".py",
   "mimetype": "text/x-python",
   "name": "python",
   "nbconvert_exporter": "python",
   "pygments_lexer": "ipython3",
   "version": "3.8.13"
  }
 },
 "nbformat": 4,
 "nbformat_minor": 1
}
