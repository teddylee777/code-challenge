{
 "cells": [
  {
   "cell_type": "code",
   "execution_count": null,
   "metadata": {
    "id": "i6ogYvcyVcPr"
   },
   "outputs": [],
   "source": [
    "from IPython.display import Image\n",
    "import pandas as pd\n",
    "import matplotlib.pyplot as plt\n",
    "import seaborn as sns\n",
    "import warnings\n",
    "\n",
    "# 경고 메시지 출력 표기 생략\n",
    "warnings.filterwarnings('ignore')\n",
    "\n",
    "# unicode 에러\n",
    "plt.rcParams['axes.unicode_minus'] = False"
   ]
  },
  {
   "cell_type": "markdown",
   "metadata": {
    "id": "jqoxzIhTg6od"
   },
   "source": [
    "## 표준화 (Standardization)"
   ]
  },
  {
   "cell_type": "markdown",
   "metadata": {
    "id": "kftYVDXDVcPu"
   },
   "source": [
    "표준화는 데이터의 **평균을 0 분산 및 표준편차를 1**로 만들어 줍니다."
   ]
  },
  {
   "cell_type": "markdown",
   "metadata": {
    "id": "ArK9vI2nVcPu"
   },
   "source": [
    "**표준화를 하는 이유**\n",
    "\n",
    "- 서로 **다른 통계 데이터들을 비교하기 용이**하기 때문입니다.\n",
    "- 표준화를 하면 평균은 0, 분산과 표준편차는 1로 만들어 데이터의 **분포를 단순화 시키고, 비교를 용이**하게 합니다."
   ]
  },
  {
   "cell_type": "markdown",
   "metadata": {
    "id": "0lqevm3TVcPv"
   },
   "source": [
    "### 표준화 공식"
   ]
  },
  {
   "cell_type": "markdown",
   "metadata": {},
   "source": [
    "$\\Large z = \\frac{(X - \\mu)}{\\sigma}$"
   ]
  },
  {
   "cell_type": "markdown",
   "metadata": {
    "id": "webbCM04VcPx"
   },
   "source": [
    "### 샘플데이터"
   ]
  },
  {
   "cell_type": "markdown",
   "metadata": {
    "id": "Mf-Ozr-oVcPy"
   },
   "source": [
    "iris 붓꽃 샘플데이터를 가져옵니다."
   ]
  },
  {
   "cell_type": "code",
   "execution_count": null,
   "metadata": {
    "id": "VmM2JCWpVcPy"
   },
   "outputs": [],
   "source": [
    "from sklearn.datasets import load_iris"
   ]
  },
  {
   "cell_type": "markdown",
   "metadata": {},
   "source": [
    "- iris 데이터를 가져와 `iris` 변수에 대입합니다."
   ]
  },
  {
   "cell_type": "code",
   "execution_count": null,
   "metadata": {
    "id": "VmM2JCWpVcPy"
   },
   "outputs": [],
   "source": [
    "# 코드를 입력해 주세요\n",
    "iris = "
   ]
  },
  {
   "cell_type": "markdown",
   "metadata": {},
   "source": [
    "`iris` 데이터를 활용하여 **DataFrame을 생성**해 주세요"
   ]
  },
  {
   "cell_type": "code",
   "execution_count": null,
   "metadata": {
    "id": "VmM2JCWpVcPy"
   },
   "outputs": [],
   "source": [
    "# 코드를 입력해 주세요\n",
    "df = \n",
    "\n",
    "df.head()"
   ]
  },
  {
   "cell_type": "markdown",
   "metadata": {},
   "source": [
    "<p><strong>[출력 결과]</strong></p><div>\n",
    "<style scoped>\n",
    "    .dataframe tbody tr th:only-of-type {\n",
    "        vertical-align: middle;\n",
    "    }\n",
    "\n",
    "    .dataframe tbody tr th {\n",
    "        vertical-align: top;\n",
    "    }\n",
    "\n",
    "    .dataframe thead th {\n",
    "        text-align: right;\n",
    "    }\n",
    "</style>\n",
    "<table border=\"1\" class=\"dataframe\">\n",
    "  <thead>\n",
    "    <tr style=\"text-align: right;\">\n",
    "      <th></th>\n",
    "      <th>sepal length (cm)</th>\n",
    "      <th>sepal width (cm)</th>\n",
    "      <th>petal length (cm)</th>\n",
    "      <th>petal width (cm)</th>\n",
    "      <th>target</th>\n",
    "    </tr>\n",
    "  </thead>\n",
    "  <tbody>\n",
    "    <tr>\n",
    "      <th>0</th>\n",
    "      <td>5.1</td>\n",
    "      <td>3.5</td>\n",
    "      <td>1.4</td>\n",
    "      <td>0.2</td>\n",
    "      <td>0</td>\n",
    "    </tr>\n",
    "    <tr>\n",
    "      <th>1</th>\n",
    "      <td>4.9</td>\n",
    "      <td>3.0</td>\n",
    "      <td>1.4</td>\n",
    "      <td>0.2</td>\n",
    "      <td>0</td>\n",
    "    </tr>\n",
    "    <tr>\n",
    "      <th>2</th>\n",
    "      <td>4.7</td>\n",
    "      <td>3.2</td>\n",
    "      <td>1.3</td>\n",
    "      <td>0.2</td>\n",
    "      <td>0</td>\n",
    "    </tr>\n",
    "    <tr>\n",
    "      <th>3</th>\n",
    "      <td>4.6</td>\n",
    "      <td>3.1</td>\n",
    "      <td>1.5</td>\n",
    "      <td>0.2</td>\n",
    "      <td>0</td>\n",
    "    </tr>\n",
    "    <tr>\n",
    "      <th>4</th>\n",
    "      <td>5.0</td>\n",
    "      <td>3.6</td>\n",
    "      <td>1.4</td>\n",
    "      <td>0.2</td>\n",
    "      <td>0</td>\n",
    "    </tr>\n",
    "  </tbody>\n",
    "</table>\n",
    "</div>"
   ]
  },
  {
   "cell_type": "markdown",
   "metadata": {
    "id": "tA356swDVcP0"
   },
   "source": [
    "4개의 feature 데이터 중 `sepal length (cm)`의 feature만 임의로 선택하여 `X` 변수에 저장합니다."
   ]
  },
  {
   "cell_type": "markdown",
   "metadata": {},
   "source": [
    "`sepal length (cm)` 컬럼만 `X` 변수에 저장"
   ]
  },
  {
   "cell_type": "code",
   "execution_count": null,
   "metadata": {
    "id": "nR-lv0DwVcP0"
   },
   "outputs": [],
   "source": [
    "# 코드를 입력해 주세요\n",
    "X = "
   ]
  },
  {
   "cell_type": "markdown",
   "metadata": {
    "id": "2kz4qsrGVcP2"
   },
   "source": [
    "### 표준화 코드 구현"
   ]
  },
  {
   "cell_type": "markdown",
   "metadata": {
    "id": "0AfCTLvRVcP2"
   },
   "source": [
    "표준화를 Python으로 직접 구현하면 다음과 같습니다. 공식을 그대로 코드로 옮기면 됩니다.\n",
    "\n",
    "- `X_` 변수에 바로 위에서 만든 `X` 변수를 표준화를 거친 후 결과를 담습니다."
   ]
  },
  {
   "cell_type": "markdown",
   "metadata": {},
   "source": [
    "$\\Large z = \\frac{(X - \\mu)}{\\sigma}$"
   ]
  },
  {
   "cell_type": "code",
   "execution_count": null,
   "metadata": {
    "id": "1sXIKk9vVcP3"
   },
   "outputs": [],
   "source": [
    "# 코드를 입력해 주세요\n",
    "X_ = "
   ]
  },
  {
   "cell_type": "markdown",
   "metadata": {
    "id": "mu5VpkMpVcP5"
   },
   "source": [
    "### 시각화"
   ]
  },
  {
   "cell_type": "markdown",
   "metadata": {
    "id": "dJw79hDkVcP5"
   },
   "source": [
    "**시각화**로 표준화의 전과 후를 비교합니다."
   ]
  },
  {
   "cell_type": "code",
   "execution_count": null,
   "metadata": {
    "id": "R3xrnqq-VcP5",
    "outputId": "2f6ac67d-efb1-421e-b644-a7f3e4c7825f"
   },
   "outputs": [],
   "source": [
    "plt.figure(figsize=(12, 6))\n",
    "plt.subplot(1, 2, 1)\n",
    "sns.distplot(X, bins=5, color='b')\n",
    "plt.title('Original', fontsize=16)\n",
    "\n",
    "plt.subplot(1, 2, 2)\n",
    "sns.distplot(X_, bins=5, color='r')\n",
    "plt.title('Standardization', fontsize=16)\n",
    "plt.show()"
   ]
  },
  {
   "cell_type": "markdown",
   "metadata": {
    "id": "w7jWHyP9hIgS"
   },
   "source": [
    "### iris 붓꽃 데이터 분포 시각화"
   ]
  },
  {
   "cell_type": "code",
   "execution_count": null,
   "metadata": {
    "colab": {
     "base_uri": "https://localhost:8080/",
     "height": 444
    },
    "id": "Q4261LvPhImC",
    "outputId": "c8bd050b-fb03-425a-ee49-6ab4bdb8d59d"
   },
   "outputs": [],
   "source": [
    "plt.figure(figsize=(12, 6))\n",
    "plt.subplot(1, 2, 1)\n",
    "sns.scatterplot(df['sepal length (cm)'], df['sepal width (cm)'], hue=df['target'], palette='Set1')\n",
    "plt.title('Sepal', fontsize=16)\n",
    "\n",
    "plt.subplot(1, 2, 2)\n",
    "sns.scatterplot(df['petal length (cm)'], df['petal width (cm)'], hue=df['target'], palette='Set1')\n",
    "plt.title('Petal', fontsize=16)\n",
    "plt.show()"
   ]
  },
  {
   "cell_type": "markdown",
   "metadata": {
    "id": "KOxFzsBoVcP_"
   },
   "source": [
    "## StandardScaler의 활용"
   ]
  },
  {
   "cell_type": "markdown",
   "metadata": {
    "id": "wfJ_MwV2VcP_"
   },
   "source": [
    "`sklearn.preprocesssing` 에 `StandardScaler`로 표준화 (Standardization) 할 수 있습니다."
   ]
  },
  {
   "cell_type": "code",
   "execution_count": null,
   "metadata": {
    "id": "QpKh4lNPiLNf"
   },
   "outputs": [],
   "source": [
    "from sklearn.preprocessing import StandardScaler"
   ]
  },
  {
   "cell_type": "code",
   "execution_count": null,
   "metadata": {
    "id": "apJBRqXwiLJf"
   },
   "outputs": [],
   "source": [
    "# 코드를 입력해 주세요\n",
    "scaler = "
   ]
  },
  {
   "cell_type": "markdown",
   "metadata": {},
   "source": [
    "feature 데이터를 표준화 합니다. (표준화 할 때는 Y 값은 제외합니다.)"
   ]
  },
  {
   "cell_type": "code",
   "execution_count": null,
   "metadata": {
    "id": "ygbxHQKIiLEm"
   },
   "outputs": [],
   "source": [
    "# 코드를 입력해 주세요\n",
    "scaled_data = "
   ]
  },
  {
   "cell_type": "code",
   "execution_count": null,
   "metadata": {
    "colab": {
     "base_uri": "https://localhost:8080/",
     "height": 111
    },
    "id": "qov6rzjIg6dv",
    "outputId": "abf3ef19-d27d-4fbf-e748-c3b1e7317b54"
   },
   "outputs": [],
   "source": [
    "scaled_data[:5]"
   ]
  },
  {
   "cell_type": "code",
   "execution_count": null,
   "metadata": {
    "colab": {
     "base_uri": "https://localhost:8080/",
     "height": 36
    },
    "id": "xmXgXXbGjA87",
    "outputId": "3ec52260-443e-4775-8d49-9da665cac150"
   },
   "outputs": [],
   "source": [
    "# 코드검증\n",
    "round(scaled_data.mean(), 2), scaled_data.std()"
   ]
  },
  {
   "cell_type": "markdown",
   "metadata": {},
   "source": [
    "<p><strong>[출력 결과]</strong></p><pre>(-0.0, 1.0)</pre>"
   ]
  },
  {
   "cell_type": "markdown",
   "metadata": {
    "id": "wL6C7a4pVcQJ"
   },
   "source": [
    "### Scale 전, 후 비교 (시각화)"
   ]
  },
  {
   "cell_type": "code",
   "execution_count": null,
   "metadata": {
    "colab": {
     "base_uri": "https://localhost:8080/",
     "height": 444
    },
    "id": "t-XOqXr4pBhh",
    "outputId": "db61b503-2597-480a-84dd-a20379dd81ea"
   },
   "outputs": [],
   "source": [
    "plt.figure(figsize=(12, 6))\n",
    "plt.subplot(1, 2, 1)\n",
    "sns.scatterplot(df['sepal length (cm)'], df['sepal width (cm)'], hue=df['target'], palette='Set1')\n",
    "plt.title('Sepal (Original)', fontsize=16)\n",
    "\n",
    "plt.subplot(1, 2, 2)\n",
    "sns.scatterplot(scaled_data[:, 0], scaled_data[:, 1], hue=df['target'], palette='Set1')\n",
    "plt.title('Sepal (Scaled)', fontsize=16)\n",
    "plt.show()"
   ]
  },
  {
   "cell_type": "code",
   "execution_count": null,
   "metadata": {
    "id": "zoXNuXenVcQL",
    "outputId": "12ca3f35-35f2-4ef6-f4b8-52f6851a54c8"
   },
   "outputs": [],
   "source": [
    "plt.figure(figsize=(12, 6))\n",
    "plt.subplot(1, 2, 1)\n",
    "sns.scatterplot(df['petal length (cm)'], df['petal width (cm)'], hue=df['target'], palette='Set1')\n",
    "plt.title('Petal (Original)', fontsize=16)\n",
    "\n",
    "plt.subplot(1, 2, 2)\n",
    "sns.scatterplot(scaled_data[:, 2], scaled_data[:, 3], hue=df['target'], palette='Set1')\n",
    "plt.title('Petal (Scaled)', fontsize=16)\n",
    "plt.show()"
   ]
  },
  {
   "cell_type": "markdown",
   "metadata": {
    "id": "DdnLAYcqplUs"
   },
   "source": [
    "## 정규화 (Normalization)"
   ]
  },
  {
   "cell_type": "markdown",
   "metadata": {
    "id": "JkYv0qawVcQN"
   },
   "source": [
    "정규화 (Normalization)도 표준화와 마찬가지로 데이터의 스케일을 조정합니다.\n",
    "\n",
    "정규화가 표준화와 다른 가장 큰 특징은 **모든 데이터가 0 ~ 1 사이의 값**을 가집니다.\n",
    "\n",
    "즉, 최대값은 1, 최소값은 0으로 데이터의 범위를 조정합니다."
   ]
  },
  {
   "cell_type": "markdown",
   "metadata": {
    "id": "zupo7sz9VcQP"
   },
   "source": [
    "### 정규화 코드 구현"
   ]
  },
  {
   "cell_type": "markdown",
   "metadata": {},
   "source": [
    "`sepal length (cm)` 컬럼만 `X` 변수에 저장"
   ]
  },
  {
   "cell_type": "code",
   "execution_count": null,
   "metadata": {
    "id": "taP2UFq6VcQQ"
   },
   "outputs": [],
   "source": [
    "# 코드를 입력해 주세요\n",
    "X = "
   ]
  },
  {
   "cell_type": "markdown",
   "metadata": {
    "id": "vldnfoW4VcQO"
   },
   "source": [
    "### 정규화 공식"
   ]
  },
  {
   "cell_type": "code",
   "execution_count": null,
   "metadata": {
    "id": "LUNwbJvKVcQO",
    "outputId": "6eea3ecf-417a-4544-d68c-97243d15a582"
   },
   "outputs": [],
   "source": [
    "Image(url='https://mblogthumb-phinf.pstatic.net/MjAxODA3MzFfMjgx/MDAxNTMzMDIxNzg5MTkz.odx32KoGhDrjwJHgjb_NslL1Nlmsp4veLz6OULb2q00g.5Ynl7GOds1YAgBgJ_TSiuWjHZfrNWPq3hsHtwCjvNP0g.PNG.angryking/image_4532734831533021765958.png?type=w800', width=200)"
   ]
  },
  {
   "cell_type": "markdown",
   "metadata": {},
   "source": [
    "정규화 코드 구현합니다."
   ]
  },
  {
   "cell_type": "code",
   "execution_count": null,
   "metadata": {
    "id": "zu64RGZwVcQR"
   },
   "outputs": [],
   "source": [
    "# 코드를 입력해 주세요\n",
    "X_ = "
   ]
  },
  {
   "cell_type": "markdown",
   "metadata": {},
   "source": [
    "시각화"
   ]
  },
  {
   "cell_type": "code",
   "execution_count": null,
   "metadata": {
    "id": "54jSsYHlVcQT",
    "outputId": "13129eff-9e92-407e-a0a4-9ff4d83f157c"
   },
   "outputs": [],
   "source": [
    "plt.figure(figsize=(12, 6))\n",
    "plt.subplot(1, 2, 1)\n",
    "sns.distplot(X, bins=5, color='b')\n",
    "plt.title('Original', fontsize=16)\n",
    "\n",
    "plt.subplot(1, 2, 2)\n",
    "sns.distplot(X_, bins=5, color='r')\n",
    "plt.title('Normalization', fontsize=16)\n",
    "plt.show()"
   ]
  },
  {
   "cell_type": "markdown",
   "metadata": {
    "id": "iLvlTPHmVcQU"
   },
   "source": [
    "## MinMaxScaler의 활용"
   ]
  },
  {
   "cell_type": "code",
   "execution_count": null,
   "metadata": {
    "id": "0Ut2V_V2VcQV"
   },
   "outputs": [],
   "source": [
    "from sklearn.preprocessing import MinMaxScaler"
   ]
  },
  {
   "cell_type": "code",
   "execution_count": null,
   "metadata": {
    "id": "HTuBxgH0pL4j"
   },
   "outputs": [],
   "source": [
    "# 코드를 입력해 주세요\n",
    "minmax_scaler ="
   ]
  },
  {
   "cell_type": "markdown",
   "metadata": {},
   "source": [
    "- feature 4개를 모두 변환합니다.\n",
    "- 변환된 결과는 `scaled_data2`에 대입합니다."
   ]
  },
  {
   "cell_type": "code",
   "execution_count": null,
   "metadata": {
    "id": "O3fIT0FupMDC"
   },
   "outputs": [],
   "source": [
    "# 코드를 입력해 주세요\n",
    "scaled_data2 = "
   ]
  },
  {
   "cell_type": "code",
   "execution_count": null,
   "metadata": {
    "colab": {
     "base_uri": "https://localhost:8080/",
     "height": 111
    },
    "id": "-qxctP3PpSVv",
    "outputId": "5ed100b9-2ade-4431-8d4f-99682d08e8d2"
   },
   "outputs": [],
   "source": [
    "scaled_data2[:5]"
   ]
  },
  {
   "cell_type": "code",
   "execution_count": null,
   "metadata": {
    "colab": {
     "base_uri": "https://localhost:8080/",
     "height": 36
    },
    "id": "rjBvnKympSRb",
    "outputId": "e39953d5-05c9-4cae-c63b-a8e1ad43e2c4"
   },
   "outputs": [],
   "source": [
    "# 코드검증\n",
    "scaled_data2.min(), scaled_data2.max()"
   ]
  },
  {
   "cell_type": "markdown",
   "metadata": {},
   "source": [
    "<p><strong>[출력 결과]</strong></p><pre>(0.0, 1.0)</pre>"
   ]
  },
  {
   "cell_type": "markdown",
   "metadata": {
    "id": "474HTtJiVcQd"
   },
   "source": [
    "### Scale 전, 후 비교 (시각화)"
   ]
  },
  {
   "cell_type": "code",
   "execution_count": null,
   "metadata": {
    "colab": {
     "base_uri": "https://localhost:8080/",
     "height": 444
    },
    "id": "QRGK-fC6VcQd",
    "outputId": "db61b503-2597-480a-84dd-a20379dd81ea"
   },
   "outputs": [],
   "source": [
    "plt.figure(figsize=(12, 6))\n",
    "plt.subplot(1, 2, 1)\n",
    "sns.scatterplot(df['sepal length (cm)'], df['sepal width (cm)'], hue=df['target'], palette='Set1')\n",
    "plt.title('Sepal (Original)', fontsize=16)\n",
    "\n",
    "plt.subplot(1, 2, 2)\n",
    "sns.scatterplot(scaled_data2[:, 0], scaled_data2[:, 1], hue=df['target'], palette='Set1')\n",
    "plt.title('Sepal (Scaled)', fontsize=16)\n",
    "plt.show()"
   ]
  },
  {
   "cell_type": "code",
   "execution_count": null,
   "metadata": {
    "id": "1NJvfNMqVcQf",
    "outputId": "e171d345-7eb4-409c-dd75-df33e6931f9b"
   },
   "outputs": [],
   "source": [
    "plt.figure(figsize=(12, 6))\n",
    "plt.subplot(1, 2, 1)\n",
    "sns.scatterplot(df['petal length (cm)'], df['petal width (cm)'], hue=df['target'], palette='Set1')\n",
    "plt.title('Petal (Original)', fontsize=16)\n",
    "\n",
    "plt.subplot(1, 2, 2)\n",
    "sns.scatterplot(scaled_data2[:, 2], scaled_data2[:, 3], hue=df['target'], palette='Set1')\n",
    "plt.title('Petal (Scaled)', fontsize=16)\n",
    "plt.show()"
   ]
  },
  {
   "cell_type": "markdown",
   "metadata": {
    "id": "i5wuSMlSnPMi"
   },
   "source": [
    "## Label Encoder"
   ]
  },
  {
   "cell_type": "markdown",
   "metadata": {
    "id": "bqxu2i-eVcQh"
   },
   "source": [
    "머신러닝 알고리즘은 문자열 데이터를 입력으로 받지 못합니다. \n",
    "\n",
    "따라서, 데이터가 가지고 있는 **범주형(Categorical) 데이터는 반드시 숫자형(Numerical)으로 변환**해주어야 합니다.\n",
    "\n",
    "`LabelEncoder`는 범주형(Categorical) 데이터를 수치형으로 인코딩(encoding) 합니다.\n",
    "\n",
    "여기서 **인코딩(encoding)** 이란, *문자형 -> 숫자형 데이터로 변환* 해주는 것을 의미합니다."
   ]
  },
  {
   "cell_type": "markdown",
   "metadata": {
    "id": "zVa4HYbwVcQh"
   },
   "source": [
    "### 샘플 데이터 (tips)"
   ]
  },
  {
   "cell_type": "markdown",
   "metadata": {},
   "source": [
    "tips 데이터를 load 합니다."
   ]
  },
  {
   "cell_type": "code",
   "execution_count": null,
   "metadata": {
    "id": "nonjkE_SVcQh",
    "outputId": "23820efa-afd8-4c92-9a25-5c499438e841"
   },
   "outputs": [],
   "source": [
    "tips = sns.load_dataset('tips')\n",
    "tips.head()"
   ]
  },
  {
   "cell_type": "code",
   "execution_count": null,
   "metadata": {
    "id": "pFfrWCTiVcQj",
    "outputId": "d0d82741-0491-40e5-cca6-60cc03f844e9"
   },
   "outputs": [],
   "source": [
    "# day 컬럼의 분포 확인\n",
    "tips['day'].value_counts()"
   ]
  },
  {
   "cell_type": "code",
   "execution_count": null,
   "metadata": {
    "id": "3B3B83DYVcQk",
    "outputId": "975212b5-ba5a-4733-8534-932d9b7aeea0"
   },
   "outputs": [],
   "source": [
    "plt.figure(figsize=(10, 5))\n",
    "sns.countplot(tips['day'])\n",
    "plt.title('Data Counts', fontsize=16)\n",
    "plt.show()"
   ]
  },
  {
   "cell_type": "markdown",
   "metadata": {
    "id": "zFyxNcoKVcQm"
   },
   "source": [
    "만약 `tips`데이터의 `day`컬럼에서의 값(value)인 [Thur(목), Fri(금), Sat(토), Sun(일)] 을 인코딩(encoding) 해주지 않고 그대로 머신러닝 모델에 학습데이터로 feed한다면 **error가 발생**합니다."
   ]
  },
  {
   "cell_type": "markdown",
   "metadata": {
    "id": "-l7el7JVVcQm"
   },
   "source": [
    "### apply를 활용한 인코딩(encoding)"
   ]
  },
  {
   "cell_type": "markdown",
   "metadata": {
    "id": "ZtxoPGS5VcQm"
   },
   "source": [
    "아래와 같이 `encoding`이라는 함수를 정의한 후 변환하고자 하는 컬럼에 `apply`해줌으로써 인코딩을 진행합니다."
   ]
  },
  {
   "cell_type": "code",
   "execution_count": null,
   "metadata": {
    "id": "ZlnzTy32oIcM"
   },
   "outputs": [],
   "source": [
    "# 코드를 입력해 주세요\n",
    "def encoding(x):\n",
    "    \n",
    "    \n",
    "    "
   ]
  },
  {
   "cell_type": "markdown",
   "metadata": {},
   "source": [
    "- `converted` 변수에 변환된 결과를 대입합니다.\n",
    "- 대입한 후 결과에 대한 분포를 확인합니다."
   ]
  },
  {
   "cell_type": "code",
   "execution_count": null,
   "metadata": {
    "id": "PK0Vux0_VcQo",
    "outputId": "dfb0439d-4766-44db-c3ce-907c59e7ff8f"
   },
   "outputs": [],
   "source": [
    "# 코드를 입력해 주세요\n",
    "converted = \n",
    "converted.value_counts()"
   ]
  },
  {
   "cell_type": "markdown",
   "metadata": {},
   "source": [
    "<p><strong>[출력 결과]</strong></p><pre>2    87\n",
    "3    76\n",
    "0    62\n",
    "1    19\n",
    "Name: day, dtype: int64</pre>"
   ]
  },
  {
   "cell_type": "markdown",
   "metadata": {
    "id": "MLPlSCD3VcQr"
   },
   "source": [
    "인코딩 한 값을 간단히 시각화 해 볼 수 있습니다."
   ]
  },
  {
   "cell_type": "code",
   "execution_count": null,
   "metadata": {
    "id": "LlIoVUmhVcQs",
    "outputId": "8334e5b5-4dcf-462a-e4f1-fde709be886d"
   },
   "outputs": [],
   "source": [
    "plt.figure(figsize=(10, 5))\n",
    "sns.countplot(converted)\n",
    "plt.title('(Encoded) Data Counts', fontsize=16)\n",
    "plt.show()"
   ]
  },
  {
   "cell_type": "markdown",
   "metadata": {
    "id": "6dgLuL1wVcQu"
   },
   "source": [
    "### LabelEncoder 활용"
   ]
  },
  {
   "cell_type": "markdown",
   "metadata": {
    "id": "7ktPZCDqVcQu"
   },
   "source": [
    "위와 같이 `apply`로 변환하고자 하는 컬럼 별로 인코딩을 해줄 수 있지만, `sklearn.preprocessing.LabelEncoder`를 활용하여 쉽게 인코딩할 수 있습니다."
   ]
  },
  {
   "cell_type": "code",
   "execution_count": null,
   "metadata": {
    "id": "LWi-MgqZVcQu"
   },
   "outputs": [],
   "source": [
    "from sklearn.preprocessing import LabelEncoder"
   ]
  },
  {
   "cell_type": "code",
   "execution_count": null,
   "metadata": {
    "id": "iFXZlES4VcQw"
   },
   "outputs": [],
   "source": [
    "# 코드를 입력해 주세요\n",
    "encoder = "
   ]
  },
  {
   "cell_type": "code",
   "execution_count": null,
   "metadata": {
    "id": "xTUf0M3zVcQx"
   },
   "outputs": [],
   "source": [
    "# 코드를 입력해 주세요\n",
    "encoded = "
   ]
  },
  {
   "cell_type": "code",
   "execution_count": null,
   "metadata": {
    "id": "6Qb1-0zTVcQ0",
    "outputId": "235d7332-2686-4352-cedf-087d5d704261"
   },
   "outputs": [],
   "source": [
    "encoded"
   ]
  },
  {
   "cell_type": "code",
   "execution_count": null,
   "metadata": {
    "id": "ixXBWd_1VcQ1",
    "outputId": "45a9891a-2034-4478-f7a5-c8dbdde6a887"
   },
   "outputs": [],
   "source": [
    "plt.figure(figsize=(10, 5))\n",
    "sns.countplot(encoded, order=[3, 0, 1, 2])\n",
    "plt.title('(Encoded) Data Counts', fontsize=16)\n",
    "plt.show()"
   ]
  },
  {
   "cell_type": "markdown",
   "metadata": {
    "id": "Yix2e7z6VcQ3"
   },
   "source": [
    "`LabelEncoder`를 사용하면 원래 class 의 label도 확인할 수 있습니다."
   ]
  },
  {
   "cell_type": "code",
   "execution_count": null,
   "metadata": {
    "id": "cHAOYTlTVcQ3",
    "outputId": "54d9382b-5f07-4357-d2bc-12db5001aab6"
   },
   "outputs": [],
   "source": [
    "encoder.classes_"
   ]
  },
  {
   "cell_type": "markdown",
   "metadata": {
    "id": "Bdx__XSUVcQ6"
   },
   "source": [
    "### Inverse Transform(역변환)"
   ]
  },
  {
   "cell_type": "markdown",
   "metadata": {
    "id": "JlGkMnSUVcQ6"
   },
   "source": [
    "머신러닝 학습을 위하여 어쩔 수 없이 범주형(Categorical) 데이터를 숫자형으로 변환하였다면, 이제 결과 확인을 위하여 다시 역변환이 필요합니다.\n",
    "\n",
    "이는 `LabelEncoder`의 `inverse_transform`을 사용하여 쉽게 역변환할 수 있습니다."
   ]
  },
  {
   "cell_type": "code",
   "execution_count": null,
   "metadata": {
    "id": "P1en8yKYVcQ6",
    "outputId": "87d228e1-6643-4bfc-86d3-80bf725bed6f"
   },
   "outputs": [],
   "source": [
    "inversed = encoder.inverse_transform(encoded)\n",
    "inversed"
   ]
  },
  {
   "cell_type": "code",
   "execution_count": null,
   "metadata": {
    "id": "jAgsiHBCVcQ8",
    "outputId": "c54f3c40-f6c3-472d-efed-f5454d32d872"
   },
   "outputs": [],
   "source": [
    "plt.figure(figsize=(10, 5))\n",
    "sns.countplot(inversed, order=['Thur', 'Fri', 'Sat', 'Sun'])\n",
    "plt.title('(Inversed) Data Counts', fontsize=16)\n",
    "plt.show()"
   ]
  }
 ],
 "metadata": {
  "colab": {
   "collapsed_sections": [],
   "name": "04-데이터전처리-(Preprocessing)-(실습)",
   "provenance": []
  },
  "kernelspec": {
   "display_name": "Python 3 (ipykernel)",
   "language": "python",
   "name": "python3"
  },
  "language_info": {
   "codemirror_mode": {
    "name": "ipython",
    "version": 3
   },
   "file_extension": ".py",
   "mimetype": "text/x-python",
   "name": "python",
   "nbconvert_exporter": "python",
   "pygments_lexer": "ipython3",
   "version": "3.7.10"
  }
 },
 "nbformat": 4,
 "nbformat_minor": 1
}
