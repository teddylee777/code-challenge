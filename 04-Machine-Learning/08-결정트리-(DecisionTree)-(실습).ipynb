{
 "cells": [
  {
   "cell_type": "code",
   "execution_count": null,
   "metadata": {
    "id": "0CglFq9FaI6W"
   },
   "outputs": [],
   "source": [
    "from IPython.display import Image\n",
    "import warnings\n",
    "\n",
    "# 경고 메시지 출력 표기 생략\n",
    "warnings.filterwarnings('ignore')"
   ]
  },
  {
   "cell_type": "markdown",
   "metadata": {
    "id": "_xnPdyDWfUy8"
   },
   "source": [
    "# 결정트리 or 의사결정나무 (Decision Tree)"
   ]
  },
  {
   "cell_type": "markdown",
   "metadata": {
    "id": "IMI3Z9C7fIrf"
   },
   "source": [
    "결정트리를 가장 단수하게 표현하자면, **Tree 구조를 가진 알고리즘**입니다.\n",
    "\n",
    "의사결정나무는 데이터를 분석하여 데이터 사이에서 패턴을 예측 가능한 규칙들의 조합으로 나타내며, 이 과정을 시각화 해 본다면 마치 **스무고개** 놀이와 비슷합니다."
   ]
  },
  {
   "cell_type": "code",
   "execution_count": null,
   "metadata": {
    "colab": {
     "base_uri": "https://localhost:8080/",
     "height": 311
    },
    "id": "vAQsH-aDaI6c",
    "outputId": "4096b032-584d-469c-c394-59c3a6d7c5d1"
   },
   "outputs": [],
   "source": [
    "Image(url='https://miro.medium.com/max/2960/1*dc_342kIsHCzuko1TtyEGQ.png', width=500)"
   ]
  },
  {
   "cell_type": "markdown",
   "metadata": {
    "id": "Rim0vMlLaI6e"
   },
   "source": [
    "결정트리의 기본 아이디어는 sample이 가장 섞이지 않은 상태로 완전히 분류되는 것, 다시 말해서 **엔트로피(Entropy)를 낮추도록** 만드는 것입니다."
   ]
  },
  {
   "cell_type": "markdown",
   "metadata": {
    "id": "Utc_xIwJ1L1c"
   },
   "source": [
    "## 엔트로피 (Entropy)"
   ]
  },
  {
   "cell_type": "markdown",
   "metadata": {
    "id": "dqKGIZZEaI6h"
   },
   "source": [
    "엔트로피는 쉽게 말해서 **무질서한 정도를 정량화(수치화)한 값**입니다.\n",
    "\n",
    "다음은 **엔트로피 지수를 방이 어질러있는 정도를 예시로 들어 표현**되었습니다."
   ]
  },
  {
   "cell_type": "code",
   "execution_count": null,
   "metadata": {
    "colab": {
     "base_uri": "https://localhost:8080/",
     "height": 395
    },
    "id": "xE_v0Q0eaI6h",
    "outputId": "4725c953-9a61-4ab9-d29c-8a20ff36d440"
   },
   "outputs": [],
   "source": [
    "Image(url='https://image.slidesharecdn.com/entropyandthe2ndlaw-120327062903-phpapp02/95/103-entropy-and-the-2nd-law-3-728.jpg?cb=1335190079', width=500)"
   ]
  },
  {
   "cell_type": "markdown",
   "metadata": {
    "id": "iYZkx4dEaI6j"
   },
   "source": [
    "### 엔트로피 수식의 이해"
   ]
  },
  {
   "cell_type": "code",
   "execution_count": null,
   "metadata": {
    "colab": {
     "base_uri": "https://localhost:8080/",
     "height": 73
    },
    "id": "s4rnfDpcaI6j",
    "outputId": "27dcbee9-134e-44ac-bdeb-66d332f3fa0b"
   },
   "outputs": [],
   "source": [
    "import numpy as np\n",
    "import pandas as pd\n",
    "import matplotlib.pyplot as plt\n",
    "import seaborn as sns\n",
    "import warnings\n",
    "\n",
    "warnings.filterwarnings('ignore')"
   ]
  },
  {
   "cell_type": "code",
   "execution_count": null,
   "metadata": {
    "id": "oM921WNFaI6m"
   },
   "outputs": [],
   "source": [
    "# 샘플데이터를 생성합니다.\n",
    "group_1 = np.array([0.3, 0.4, 0.3])\n",
    "group_2 = np.array([0.7, 0.2, 0.1])\n",
    "group_3 = np.array([0.01, 0.01, 0.98])"
   ]
  },
  {
   "cell_type": "code",
   "execution_count": null,
   "metadata": {
    "colab": {
     "base_uri": "https://localhost:8080/",
     "height": 281
    },
    "id": "wjkCGULVaI6n",
    "outputId": "ec4150f0-a3d7-4f47-96e5-263c9d60878e"
   },
   "outputs": [],
   "source": [
    "fig, axes = plt.subplots(1, 3)\n",
    "fig.set_size_inches(12, 4)\n",
    "axes[0].bar(np.arange(3), group_1, color='blue')\n",
    "axes[0].set_title('Group 1')\n",
    "axes[1].bar(np.arange(3), group_2, color='red')\n",
    "axes[1].set_title('Group 2')\n",
    "axes[2].bar(np.arange(3), group_3, color='green')\n",
    "axes[2].set_title('Group 3')\n",
    "plt.show()"
   ]
  },
  {
   "cell_type": "markdown",
   "metadata": {},
   "source": [
    "$\\Large Entropy(p) = -\\sum_{i=1}^{n}{p_i\\log_2p_i}$"
   ]
  },
  {
   "cell_type": "markdown",
   "metadata": {},
   "source": [
    "함수 `entropy(p)`를 정의하고 위의 공식을 구현해 주세요"
   ]
  },
  {
   "cell_type": "code",
   "execution_count": null,
   "metadata": {
    "id": "GcHsjC4YaI6r"
   },
   "outputs": [],
   "source": [
    "# 코드를 입력해 주세요\n",
    "def entropy(p):\n",
    "    return "
   ]
  },
  {
   "cell_type": "markdown",
   "metadata": {
    "id": "r0FFijNSaI6t"
   },
   "source": [
    "### Entropy 계산 및 시각화"
   ]
  },
  {
   "cell_type": "code",
   "execution_count": null,
   "metadata": {
    "colab": {
     "base_uri": "https://localhost:8080/",
     "height": 71
    },
    "id": "p3lRzbuTaI6t",
    "outputId": "ff5d2749-1f74-4581-e7ca-e94121051b06"
   },
   "outputs": [],
   "source": [
    "entropy_1 = entropy(group_1)\n",
    "entropy_2 = entropy(group_2)\n",
    "entropy_3 = entropy(group_3)\n",
    "\n",
    "print(f'Group 1: {entropy_1:.3f}\\nGroup 2: {entropy_2:.3f}\\nGroup 3: {entropy_3:.3f}')"
   ]
  },
  {
   "cell_type": "code",
   "execution_count": null,
   "metadata": {
    "colab": {
     "base_uri": "https://localhost:8080/",
     "height": 338
    },
    "id": "V9SzDH7IaI6v",
    "outputId": "d2b01226-abec-495e-f106-6383ffebd87a"
   },
   "outputs": [],
   "source": [
    "plt.figure(figsize=(5, 5))\n",
    "plt.bar(['Group 1', 'Group 2', 'Group 3'], [entropy_1, entropy_2, entropy_3])\n",
    "plt.title('Entropy', fontsize=15)\n",
    "plt.show()"
   ]
  },
  {
   "cell_type": "markdown",
   "metadata": {
    "id": "aUyxlfVtaI6x"
   },
   "source": [
    "## 지니 계수 (Gini Index)"
   ]
  },
  {
   "cell_type": "markdown",
   "metadata": {
    "id": "BQprW8kkaI6x"
   },
   "source": [
    "- 클래쓰들이 공평하게 섞여 있을 수록 **지니 계수**는 올라갑니다.\n",
    "- Decision Tree는 지니 불순도를 낮추는 방향으로 가지치기를 진행합니다."
   ]
  },
  {
   "cell_type": "markdown",
   "metadata": {},
   "source": [
    "$\\Large Gini = 1 - \\sum_{i=1}^{n}{(\\frac{x_i}{\\sum_{i=1}^{n}{x_i}})^2}$"
   ]
  },
  {
   "cell_type": "markdown",
   "metadata": {},
   "source": [
    "`gini(x)` 함수를 정의하고 내부를 위의 공식에 맞게 구현해 주세요"
   ]
  },
  {
   "cell_type": "code",
   "execution_count": null,
   "metadata": {
    "id": "DDQhLmDSaI6z"
   },
   "outputs": [],
   "source": [
    "# 코드를 구현해 주세요\n",
    "def gini(x):\n",
    "    return 1 - ((x / x.sum())**2).sum()"
   ]
  },
  {
   "cell_type": "code",
   "execution_count": null,
   "metadata": {
    "id": "8VBV5AgyaI61"
   },
   "outputs": [],
   "source": [
    "# 샘플데이터를 생성합니다.\n",
    "group_1 = np.array([50, 50])\n",
    "group_2 = np.array([30, 70])\n",
    "group_3 = np.array([0, 100])"
   ]
  },
  {
   "cell_type": "code",
   "execution_count": null,
   "metadata": {
    "colab": {
     "base_uri": "https://localhost:8080/",
     "height": 281
    },
    "id": "GnZKXvBoaI63",
    "outputId": "45216aa4-8299-4436-c97c-46af5c450b2f"
   },
   "outputs": [],
   "source": [
    "fig, axes = plt.subplots(1, 3)\n",
    "fig.set_size_inches(12, 4)\n",
    "axes[0].bar(['Positive', 'Negative'], group_1, color='blue')\n",
    "axes[0].set_title('Group 1')\n",
    "axes[1].bar(['Positive', 'Negative'], group_2, color='red')\n",
    "axes[1].set_title('Group 2')\n",
    "axes[2].bar(['Positive', 'Negative'], group_3, color='green')\n",
    "axes[2].set_title('Group 3')\n",
    "plt.show()"
   ]
  },
  {
   "cell_type": "code",
   "execution_count": null,
   "metadata": {
    "colab": {
     "base_uri": "https://localhost:8080/",
     "height": 71
    },
    "id": "xmLi43g_aI64",
    "outputId": "e6134247-4c05-4d5a-f2ff-0bb39051b1d9"
   },
   "outputs": [],
   "source": [
    "gini_1 = gini(group_1)\n",
    "gini_2 = gini(group_2)\n",
    "gini_3 = gini(group_3)\n",
    "\n",
    "print(f'Group 1: {gini_1:.3f}\\nGroup 2: {gini_2:.3f}\\nGroup 3: {gini_3:.3f}')"
   ]
  },
  {
   "cell_type": "code",
   "execution_count": null,
   "metadata": {
    "colab": {
     "base_uri": "https://localhost:8080/",
     "height": 338
    },
    "id": "K4Rzlk6BaI66",
    "outputId": "ed19399e-7b30-4afe-ea0d-498df150b295"
   },
   "outputs": [],
   "source": [
    "plt.figure(figsize=(5, 5))\n",
    "plt.bar(['Group 1', 'Group 2', 'Group 3'], [gini_1, gini_2, gini_3])\n",
    "plt.title('Gini Index', fontsize=15)\n",
    "plt.show()"
   ]
  },
  {
   "cell_type": "markdown",
   "metadata": {
    "id": "HKNTHNVwaI68"
   },
   "source": [
    "## Decision Tree 구현"
   ]
  },
  {
   "cell_type": "code",
   "execution_count": null,
   "metadata": {
    "id": "Y1gz1f7eaI68"
   },
   "outputs": [],
   "source": [
    "from sklearn.tree import DecisionTreeClassifier\n",
    "from sklearn.datasets import load_breast_cancer\n",
    "from sklearn.model_selection import train_test_split\n",
    "from sklearn.metrics import accuracy_score\n",
    "\n",
    "SEED = 123"
   ]
  },
  {
   "cell_type": "markdown",
   "metadata": {},
   "source": [
    "`cancer` 변수에 `load_breast_cancer()`를 로드합니다."
   ]
  },
  {
   "cell_type": "code",
   "execution_count": null,
   "metadata": {
    "id": "mN_Wd6qYaI6-"
   },
   "outputs": [],
   "source": [
    "# 코드를 입력해 주세요\n",
    "cancer = "
   ]
  },
  {
   "cell_type": "markdown",
   "metadata": {},
   "source": [
    "데이터를 분할합니다.\n",
    "- stratify는 `target`으로 지정합니다.\n",
    "- random_state=SEED로 설정합니다.\n",
    "- 기타 설정은 default를 따릅니다."
   ]
  },
  {
   "cell_type": "code",
   "execution_count": null,
   "metadata": {
    "id": "kSpM5gwKaI6_"
   },
   "outputs": [],
   "source": [
    "# 코드를 입력해 주세요\n",
    "x_train, x_test, y_train, y_test = "
   ]
  },
  {
   "cell_type": "markdown",
   "metadata": {},
   "source": [
    "`x_train`, `x_test`의 shape를 확인합니다."
   ]
  },
  {
   "cell_type": "code",
   "execution_count": null,
   "metadata": {},
   "outputs": [],
   "source": [
    "# 코드검증\n",
    "x_train.shape, x_test.shape"
   ]
  },
  {
   "cell_type": "markdown",
   "metadata": {},
   "source": [
    "<p><strong>[출력 결과]</strong></p><pre>((426, 30), (143, 30))</pre>"
   ]
  },
  {
   "cell_type": "markdown",
   "metadata": {},
   "source": [
    "DecisionTreeClassifier를 정의하고 `tree` 변수에 대입합니다.\n",
    "\n",
    "- random_state=SEED로 설정합니다."
   ]
  },
  {
   "cell_type": "code",
   "execution_count": null,
   "metadata": {
    "id": "-tUKmguXaI7B"
   },
   "outputs": [],
   "source": [
    "# 코드를 입력해 주세요\n",
    "tree = "
   ]
  },
  {
   "cell_type": "markdown",
   "metadata": {},
   "source": [
    "학습(fit) 합니다."
   ]
  },
  {
   "cell_type": "code",
   "execution_count": null,
   "metadata": {
    "colab": {
     "base_uri": "https://localhost:8080/",
     "height": 125
    },
    "id": "3-XvNS-UaI7E",
    "outputId": "84355f40-43ba-44a1-fee8-3f4d3e7e2424"
   },
   "outputs": [],
   "source": [
    "# 코드를 입력해 주세요\n",
    "tree."
   ]
  },
  {
   "cell_type": "markdown",
   "metadata": {},
   "source": [
    "<p><strong>[출력 결과]</strong></p><pre>DecisionTreeClassifier()</pre>"
   ]
  },
  {
   "cell_type": "markdown",
   "metadata": {},
   "source": [
    "`tree` 알고리즘을 활용하여 `x_test`에 대한 예측을 수행하고 결과를 `pred` 변수에 대입합니다."
   ]
  },
  {
   "cell_type": "code",
   "execution_count": null,
   "metadata": {
    "id": "b9EA7b7_aI7G"
   },
   "outputs": [],
   "source": [
    "# 코드를 입력해 주세요\n",
    "pred = "
   ]
  },
  {
   "cell_type": "markdown",
   "metadata": {},
   "source": [
    "정확도를 측정합니다."
   ]
  },
  {
   "cell_type": "code",
   "execution_count": null,
   "metadata": {
    "colab": {
     "base_uri": "https://localhost:8080/",
     "height": 35
    },
    "id": "L0WnvwUCaI7I",
    "outputId": "f37fb191-853f-4aeb-8f67-9cf16cacfdc4"
   },
   "outputs": [
    {
     "name": "stdout",
     "output_type": "stream",
     "text": []
    }
   ],
   "source": [
    "# 코드를 입력해 주세요\n",
    "accuracy = \n",
    "print(f'정확도: {accuracy:.3f}')"
   ]
  },
  {
   "cell_type": "markdown",
   "metadata": {},
   "source": [
    "<p><strong>[출력 결과]</strong></p><pre>정확도: 0.937\n",
    "</pre>"
   ]
  },
  {
   "cell_type": "markdown",
   "metadata": {
    "id": "_BlCtijdaI7K"
   },
   "source": [
    "## 의사결정나무 시각화"
   ]
  },
  {
   "cell_type": "code",
   "execution_count": null,
   "metadata": {
    "id": "-FtvacRpaI7K"
   },
   "outputs": [],
   "source": [
    "from sklearn.tree import export_graphviz\n",
    "from sklearn.metrics import accuracy_score\n",
    "from subprocess import call\n",
    "import graphviz\n",
    "\n",
    "def show_trees(tree):   \n",
    "    export_graphviz(tree, \n",
    "                    out_file='tree.dot', \n",
    "                    class_names=[\"악성\", \"양성\"],\n",
    "                    feature_names=cancer['feature_names'], \n",
    "                    precision=3, \n",
    "                    node_ids=True,\n",
    "                    filled=True)\n",
    "    # 이미지 생성 코드 추가\n",
    "    call(['dot', '-Tpng', 'tree.dot', '-o', 'decistion-tree.png', '-Gdpi=300'])\n",
    "    \n",
    "    with open(\"tree.dot\") as f:\n",
    "        dot_graph = f.read()\n",
    "    pred = tree.predict(x_test)\n",
    "    print('정확도: {:.2f} %'.format(accuracy_score(y_test, pred) * 100))\n",
    "    display(graphviz.Source(dot_graph), )"
   ]
  },
  {
   "cell_type": "code",
   "execution_count": null,
   "metadata": {
    "colab": {
     "base_uri": "https://localhost:8080/",
     "height": 1000
    },
    "id": "ONuWRsYkaI7L",
    "outputId": "bc83907f-9ff9-494b-bd6e-f7cd54b970a4"
   },
   "outputs": [],
   "source": [
    "show_trees(tree)"
   ]
  },
  {
   "cell_type": "markdown",
   "metadata": {
    "id": "En95AxMNaI7N"
   },
   "source": [
    "## Hyper Parameter"
   ]
  },
  {
   "cell_type": "markdown",
   "metadata": {
    "id": "vOpfR0m_aI7N"
   },
   "source": [
    "### max_depth"
   ]
  },
  {
   "cell_type": "markdown",
   "metadata": {
    "id": "FjgLiL98aI7O"
   },
   "source": [
    "`max_depth`는 최대 트리의 깊이를 제한 합니다.\n",
    "\n",
    "기본 값은 None, 제한 없음 입니다."
   ]
  },
  {
   "cell_type": "code",
   "execution_count": null,
   "metadata": {
    "colab": {
     "base_uri": "https://localhost:8080/",
     "height": 615
    },
    "id": "aYiizck4aI7O",
    "outputId": "dfa91b62-c6b2-4251-9c7b-15f2a87daf69"
   },
   "outputs": [],
   "source": [
    "tree = DecisionTreeClassifier(max_depth=3, random_state=SEED)\n",
    "tree.fit(x_train, y_train)\n",
    "show_trees(tree)"
   ]
  },
  {
   "cell_type": "markdown",
   "metadata": {
    "id": "kfR9hzhjaI7W"
   },
   "source": [
    "### max_features"
   ]
  },
  {
   "cell_type": "markdown",
   "metadata": {
    "id": "vwqwgom3aI7W"
   },
   "source": [
    "최적의 분할을 찾기 위해 고려할 피처의 수\n",
    "\n",
    "0.8 은 80% 의 feature 만 고려하여 분할 알고리즘 적용\n",
    "\n",
    "기본 값은 None, 모두 사용입니다."
   ]
  },
  {
   "cell_type": "code",
   "execution_count": null,
   "metadata": {
    "colab": {
     "base_uri": "https://localhost:8080/",
     "height": 1000
    },
    "id": "s_wrqFEMaI7X",
    "outputId": "5e07501b-ce1b-4103-b48d-59cb90b94a49"
   },
   "outputs": [],
   "source": [
    "tree = DecisionTreeClassifier(max_depth=7, max_features=0.8, random_state=SEED)\n",
    "tree.fit(x_train, y_train)\n",
    "show_trees(tree)"
   ]
  },
  {
   "cell_type": "markdown",
   "metadata": {
    "id": "ZPW5SJskaI7Z"
   },
   "source": [
    "## feature의 중요도 파악"
   ]
  },
  {
   "cell_type": "markdown",
   "metadata": {
    "id": "MzhZQMOdaI7Z"
   },
   "source": [
    "`feature_importances_` 변수를 통해서 tree 알고리즘이 학습시 고려한 feature 별 중요도를 확인할 수 있습니다."
   ]
  },
  {
   "cell_type": "code",
   "execution_count": null,
   "metadata": {
    "colab": {
     "base_uri": "https://localhost:8080/",
     "height": 125
    },
    "id": "yrL0avIraI7Z",
    "outputId": "e08b945e-1eca-41b0-fd66-feec06bce8fb"
   },
   "outputs": [],
   "source": [
    "tree.feature_importances_"
   ]
  },
  {
   "cell_type": "markdown",
   "metadata": {
    "id": "Rv_wqIgvaI7b"
   },
   "source": [
    "DataFrame으로 만들면 **중요도(feature importances) 순서로 정렬**할 수 있습니다."
   ]
  },
  {
   "cell_type": "code",
   "execution_count": null,
   "metadata": {
    "colab": {
     "base_uri": "https://localhost:8080/",
     "height": 514
    },
    "id": "HJdODoJRaI7b",
    "outputId": "fb172b49-4c5f-4928-9fd8-03e81ba9ff1e"
   },
   "outputs": [],
   "source": [
    "# 코드를 입력해 주세요\n",
    "df = \n",
    "\n",
    "df.head(15)"
   ]
  },
  {
   "cell_type": "markdown",
   "metadata": {},
   "source": [
    "<p><strong>[출력 결과]</strong></p><div>\n",
    "<style scoped>\n",
    "    .dataframe tbody tr th:only-of-type {\n",
    "        vertical-align: middle;\n",
    "    }\n",
    "\n",
    "    .dataframe tbody tr th {\n",
    "        vertical-align: top;\n",
    "    }\n",
    "\n",
    "    .dataframe thead th {\n",
    "        text-align: right;\n",
    "    }\n",
    "</style>\n",
    "<table border=\"1\" class=\"dataframe\">\n",
    "  <thead>\n",
    "    <tr style=\"text-align: right;\">\n",
    "      <th></th>\n",
    "      <th>feature</th>\n",
    "      <th>importance</th>\n",
    "    </tr>\n",
    "  </thead>\n",
    "  <tbody>\n",
    "    <tr>\n",
    "      <th>0</th>\n",
    "      <td>worst perimeter</td>\n",
    "      <td>0.698891</td>\n",
    "    </tr>\n",
    "    <tr>\n",
    "      <th>1</th>\n",
    "      <td>worst concave points</td>\n",
    "      <td>0.127184</td>\n",
    "    </tr>\n",
    "    <tr>\n",
    "      <th>2</th>\n",
    "      <td>mean texture</td>\n",
    "      <td>0.051780</td>\n",
    "    </tr>\n",
    "    <tr>\n",
    "      <th>3</th>\n",
    "      <td>worst area</td>\n",
    "      <td>0.035233</td>\n",
    "    </tr>\n",
    "    <tr>\n",
    "      <th>4</th>\n",
    "      <td>worst texture</td>\n",
    "      <td>0.026716</td>\n",
    "    </tr>\n",
    "    <tr>\n",
    "      <th>5</th>\n",
    "      <td>worst concavity</td>\n",
    "      <td>0.017373</td>\n",
    "    </tr>\n",
    "    <tr>\n",
    "      <th>6</th>\n",
    "      <td>mean concavity</td>\n",
    "      <td>0.012042</td>\n",
    "    </tr>\n",
    "    <tr>\n",
    "      <th>7</th>\n",
    "      <td>mean area</td>\n",
    "      <td>0.011468</td>\n",
    "    </tr>\n",
    "    <tr>\n",
    "      <th>8</th>\n",
    "      <td>mean perimeter</td>\n",
    "      <td>0.009407</td>\n",
    "    </tr>\n",
    "    <tr>\n",
    "      <th>9</th>\n",
    "      <td>mean concave points</td>\n",
    "      <td>0.006690</td>\n",
    "    </tr>\n",
    "    <tr>\n",
    "      <th>10</th>\n",
    "      <td>area error</td>\n",
    "      <td>0.003217</td>\n",
    "    </tr>\n",
    "    <tr>\n",
    "      <th>11</th>\n",
    "      <td>mean radius</td>\n",
    "      <td>0.000000</td>\n",
    "    </tr>\n",
    "    <tr>\n",
    "      <th>12</th>\n",
    "      <td>worst radius</td>\n",
    "      <td>0.000000</td>\n",
    "    </tr>\n",
    "    <tr>\n",
    "      <th>13</th>\n",
    "      <td>worst compactness</td>\n",
    "      <td>0.000000</td>\n",
    "    </tr>\n",
    "    <tr>\n",
    "      <th>14</th>\n",
    "      <td>worst smoothness</td>\n",
    "      <td>0.000000</td>\n",
    "    </tr>\n",
    "  </tbody>\n",
    "</table>\n",
    "</div>"
   ]
  },
  {
   "cell_type": "code",
   "execution_count": null,
   "metadata": {
    "colab": {
     "base_uri": "https://localhost:8080/",
     "height": 606
    },
    "id": "DpHJ5P_XaI7d",
    "outputId": "989c9010-07d5-40b7-9c35-c8bd587b47b1"
   },
   "outputs": [],
   "source": [
    "plt.figure(figsize=(10, 10))\n",
    "sns.barplot(y='feature', x='importance', data=df)\n",
    "plt.show()"
   ]
  }
 ],
 "metadata": {
  "colab": {
   "collapsed_sections": [],
   "name": "08-결정트리-(DecisionTree)-(실습)",
   "provenance": []
  },
  "kernelspec": {
   "display_name": "Python 3 (ipykernel)",
   "language": "python",
   "name": "python3"
  },
  "language_info": {
   "codemirror_mode": {
    "name": "ipython",
    "version": 3
   },
   "file_extension": ".py",
   "mimetype": "text/x-python",
   "name": "python",
   "nbconvert_exporter": "python",
   "pygments_lexer": "ipython3",
   "version": "3.8.13"
  }
 },
 "nbformat": 4,
 "nbformat_minor": 1
}
