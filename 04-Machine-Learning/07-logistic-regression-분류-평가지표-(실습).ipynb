{
 "cells": [
  {
   "cell_type": "code",
   "execution_count": null,
   "metadata": {
    "id": "_xnPdyDWfUy8"
   },
   "outputs": [],
   "source": [
    "from IPython.display import Math\n",
    "import numpy as np\n",
    "import pandas as pd\n",
    "import matplotlib.pyplot as plt\n",
    "import seaborn as sns\n",
    "import warnings\n",
    "\n",
    "# 경고 메시지 출력 표기 생략\n",
    "warnings.filterwarnings('ignore')\n",
    "\n",
    "# 시각화 차트 사이즈 설정\n",
    "plt.rcParams['figure.figsize'] = (10, 7)"
   ]
  },
  {
   "cell_type": "markdown",
   "metadata": {
    "id": "IMI3Z9C7fIrf"
   },
   "source": [
    "## Logistic Regression\n",
    "\n",
    "* 선형 회귀 방식을 이용한 이진 분류 알고리즘\n",
    "* 분류 레이블 : 0 or 1\n",
    "* 0~1 범위를 예측 결과로 갖는 모델 필요\n",
    "    * 가설 결과에 Sigmoid 함수 적용\n",
    "* Logistic, sigmoid 함수\n",
    "    * S자 모양의 함수\n",
    "\n",
    "$\\displaystyle s(z) = \\frac{1}{1+e^{-z}}$\n",
    "\n",
    "$z$ 값을 0과 1사이의 값으로 바꾸는 함수\n",
    "\n",
    "**Sigmoid 함수 원리**\n",
    "\n",
    "$\\frac{1}{1} = 1$인데, 분모 1에다 0보다 크거나 같은 어떤 수를 더 하면 그 결과는 1 보다 클수 없다.\n",
    "\n",
    "분모에 더 할 값은 $e^{-z}$, 이 값은 어떤 $z$가 주어져도 0보다 작아 지지 않는다.\n",
    "\n",
    "$e^{-z}$는 $z$의 값이 크면 클 수록 0에 가까운 작은 수가 되고 $z$값이 작으면 무한대에 가까운 큰 수가 된다\n",
    "\n",
    "따라서 $z$의 값이 크면 $e^{-z}$의 값이 작아져서 $\\frac{1}{1+e^{-z}}$의 값은 1에 가까워 지고 그 반대는 0에 가까워 진다.\n",
    "\n",
    "* sklearn API\n",
    "    * `sklearn.linear_model.LogisticRegression`\n"
   ]
  },
  {
   "cell_type": "markdown",
   "metadata": {
    "id": "LrytHW6WfIrf"
   },
   "source": [
    "## Sigmoid 함수 그리기"
   ]
  },
  {
   "cell_type": "markdown",
   "metadata": {},
   "source": [
    "$\\Large sigmoid(z) = \\frac{1}{1+e^{-z}}$"
   ]
  },
  {
   "cell_type": "markdown",
   "metadata": {},
   "source": [
    "`sigmoid(z)` 함수를 정의한 후 sigmoid 함수를 구현해 주세요\n",
    "\n",
    "hint. `np.exp()`를 활용합니다."
   ]
  },
  {
   "cell_type": "code",
   "execution_count": null,
   "metadata": {
    "id": "JRvVtsCdiPxT"
   },
   "outputs": [],
   "source": [
    "# 코드를 입력해 주세요\n",
    "def sigmoid(z):\n",
    "    return  "
   ]
  },
  {
   "cell_type": "code",
   "execution_count": null,
   "metadata": {
    "id": "O0obfqMxiOuN"
   },
   "outputs": [],
   "source": [
    "# 코드검증\n",
    "plt.figure(figsize=(10, 7))\n",
    "\n",
    "x = np.arange(-10, 10)\n",
    "y = sigmoid(x)\n",
    "\n",
    "plt.plot(x, y)\n",
    "plt.show()"
   ]
  },
  {
   "cell_type": "markdown",
   "metadata": {},
   "source": [
    "<img src=\"data:image/png;base64,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\"/>"
   ]
  },
  {
   "cell_type": "markdown",
   "metadata": {
    "id": "j-2zS_igfIro"
   },
   "source": [
    "## 로지스틱 회귀 실습: 위스콘신 유방암 환자"
   ]
  },
  {
   "cell_type": "markdown",
   "metadata": {},
   "source": [
    "<p><strong>[출력 결과]</strong></p><pre><Figure size 720x504 with 1 Axes></pre>"
   ]
  },
  {
   "cell_type": "code",
   "execution_count": null,
   "metadata": {
    "colab": {
     "base_uri": "https://localhost:8080/",
     "height": 34
    },
    "id": "YaJqxrhtfIro",
    "outputId": "6a65a5af-e7c3-423c-a8e9-f932ace078be"
   },
   "outputs": [],
   "source": [
    "from sklearn.model_selection import train_test_split\n",
    "\n",
    "from sklearn.linear_model import LogisticRegression\n",
    "from sklearn.preprocessing import StandardScaler\n",
    "from sklearn.metrics import accuracy_score\n",
    "from sklearn.datasets import load_breast_cancer"
   ]
  },
  {
   "cell_type": "markdown",
   "metadata": {},
   "source": [
    "`load_breast_cancer()` 를 로드하여 `cancer`변수에 대입합니다."
   ]
  },
  {
   "cell_type": "code",
   "execution_count": null,
   "metadata": {
    "id": "NxuzGFk1tdgU"
   },
   "outputs": [],
   "source": [
    "# 코드를 입력해 주세요\n",
    "cancer = "
   ]
  },
  {
   "cell_type": "markdown",
   "metadata": {},
   "source": [
    "`df` 변수를 만들어 데이터프레임을 생성합니다."
   ]
  },
  {
   "cell_type": "code",
   "execution_count": null,
   "metadata": {
    "colab": {
     "base_uri": "https://localhost:8080/",
     "height": 473
    },
    "id": "S_qkUksqt0iG",
    "outputId": "ee109b71-0364-4510-f735-5d995f02418a"
   },
   "outputs": [],
   "source": [
    "# 코드를 입력해 주세요\n",
    "df = \n",
    "\n",
    "df"
   ]
  },
  {
   "cell_type": "markdown",
   "metadata": {},
   "source": [
    "<p><strong>[출력 결과]</strong></p><div>\n",
    "<style scoped>\n",
    "    .dataframe tbody tr th:only-of-type {\n",
    "        vertical-align: middle;\n",
    "    }\n",
    "\n",
    "    .dataframe tbody tr th {\n",
    "        vertical-align: top;\n",
    "    }\n",
    "\n",
    "    .dataframe thead th {\n",
    "        text-align: right;\n",
    "    }\n",
    "</style>\n",
    "<table border=\"1\" class=\"dataframe\">\n",
    "  <thead>\n",
    "    <tr style=\"text-align: right;\">\n",
    "      <th></th>\n",
    "      <th>mean radius</th>\n",
    "      <th>mean texture</th>\n",
    "      <th>mean perimeter</th>\n",
    "      <th>mean area</th>\n",
    "      <th>mean smoothness</th>\n",
    "      <th>mean compactness</th>\n",
    "      <th>mean concavity</th>\n",
    "      <th>mean concave points</th>\n",
    "      <th>mean symmetry</th>\n",
    "      <th>mean fractal dimension</th>\n",
    "      <th>...</th>\n",
    "      <th>worst texture</th>\n",
    "      <th>worst perimeter</th>\n",
    "      <th>worst area</th>\n",
    "      <th>worst smoothness</th>\n",
    "      <th>worst compactness</th>\n",
    "      <th>worst concavity</th>\n",
    "      <th>worst concave points</th>\n",
    "      <th>worst symmetry</th>\n",
    "      <th>worst fractal dimension</th>\n",
    "      <th>target</th>\n",
    "    </tr>\n",
    "  </thead>\n",
    "  <tbody>\n",
    "    <tr>\n",
    "      <th>0</th>\n",
    "      <td>17.99</td>\n",
    "      <td>10.38</td>\n",
    "      <td>122.80</td>\n",
    "      <td>1001.0</td>\n",
    "      <td>0.11840</td>\n",
    "      <td>0.27760</td>\n",
    "      <td>0.30010</td>\n",
    "      <td>0.14710</td>\n",
    "      <td>0.2419</td>\n",
    "      <td>0.07871</td>\n",
    "      <td>...</td>\n",
    "      <td>17.33</td>\n",
    "      <td>184.60</td>\n",
    "      <td>2019.0</td>\n",
    "      <td>0.16220</td>\n",
    "      <td>0.66560</td>\n",
    "      <td>0.7119</td>\n",
    "      <td>0.2654</td>\n",
    "      <td>0.4601</td>\n",
    "      <td>0.11890</td>\n",
    "      <td>0</td>\n",
    "    </tr>\n",
    "    <tr>\n",
    "      <th>1</th>\n",
    "      <td>20.57</td>\n",
    "      <td>17.77</td>\n",
    "      <td>132.90</td>\n",
    "      <td>1326.0</td>\n",
    "      <td>0.08474</td>\n",
    "      <td>0.07864</td>\n",
    "      <td>0.08690</td>\n",
    "      <td>0.07017</td>\n",
    "      <td>0.1812</td>\n",
    "      <td>0.05667</td>\n",
    "      <td>...</td>\n",
    "      <td>23.41</td>\n",
    "      <td>158.80</td>\n",
    "      <td>1956.0</td>\n",
    "      <td>0.12380</td>\n",
    "      <td>0.18660</td>\n",
    "      <td>0.2416</td>\n",
    "      <td>0.1860</td>\n",
    "      <td>0.2750</td>\n",
    "      <td>0.08902</td>\n",
    "      <td>0</td>\n",
    "    </tr>\n",
    "    <tr>\n",
    "      <th>2</th>\n",
    "      <td>19.69</td>\n",
    "      <td>21.25</td>\n",
    "      <td>130.00</td>\n",
    "      <td>1203.0</td>\n",
    "      <td>0.10960</td>\n",
    "      <td>0.15990</td>\n",
    "      <td>0.19740</td>\n",
    "      <td>0.12790</td>\n",
    "      <td>0.2069</td>\n",
    "      <td>0.05999</td>\n",
    "      <td>...</td>\n",
    "      <td>25.53</td>\n",
    "      <td>152.50</td>\n",
    "      <td>1709.0</td>\n",
    "      <td>0.14440</td>\n",
    "      <td>0.42450</td>\n",
    "      <td>0.4504</td>\n",
    "      <td>0.2430</td>\n",
    "      <td>0.3613</td>\n",
    "      <td>0.08758</td>\n",
    "      <td>0</td>\n",
    "    </tr>\n",
    "    <tr>\n",
    "      <th>3</th>\n",
    "      <td>11.42</td>\n",
    "      <td>20.38</td>\n",
    "      <td>77.58</td>\n",
    "      <td>386.1</td>\n",
    "      <td>0.14250</td>\n",
    "      <td>0.28390</td>\n",
    "      <td>0.24140</td>\n",
    "      <td>0.10520</td>\n",
    "      <td>0.2597</td>\n",
    "      <td>0.09744</td>\n",
    "      <td>...</td>\n",
    "      <td>26.50</td>\n",
    "      <td>98.87</td>\n",
    "      <td>567.7</td>\n",
    "      <td>0.20980</td>\n",
    "      <td>0.86630</td>\n",
    "      <td>0.6869</td>\n",
    "      <td>0.2575</td>\n",
    "      <td>0.6638</td>\n",
    "      <td>0.17300</td>\n",
    "      <td>0</td>\n",
    "    </tr>\n",
    "    <tr>\n",
    "      <th>4</th>\n",
    "      <td>20.29</td>\n",
    "      <td>14.34</td>\n",
    "      <td>135.10</td>\n",
    "      <td>1297.0</td>\n",
    "      <td>0.10030</td>\n",
    "      <td>0.13280</td>\n",
    "      <td>0.19800</td>\n",
    "      <td>0.10430</td>\n",
    "      <td>0.1809</td>\n",
    "      <td>0.05883</td>\n",
    "      <td>...</td>\n",
    "      <td>16.67</td>\n",
    "      <td>152.20</td>\n",
    "      <td>1575.0</td>\n",
    "      <td>0.13740</td>\n",
    "      <td>0.20500</td>\n",
    "      <td>0.4000</td>\n",
    "      <td>0.1625</td>\n",
    "      <td>0.2364</td>\n",
    "      <td>0.07678</td>\n",
    "      <td>0</td>\n",
    "    </tr>\n",
    "    <tr>\n",
    "      <th>...</th>\n",
    "      <td>...</td>\n",
    "      <td>...</td>\n",
    "      <td>...</td>\n",
    "      <td>...</td>\n",
    "      <td>...</td>\n",
    "      <td>...</td>\n",
    "      <td>...</td>\n",
    "      <td>...</td>\n",
    "      <td>...</td>\n",
    "      <td>...</td>\n",
    "      <td>...</td>\n",
    "      <td>...</td>\n",
    "      <td>...</td>\n",
    "      <td>...</td>\n",
    "      <td>...</td>\n",
    "      <td>...</td>\n",
    "      <td>...</td>\n",
    "      <td>...</td>\n",
    "      <td>...</td>\n",
    "      <td>...</td>\n",
    "      <td>...</td>\n",
    "    </tr>\n",
    "    <tr>\n",
    "      <th>564</th>\n",
    "      <td>21.56</td>\n",
    "      <td>22.39</td>\n",
    "      <td>142.00</td>\n",
    "      <td>1479.0</td>\n",
    "      <td>0.11100</td>\n",
    "      <td>0.11590</td>\n",
    "      <td>0.24390</td>\n",
    "      <td>0.13890</td>\n",
    "      <td>0.1726</td>\n",
    "      <td>0.05623</td>\n",
    "      <td>...</td>\n",
    "      <td>26.40</td>\n",
    "      <td>166.10</td>\n",
    "      <td>2027.0</td>\n",
    "      <td>0.14100</td>\n",
    "      <td>0.21130</td>\n",
    "      <td>0.4107</td>\n",
    "      <td>0.2216</td>\n",
    "      <td>0.2060</td>\n",
    "      <td>0.07115</td>\n",
    "      <td>0</td>\n",
    "    </tr>\n",
    "    <tr>\n",
    "      <th>565</th>\n",
    "      <td>20.13</td>\n",
    "      <td>28.25</td>\n",
    "      <td>131.20</td>\n",
    "      <td>1261.0</td>\n",
    "      <td>0.09780</td>\n",
    "      <td>0.10340</td>\n",
    "      <td>0.14400</td>\n",
    "      <td>0.09791</td>\n",
    "      <td>0.1752</td>\n",
    "      <td>0.05533</td>\n",
    "      <td>...</td>\n",
    "      <td>38.25</td>\n",
    "      <td>155.00</td>\n",
    "      <td>1731.0</td>\n",
    "      <td>0.11660</td>\n",
    "      <td>0.19220</td>\n",
    "      <td>0.3215</td>\n",
    "      <td>0.1628</td>\n",
    "      <td>0.2572</td>\n",
    "      <td>0.06637</td>\n",
    "      <td>0</td>\n",
    "    </tr>\n",
    "    <tr>\n",
    "      <th>566</th>\n",
    "      <td>16.60</td>\n",
    "      <td>28.08</td>\n",
    "      <td>108.30</td>\n",
    "      <td>858.1</td>\n",
    "      <td>0.08455</td>\n",
    "      <td>0.10230</td>\n",
    "      <td>0.09251</td>\n",
    "      <td>0.05302</td>\n",
    "      <td>0.1590</td>\n",
    "      <td>0.05648</td>\n",
    "      <td>...</td>\n",
    "      <td>34.12</td>\n",
    "      <td>126.70</td>\n",
    "      <td>1124.0</td>\n",
    "      <td>0.11390</td>\n",
    "      <td>0.30940</td>\n",
    "      <td>0.3403</td>\n",
    "      <td>0.1418</td>\n",
    "      <td>0.2218</td>\n",
    "      <td>0.07820</td>\n",
    "      <td>0</td>\n",
    "    </tr>\n",
    "    <tr>\n",
    "      <th>567</th>\n",
    "      <td>20.60</td>\n",
    "      <td>29.33</td>\n",
    "      <td>140.10</td>\n",
    "      <td>1265.0</td>\n",
    "      <td>0.11780</td>\n",
    "      <td>0.27700</td>\n",
    "      <td>0.35140</td>\n",
    "      <td>0.15200</td>\n",
    "      <td>0.2397</td>\n",
    "      <td>0.07016</td>\n",
    "      <td>...</td>\n",
    "      <td>39.42</td>\n",
    "      <td>184.60</td>\n",
    "      <td>1821.0</td>\n",
    "      <td>0.16500</td>\n",
    "      <td>0.86810</td>\n",
    "      <td>0.9387</td>\n",
    "      <td>0.2650</td>\n",
    "      <td>0.4087</td>\n",
    "      <td>0.12400</td>\n",
    "      <td>0</td>\n",
    "    </tr>\n",
    "    <tr>\n",
    "      <th>568</th>\n",
    "      <td>7.76</td>\n",
    "      <td>24.54</td>\n",
    "      <td>47.92</td>\n",
    "      <td>181.0</td>\n",
    "      <td>0.05263</td>\n",
    "      <td>0.04362</td>\n",
    "      <td>0.00000</td>\n",
    "      <td>0.00000</td>\n",
    "      <td>0.1587</td>\n",
    "      <td>0.05884</td>\n",
    "      <td>...</td>\n",
    "      <td>30.37</td>\n",
    "      <td>59.16</td>\n",
    "      <td>268.6</td>\n",
    "      <td>0.08996</td>\n",
    "      <td>0.06444</td>\n",
    "      <td>0.0000</td>\n",
    "      <td>0.0000</td>\n",
    "      <td>0.2871</td>\n",
    "      <td>0.07039</td>\n",
    "      <td>1</td>\n",
    "    </tr>\n",
    "  </tbody>\n",
    "</table>\n",
    "<p>569 rows × 31 columns</p>\n",
    "</div>"
   ]
  },
  {
   "cell_type": "markdown",
   "metadata": {},
   "source": [
    "`scaler` 변수에 표준화(StandardScaler)를 생성하고 `target` 컬럼을 제외한 X 변수에 대한 표준화를 진행합니다."
   ]
  },
  {
   "cell_type": "code",
   "execution_count": null,
   "metadata": {
    "id": "bfGN4i7ntfcl"
   },
   "outputs": [],
   "source": [
    "# 코드를 입력해 주세요\n",
    "scaler = \n",
    "scaled = "
   ]
  },
  {
   "cell_type": "markdown",
   "metadata": {},
   "source": [
    "- 데이터셋을 분할합니다\n",
    "- `random_state=10`으로 설정\n",
    "- stratify 지정"
   ]
  },
  {
   "cell_type": "code",
   "execution_count": null,
   "metadata": {
    "id": "kpumlXDtthPt"
   },
   "outputs": [],
   "source": [
    "# train_test_split\n",
    "x_train, x_test, y_train, y_test = "
   ]
  },
  {
   "cell_type": "markdown",
   "metadata": {},
   "source": [
    "`LogisticRegression`을 학습한 뒤 예측까지 진행합니다."
   ]
  },
  {
   "cell_type": "code",
   "execution_count": null,
   "metadata": {
    "id": "nWQxBceXtikH"
   },
   "outputs": [],
   "source": [
    "# 코드를 입력해 주세요\n",
    "lr_clf = \n",
    "lr_clf.\n",
    "pred = "
   ]
  },
  {
   "cell_type": "markdown",
   "metadata": {},
   "source": [
    "`정확도(accuracy)`를 측정합니다."
   ]
  },
  {
   "cell_type": "code",
   "execution_count": null,
   "metadata": {
    "colab": {
     "base_uri": "https://localhost:8080/",
     "height": 34
    },
    "id": "niHIm_27tkiQ",
    "outputId": "d66d1bbb-1bae-4266-c0c1-3ddb68eca111"
   },
   "outputs": [],
   "source": [
    "# 코드를 입력해 주세요\n"
   ]
  },
  {
   "cell_type": "markdown",
   "metadata": {
    "id": "rZ5nawP5gqIc"
   },
   "source": [
    "## 오차 행렬 (Confusion Matrix)"
   ]
  },
  {
   "cell_type": "code",
   "execution_count": null,
   "metadata": {
    "id": "u1smeUvKvNdm"
   },
   "outputs": [],
   "source": [
    "from sklearn.metrics import confusion_matrix\n",
    "from IPython.display import Image"
   ]
  },
  {
   "cell_type": "code",
   "execution_count": null,
   "metadata": {
    "colab": {
     "base_uri": "https://localhost:8080/",
     "height": 518
    },
    "id": "wLSfB8BVxLE7",
    "outputId": "b5a293b5-c893-4ecb-cccf-f9ae9e9c2cac"
   },
   "outputs": [],
   "source": [
    "Image('https://skappal7.files.wordpress.com/2018/08/confusion-matrix.jpg', width=700)"
   ]
  },
  {
   "cell_type": "code",
   "execution_count": null,
   "metadata": {
    "id": "gFpDd20AvP-D"
   },
   "outputs": [],
   "source": [
    "cm = confusion_matrix(y_test, pred)"
   ]
  },
  {
   "cell_type": "code",
   "execution_count": null,
   "metadata": {
    "colab": {
     "base_uri": "https://localhost:8080/",
     "height": 51
    },
    "id": "39UusauFvR3v",
    "outputId": "ce8c84cb-d53d-4f7c-9c96-3caa9cdb94d1"
   },
   "outputs": [],
   "source": [
    "cm"
   ]
  },
  {
   "cell_type": "code",
   "execution_count": null,
   "metadata": {
    "colab": {
     "base_uri": "https://localhost:8080/",
     "height": 468
    },
    "id": "9tVsy6p4vX0f",
    "outputId": "2d6cf1f2-8767-4ce4-c530-6d87580223cc"
   },
   "outputs": [],
   "source": [
    "fig, ax = plt.subplots()\n",
    "fig.set_size_inches(6, 6)\n",
    "sns.heatmap(cm, annot=True, annot_kws={\"size\": 20}, cmap='YlOrBr', cbar=False, ax=ax)\n",
    "plt.xlabel('Predicted', fontsize=20)\n",
    "plt.ylabel('Actual', fontsize=20)\n",
    "plt.show()"
   ]
  },
  {
   "cell_type": "code",
   "execution_count": null,
   "metadata": {
    "id": "e9XjqoWvxmRa"
   },
   "outputs": [],
   "source": [
    "TN, FP, FN, TP = cm.ravel()"
   ]
  },
  {
   "cell_type": "code",
   "execution_count": null,
   "metadata": {},
   "outputs": [],
   "source": [
    "TN, FP, FN, TP"
   ]
  },
  {
   "cell_type": "markdown",
   "metadata": {
    "id": "1jQzsmlbxJ_z"
   },
   "source": [
    "## 정밀도 (Precision)"
   ]
  },
  {
   "cell_type": "markdown",
   "metadata": {
    "id": "_tUaciHsyVBg"
   },
   "source": [
    "Positive로 예측한 전체 건수에서 옳게 예측한 건수의 비율\n",
    "\n",
    "- 중요 사례: 스팸 분류 (스팸으로 분류한 메일 중에서 중요 메일이 있는 경우"
   ]
  },
  {
   "cell_type": "code",
   "execution_count": null,
   "metadata": {
    "id": "KfU3RkM8yA83"
   },
   "outputs": [],
   "source": [
    "tn, fp, fn, tp = confusion_matrix([0, 1, 0, 1], [1, 1, 1, 0]).ravel()"
   ]
  },
  {
   "cell_type": "code",
   "execution_count": null,
   "metadata": {
    "id": "Mt4t14R4wqZu"
   },
   "outputs": [],
   "source": [
    "precision = TP / (FP + TP)"
   ]
  },
  {
   "cell_type": "code",
   "execution_count": null,
   "metadata": {
    "colab": {
     "base_uri": "https://localhost:8080/",
     "height": 34
    },
    "id": "3seOSRKlwruV",
    "outputId": "9648ea76-b815-4de2-96af-c74f6f3bf109"
   },
   "outputs": [],
   "source": [
    "precision"
   ]
  },
  {
   "cell_type": "code",
   "execution_count": null,
   "metadata": {
    "id": "cbm13HOwx9Ym"
   },
   "outputs": [],
   "source": [
    "from sklearn.metrics import precision_score"
   ]
  },
  {
   "cell_type": "code",
   "execution_count": null,
   "metadata": {
    "colab": {
     "base_uri": "https://localhost:8080/",
     "height": 34
    },
    "id": "k0_nB8sCyndA",
    "outputId": "291410a0-45ea-4257-ea47-1bdf4ce914eb"
   },
   "outputs": [],
   "source": [
    "precision_score(y_test, pred)"
   ]
  },
  {
   "cell_type": "markdown",
   "metadata": {
    "id": "Y6zrvrmeyqzu"
   },
   "source": [
    "## 재현율 (Recall), 민감도"
   ]
  },
  {
   "cell_type": "markdown",
   "metadata": {
    "id": "_RX02niDy9MG"
   },
   "source": [
    "실제 Positive인 전체 건수에서 옳게 예측한 건수의 비율\n",
    "- 중요 사례: 암 진단 (암 환자를 건강으로 분류하는 경우)\n",
    "- TPR (True Positive Rate)"
   ]
  },
  {
   "cell_type": "code",
   "execution_count": null,
   "metadata": {
    "id": "x2c0vfZEzcau"
   },
   "outputs": [],
   "source": [
    "recall = TP / (FN + TP)"
   ]
  },
  {
   "cell_type": "code",
   "execution_count": null,
   "metadata": {
    "colab": {
     "base_uri": "https://localhost:8080/",
     "height": 34
    },
    "id": "u_iEbzQnzqfF",
    "outputId": "8e7ea6b8-b586-4193-ffdd-c0042666b2fb"
   },
   "outputs": [],
   "source": [
    "recall"
   ]
  },
  {
   "cell_type": "code",
   "execution_count": null,
   "metadata": {
    "id": "AHjQIBWAzrDy"
   },
   "outputs": [],
   "source": [
    "from sklearn.metrics import recall_score"
   ]
  },
  {
   "cell_type": "code",
   "execution_count": null,
   "metadata": {
    "colab": {
     "base_uri": "https://localhost:8080/",
     "height": 34
    },
    "id": "Jfk1RAlhzuVs",
    "outputId": "f731d4b9-ade2-49f5-db04-d9c94021435c"
   },
   "outputs": [],
   "source": [
    "recall_score(y_test, pred)"
   ]
  },
  {
   "cell_type": "markdown",
   "metadata": {
    "id": "I2zDTJ1zzwOI"
   },
   "source": [
    "## F1 Score"
   ]
  },
  {
   "cell_type": "markdown",
   "metadata": {
    "id": "xc2522qAz3oL"
   },
   "source": [
    "재현율과 정밀도의 균형을 나타내는 수치"
   ]
  },
  {
   "cell_type": "markdown",
   "metadata": {
    "id": "VBbIgKQTz66b"
   },
   "source": [
    "${F1 Score}=2*\\: \\frac{precision\\:*\\: recall}{precision+recall}$\n",
    "\n"
   ]
  },
  {
   "cell_type": "code",
   "execution_count": null,
   "metadata": {
    "colab": {
     "base_uri": "https://localhost:8080/",
     "height": 34
    },
    "id": "kOF62df40TR3",
    "outputId": "caaffef8-9123-435d-bdcb-14b2811c9213"
   },
   "outputs": [],
   "source": [
    "2 * (precision * recall) / (precision + recall)"
   ]
  },
  {
   "cell_type": "code",
   "execution_count": null,
   "metadata": {
    "id": "OyfMQDEu0xYb"
   },
   "outputs": [],
   "source": [
    "from sklearn.metrics import f1_score"
   ]
  },
  {
   "cell_type": "code",
   "execution_count": null,
   "metadata": {
    "colab": {
     "base_uri": "https://localhost:8080/",
     "height": 34
    },
    "id": "3QpQJMox00_y",
    "outputId": "b4157dcf-c8a6-4961-a737-345846c42f2d"
   },
   "outputs": [],
   "source": [
    "f1_score(y_test, pred)"
   ]
  }
 ],
 "metadata": {
  "colab": {
   "collapsed_sections": [],
   "name": "07-logistic-regression-분류-평가지표-(실습)",
   "provenance": []
  },
  "kernelspec": {
   "display_name": "Python 3 (ipykernel)",
   "language": "python",
   "name": "python3"
  },
  "language_info": {
   "codemirror_mode": {
    "name": "ipython",
    "version": 3
   },
   "file_extension": ".py",
   "mimetype": "text/x-python",
   "name": "python",
   "nbconvert_exporter": "python",
   "pygments_lexer": "ipython3",
   "version": "3.7.10"
  }
 },
 "nbformat": 4,
 "nbformat_minor": 1
}
