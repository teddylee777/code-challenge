{
 "cells": [
  {
   "cell_type": "markdown",
   "metadata": {
    "id": "ousE0gs_UjXH"
   },
   "source": [
    "# 함수(function)\n",
    "\n",
    "- 자주 사용되는 코드 및 **반복되는 코드를 모아 하나의 기능**으로 만들고 이름을 붙인 것입니다.\n",
    "- 즉, 함수의 가장 중요한 기능은 바로 **코드의 재사용성**입니다."
   ]
  },
  {
   "cell_type": "markdown",
   "metadata": {},
   "source": [
    "## 함수의 기본 구조\n",
    "\n",
    "- `def` 키워드로 시작합니다.\n",
    "- 함수명을 기입합니다.\n",
    "- () 안에 매개변수를 지정할 수 있고, 생략도 가능합니다.\n",
    "- 끝에는 `:`으로 끝납니다.\n",
    "- 함수의 범위 안에서는 **들여쓰기**를 합니다. 들여쓰기가 끝난 지점이 함수의 범위가 끝나는 지점입니다."
   ]
  },
  {
   "cell_type": "markdown",
   "metadata": {},
   "source": [
    "**(예시)**"
   ]
  },
  {
   "cell_type": "code",
   "execution_count": 1,
   "metadata": {},
   "outputs": [],
   "source": [
    "def add_function(a, b):\n",
    "    result = a + b\n",
    "    return result"
   ]
  },
  {
   "cell_type": "markdown",
   "metadata": {},
   "source": [
    "## 함수의 다양한 형태"
   ]
  },
  {
   "cell_type": "markdown",
   "metadata": {},
   "source": [
    "### 일반 형태\n",
    "\n",
    "- 입력 매개변수: O\n",
    "- return: O"
   ]
  },
  {
   "cell_type": "code",
   "execution_count": 2,
   "metadata": {
    "id": "kt12-eg4UkQF"
   },
   "outputs": [],
   "source": [
    "def sample_function(a, b):\n",
    "    result = a + b\n",
    "    return result"
   ]
  },
  {
   "cell_type": "markdown",
   "metadata": {},
   "source": [
    "### 입력 매개변수가 없는 형태"
   ]
  },
  {
   "cell_type": "code",
   "execution_count": 3,
   "metadata": {},
   "outputs": [],
   "source": [
    "def sample_function():\n",
    "    a = 1\n",
    "    b = 2\n",
    "    result = a + b\n",
    "    return result"
   ]
  },
  {
   "cell_type": "markdown",
   "metadata": {},
   "source": [
    "### return 이 없는 형태"
   ]
  },
  {
   "cell_type": "code",
   "execution_count": 4,
   "metadata": {},
   "outputs": [],
   "source": [
    "def sample_function(a, b):\n",
    "    result = a + b\n",
    "    print(f'result: {result}')"
   ]
  },
  {
   "cell_type": "markdown",
   "metadata": {},
   "source": [
    "### 입력 매개변수, return 모두 없는 형태"
   ]
  },
  {
   "cell_type": "code",
   "execution_count": 5,
   "metadata": {},
   "outputs": [],
   "source": [
    "def sample_function():\n",
    "    print('Hello, World!')"
   ]
  },
  {
   "cell_type": "markdown",
   "metadata": {},
   "source": [
    "## 함수의 이름 및 호출\n",
    "\n",
    "- 함수의 이름은 알파벳이나 `_`로 시작해야 합니다.\n",
    "- 함수의 지정된 이름과 () 로 **호출** 할 수 있습니다."
   ]
  },
  {
   "cell_type": "code",
   "execution_count": 6,
   "metadata": {},
   "outputs": [],
   "source": [
    "def sample_function():\n",
    "    print('함수가 호출 되었습니다!')"
   ]
  },
  {
   "cell_type": "markdown",
   "metadata": {},
   "source": [
    "함수의 이름만 출력시"
   ]
  },
  {
   "cell_type": "code",
   "execution_count": 7,
   "metadata": {},
   "outputs": [
    {
     "data": {
      "text/plain": [
       "<function __main__.sample_function()>"
      ]
     },
     "execution_count": 7,
     "metadata": {},
     "output_type": "execute_result"
    }
   ],
   "source": [
    "sample_function"
   ]
  },
  {
   "cell_type": "markdown",
   "metadata": {},
   "source": [
    "**호출(call)**: 함수의 이름과 함께 `()`를 같이 실행"
   ]
  },
  {
   "cell_type": "code",
   "execution_count": 8,
   "metadata": {
    "id": "-zhU5RcyVAQM"
   },
   "outputs": [
    {
     "name": "stdout",
     "output_type": "stream",
     "text": [
      "함수가 호출 되었습니다!\n"
     ]
    }
   ],
   "source": [
    "sample_function()"
   ]
  },
  {
   "cell_type": "markdown",
   "metadata": {},
   "source": [
    "함수의 이름을 별도의 변수에 대입한 후 변수에 `()`를 같이 실행한 경우"
   ]
  },
  {
   "cell_type": "code",
   "execution_count": 9,
   "metadata": {
    "id": "OgYBNzPFU-6n"
   },
   "outputs": [
    {
     "name": "stdout",
     "output_type": "stream",
     "text": [
      "함수가 호출 되었습니다!\n"
     ]
    }
   ],
   "source": [
    "a = sample_function\n",
    "a()"
   ]
  },
  {
   "cell_type": "code",
   "execution_count": 10,
   "metadata": {},
   "outputs": [],
   "source": [
    "# return 이 존재하는 경우\n",
    "def sample_function():\n",
    "    print('함수가 호출 되었습니다!')\n",
    "    return 123"
   ]
  },
  {
   "cell_type": "markdown",
   "metadata": {},
   "source": [
    "**return 값이 존재**하는 경우 함수는 결과 값을 **반환** 하며 반환된 결과를 변수에 대입할 수 있습니다."
   ]
  },
  {
   "cell_type": "code",
   "execution_count": 11,
   "metadata": {},
   "outputs": [
    {
     "name": "stdout",
     "output_type": "stream",
     "text": [
      "함수가 호출 되었습니다!\n"
     ]
    }
   ],
   "source": [
    "result = sample_function()"
   ]
  },
  {
   "cell_type": "code",
   "execution_count": 12,
   "metadata": {},
   "outputs": [
    {
     "data": {
      "text/plain": [
       "123"
      ]
     },
     "execution_count": 12,
     "metadata": {},
     "output_type": "execute_result"
    }
   ],
   "source": [
    "result"
   ]
  },
  {
   "cell_type": "markdown",
   "metadata": {},
   "source": [
    "하지만, 함수가 아무런 결과 값을 반환하지 않는다면 함수로부터 반환된 결과는 `None`입니다."
   ]
  },
  {
   "cell_type": "code",
   "execution_count": 13,
   "metadata": {},
   "outputs": [],
   "source": [
    "# return 이 없는 경우\n",
    "def sample_function():\n",
    "    print('함수가 호출 되었습니다!')"
   ]
  },
  {
   "cell_type": "code",
   "execution_count": 14,
   "metadata": {},
   "outputs": [
    {
     "name": "stdout",
     "output_type": "stream",
     "text": [
      "함수가 호출 되었습니다!\n"
     ]
    }
   ],
   "source": [
    "result = sample_function()"
   ]
  },
  {
   "cell_type": "code",
   "execution_count": 15,
   "metadata": {},
   "outputs": [
    {
     "name": "stdout",
     "output_type": "stream",
     "text": [
      "None\n"
     ]
    }
   ],
   "source": [
    "print(result)"
   ]
  },
  {
   "cell_type": "markdown",
   "metadata": {
    "id": "SOnceFroVEeb"
   },
   "source": [
    "## docstring\n",
    "\n",
    "- 함수에 대한 설명을 기록"
   ]
  },
  {
   "cell_type": "code",
   "execution_count": 16,
   "metadata": {
    "id": "ZaipBaBjVI2C"
   },
   "outputs": [],
   "source": [
    "def sample_function():\n",
    "    \"\"\"\n",
    "    함수에 대한 설명을 기록합니다.\n",
    "    sample_function은 함수를 설명하기 위한 예제 함수 입니다.\n",
    "    \n",
    "    (예시)\n",
    "    호출의 예.\n",
    "    sample_function()\n",
    "    \"\"\"\n",
    "    print('함수가 호출 되었습니다.')"
   ]
  },
  {
   "cell_type": "code",
   "execution_count": 17,
   "metadata": {
    "id": "X08SKrF3VUU-"
   },
   "outputs": [
    {
     "name": "stdout",
     "output_type": "stream",
     "text": [
      "함수가 호출 되었습니다.\n"
     ]
    }
   ],
   "source": [
    "sample_function()"
   ]
  },
  {
   "cell_type": "markdown",
   "metadata": {},
   "source": [
    "`함수명.__doc__`로 docstring을 출력할 수 있습니다."
   ]
  },
  {
   "cell_type": "code",
   "execution_count": 18,
   "metadata": {
    "id": "DehGzSrqEwG3"
   },
   "outputs": [
    {
     "name": "stdout",
     "output_type": "stream",
     "text": [
      "\n",
      "    함수에 대한 설명을 기록합니다.\n",
      "    sample_function은 함수를 설명하기 위한 예제 함수 입니다.\n",
      "    \n",
      "    (예시)\n",
      "    호출의 예.\n",
      "    sample_function()\n",
      "    \n"
     ]
    }
   ],
   "source": [
    "print(sample_function.__doc__)"
   ]
  },
  {
   "cell_type": "markdown",
   "metadata": {},
   "source": [
    "## 함수의 인수(매개변수)\n",
    "\n",
    "**[참고]**\n",
    "- **인수(argument)**: 값, 변수, 참조 등 전달되는 값\n",
    "- **매개변수(parameter)**: 함수 등에서 사용되는 전달된 값을 받는 변수"
   ]
  },
  {
   "cell_type": "markdown",
   "metadata": {},
   "source": [
    "- `10`, `20` 이라는 값은 인수(argument)\n",
    "- `a`, `b`는 매개변수(parameter)"
   ]
  },
  {
   "cell_type": "code",
   "execution_count": 19,
   "metadata": {},
   "outputs": [
    {
     "data": {
      "text/plain": [
       "30"
      ]
     },
     "execution_count": 19,
     "metadata": {},
     "output_type": "execute_result"
    }
   ],
   "source": [
    "def some_function(a, b):\n",
    "    result = a + b\n",
    "    return result\n",
    "\n",
    "some_function(10, 20)"
   ]
  },
  {
   "cell_type": "markdown",
   "metadata": {
    "id": "Xn92psrqVV1v"
   },
   "source": [
    "### 위치 인수(positional arguments)\n",
    "\n",
    "- 가장 보편적인 인수입니다.\n",
    "- 변수명을 인수로 지정합니다.\n",
    "- 위치가 중요합니다."
   ]
  },
  {
   "cell_type": "markdown",
   "metadata": {},
   "source": [
    "`a`, `b`, `c`를 위치인수로 지정한 경우"
   ]
  },
  {
   "cell_type": "code",
   "execution_count": 20,
   "metadata": {
    "id": "VU278M2FVZ7Y"
   },
   "outputs": [],
   "source": [
    "def add_function(a, b, c):\n",
    "    result = a + b + c\n",
    "    print(f'a: {a}, b: {b}, c: {c}')\n",
    "    print(f'sum: {result}')\n",
    "    return result"
   ]
  },
  {
   "cell_type": "code",
   "execution_count": 21,
   "metadata": {
    "id": "cDE-a91RVirK"
   },
   "outputs": [
    {
     "name": "stdout",
     "output_type": "stream",
     "text": [
      "a: 1, b: 3, c: 5\n",
      "sum: 9\n"
     ]
    },
    {
     "data": {
      "text/plain": [
       "9"
      ]
     },
     "execution_count": 21,
     "metadata": {},
     "output_type": "execute_result"
    }
   ],
   "source": [
    "add_function(1, 3, 5)"
   ]
  },
  {
   "cell_type": "markdown",
   "metadata": {
    "id": "r5vLxKcGVpLb"
   },
   "source": [
    "### 키워드 인수(keyword arguments)\n",
    "\n",
    "- 위치 인수의 위치를 정확히 기억 하지 못하고 혼란을 야기할 수 있기 때문에 **인수명에 값을 직접 지정**합니다."
   ]
  },
  {
   "cell_type": "code",
   "execution_count": 22,
   "metadata": {},
   "outputs": [],
   "source": [
    "def add_function(a, b, c):\n",
    "    result = a + b + c\n",
    "    print(f'a: {a}, b: {b}, c: {c}')\n",
    "    print(f'sum: {result}')\n",
    "    return result"
   ]
  },
  {
   "cell_type": "markdown",
   "metadata": {},
   "source": [
    "아래의 예제는 키워드로 매개변수에 대한 값을 지정하는 예시입니다."
   ]
  },
  {
   "cell_type": "code",
   "execution_count": 23,
   "metadata": {},
   "outputs": [
    {
     "name": "stdout",
     "output_type": "stream",
     "text": [
      "a: 5, b: 3, c: 1\n",
      "sum: 9\n"
     ]
    },
    {
     "data": {
      "text/plain": [
       "9"
      ]
     },
     "execution_count": 23,
     "metadata": {},
     "output_type": "execute_result"
    }
   ],
   "source": [
    "add_function(b=3, c=1, a=5)"
   ]
  },
  {
   "cell_type": "markdown",
   "metadata": {},
   "source": [
    "### 기본 매개변수(default parameter)\n",
    "\n",
    "- 매개변수에 **기본 값을 지정**할 수 있습니다.\n",
    "- 기본 값을 지정시 인수에 값을 **생략 가능**합니다.\n",
    "- 단, 기본 값이 지정된 인수는 위치 인수보다 다음에 위치해야 합니다."
   ]
  },
  {
   "cell_type": "code",
   "execution_count": 24,
   "metadata": {},
   "outputs": [],
   "source": [
    "def add_function(a, b=0, c=0):\n",
    "    result = a + b + c\n",
    "    print(f'a: {a}, b: {b}, c: {c}')\n",
    "    print(f'sum: {result}')\n",
    "    return result"
   ]
  },
  {
   "cell_type": "code",
   "execution_count": 25,
   "metadata": {},
   "outputs": [
    {
     "name": "stdout",
     "output_type": "stream",
     "text": [
      "a: 1, b: 0, c: 0\n",
      "sum: 1\n"
     ]
    },
    {
     "data": {
      "text/plain": [
       "1"
      ]
     },
     "execution_count": 25,
     "metadata": {},
     "output_type": "execute_result"
    }
   ],
   "source": [
    "add_function(1)"
   ]
  },
  {
   "cell_type": "code",
   "execution_count": 26,
   "metadata": {},
   "outputs": [
    {
     "name": "stdout",
     "output_type": "stream",
     "text": [
      "a: 1, b: 3, c: 0\n",
      "sum: 4\n"
     ]
    },
    {
     "data": {
      "text/plain": [
       "4"
      ]
     },
     "execution_count": 26,
     "metadata": {},
     "output_type": "execute_result"
    }
   ],
   "source": [
    "add_function(1, 3)"
   ]
  },
  {
   "cell_type": "code",
   "execution_count": 27,
   "metadata": {},
   "outputs": [
    {
     "name": "stdout",
     "output_type": "stream",
     "text": [
      "a: 1, b: 3, c: 5\n",
      "sum: 9\n"
     ]
    },
    {
     "data": {
      "text/plain": [
       "9"
      ]
     },
     "execution_count": 27,
     "metadata": {},
     "output_type": "execute_result"
    }
   ],
   "source": [
    "add_function(1, 3, 5)"
   ]
  },
  {
   "cell_type": "code",
   "execution_count": 28,
   "metadata": {},
   "outputs": [
    {
     "name": "stdout",
     "output_type": "stream",
     "text": [
      "a: 1, b: 3, c: 5\n",
      "sum: 9\n"
     ]
    },
    {
     "data": {
      "text/plain": [
       "9"
      ]
     },
     "execution_count": 28,
     "metadata": {},
     "output_type": "execute_result"
    }
   ],
   "source": [
    "add_function(c=5, b=3, a=1)"
   ]
  },
  {
   "cell_type": "markdown",
   "metadata": {},
   "source": [
    "기본 매개변수가 **위치 인수보다 앞 쪽에 위치한 경우 Error**가 발생합니다."
   ]
  },
  {
   "cell_type": "code",
   "execution_count": 29,
   "metadata": {},
   "outputs": [
    {
     "ename": "SyntaxError",
     "evalue": "non-default argument follows default argument (<ipython-input-29-8487cf0d9f78>, line 1)",
     "output_type": "error",
     "traceback": [
      "\u001b[0;36m  File \u001b[0;32m\"<ipython-input-29-8487cf0d9f78>\"\u001b[0;36m, line \u001b[0;32m1\u001b[0m\n\u001b[0;31m    def add_function(a=0, b, c):\u001b[0m\n\u001b[0m                    ^\u001b[0m\n\u001b[0;31mSyntaxError\u001b[0m\u001b[0;31m:\u001b[0m non-default argument follows default argument\n"
     ]
    }
   ],
   "source": [
    "def add_function(a=0, b, c):\n",
    "    result = a + b + c\n",
    "    print(f'a: {a}, b: {b}, c: {c}')\n",
    "    print(f'sum: {result}')\n",
    "    return result"
   ]
  },
  {
   "cell_type": "markdown",
   "metadata": {
    "id": "tYD7efFfLEiR"
   },
   "source": [
    "### *tuple (가변 매개변수)\n",
    "\n",
    "- 여러 개의 인수를 전달 받을 수 있습니다.\n",
    "- 여러 개의 인수를 전달 받은 `*args`에는 튜플(tuple) 형식으로 데이터가 저장됩니다.\n",
    "- `*args`로 받은 인수는 반복문으로 처리하는 것이 일반 적입니다.\n",
    "- 대체적으로 `*args` 변수가 많이 사용됩니다."
   ]
  },
  {
   "cell_type": "code",
   "execution_count": 30,
   "metadata": {
    "id": "4UBVgi0eeyBd"
   },
   "outputs": [],
   "source": [
    "def add_function(*args):\n",
    "    result = 0\n",
    "    print(f'args의 타입: {type(args)}')\n",
    "    for arg in args:\n",
    "        print(arg)\n",
    "        result += arg\n",
    "    print('==='* 5)\n",
    "    print(f'sum: {result}')"
   ]
  },
  {
   "cell_type": "markdown",
   "metadata": {},
   "source": [
    "아무런 값을 전달하지 않은 경우(생략 가능)"
   ]
  },
  {
   "cell_type": "code",
   "execution_count": 31,
   "metadata": {
    "id": "mIdNplh-RdbP"
   },
   "outputs": [
    {
     "name": "stdout",
     "output_type": "stream",
     "text": [
      "args의 타입: <class 'tuple'>\n",
      "===============\n",
      "sum: 0\n"
     ]
    }
   ],
   "source": [
    "add_function()"
   ]
  },
  {
   "cell_type": "markdown",
   "metadata": {},
   "source": [
    "1개의 값을 전달한 경우"
   ]
  },
  {
   "cell_type": "code",
   "execution_count": 32,
   "metadata": {
    "id": "sYxJOYjhRbbs"
   },
   "outputs": [
    {
     "name": "stdout",
     "output_type": "stream",
     "text": [
      "args의 타입: <class 'tuple'>\n",
      "1\n",
      "===============\n",
      "sum: 1\n"
     ]
    }
   ],
   "source": [
    "add_function(1)"
   ]
  },
  {
   "cell_type": "markdown",
   "metadata": {},
   "source": [
    "복수의 값을 전달한 경우"
   ]
  },
  {
   "cell_type": "code",
   "execution_count": 33,
   "metadata": {
    "id": "e_G-8OunI-Zk"
   },
   "outputs": [
    {
     "name": "stdout",
     "output_type": "stream",
     "text": [
      "args의 타입: <class 'tuple'>\n",
      "1\n",
      "2\n",
      "3\n",
      "4\n",
      "5\n",
      "===============\n",
      "sum: 15\n"
     ]
    }
   ],
   "source": [
    "add_function(1, 2, 3, 4, 5)"
   ]
  },
  {
   "cell_type": "markdown",
   "metadata": {},
   "source": [
    "### 위치 매개변수와 *tuple 매개변수의 혼용\n",
    "\n",
    "- *tuple 매개변수는 위치 매개변수의 뒤에 위치해야 합니다."
   ]
  },
  {
   "cell_type": "code",
   "execution_count": 34,
   "metadata": {
    "id": "V6u0JYYgfdVF"
   },
   "outputs": [],
   "source": [
    "def add_function(a, *args):\n",
    "    print(f'a: {a}')\n",
    "    print('==='* 5)\n",
    "    result = 0\n",
    "    for arg in args:\n",
    "        print(arg)\n",
    "        result += arg\n",
    "    print('==='* 5)\n",
    "    print(f'sum: {result}')"
   ]
  },
  {
   "cell_type": "markdown",
   "metadata": {},
   "source": [
    "아무런 값을 지정하지 않은 경우\n",
    "- 위치 매개변수 미지정으로 인한 Error 발생"
   ]
  },
  {
   "cell_type": "code",
   "execution_count": 35,
   "metadata": {
    "id": "AV5qXl2DJBya"
   },
   "outputs": [
    {
     "ename": "TypeError",
     "evalue": "add_function() missing 1 required positional argument: 'a'",
     "output_type": "error",
     "traceback": [
      "\u001b[0;31m---------------------------------------------------------------------------\u001b[0m",
      "\u001b[0;31mTypeError\u001b[0m                                 Traceback (most recent call last)",
      "\u001b[0;32m<ipython-input-35-1553848aed78>\u001b[0m in \u001b[0;36m<module>\u001b[0;34m\u001b[0m\n\u001b[0;32m----> 1\u001b[0;31m \u001b[0madd_function\u001b[0m\u001b[0;34m(\u001b[0m\u001b[0;34m)\u001b[0m\u001b[0;34m\u001b[0m\u001b[0;34m\u001b[0m\u001b[0m\n\u001b[0m",
      "\u001b[0;31mTypeError\u001b[0m: add_function() missing 1 required positional argument: 'a'"
     ]
    }
   ],
   "source": [
    "add_function()"
   ]
  },
  {
   "cell_type": "markdown",
   "metadata": {},
   "source": [
    "단일 값을 지정한 경우"
   ]
  },
  {
   "cell_type": "code",
   "execution_count": 36,
   "metadata": {},
   "outputs": [
    {
     "name": "stdout",
     "output_type": "stream",
     "text": [
      "a: 1\n",
      "===============\n",
      "===============\n",
      "sum: 0\n"
     ]
    }
   ],
   "source": [
    "add_function(1)"
   ]
  },
  {
   "cell_type": "markdown",
   "metadata": {},
   "source": [
    "복수의 값을 지정한 경우"
   ]
  },
  {
   "cell_type": "code",
   "execution_count": 37,
   "metadata": {},
   "outputs": [
    {
     "name": "stdout",
     "output_type": "stream",
     "text": [
      "a: 1\n",
      "===============\n",
      "2\n",
      "3\n",
      "4\n",
      "5\n",
      "===============\n",
      "sum: 14\n"
     ]
    }
   ],
   "source": [
    "add_function(1, 2, 3, 4, 5)"
   ]
  },
  {
   "cell_type": "markdown",
   "metadata": {},
   "source": [
    "### **dict 인수 (키워드 가변 매개변수)\n",
    "\n",
    "- 여러 개의 인수를 전달 받을 수 있습니다.\n",
    "- 여러 개의 인수를 전달 받은 `**kwargs`에는 딕셔너리(dict) 형식으로 데이터가 저장됩니다.\n",
    "- `**kwargs`로 받은 인수 역시 반복문으로 처리하는 것이 일반 적입니다.\n",
    "- 대체적으로 `**kwargs` 변수가 많이 사용됩니다."
   ]
  },
  {
   "cell_type": "code",
   "execution_count": 38,
   "metadata": {
    "id": "1a9dRSMESY-i"
   },
   "outputs": [],
   "source": [
    "def add_function(**kwargs):\n",
    "    total_age = 0\n",
    "    for name, age in kwargs.items():\n",
    "        print(f'이름: {name}, 나이: {age}')\n",
    "        total_age += age\n",
    "    print('==='* 5)\n",
    "    print(f'전체 나이의 합계: {total_age}')"
   ]
  },
  {
   "cell_type": "markdown",
   "metadata": {},
   "source": [
    "아무런 값을 지정하지 않은 경우"
   ]
  },
  {
   "cell_type": "code",
   "execution_count": 39,
   "metadata": {},
   "outputs": [
    {
     "name": "stdout",
     "output_type": "stream",
     "text": [
      "===============\n",
      "전체 나이의 합계: 0\n"
     ]
    }
   ],
   "source": [
    "add_function()"
   ]
  },
  {
   "cell_type": "markdown",
   "metadata": {},
   "source": [
    "단일 값을 지정한 경우"
   ]
  },
  {
   "cell_type": "code",
   "execution_count": 40,
   "metadata": {},
   "outputs": [
    {
     "name": "stdout",
     "output_type": "stream",
     "text": [
      "이름: lee, 나이: 5\n",
      "===============\n",
      "전체 나이의 합계: 5\n"
     ]
    }
   ],
   "source": [
    "add_function(lee=5)"
   ]
  },
  {
   "cell_type": "code",
   "execution_count": 41,
   "metadata": {},
   "outputs": [
    {
     "name": "stdout",
     "output_type": "stream",
     "text": [
      "이름: john, 나이: 10\n",
      "이름: peter, 나이: 12\n",
      "이름: lee, 나이: 5\n",
      "===============\n",
      "전체 나이의 합계: 27\n"
     ]
    }
   ],
   "source": [
    "add_function(john=10, peter=12, lee=5)"
   ]
  },
  {
   "cell_type": "markdown",
   "metadata": {},
   "source": [
    "딕셔너리(dictionary)를 인수로 지정하는 경우 `**`를 앞에 붙혀 줍니다."
   ]
  },
  {
   "cell_type": "code",
   "execution_count": 42,
   "metadata": {},
   "outputs": [
    {
     "data": {
      "text/plain": [
       "{'john': 10, 'peter': 12, 'lee': 5}"
      ]
     },
     "execution_count": 42,
     "metadata": {},
     "output_type": "execute_result"
    }
   ],
   "source": [
    "person = {'john': 10, 'peter': 12, 'lee': 5}\n",
    "person"
   ]
  },
  {
   "cell_type": "code",
   "execution_count": 43,
   "metadata": {},
   "outputs": [
    {
     "name": "stdout",
     "output_type": "stream",
     "text": [
      "이름: john, 나이: 10\n",
      "이름: peter, 나이: 12\n",
      "이름: lee, 나이: 5\n",
      "===============\n",
      "전체 나이의 합계: 27\n"
     ]
    }
   ],
   "source": [
    "add_function(**person)"
   ]
  },
  {
   "cell_type": "markdown",
   "metadata": {
    "id": "iAyzxgojPi4g"
   },
   "source": [
    "## lambda : 익명 함수(annonymous function)\n",
    "\n",
    "- 이름 없이 정의된 함수 입니다.\n",
    "- **단일 문장(1줄)**의 코드로 작성되어야 합니다.\n",
    "- 함수 내부에서는 return문이 포함하지 않지만 값을 반환합니다."
   ]
  },
  {
   "cell_type": "markdown",
   "metadata": {},
   "source": [
    "**단일 인수**를 가지는 lambda 함수"
   ]
  },
  {
   "cell_type": "code",
   "execution_count": 44,
   "metadata": {
    "id": "hqz54WRFPm7F"
   },
   "outputs": [],
   "source": [
    "a = lambda x: x * 2"
   ]
  },
  {
   "cell_type": "code",
   "execution_count": 45,
   "metadata": {
    "id": "SMJsWxlGPptb"
   },
   "outputs": [
    {
     "data": {
      "text/plain": [
       "8"
      ]
     },
     "execution_count": 45,
     "metadata": {},
     "output_type": "execute_result"
    }
   ],
   "source": [
    "a(4)"
   ]
  },
  {
   "cell_type": "markdown",
   "metadata": {},
   "source": [
    "**2개의 인수**를 가지는 lambda 함수"
   ]
  },
  {
   "cell_type": "code",
   "execution_count": 46,
   "metadata": {
    "id": "sJh36B1UPqsB"
   },
   "outputs": [],
   "source": [
    "a = lambda x, y: x * y"
   ]
  },
  {
   "cell_type": "code",
   "execution_count": 47,
   "metadata": {
    "id": "9wgSa1zRPzJ3"
   },
   "outputs": [
    {
     "data": {
      "text/plain": [
       "32"
      ]
     },
     "execution_count": 47,
     "metadata": {},
     "output_type": "execute_result"
    }
   ],
   "source": [
    "a(4, 8)"
   ]
  },
  {
   "cell_type": "markdown",
   "metadata": {},
   "source": [
    "**기본 값이 지정된 인수**를 가지는 lambda 함수"
   ]
  },
  {
   "cell_type": "code",
   "execution_count": 48,
   "metadata": {},
   "outputs": [],
   "source": [
    "a = lambda x, y=10: x * y"
   ]
  },
  {
   "cell_type": "code",
   "execution_count": 49,
   "metadata": {
    "id": "pBw029gNP0bT"
   },
   "outputs": [
    {
     "data": {
      "text/plain": [
       "30"
      ]
     },
     "execution_count": 49,
     "metadata": {},
     "output_type": "execute_result"
    }
   ],
   "source": [
    "a(3)"
   ]
  },
  {
   "cell_type": "markdown",
   "metadata": {},
   "source": [
    "**키워드 인수**를 지정하는 lambda 함수"
   ]
  },
  {
   "cell_type": "code",
   "execution_count": 50,
   "metadata": {
    "id": "fzu4rEeaQx_d"
   },
   "outputs": [
    {
     "data": {
      "text/plain": [
       "15"
      ]
     },
     "execution_count": 50,
     "metadata": {},
     "output_type": "execute_result"
    }
   ],
   "source": [
    "a(y=5, x=3)"
   ]
  },
  {
   "cell_type": "markdown",
   "metadata": {},
   "source": [
    "lambda 함수 내부에서 **조건문** 사용"
   ]
  },
  {
   "cell_type": "code",
   "execution_count": 51,
   "metadata": {
    "id": "Mk8Hom1HP6J0"
   },
   "outputs": [],
   "source": [
    "a = lambda x, y: x * y if x > 0 else y"
   ]
  },
  {
   "cell_type": "code",
   "execution_count": 52,
   "metadata": {
    "id": "0f7feBkGP-sM"
   },
   "outputs": [
    {
     "data": {
      "text/plain": [
       "32"
      ]
     },
     "execution_count": 52,
     "metadata": {},
     "output_type": "execute_result"
    }
   ],
   "source": [
    "a(4, 8)"
   ]
  },
  {
   "cell_type": "code",
   "execution_count": 53,
   "metadata": {
    "id": "rBFEFRBFQAqX"
   },
   "outputs": [
    {
     "data": {
      "text/plain": [
       "8"
      ]
     },
     "execution_count": 53,
     "metadata": {},
     "output_type": "execute_result"
    }
   ],
   "source": [
    "a(-1, 8)"
   ]
  }
 ],
 "metadata": {
  "colab": {
   "collapsed_sections": [],
   "name": "07 - 파이썬 - 함수와 매개변수",
   "provenance": []
  },
  "kernelspec": {
   "display_name": "Python 3 (ipykernel)",
   "language": "python",
   "name": "python3"
  },
  "language_info": {
   "codemirror_mode": {
    "name": "ipython",
    "version": 3
   },
   "file_extension": ".py",
   "mimetype": "text/x-python",
   "name": "python",
   "nbconvert_exporter": "python",
   "pygments_lexer": "ipython3",
   "version": "3.8.13"
  }
 },
 "nbformat": 4,
 "nbformat_minor": 1
}
