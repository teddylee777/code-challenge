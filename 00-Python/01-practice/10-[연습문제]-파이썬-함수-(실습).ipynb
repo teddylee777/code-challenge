{
 "cells": [
  {
   "cell_type": "code",
   "execution_count": null,
   "metadata": {},
   "outputs": [],
   "source": [
    "!pip install -U pycodegrade -q\n",
    "from pycodegrade import grader as gd\n",
    "\n",
    "uid = 'PY10'\n",
    "group_id = None\n",
    "gd.init('Python', uid, group_id)"
   ]
  },
  {
   "cell_type": "markdown",
   "metadata": {},
   "source": [
    "### 1"
   ]
  },
  {
   "cell_type": "markdown",
   "metadata": {},
   "source": [
    "> 가변 매개변수를 활용한 함수를 생성하여 요소의 개수를 구하고 요소의 개수를 반환(return) 하는 함수를 구현하세요\n",
    "\n",
    "```\n",
    "Tip)\n",
    "def count_function(*args):\n",
    "\n",
    "```"
   ]
  },
  {
   "cell_type": "code",
   "execution_count": null,
   "metadata": {},
   "outputs": [],
   "source": [
    "# 코드를 입력해 주세요\n"
   ]
  },
  {
   "cell_type": "code",
   "execution_count": null,
   "metadata": {},
   "outputs": [],
   "source": [
    "# 검증코드\n",
    "count_function()"
   ]
  },
  {
   "cell_type": "markdown",
   "metadata": {},
   "source": [
    "<p><strong>[출력 결과]</strong></p><pre>0</pre>"
   ]
  },
  {
   "cell_type": "code",
   "execution_count": null,
   "metadata": {},
   "outputs": [],
   "source": [
    "# 검증코드\n",
    "count_function(1, 2, 3)"
   ]
  },
  {
   "cell_type": "markdown",
   "metadata": {},
   "source": [
    "<p><strong>[출력 결과]</strong></p><pre>3</pre>"
   ]
  },
  {
   "cell_type": "code",
   "execution_count": null,
   "metadata": {},
   "outputs": [],
   "source": [
    "# 검증코드\n",
    "count_function(1, 2, 3, 4, 5)"
   ]
  },
  {
   "cell_type": "markdown",
   "metadata": {},
   "source": [
    "<p><strong>[출력 결과]</strong></p><pre>5</pre>"
   ]
  },
  {
   "cell_type": "code",
   "execution_count": null,
   "metadata": {},
   "outputs": [],
   "source": [
    "gd.check_answer(count_function, 1, type='function')"
   ]
  },
  {
   "cell_type": "markdown",
   "metadata": {},
   "source": [
    "### 2"
   ]
  },
  {
   "cell_type": "markdown",
   "metadata": {},
   "source": [
    "> 알파벳 문자열을 인수로 넣으면  함수를 구현하세요\n",
    "> - 함수의 이름은 `capital_letter` 로 선언합니다.\n",
    "> - 함수는 **letter**라는 위치인수를 가집니다.\n",
    "> - 함수는 **letter**인수에 받은 문자열을 모두 대문자로 바꾸고, 바꾼 값을 `return` 합니다."
   ]
  },
  {
   "cell_type": "code",
   "execution_count": null,
   "metadata": {},
   "outputs": [],
   "source": [
    "# 코드를 입력해 주세요\n"
   ]
  },
  {
   "cell_type": "code",
   "execution_count": null,
   "metadata": {},
   "outputs": [],
   "source": [
    "capital_letter(\"My Name is Elsa\")"
   ]
  },
  {
   "cell_type": "code",
   "execution_count": null,
   "metadata": {},
   "outputs": [],
   "source": [
    "gd.check_answer(capital_letter, 2, type='function')"
   ]
  },
  {
   "cell_type": "markdown",
   "metadata": {},
   "source": [
    "### 3"
   ]
  },
  {
   "cell_type": "markdown",
   "metadata": {},
   "source": [
    "> 다음의 요구조건을 만족하는 함수를 구현하세요 \n",
    "> - `def calc_many(choice, *args)` 함수\n",
    "> - choice가 `sum` 이면 **합**을 구해서 return 합니다.\n",
    "> - choice 가 `mul` 이면 **곱**한 결과를 return 합니다."
   ]
  },
  {
   "cell_type": "code",
   "execution_count": null,
   "metadata": {},
   "outputs": [],
   "source": [
    "# 코드를 입력해 주세요\n"
   ]
  },
  {
   "cell_type": "code",
   "execution_count": null,
   "metadata": {},
   "outputs": [],
   "source": [
    "# 결과: 10\n",
    "print(calc_many('sum', 0, 1, 2, 3, 4))\n",
    "# 결과: 120\n",
    "print(calc_many('mul', 1, 2, 3, 4, 5))"
   ]
  },
  {
   "cell_type": "code",
   "execution_count": null,
   "metadata": {},
   "outputs": [],
   "source": [
    "gd.check_answer(calc_many, 3, type='function')"
   ]
  },
  {
   "cell_type": "markdown",
   "metadata": {},
   "source": [
    "### 4"
   ]
  },
  {
   "cell_type": "markdown",
   "metadata": {},
   "source": [
    "- 학점을 입력받아서 학점의 평균을 출력하는 함수를 구현해보세요.\n",
    "  - 함수 이름은 `meanGrade`로 인수는 `grade`로 하세요.\n",
    "  - 학점의 평균 값을 계산하여 **소수점 이하 둘째자리** 까지 **반올림** 한 뒤 return 합니다.\n",
    "        \n",
    "- 등급에 따른 학점은 다음과 같습니다.\n",
    "  - A+ : 4.5, A : 4.3, A- : 4.0\n",
    "  - B+ : 3.5, B : 3.3, B- : 3.0\n",
    "  - C : 2.5, D : 1.5\n",
    "  \n",
    "- 입력 값이 올바르지 않은 경우 (A+ ~ D가 아닌 문자인 경우)는 `-1`을 return합니다.\n",
    "- 입력 값이 없는 경우 `0`을 return 합니다.\n",
    "- 학점을 입력받아 함수의 인자(grade)로 전달하세요."
   ]
  },
  {
   "cell_type": "markdown",
   "metadata": {},
   "source": [
    "tip."
   ]
  },
  {
   "cell_type": "code",
   "execution_count": null,
   "metadata": {},
   "outputs": [],
   "source": [
    "# 반올림 파이썬 내장함수 (숫자, 반올림 자릿수)\n",
    "round(3.141592, 2)"
   ]
  },
  {
   "cell_type": "code",
   "execution_count": null,
   "metadata": {},
   "outputs": [],
   "source": [
    "# 코드를 입력해 주세요\n"
   ]
  },
  {
   "cell_type": "code",
   "execution_count": null,
   "metadata": {},
   "outputs": [],
   "source": [
    "# 검증코드\n",
    "meanGrade('A+', 'A-', 'B+')"
   ]
  },
  {
   "cell_type": "markdown",
   "metadata": {},
   "source": [
    "<p><strong>[출력 결과]</strong></p><pre>4.0</pre>"
   ]
  },
  {
   "cell_type": "code",
   "execution_count": null,
   "metadata": {},
   "outputs": [],
   "source": [
    "# 검증코드\n",
    "meanGrade('C', 'A+', 'B')"
   ]
  },
  {
   "cell_type": "markdown",
   "metadata": {},
   "source": [
    "<p><strong>[출력 결과]</strong></p><pre>3.43</pre>"
   ]
  },
  {
   "cell_type": "code",
   "execution_count": null,
   "metadata": {},
   "outputs": [],
   "source": [
    "# 검증코드\n",
    "meanGrade('A+', 'F')"
   ]
  },
  {
   "cell_type": "markdown",
   "metadata": {},
   "source": [
    "<p><strong>[출력 결과]</strong></p><pre>-1</pre>"
   ]
  },
  {
   "cell_type": "code",
   "execution_count": null,
   "metadata": {},
   "outputs": [],
   "source": [
    "# 검증코드\n",
    "meanGrade()"
   ]
  },
  {
   "cell_type": "markdown",
   "metadata": {},
   "source": [
    "<p><strong>[출력 결과]</strong></p><pre>0</pre>"
   ]
  },
  {
   "cell_type": "code",
   "execution_count": null,
   "metadata": {},
   "outputs": [],
   "source": [
    "gd.check_answer(meanGrade, 4, type='function')"
   ]
  }
 ],
 "metadata": {
  "colab": {
   "collapsed_sections": [],
   "name": "10-[연습문제]-파이썬-함수-(해설)-변환",
   "provenance": []
  },
  "kernelspec": {
   "display_name": "Python 3 (ipykernel)",
   "language": "python",
   "name": "python3"
  },
  "language_info": {
   "codemirror_mode": {
    "name": "ipython",
    "version": 3
   },
   "file_extension": ".py",
   "mimetype": "text/x-python",
   "name": "python",
   "nbconvert_exporter": "python",
   "pygments_lexer": "ipython3",
   "version": "3.8.13"
  }
 },
 "nbformat": 4,
 "nbformat_minor": 1
}
